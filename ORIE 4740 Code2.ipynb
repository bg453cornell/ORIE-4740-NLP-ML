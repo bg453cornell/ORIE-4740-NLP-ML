{
 "cells": [
  {
   "cell_type": "code",
   "execution_count": 1,
   "metadata": {},
   "outputs": [
    {
     "name": "stderr",
     "output_type": "stream",
     "text": [
      "C:\\ProgramData\\Anaconda2\\lib\\site-packages\\sklearn\\cross_validation.py:44: DeprecationWarning: This module was deprecated in version 0.18 in favor of the model_selection module into which all the refactored classes and functions are moved. Also note that the interface of the new CV iterators are different from that of this module. This module will be removed in 0.20.\n",
      "  \"This module will be removed in 0.20.\", DeprecationWarning)\n"
     ]
    }
   ],
   "source": [
    "import pandas as pd\n",
    "import numpy as np\n",
    "import matplotlib.pyplot as plt\n",
    "%matplotlib inline\n",
    "\n",
    "import re\n",
    "import os\n",
    "import struct\n",
    "import nltk\n",
    "#nltk.download() \n",
    "from nltk.tag import pos_tag # pos_tag shows the characteristic of a word \n",
    "                             # using information in the database\n",
    "\n",
    "from sklearn.feature_extraction.text import CountVectorizer\n",
    "from sklearn.feature_extraction.text import TfidfVectorizer\n",
    "from sklearn.cross_validation import ShuffleSplit\n",
    "from sklearn.metrics.pairwise import cosine_similarity"
   ]
  },
  {
   "cell_type": "code",
   "execution_count": 2,
   "metadata": {},
   "outputs": [
    {
     "name": "stdout",
     "output_type": "stream",
     "text": [
      "Requirement already satisfied: empath in c:\\programdata\\anaconda2\\lib\\site-packages\n",
      "Requirement already satisfied: requests in c:\\programdata\\anaconda2\\lib\\site-packages (from empath)\n"
     ]
    },
    {
     "name": "stderr",
     "output_type": "stream",
     "text": [
      "You are using pip version 9.0.1, however version 10.0.1 is available.\n",
      "You should consider upgrading via the 'python -m pip install --upgrade pip' command.\n"
     ]
    }
   ],
   "source": [
    "# Install Empath tool for analyzing text across lexical categories\n",
    "import sys\n",
    "!{sys.executable} -m pip install empath"
   ]
  },
  {
   "cell_type": "code",
   "execution_count": 3,
   "metadata": {
    "collapsed": true
   },
   "outputs": [],
   "source": [
    "from empath import Empath"
   ]
  },
  {
   "cell_type": "code",
   "execution_count": 4,
   "metadata": {},
   "outputs": [
    {
     "name": "stdout",
     "output_type": "stream",
     "text": [
      "[nltk_data] Downloading package vader_lexicon to D:\\nltk_data...\n",
      "[nltk_data]   Package vader_lexicon is already up-to-date!\n"
     ]
    },
    {
     "data": {
      "text/plain": [
       "True"
      ]
     },
     "execution_count": 4,
     "metadata": {},
     "output_type": "execute_result"
    }
   ],
   "source": [
    "import nltk\n",
    "nltk.download('vader_lexicon')"
   ]
  },
  {
   "cell_type": "code",
   "execution_count": 5,
   "metadata": {
    "collapsed": true
   },
   "outputs": [],
   "source": [
    "#######################################################################################"
   ]
  },
  {
   "cell_type": "code",
   "execution_count": 6,
   "metadata": {
    "collapsed": true
   },
   "outputs": [],
   "source": [
    "df = pd.read_csv(\"./data/Combined_News_DJIA.csv\", header = 0, index_col = 0)"
   ]
  },
  {
   "cell_type": "code",
   "execution_count": 7,
   "metadata": {},
   "outputs": [
    {
     "data": {
      "text/html": [
       "<div>\n",
       "<style>\n",
       "    .dataframe thead tr:only-child th {\n",
       "        text-align: right;\n",
       "    }\n",
       "\n",
       "    .dataframe thead th {\n",
       "        text-align: left;\n",
       "    }\n",
       "\n",
       "    .dataframe tbody tr th {\n",
       "        vertical-align: top;\n",
       "    }\n",
       "</style>\n",
       "<table border=\"1\" class=\"dataframe\">\n",
       "  <thead>\n",
       "    <tr style=\"text-align: right;\">\n",
       "      <th></th>\n",
       "      <th>Label</th>\n",
       "      <th>Top1</th>\n",
       "      <th>Top2</th>\n",
       "      <th>Top3</th>\n",
       "      <th>Top4</th>\n",
       "      <th>Top5</th>\n",
       "      <th>Top6</th>\n",
       "      <th>Top7</th>\n",
       "      <th>Top8</th>\n",
       "      <th>Top9</th>\n",
       "      <th>...</th>\n",
       "      <th>Top16</th>\n",
       "      <th>Top17</th>\n",
       "      <th>Top18</th>\n",
       "      <th>Top19</th>\n",
       "      <th>Top20</th>\n",
       "      <th>Top21</th>\n",
       "      <th>Top22</th>\n",
       "      <th>Top23</th>\n",
       "      <th>Top24</th>\n",
       "      <th>Top25</th>\n",
       "    </tr>\n",
       "    <tr>\n",
       "      <th>Date</th>\n",
       "      <th></th>\n",
       "      <th></th>\n",
       "      <th></th>\n",
       "      <th></th>\n",
       "      <th></th>\n",
       "      <th></th>\n",
       "      <th></th>\n",
       "      <th></th>\n",
       "      <th></th>\n",
       "      <th></th>\n",
       "      <th></th>\n",
       "      <th></th>\n",
       "      <th></th>\n",
       "      <th></th>\n",
       "      <th></th>\n",
       "      <th></th>\n",
       "      <th></th>\n",
       "      <th></th>\n",
       "      <th></th>\n",
       "      <th></th>\n",
       "      <th></th>\n",
       "    </tr>\n",
       "  </thead>\n",
       "  <tbody>\n",
       "    <tr>\n",
       "      <th>2016-06-27</th>\n",
       "      <td>0</td>\n",
       "      <td>Barclays and RBS shares suspended from trading...</td>\n",
       "      <td>Pope says Church should ask forgiveness from g...</td>\n",
       "      <td>Poland 'shocked' by xenophobic abuse of Poles ...</td>\n",
       "      <td>There will be no second referendum, cabinet ag...</td>\n",
       "      <td>Scotland welcome to join EU, Merkel ally says</td>\n",
       "      <td>Sterling dips below Friday's 31-year low amid ...</td>\n",
       "      <td>No negative news about South African President...</td>\n",
       "      <td>Surge in Hate Crimes in the U.K. Following U.K...</td>\n",
       "      <td>Weapons shipped into Jordan by the CIA and Sau...</td>\n",
       "      <td>...</td>\n",
       "      <td>German lawyers to probe Erdogan over alleged w...</td>\n",
       "      <td>Boris Johnson says the UK will continue to \"in...</td>\n",
       "      <td>Richard Branson is calling on the UK governmen...</td>\n",
       "      <td>Turkey 'sorry for downing Russian jet'</td>\n",
       "      <td>Edward Snowden lawyer vows new push for pardon...</td>\n",
       "      <td>Brexit opinion poll reveals majority don't wan...</td>\n",
       "      <td>Conservative MP Leave Campaigner: \"The leave c...</td>\n",
       "      <td>Economists predict UK recession, further weake...</td>\n",
       "      <td>New EU 'superstate plan by France, Germany: Cr...</td>\n",
       "      <td>Pakistani clerics declare transgender marriage...</td>\n",
       "    </tr>\n",
       "    <tr>\n",
       "      <th>2016-06-28</th>\n",
       "      <td>1</td>\n",
       "      <td>2,500 Scientists To Australia: If You Want To ...</td>\n",
       "      <td>The personal details of 112,000 French police ...</td>\n",
       "      <td>S&amp;amp;P cuts United Kingdom sovereign credit r...</td>\n",
       "      <td>Huge helium deposit found in Africa</td>\n",
       "      <td>CEO of the South African state broadcaster qui...</td>\n",
       "      <td>Brexit cost investors $2 trillion, the worst o...</td>\n",
       "      <td>Hong Kong democracy activists call for return ...</td>\n",
       "      <td>Brexit: Iceland president says UK can join 'tr...</td>\n",
       "      <td>UK's Osborne: 'Absolutely' going to have to cu...</td>\n",
       "      <td>...</td>\n",
       "      <td>US, Canada and Mexico pledge 50% of power from...</td>\n",
       "      <td>There is increasing evidence that Australia is...</td>\n",
       "      <td>Richard Branson, the founder of Virgin Group, ...</td>\n",
       "      <td>37,000-yr-old skull from Borneo reveals surpri...</td>\n",
       "      <td>Palestinians stone Western Wall worshipers; po...</td>\n",
       "      <td>Jean-Claude Juncker asks Farage: Why are you h...</td>\n",
       "      <td>\"Romanians for Remainians\" offering a new home...</td>\n",
       "      <td>Brexit: Gibraltar in talks with Scotland to st...</td>\n",
       "      <td>8 Suicide Bombers Strike Lebanon</td>\n",
       "      <td>Mexico's security forces routinely use 'sexual...</td>\n",
       "    </tr>\n",
       "    <tr>\n",
       "      <th>2016-06-29</th>\n",
       "      <td>1</td>\n",
       "      <td>Explosion At Airport In Istanbul</td>\n",
       "      <td>Yemeni former president: Terrorism is the offs...</td>\n",
       "      <td>UK must accept freedom of movement to access E...</td>\n",
       "      <td>Devastated: scientists too late to captive bre...</td>\n",
       "      <td>British Labor Party leader Jeremy Corbyn loses...</td>\n",
       "      <td>A Muslim Shop in the UK Was Just Firebombed Wh...</td>\n",
       "      <td>Mexican Authorities Sexually Torture Women in ...</td>\n",
       "      <td>UK shares and pound continue to recover</td>\n",
       "      <td>Iceland historian Johannesson wins presidentia...</td>\n",
       "      <td>...</td>\n",
       "      <td>Escape Tunnel, Dug by Hand, Is Found at Holoca...</td>\n",
       "      <td>The land under Beijing is sinking by as much a...</td>\n",
       "      <td>Car bomb and Anti-Islamic attack on Mosque in ...</td>\n",
       "      <td>Emaciated lions in Taiz Zoo are trapped in blo...</td>\n",
       "      <td>Rupert Murdoch describes Brexit as 'wonderful'...</td>\n",
       "      <td>More than 40 killed in Yemen suicide attacks</td>\n",
       "      <td>Google Found Disastrous Symantec and Norton Vu...</td>\n",
       "      <td>Extremist violence on the rise in Germany: Dom...</td>\n",
       "      <td>BBC News: Labour MPs pass Corbyn no-confidence...</td>\n",
       "      <td>Tiny New Zealand town with 'too many jobs' lau...</td>\n",
       "    </tr>\n",
       "    <tr>\n",
       "      <th>2016-06-30</th>\n",
       "      <td>1</td>\n",
       "      <td>Jamaica proposes marijuana dispensers for tour...</td>\n",
       "      <td>Stephen Hawking says pollution and 'stupidity'...</td>\n",
       "      <td>Boris Johnson says he will not run for Tory pa...</td>\n",
       "      <td>Six gay men in Ivory Coast were abused and for...</td>\n",
       "      <td>Switzerland denies citizenship to Muslim immig...</td>\n",
       "      <td>Palestinian terrorist stabs israeli teen girl ...</td>\n",
       "      <td>Puerto Rico will default on $1 billion of debt...</td>\n",
       "      <td>Republic of Ireland fans to be awarded medal f...</td>\n",
       "      <td>Afghan suicide bomber 'kills up to 40' - BBC News</td>\n",
       "      <td>...</td>\n",
       "      <td>Googles free wifi at Indian railway stations i...</td>\n",
       "      <td>Mounting evidence suggests 'hobbits' were wipe...</td>\n",
       "      <td>The men who carried out Tuesday's terror attac...</td>\n",
       "      <td>Calls to suspend Saudi Arabia from UN Human Ri...</td>\n",
       "      <td>More Than 100 Nobel Laureates Call Out Greenpe...</td>\n",
       "      <td>British pedophile sentenced to 85 years in US ...</td>\n",
       "      <td>US permitted 1,200 offshore fracks in Gulf of ...</td>\n",
       "      <td>We will be swimming in ridicule - French beach...</td>\n",
       "      <td>UEFA says no minutes of silence for Istanbul v...</td>\n",
       "      <td>Law Enforcement Sources: Gun Used in Paris Ter...</td>\n",
       "    </tr>\n",
       "    <tr>\n",
       "      <th>2016-07-01</th>\n",
       "      <td>1</td>\n",
       "      <td>A 117-year-old woman in Mexico City finally re...</td>\n",
       "      <td>IMF chief backs Athens as permanent Olympic host</td>\n",
       "      <td>The president of France says if Brexit won, so...</td>\n",
       "      <td>British Man Who Must Give Police 24 Hours' Not...</td>\n",
       "      <td>100+ Nobel laureates urge Greenpeace to stop o...</td>\n",
       "      <td>Brazil: Huge spike in number of police killing...</td>\n",
       "      <td>Austria's highest court annuls presidential el...</td>\n",
       "      <td>Facebook wins privacy case, can track any Belg...</td>\n",
       "      <td>Switzerland denies Muslim girls citizenship af...</td>\n",
       "      <td>...</td>\n",
       "      <td>The United States has placed Myanmar, Uzbekist...</td>\n",
       "      <td>S&amp;amp;P revises European Union credit rating t...</td>\n",
       "      <td>India gets $1 billion loan from World Bank for...</td>\n",
       "      <td>U.S. sailors detained by Iran spoke too much u...</td>\n",
       "      <td>Mass fish kill in Vietnam solved as Taiwan ste...</td>\n",
       "      <td>Philippines president Rodrigo Duterte urges pe...</td>\n",
       "      <td>Spain arrests three Pakistanis accused of prom...</td>\n",
       "      <td>Venezuela, where anger over food shortages is ...</td>\n",
       "      <td>A Hindu temple worker has been killed by three...</td>\n",
       "      <td>Ozone layer hole seems to be healing - US &amp;amp...</td>\n",
       "    </tr>\n",
       "  </tbody>\n",
       "</table>\n",
       "<p>5 rows × 26 columns</p>\n",
       "</div>"
      ],
      "text/plain": [
       "            Label                                               Top1  \\\n",
       "Date                                                                   \n",
       "2016-06-27      0  Barclays and RBS shares suspended from trading...   \n",
       "2016-06-28      1  2,500 Scientists To Australia: If You Want To ...   \n",
       "2016-06-29      1                   Explosion At Airport In Istanbul   \n",
       "2016-06-30      1  Jamaica proposes marijuana dispensers for tour...   \n",
       "2016-07-01      1  A 117-year-old woman in Mexico City finally re...   \n",
       "\n",
       "                                                         Top2  \\\n",
       "Date                                                            \n",
       "2016-06-27  Pope says Church should ask forgiveness from g...   \n",
       "2016-06-28  The personal details of 112,000 French police ...   \n",
       "2016-06-29  Yemeni former president: Terrorism is the offs...   \n",
       "2016-06-30  Stephen Hawking says pollution and 'stupidity'...   \n",
       "2016-07-01   IMF chief backs Athens as permanent Olympic host   \n",
       "\n",
       "                                                         Top3  \\\n",
       "Date                                                            \n",
       "2016-06-27  Poland 'shocked' by xenophobic abuse of Poles ...   \n",
       "2016-06-28  S&amp;P cuts United Kingdom sovereign credit r...   \n",
       "2016-06-29  UK must accept freedom of movement to access E...   \n",
       "2016-06-30  Boris Johnson says he will not run for Tory pa...   \n",
       "2016-07-01  The president of France says if Brexit won, so...   \n",
       "\n",
       "                                                         Top4  \\\n",
       "Date                                                            \n",
       "2016-06-27  There will be no second referendum, cabinet ag...   \n",
       "2016-06-28                Huge helium deposit found in Africa   \n",
       "2016-06-29  Devastated: scientists too late to captive bre...   \n",
       "2016-06-30  Six gay men in Ivory Coast were abused and for...   \n",
       "2016-07-01  British Man Who Must Give Police 24 Hours' Not...   \n",
       "\n",
       "                                                         Top5  \\\n",
       "Date                                                            \n",
       "2016-06-27      Scotland welcome to join EU, Merkel ally says   \n",
       "2016-06-28  CEO of the South African state broadcaster qui...   \n",
       "2016-06-29  British Labor Party leader Jeremy Corbyn loses...   \n",
       "2016-06-30  Switzerland denies citizenship to Muslim immig...   \n",
       "2016-07-01  100+ Nobel laureates urge Greenpeace to stop o...   \n",
       "\n",
       "                                                         Top6  \\\n",
       "Date                                                            \n",
       "2016-06-27  Sterling dips below Friday's 31-year low amid ...   \n",
       "2016-06-28  Brexit cost investors $2 trillion, the worst o...   \n",
       "2016-06-29  A Muslim Shop in the UK Was Just Firebombed Wh...   \n",
       "2016-06-30  Palestinian terrorist stabs israeli teen girl ...   \n",
       "2016-07-01  Brazil: Huge spike in number of police killing...   \n",
       "\n",
       "                                                         Top7  \\\n",
       "Date                                                            \n",
       "2016-06-27  No negative news about South African President...   \n",
       "2016-06-28  Hong Kong democracy activists call for return ...   \n",
       "2016-06-29  Mexican Authorities Sexually Torture Women in ...   \n",
       "2016-06-30  Puerto Rico will default on $1 billion of debt...   \n",
       "2016-07-01  Austria's highest court annuls presidential el...   \n",
       "\n",
       "                                                         Top8  \\\n",
       "Date                                                            \n",
       "2016-06-27  Surge in Hate Crimes in the U.K. Following U.K...   \n",
       "2016-06-28  Brexit: Iceland president says UK can join 'tr...   \n",
       "2016-06-29            UK shares and pound continue to recover   \n",
       "2016-06-30  Republic of Ireland fans to be awarded medal f...   \n",
       "2016-07-01  Facebook wins privacy case, can track any Belg...   \n",
       "\n",
       "                                                         Top9  \\\n",
       "Date                                                            \n",
       "2016-06-27  Weapons shipped into Jordan by the CIA and Sau...   \n",
       "2016-06-28  UK's Osborne: 'Absolutely' going to have to cu...   \n",
       "2016-06-29  Iceland historian Johannesson wins presidentia...   \n",
       "2016-06-30  Afghan suicide bomber 'kills up to 40' - BBC News   \n",
       "2016-07-01  Switzerland denies Muslim girls citizenship af...   \n",
       "\n",
       "                                  ...                          \\\n",
       "Date                              ...                           \n",
       "2016-06-27                        ...                           \n",
       "2016-06-28                        ...                           \n",
       "2016-06-29                        ...                           \n",
       "2016-06-30                        ...                           \n",
       "2016-07-01                        ...                           \n",
       "\n",
       "                                                        Top16  \\\n",
       "Date                                                            \n",
       "2016-06-27  German lawyers to probe Erdogan over alleged w...   \n",
       "2016-06-28  US, Canada and Mexico pledge 50% of power from...   \n",
       "2016-06-29  Escape Tunnel, Dug by Hand, Is Found at Holoca...   \n",
       "2016-06-30  Googles free wifi at Indian railway stations i...   \n",
       "2016-07-01  The United States has placed Myanmar, Uzbekist...   \n",
       "\n",
       "                                                        Top17  \\\n",
       "Date                                                            \n",
       "2016-06-27  Boris Johnson says the UK will continue to \"in...   \n",
       "2016-06-28  There is increasing evidence that Australia is...   \n",
       "2016-06-29  The land under Beijing is sinking by as much a...   \n",
       "2016-06-30  Mounting evidence suggests 'hobbits' were wipe...   \n",
       "2016-07-01  S&amp;P revises European Union credit rating t...   \n",
       "\n",
       "                                                        Top18  \\\n",
       "Date                                                            \n",
       "2016-06-27  Richard Branson is calling on the UK governmen...   \n",
       "2016-06-28  Richard Branson, the founder of Virgin Group, ...   \n",
       "2016-06-29  Car bomb and Anti-Islamic attack on Mosque in ...   \n",
       "2016-06-30  The men who carried out Tuesday's terror attac...   \n",
       "2016-07-01  India gets $1 billion loan from World Bank for...   \n",
       "\n",
       "                                                        Top19  \\\n",
       "Date                                                            \n",
       "2016-06-27             Turkey 'sorry for downing Russian jet'   \n",
       "2016-06-28  37,000-yr-old skull from Borneo reveals surpri...   \n",
       "2016-06-29  Emaciated lions in Taiz Zoo are trapped in blo...   \n",
       "2016-06-30  Calls to suspend Saudi Arabia from UN Human Ri...   \n",
       "2016-07-01  U.S. sailors detained by Iran spoke too much u...   \n",
       "\n",
       "                                                        Top20  \\\n",
       "Date                                                            \n",
       "2016-06-27  Edward Snowden lawyer vows new push for pardon...   \n",
       "2016-06-28  Palestinians stone Western Wall worshipers; po...   \n",
       "2016-06-29  Rupert Murdoch describes Brexit as 'wonderful'...   \n",
       "2016-06-30  More Than 100 Nobel Laureates Call Out Greenpe...   \n",
       "2016-07-01  Mass fish kill in Vietnam solved as Taiwan ste...   \n",
       "\n",
       "                                                        Top21  \\\n",
       "Date                                                            \n",
       "2016-06-27  Brexit opinion poll reveals majority don't wan...   \n",
       "2016-06-28  Jean-Claude Juncker asks Farage: Why are you h...   \n",
       "2016-06-29       More than 40 killed in Yemen suicide attacks   \n",
       "2016-06-30  British pedophile sentenced to 85 years in US ...   \n",
       "2016-07-01  Philippines president Rodrigo Duterte urges pe...   \n",
       "\n",
       "                                                        Top22  \\\n",
       "Date                                                            \n",
       "2016-06-27  Conservative MP Leave Campaigner: \"The leave c...   \n",
       "2016-06-28  \"Romanians for Remainians\" offering a new home...   \n",
       "2016-06-29  Google Found Disastrous Symantec and Norton Vu...   \n",
       "2016-06-30  US permitted 1,200 offshore fracks in Gulf of ...   \n",
       "2016-07-01  Spain arrests three Pakistanis accused of prom...   \n",
       "\n",
       "                                                        Top23  \\\n",
       "Date                                                            \n",
       "2016-06-27  Economists predict UK recession, further weake...   \n",
       "2016-06-28  Brexit: Gibraltar in talks with Scotland to st...   \n",
       "2016-06-29  Extremist violence on the rise in Germany: Dom...   \n",
       "2016-06-30  We will be swimming in ridicule - French beach...   \n",
       "2016-07-01  Venezuela, where anger over food shortages is ...   \n",
       "\n",
       "                                                        Top24  \\\n",
       "Date                                                            \n",
       "2016-06-27  New EU 'superstate plan by France, Germany: Cr...   \n",
       "2016-06-28                   8 Suicide Bombers Strike Lebanon   \n",
       "2016-06-29  BBC News: Labour MPs pass Corbyn no-confidence...   \n",
       "2016-06-30  UEFA says no minutes of silence for Istanbul v...   \n",
       "2016-07-01  A Hindu temple worker has been killed by three...   \n",
       "\n",
       "                                                        Top25  \n",
       "Date                                                           \n",
       "2016-06-27  Pakistani clerics declare transgender marriage...  \n",
       "2016-06-28  Mexico's security forces routinely use 'sexual...  \n",
       "2016-06-29  Tiny New Zealand town with 'too many jobs' lau...  \n",
       "2016-06-30  Law Enforcement Sources: Gun Used in Paris Ter...  \n",
       "2016-07-01  Ozone layer hole seems to be healing - US &amp...  \n",
       "\n",
       "[5 rows x 26 columns]"
      ]
     },
     "execution_count": 7,
     "metadata": {},
     "output_type": "execute_result"
    }
   ],
   "source": [
    "df.tail()"
   ]
  },
  {
   "cell_type": "code",
   "execution_count": 8,
   "metadata": {},
   "outputs": [
    {
     "data": {
      "text/plain": [
       "(1989, 26)"
      ]
     },
     "execution_count": 8,
     "metadata": {},
     "output_type": "execute_result"
    }
   ],
   "source": [
    "df.shape"
   ]
  },
  {
   "cell_type": "code",
   "execution_count": 9,
   "metadata": {
    "collapsed": true
   },
   "outputs": [],
   "source": [
    "headlines = df.as_matrix(columns = df.columns[1:])"
   ]
  },
  {
   "cell_type": "code",
   "execution_count": 10,
   "metadata": {},
   "outputs": [
    {
     "data": {
      "text/plain": [
       "(1989L, 25L)"
      ]
     },
     "execution_count": 10,
     "metadata": {},
     "output_type": "execute_result"
    }
   ],
   "source": [
    "headlines.shape"
   ]
  },
  {
   "cell_type": "code",
   "execution_count": 11,
   "metadata": {},
   "outputs": [
    {
     "data": {
      "text/plain": [
       "'b\"Georgia \\'downs two Russian warplanes\\' as countries move to brink of war\"'"
      ]
     },
     "execution_count": 11,
     "metadata": {},
     "output_type": "execute_result"
    }
   ],
   "source": [
    "headlines[0][0]"
   ]
  },
  {
   "cell_type": "code",
   "execution_count": 12,
   "metadata": {},
   "outputs": [
    {
     "name": "stderr",
     "output_type": "stream",
     "text": [
      "C:\\ProgramData\\Anaconda2\\lib\\site-packages\\nltk\\twitter\\__init__.py:20: UserWarning: The twython library has not been installed. Some functionality from the twitter package will not be available.\n",
      "  warnings.warn(\"The twython library has not been installed. \"\n"
     ]
    }
   ],
   "source": [
    "from nltk.sentiment.vader import SentimentIntensityAnalyzer as SIA\n",
    "\n",
    "sia = SIA()\n",
    "results = []\n",
    "\n",
    "for daily in headlines:\n",
    "    for line in daily:\n",
    "        pol_score = sia.polarity_scores(str(line))\n",
    "        pol_score['headline'] = str(line)\n",
    "        results.append(pol_score)"
   ]
  },
  {
   "cell_type": "code",
   "execution_count": 13,
   "metadata": {
    "collapsed": true
   },
   "outputs": [],
   "source": [
    "sentiment_score_df = pd.DataFrame.from_records(results)"
   ]
  },
  {
   "cell_type": "code",
   "execution_count": 14,
   "metadata": {},
   "outputs": [
    {
     "data": {
      "text/html": [
       "<div>\n",
       "<style>\n",
       "    .dataframe thead tr:only-child th {\n",
       "        text-align: right;\n",
       "    }\n",
       "\n",
       "    .dataframe thead th {\n",
       "        text-align: left;\n",
       "    }\n",
       "\n",
       "    .dataframe tbody tr th {\n",
       "        vertical-align: top;\n",
       "    }\n",
       "</style>\n",
       "<table border=\"1\" class=\"dataframe\">\n",
       "  <thead>\n",
       "    <tr style=\"text-align: right;\">\n",
       "      <th></th>\n",
       "      <th>compound</th>\n",
       "      <th>headline</th>\n",
       "      <th>neg</th>\n",
       "      <th>neu</th>\n",
       "      <th>pos</th>\n",
       "    </tr>\n",
       "  </thead>\n",
       "  <tbody>\n",
       "    <tr>\n",
       "      <th>0</th>\n",
       "      <td>-0.5994</td>\n",
       "      <td>b\"Georgia 'downs two Russian warplanes' as cou...</td>\n",
       "      <td>0.262</td>\n",
       "      <td>0.738</td>\n",
       "      <td>0.0</td>\n",
       "    </tr>\n",
       "    <tr>\n",
       "      <th>1</th>\n",
       "      <td>0.0000</td>\n",
       "      <td>b'BREAKING: Musharraf to be impeached.'</td>\n",
       "      <td>0.000</td>\n",
       "      <td>1.000</td>\n",
       "      <td>0.0</td>\n",
       "    </tr>\n",
       "    <tr>\n",
       "      <th>2</th>\n",
       "      <td>-0.3612</td>\n",
       "      <td>b'Russia Today: Columns of troops roll into So...</td>\n",
       "      <td>0.172</td>\n",
       "      <td>0.828</td>\n",
       "      <td>0.0</td>\n",
       "    </tr>\n",
       "    <tr>\n",
       "      <th>3</th>\n",
       "      <td>-0.7089</td>\n",
       "      <td>b'Russian tanks are moving towards the capital...</td>\n",
       "      <td>0.247</td>\n",
       "      <td>0.753</td>\n",
       "      <td>0.0</td>\n",
       "    </tr>\n",
       "    <tr>\n",
       "      <th>4</th>\n",
       "      <td>-0.9260</td>\n",
       "      <td>b\"Afghan children raped with 'impunity,' U.N. ...</td>\n",
       "      <td>0.424</td>\n",
       "      <td>0.576</td>\n",
       "      <td>0.0</td>\n",
       "    </tr>\n",
       "  </tbody>\n",
       "</table>\n",
       "</div>"
      ],
      "text/plain": [
       "   compound                                           headline    neg    neu  \\\n",
       "0   -0.5994  b\"Georgia 'downs two Russian warplanes' as cou...  0.262  0.738   \n",
       "1    0.0000            b'BREAKING: Musharraf to be impeached.'  0.000  1.000   \n",
       "2   -0.3612  b'Russia Today: Columns of troops roll into So...  0.172  0.828   \n",
       "3   -0.7089  b'Russian tanks are moving towards the capital...  0.247  0.753   \n",
       "4   -0.9260  b\"Afghan children raped with 'impunity,' U.N. ...  0.424  0.576   \n",
       "\n",
       "   pos  \n",
       "0  0.0  \n",
       "1  0.0  \n",
       "2  0.0  \n",
       "3  0.0  \n",
       "4  0.0  "
      ]
     },
     "execution_count": 14,
     "metadata": {},
     "output_type": "execute_result"
    }
   ],
   "source": [
    "sentiment_score_df.head()"
   ]
  },
  {
   "cell_type": "code",
   "execution_count": 15,
   "metadata": {},
   "outputs": [
    {
     "data": {
      "text/plain": [
       "<matplotlib.axes._subplots.AxesSubplot at 0x11478588>"
      ]
     },
     "execution_count": 15,
     "metadata": {},
     "output_type": "execute_result"
    },
    {
     "data": {
      "image/png": "[encoded data removed]",
      "text/plain": [
       "<matplotlib.figure.Figure at 0x114780f0>"
      ]
     },
     "metadata": {},
     "output_type": "display_data"
    }
   ],
   "source": [
    "sentiment_score_df['compound'].hist()"
   ]
  },
  {
   "cell_type": "code",
   "execution_count": 16,
   "metadata": {
    "collapsed": true
   },
   "outputs": [],
   "source": [
    "daily_avg_sentiment_score = np.mean(sentiment_score_df['compound'].values.reshape(-1, 25), axis = 1)"
   ]
  },
  {
   "cell_type": "code",
   "execution_count": 17,
   "metadata": {},
   "outputs": [
    {
     "data": {
      "text/plain": [
       "1989"
      ]
     },
     "execution_count": 17,
     "metadata": {},
     "output_type": "execute_result"
    }
   ],
   "source": [
    "len(daily_avg_sentiment_score)"
   ]
  },
  {
   "cell_type": "code",
   "execution_count": 18,
   "metadata": {},
   "outputs": [
    {
     "data": {
      "text/plain": [
       "(array([  11.,   39.,  187.,  353.,  553.,  482.,  263.,   82.,   15.,    4.]),\n",
       " array([-0.520204 , -0.4549512, -0.3896984, -0.3244456, -0.2591928,\n",
       "        -0.19394  , -0.1286872, -0.0634344,  0.0018184,  0.0670712,\n",
       "         0.132324 ]),\n",
       " <a list of 10 Patch objects>)"
      ]
     },
     "execution_count": 18,
     "metadata": {},
     "output_type": "execute_result"
    },
    {
     "data": {
      "image/png": "[encoded data removed]",
      "text/plain": [
       "<matplotlib.figure.Figure at 0x11755c88>"
      ]
     },
     "metadata": {},
     "output_type": "display_data"
    }
   ],
   "source": [
    "plt.hist(daily_avg_sentiment_score)"
   ]
  },
  {
   "cell_type": "code",
   "execution_count": 19,
   "metadata": {},
   "outputs": [
    {
     "data": {
      "text/plain": [
       "1    1065\n",
       "0     924\n",
       "Name: Label, dtype: int64"
      ]
     },
     "execution_count": 19,
     "metadata": {},
     "output_type": "execute_result"
    }
   ],
   "source": [
    "df.Label.value_counts()"
   ]
  },
  {
   "cell_type": "code",
   "execution_count": 20,
   "metadata": {
    "collapsed": true
   },
   "outputs": [],
   "source": [
    "daily_avg_sentiment_score = pd.DataFrame(daily_avg_sentiment_score, index=df.index, columns=[\"daily sentiment score\"])"
   ]
  },
  {
   "cell_type": "code",
   "execution_count": 21,
   "metadata": {},
   "outputs": [
    {
     "data": {
      "text/html": [
       "<div>\n",
       "<style>\n",
       "    .dataframe thead tr:only-child th {\n",
       "        text-align: right;\n",
       "    }\n",
       "\n",
       "    .dataframe thead th {\n",
       "        text-align: left;\n",
       "    }\n",
       "\n",
       "    .dataframe tbody tr th {\n",
       "        vertical-align: top;\n",
       "    }\n",
       "</style>\n",
       "<table border=\"1\" class=\"dataframe\">\n",
       "  <thead>\n",
       "    <tr style=\"text-align: right;\">\n",
       "      <th></th>\n",
       "      <th>daily sentiment score</th>\n",
       "    </tr>\n",
       "    <tr>\n",
       "      <th>Date</th>\n",
       "      <th></th>\n",
       "    </tr>\n",
       "  </thead>\n",
       "  <tbody>\n",
       "    <tr>\n",
       "      <th>2008-08-08</th>\n",
       "      <td>-0.309440</td>\n",
       "    </tr>\n",
       "    <tr>\n",
       "      <th>2008-08-11</th>\n",
       "      <td>-0.120740</td>\n",
       "    </tr>\n",
       "    <tr>\n",
       "      <th>2008-08-12</th>\n",
       "      <td>-0.217556</td>\n",
       "    </tr>\n",
       "    <tr>\n",
       "      <th>2008-08-13</th>\n",
       "      <td>-0.168724</td>\n",
       "    </tr>\n",
       "    <tr>\n",
       "      <th>2008-08-14</th>\n",
       "      <td>-0.130748</td>\n",
       "    </tr>\n",
       "  </tbody>\n",
       "</table>\n",
       "</div>"
      ],
      "text/plain": [
       "            daily sentiment score\n",
       "Date                             \n",
       "2008-08-08              -0.309440\n",
       "2008-08-11              -0.120740\n",
       "2008-08-12              -0.217556\n",
       "2008-08-13              -0.168724\n",
       "2008-08-14              -0.130748"
      ]
     },
     "execution_count": 21,
     "metadata": {},
     "output_type": "execute_result"
    }
   ],
   "source": [
    "daily_avg_sentiment_score.head()"
   ]
  },
  {
   "cell_type": "code",
   "execution_count": 22,
   "metadata": {},
   "outputs": [
    {
     "data": {
      "text/html": [
       "<div>\n",
       "<style>\n",
       "    .dataframe thead tr:only-child th {\n",
       "        text-align: right;\n",
       "    }\n",
       "\n",
       "    .dataframe thead th {\n",
       "        text-align: left;\n",
       "    }\n",
       "\n",
       "    .dataframe tbody tr th {\n",
       "        vertical-align: top;\n",
       "    }\n",
       "</style>\n",
       "<table border=\"1\" class=\"dataframe\">\n",
       "  <thead>\n",
       "    <tr style=\"text-align: right;\">\n",
       "      <th></th>\n",
       "      <th>daily sentiment score</th>\n",
       "      <th>label</th>\n",
       "    </tr>\n",
       "    <tr>\n",
       "      <th>Date</th>\n",
       "      <th></th>\n",
       "      <th></th>\n",
       "    </tr>\n",
       "  </thead>\n",
       "  <tbody>\n",
       "    <tr>\n",
       "      <th>2008-08-08</th>\n",
       "      <td>-0.309440</td>\n",
       "      <td>-1</td>\n",
       "    </tr>\n",
       "    <tr>\n",
       "      <th>2008-08-11</th>\n",
       "      <td>-0.120740</td>\n",
       "      <td>0</td>\n",
       "    </tr>\n",
       "    <tr>\n",
       "      <th>2008-08-12</th>\n",
       "      <td>-0.217556</td>\n",
       "      <td>-1</td>\n",
       "    </tr>\n",
       "    <tr>\n",
       "      <th>2008-08-13</th>\n",
       "      <td>-0.168724</td>\n",
       "      <td>0</td>\n",
       "    </tr>\n",
       "    <tr>\n",
       "      <th>2008-08-14</th>\n",
       "      <td>-0.130748</td>\n",
       "      <td>0</td>\n",
       "    </tr>\n",
       "  </tbody>\n",
       "</table>\n",
       "</div>"
      ],
      "text/plain": [
       "            daily sentiment score  label\n",
       "Date                                    \n",
       "2008-08-08              -0.309440     -1\n",
       "2008-08-11              -0.120740      0\n",
       "2008-08-12              -0.217556     -1\n",
       "2008-08-13              -0.168724      0\n",
       "2008-08-14              -0.130748      0"
      ]
     },
     "execution_count": 22,
     "metadata": {},
     "output_type": "execute_result"
    }
   ],
   "source": [
    "daily_avg_sentiment_score['label'] = 0\n",
    "daily_avg_sentiment_score.loc[daily_avg_sentiment_score[\"daily sentiment score\"] > 0.2, 'label'] = 1\n",
    "daily_avg_sentiment_score.loc[daily_avg_sentiment_score[\"daily sentiment score\"] < -0.2, 'label'] = -1\n",
    "daily_avg_sentiment_score.head()"
   ]
  },
  {
   "cell_type": "code",
   "execution_count": 23,
   "metadata": {},
   "outputs": [
    {
     "data": {
      "text/plain": [
       "-1    1086\n",
       " 0     903\n",
       "Name: label, dtype: int64"
      ]
     },
     "execution_count": 23,
     "metadata": {},
     "output_type": "execute_result"
    }
   ],
   "source": [
    "daily_avg_sentiment_score.label.value_counts()"
   ]
  },
  {
   "cell_type": "code",
   "execution_count": 24,
   "metadata": {},
   "outputs": [
    {
     "data": {
      "text/plain": [
       "1009"
      ]
     },
     "execution_count": 24,
     "metadata": {},
     "output_type": "execute_result"
    }
   ],
   "source": [
    "np.sum(df.Label.values == (daily_avg_sentiment_score.label.values + 1))"
   ]
  },
  {
   "cell_type": "code",
   "execution_count": 25,
   "metadata": {},
   "outputs": [
    {
     "data": {
      "text/plain": [
       "980"
      ]
     },
     "execution_count": 25,
     "metadata": {},
     "output_type": "execute_result"
    }
   ],
   "source": [
    "np.sum(df.Label != (daily_avg_sentiment_score.label.values + 1))"
   ]
  },
  {
   "cell_type": "code",
   "execution_count": 26,
   "metadata": {
    "collapsed": true
   },
   "outputs": [],
   "source": [
    "##############################################################################################"
   ]
  },
  {
   "cell_type": "code",
   "execution_count": 27,
   "metadata": {
    "collapsed": true
   },
   "outputs": [],
   "source": [
    "from empath import Empath"
   ]
  },
  {
   "cell_type": "code",
   "execution_count": 28,
   "metadata": {
    "collapsed": true
   },
   "outputs": [],
   "source": [
    "lexicon = Empath()"
   ]
  },
  {
   "cell_type": "code",
   "execution_count": 29,
   "metadata": {
    "collapsed": true
   },
   "outputs": [],
   "source": [
    "categories = lexicon.analyze(\"he hit the other person\", normalize=True)"
   ]
  },
  {
   "cell_type": "code",
   "execution_count": 30,
   "metadata": {},
   "outputs": [
    {
     "data": {
      "text/plain": [
       "{'economics': 0.0, 'politics': 0.0, 'technology': 0.0}"
      ]
     },
     "execution_count": 30,
     "metadata": {},
     "output_type": "execute_result"
    }
   ],
   "source": [
    "lexicon.analyze(\"he hit the other person\", categories=['economics', 'technology', 'politics'], normalize=True)"
   ]
  },
  {
   "cell_type": "code",
   "execution_count": 31,
   "metadata": {},
   "outputs": [
    {
     "data": {
      "text/plain": [
       "True"
      ]
     },
     "execution_count": 31,
     "metadata": {},
     "output_type": "execute_result"
    }
   ],
   "source": [
    "'economics' in categories.keys()"
   ]
  },
  {
   "cell_type": "code",
   "execution_count": 32,
   "metadata": {},
   "outputs": [
    {
     "data": {
      "text/plain": [
       "True"
      ]
     },
     "execution_count": 32,
     "metadata": {},
     "output_type": "execute_result"
    }
   ],
   "source": [
    "'technology' in categories.keys()"
   ]
  },
  {
   "cell_type": "code",
   "execution_count": 33,
   "metadata": {},
   "outputs": [
    {
     "data": {
      "text/plain": [
       "True"
      ]
     },
     "execution_count": 33,
     "metadata": {},
     "output_type": "execute_result"
    }
   ],
   "source": [
    "'politics' in categories.keys()"
   ]
  },
  {
   "cell_type": "code",
   "execution_count": 34,
   "metadata": {},
   "outputs": [
    {
     "data": {
      "text/plain": [
       "False"
      ]
     },
     "execution_count": 34,
     "metadata": {},
     "output_type": "execute_result"
    }
   ],
   "source": [
    "'finance' in categories.keys()"
   ]
  },
  {
   "cell_type": "code",
   "execution_count": 35,
   "metadata": {},
   "outputs": [
    {
     "data": {
      "text/plain": [
       "False"
      ]
     },
     "execution_count": 35,
     "metadata": {},
     "output_type": "execute_result"
    }
   ],
   "source": [
    "'market' in categories.keys()"
   ]
  },
  {
   "cell_type": "code",
   "execution_count": 36,
   "metadata": {
    "collapsed": true
   },
   "outputs": [],
   "source": [
    "topic_results = []\n",
    "\n",
    "for daily in headlines:\n",
    "    for line in daily:\n",
    "        topic_score = lexicon.analyze(str(line), categories=['economics', 'technology', 'politics'], normalize=True)\n",
    "        topic_score['headline'] = str(line)\n",
    "        topic_results.append(topic_score)"
   ]
  },
  {
   "cell_type": "code",
   "execution_count": 37,
   "metadata": {
    "collapsed": true
   },
   "outputs": [],
   "source": [
    "topic_score_df = pd.DataFrame.from_records(topic_results)"
   ]
  },
  {
   "cell_type": "code",
   "execution_count": 38,
   "metadata": {},
   "outputs": [
    {
     "data": {
      "text/plain": [
       "3512"
      ]
     },
     "execution_count": 38,
     "metadata": {},
     "output_type": "execute_result"
    }
   ],
   "source": [
    "np.sum(topic_score_df.economics != 0.)"
   ]
  },
  {
   "cell_type": "code",
   "execution_count": 60,
   "metadata": {},
   "outputs": [
    {
     "data": {
      "text/plain": [
       "\"b'This is a busy day:  The European Union has approved new sanctions against Iran in protest at its nuclear programme.'\""
      ]
     },
     "execution_count": 60,
     "metadata": {},
     "output_type": "execute_result"
    }
   ],
   "source": [
    "df.iloc[0][19]"
   ]
  },
  {
   "cell_type": "code",
   "execution_count": 80,
   "metadata": {},
   "outputs": [
    {
     "data": {
      "text/plain": [
       "1989"
      ]
     },
     "execution_count": 80,
     "metadata": {},
     "output_type": "execute_result"
    }
   ],
   "source": [
    "len(headlines)"
   ]
  },
  {
   "cell_type": "code",
   "execution_count": 65,
   "metadata": {},
   "outputs": [
    {
     "data": {
      "text/plain": [
       "\"b'This is a busy day:  The European Union has approved new sanctions against Iran in protest at its nuclear programme.'\""
      ]
     },
     "execution_count": 65,
     "metadata": {},
     "output_type": "execute_result"
    }
   ],
   "source": [
    "filtered_topic_score_df = topic_score_df.loc[topic_score_df[['economics', 'technology', 'politics']].any( axis = 1)]\n",
    "fdf = filtered_topic_score_df\n",
    "fdf.iloc[0][1]"
   ]
  },
  {
   "cell_type": "code",
   "execution_count": 96,
   "metadata": {},
   "outputs": [
    {
     "data": {
      "text/plain": [
       "[\"b'This is a busy day:  The European Union has approved new sanctions against Iran in protest at its nuclear programme.'\"]"
      ]
     },
     "execution_count": 96,
     "metadata": {},
     "output_type": "execute_result"
    }
   ],
   "source": [
    "headlinesf = [0]*len(headlines)\n",
    "for i in range(len(headlines)):\n",
    "    headlinesf[i] = []\n",
    "    for j in range(25):\n",
    "        if (df.iloc[i][j+1] in fdf.values):\n",
    "            headlinesf[i].append(df.iloc[i][j+1])\n",
    "headlinesf[0]"
   ]
  },
  {
   "cell_type": "code",
   "execution_count": 190,
   "metadata": {
    "collapsed": true
   },
   "outputs": [],
   "source": [
    "headlines2 = headlinesf"
   ]
  },
  {
   "cell_type": "markdown",
   "metadata": {},
   "source": [
    "## Tokenization\n",
    "### Basic Settings"
   ]
  },
  {
   "cell_type": "code",
   "execution_count": 191,
   "metadata": {},
   "outputs": [],
   "source": [
    "# Remove some minor problems in form.\n",
    "def small_clean(text):\n",
    "    text = text.replace('b\\'', '')\n",
    "    text = text.replace('b\"', '')\n",
    "    text = text.replace('*', '')\n",
    "    text = text.replace('\\\\','')\n",
    "    text = text.replace('\\'','')\n",
    "    return text"
   ]
  },
  {
   "cell_type": "code",
   "execution_count": 192,
   "metadata": {
    "collapsed": true
   },
   "outputs": [],
   "source": [
    "# Single words that we think may be meaningful.\n",
    "good_pos_tag_set = set(['JJ','JJR','JJS', # adjective\n",
    "                        'NN','NNP','NNS','NNPS', # noun\n",
    "                        'RB','RBR','RBS','RP', # adverb and particle\n",
    "                        'VB','VBD','VBG','VBN','VBP','VBZ']) # verb"
   ]
  },
  {
   "cell_type": "code",
   "execution_count": 193,
   "metadata": {
    "collapsed": true
   },
   "outputs": [],
   "source": [
    "# The following two functions are used to help extract terminology and meaningful words\n",
    "# REFERENCE: http://bdewilde.github.io/blog/2014/09/23/intro-to-automatic-keyphrase-extraction/\n",
    "def extract_candidate_chunks(text, grammar=r'KT: {(<JJ>* <NN.*>+ <IN>)? <JJ>* <NN.*>+}'):\n",
    "    import itertools, nltk, string\n",
    "\n",
    "    # exclude candidates that are stop words or entirely punctuation\n",
    "    punct = set(string.punctuation)\n",
    "    stop_words = set(nltk.corpus.stopwords.words('english'))\n",
    "    # tokenize, POS-tag, and chunk using regular expressions\n",
    "    chunker = nltk.chunk.regexp.RegexpParser(grammar)\n",
    "    tagged_sents = nltk.pos_tag_sents(nltk.word_tokenize(sent) for sent in nltk.sent_tokenize(text))\n",
    "    all_chunks = list(itertools.chain.from_iterable(nltk.chunk.tree2conlltags(chunker.parse(tagged_sent))\n",
    "                                                    for tagged_sent in tagged_sents))\n",
    "    # join constituent chunk words into a single chunked phrase\n",
    "    candidates = [' '.join(word for word, pos, chunk in group).lower()\n",
    "                  for key, group in itertools.groupby(all_chunks, lambda (word,pos,chunk): chunk != 'O') if key]\n",
    "\n",
    "    return [cand for cand in candidates\n",
    "            if cand not in stop_words and not all(char in punct for char in cand)]\n",
    "\n",
    "def extract_candidate_words(text, good_tags=good_pos_tag_set):\n",
    "    import itertools, nltk, string\n",
    "\n",
    "    # exclude candidates that are stop words or entirely punctuation\n",
    "    punct = set(string.punctuation)\n",
    "    stop_words = set(nltk.corpus.stopwords.words('english'))\n",
    "    # tokenize and POS-tag words\n",
    "    tagged_words = itertools.chain.from_iterable(nltk.pos_tag_sents(nltk.word_tokenize(sent)\n",
    "                                                                    for sent in nltk.sent_tokenize(text)))\n",
    "    # filter on certain POS tags and lowercase all words\n",
    "    candidates = [word.lower() for word, tag in tagged_words\n",
    "                  if tag in good_tags and word.lower() not in stop_words\n",
    "                  and not all(char in punct for char in word)]\n",
    "\n",
    "    return candidates\n",
    "\n",
    "# Pack the word extraction process. Return the list of terms and good words\n",
    "def tokenize_pack(text):\n",
    "    text = small_clean(text)\n",
    "    wordlist = extract_candidate_words(text, good_tags=good_pos_tag_set)\n",
    "    termlist = extract_candidate_chunks(text, grammar=r'KT: {(<JJ>* <NN.*>+ <IN>)? <JJ>* <NN.*>+}')\n",
    "    finallist = wordlist + termlist\n",
    "    return finallist"
   ]
  },
  {
   "cell_type": "markdown",
   "metadata": {},
   "source": [
    "### Vocabulary Construction"
   ]
  },
  {
   "cell_type": "code",
   "execution_count": 194,
   "metadata": {
    "collapsed": true
   },
   "outputs": [],
   "source": [
    "# In this part we construct a vocabulary which contains two types of\n",
    "# terms: (1) Single words among verbs, nouns, adjectives, adverbs and\n",
    "# particles, which we believe contain meaningful information. \n",
    "# (2) Phases that contains more than one words and refers to a specific\n",
    "# meaning, for example: \"Australian government\"\n",
    "headlines2 =[' '.join(map(str, headline)) for headline in headlines2]\n",
    "for i in range(len(headlines2)):\n",
    "    headlines2[i] = small_clean(headlines2[i])"
   ]
  },
  {
   "cell_type": "code",
   "execution_count": 195,
   "metadata": {},
   "outputs": [
    {
     "data": {
      "text/plain": [
       "'The US and Poland have agreed a preliminary deal on plans for the controversial US defence shield Russia apparently is sabotaging infrastructure to cripple the already battered Georgian military. War in the Caucasus is as much the product of an American imperial drive as local conflicts.'"
      ]
     },
     "execution_count": 195,
     "metadata": {},
     "output_type": "execute_result"
    }
   ],
   "source": [
    "headlines2[4]"
   ]
  },
  {
   "cell_type": "code",
   "execution_count": 196,
   "metadata": {
    "collapsed": true
   },
   "outputs": [],
   "source": [
    "headlines2_train = headlines2[:1500]\n",
    "headlines2_test = headlines2[1500:]\n",
    "DJIA_train = df.Label[:1500].values\n",
    "DJIA_test = df.Label[1500:].values"
   ]
  },
  {
   "cell_type": "code",
   "execution_count": 197,
   "metadata": {},
   "outputs": [
    {
     "name": "stdout",
     "output_type": "stream",
     "text": [
      "(1500, 8353)\n",
      "(489, 8353)\n",
      "(1500, 22855)\n",
      "(489, 22855)\n"
     ]
    }
   ],
   "source": [
    "# TfidfVectorizer\n",
    "# Exclude the extremely high frequency words/phases and extremely low frequency words/phases.\n",
    "tfidfvectorizer_word_candidate = TfidfVectorizer(min_df=0.001, max_df=0.2, max_features = 200000, ngram_range = (1, 1))\n",
    "tfidfvectorizer_phase_candidate = TfidfVectorizer(min_df=0.001, max_df=0.2, max_features = 200000, ngram_range = (2, 5))\n",
    "train_word_document_matrix_tfidf = tfidfvectorizer_word_candidate.fit_transform(headlines2_train)\n",
    "test_word_document_matrix_tfidf = tfidfvectorizer_word_candidate.transform(headlines2_test)\n",
    "train_phase_document_matrix_tfidf = tfidfvectorizer_phase_candidate.fit_transform(headlines2_train)\n",
    "test_phase_document_matrix_tfidf = tfidfvectorizer_phase_candidate.transform(headlines2_test)\n",
    "print train_word_document_matrix_tfidf.shape\n",
    "print test_word_document_matrix_tfidf.shape\n",
    "print train_phase_document_matrix_tfidf.shape\n",
    "print test_phase_document_matrix_tfidf.shape"
   ]
  },
  {
   "cell_type": "code",
   "execution_count": 198,
   "metadata": {},
   "outputs": [
    {
     "name": "stdout",
     "output_type": "stream",
     "text": [
      "8353\n",
      "8048\n"
     ]
    }
   ],
   "source": [
    "word_candidate_list = tfidfvectorizer_word_candidate.get_feature_names()\n",
    "word_final_list = []\n",
    "for i in range(len(word_candidate_list)):\n",
    "    posTag = pos_tag([str(word_candidate_list[i])])[0][1]\n",
    "    isGood = (good_pos_tag_set.union([posTag])==good_pos_tag_set)\n",
    "    if isGood:\n",
    "        word_final_list.append(str(word_candidate_list[i]))\n",
    "print len(word_candidate_list)\n",
    "print len(word_final_list)"
   ]
  },
  {
   "cell_type": "code",
   "execution_count": 199,
   "metadata": {},
   "outputs": [
    {
     "name": "stdout",
     "output_type": "stream",
     "text": [
      "22855\n",
      "14898\n"
     ]
    }
   ],
   "source": [
    "phase_candidate_list = tfidfvectorizer_phase_candidate.get_feature_names()\n",
    "phase_final_list = []\n",
    "phase_all_text = \"\"\n",
    "for i in range(len(phase_candidate_list)):\n",
    "    phase_all_text = phase_all_text + \", \" + str(phase_candidate_list[i])\n",
    "    \n",
    "phase_final_list = extract_candidate_chunks(phase_all_text, grammar=r'KT: {(<JJ>* <NN.*>+ <IN>)? <JJ>* <NN.*>+}')\n",
    "print len(phase_candidate_list)\n",
    "print len(phase_final_list)"
   ]
  },
  {
   "cell_type": "code",
   "execution_count": 200,
   "metadata": {},
   "outputs": [
    {
     "name": "stdout",
     "output_type": "stream",
     "text": [
      "11708\n",
      "set(['computer hacker', 'canadas legal hemp', 'former nsa', 'drug trafficking', 'foul', 'prices', 'unemployment rate', 'jihad', 'socialist president', 'hanging', 'cyprus', 'aggression', 'increase', 'granting', 'eligible', 'electricity', 'sexual assault', 'quadruple', 'uk politicians', 'west africa', 'lord', 'short selling', 'kent', 'judge orders', 'oceans', 'same sex marriage', 'portugals', 'anti islam film', 'stabbed', 'corporate tax', 'bringing', 'prize', 'president morsi', 'wednesday', 'nigerians', 'green party', 'succession', 'prime minister silvio berlusconi', 'military site', 'new book', 'charter', 'german press', 'large parts', 'pirate bay', 'tired', 'bacon', 'enrique pena', 'holocaust', 'second', 'resignations', 'fukushima nuclear plant operator', 'saddams', 'errors', 'relieving', 'whaling', 'bittorrent', 'ruthless', 'cooking', 'contributed', 'bonuses', 'fossil', 'resilient', 'increasing', 'shocks', 'hero', 'avert', 'reporter', 'error', 'here', 'lgbt', 'china', 'recent events', 'ireland italy', 'iranian government', 'kids', 'plant tokyo electric power', 'elaborate', 'climbed', 'reports', 'controversy', 'military', 'criticism', 'golden', 'divide', 'explained', 'hamas', 'brought', 'cocaine', 'unit', 'opponents', 'derivatives', 'cheating', 'dna', 'spoke', 'italian prime minister silvio berlusconi', 'insecurity', 'urgent need', 'government control', 'millions of phone', 'music', 'telegraph', 'dns', 'egypts presidential race', 'strike', 'cutbacks', 'playboy', 'females', 'holy', 'populations', 'successful', 'brings', 'georgian', 'yahoo', 'hurt', 'glass', 'muslim terrorists', 'illegal solar panels', 'ruling anc', 'politician geert', 'hole', 'hold', 'circumstances', 'irans parliament', 'morally', 'locked', 'pursue', 'plunged', 'london police', 'typhoon haiyan relief', 'build housing', 'first time', 'entertainment industries', 'plunges', 'example', 'triple', 'unjust', 'household', 'organized', 'law enforcement', 'currency', 'reviewing', 'want', 'angela merkel', 'power cable', 'news agency', 'absolute', 'provincial', 'rights activists', 'unpaid', 'complaining', 'travel', 'drying', 'other drugs', 'damage', 'amp water', 'machine', 'hot', 'silk road', 'swine', 'gaming', 'regional', 'hundreds of millions', 'arrested protesters', 'data protection rules', 'wrong', 'euro collapse', 'sentencing', 'berlusconis', 'defense contractor', 'extortion', 'types', 'court of human rights', 'effective', 'wins', 'youths', 'revolt', 'deutsche', 'tim berners', 'cigarettes', 'unlawfully', 'trade unions', 'keeps', 'democratic', 'wing', 'wind', 'wine', 'restriction', 'chinas top', 'telecom', 'dreamed', 'reforms', 'corporation tax', 'thousands', 'help working', 'barclays', 'israels defense minister', 'bank governor', 'welcomes', 'programme china', 'shark fin', 'fit', 'rankings', 'fix', 'auditors', 'survivors', 'rescued', 'russian social network', 'wales', 'hidden', 'fin', 'sewage system', 'coal power', 'online service', 'jamali', 'effects', 'schools', 'scholar', 'represents', 'indigenous population', 'bomb kills', 'debut', 'soaring', 'dumps', 'skills', 'senior palestinian', 'burial', 'daiichi nuclear plant', 'financial', 'telescope', 'woes', 'employment education', 'garment', 'solution', 'drug gangs', 'contracting', 'passwords', 'national character', 'cathedral', 'ring', 'borne', 'rt', 'chinas state', 'syntagma', 'expel israeli diplomat', 'freeze', 're', 'encourage', 'unemployment rises', 'bo xilai', 'rn', 'engineer', 'obscene words', 'foundation', 'abbott', 'written', 'oil companies', 'threatened', 'fugitive', 'costa rica', 'debt problems', 'sex marriage', 'mobsters', 'estimate', 'obstructing', 'knit', 'chlorine', 'military base', 'enormous', 'several countries', 'exposing', 'shelves', 'ups', 'entire stockpile', 'disturbed', '1970s', 'wind farms', 'crossings', 'speeds', 'disaster in misguided attempt', 'other european countries', 'unveiled plans', 'channels', 'poll shows', 'new virus', 'pirate bays', 'chevron', 'niger', 'remotely', 'traction', 'olds', 'israel arrests', 'service', 'lawsuits', 'navy ship', 'returns', 'needed', 'education reform', 'gas emissions', 'tourism ambassador', 'legs', 'ranging', 'part of campaign', 'listen', 'danish', 'collapse', 'geneva', 'arms sale', 'relative', 'bounty', 'meltdowns', 'amp power', 'real life', 'former israeli', 'showed', 'tree', 'nations', 'project', 'enrique pena nieto', 'idle', 'feeling', 'anc party', 'entail', 'willingness', 'runner', 'boston', 'free trade agreement', 'wealth', 'spectrum', 'study shows', 'dozen', 'affairs', 'kidnap', 'releases', 'concrete', 'responsible', 'recommended', 'causing', 'dna samples', 'doors', 'lawsuit accusing', 'grips', 'kremlin', 'barents', 'shipments', 'british pm', 'committing', 'transactions', 'interest rate', 'object', 'shale', 'swiss', 'mouth', 'letter', 'entry', 'retaining', 'drought', 'tourism industry', 'global rules', 'old pakistani', 'united nations', 'singer', 'stupid', 'episode', 'snooping', 'antitrust', 'rights of women', 'professor', 'camp', 'detectors', 'tech', 'nobel prize', 'purged', 'came', 'advisory', 'signatures', 'bomb', 'reactor', 'intelligence leaker edward', 'departing', 'national museum', 'admits election', 'southern europe', 'nominated', 'drone strike', 'qaeda', 'gay pride', 'participate', 'lethal', 'hungary', 'tempted', 'thai', 'president elect', 'korean nuclear test', 'busy', 'mumbai attacks', 'bust', 'interest rates', 'bush', 'food crisis', 'rick', 'rich', 'rice', 'fight aids', 'rica', 'china bans', 'camerons press', 'psychiatric', 'next years', 'pocket', 'cushion', 'altogether', 'tips', 'unfortunately', 'xinjiang', 'illegal judge', 'textbooks', 'patch', 'corruption in russia', 'lurched', 'saud', 'release', 'bashar', 'such thing', 'boarded', 'respond', 'blew', 'mandatory', 'disaster', 'fair', 'transferred', 'unexpectedly', 'press officer', 'result', 'fail', 'resigned', 'best', 'afghan officials', 'campaigners', 'pressured', 'ambitions', 'lots', 'irs', 'rings', 'xvi', 'score', 'ira', 'guardian co', 'ire', 'preserve', 'discipline', 'never', 'extend', 'nature', 'peasant leader', 'mcafee', 'kunar', 'icelandic', 'extent', 'defiance', 'downgrade', 'carbon', 'debt', 'core meltdown', '19th century', 'tyranny', 'nuclear tests', 'joe', 'accident', 'reported', 'country', 'demanded', 'house of commons', 'planned', 'himalayan', 'argue', 'asked', 'libyan', 'scottish golf resort', 'google facebook', 'gypsies', 'secretive multi', 'president bashar al assad', 'basque', 'financial meltdown', 'libyas', 'national parks', 'trade pact', 'source', 'holdings', 'international court of justice', 'israeli arab', 'criticised', 'street journal', 'subsidy', 'much', 'cable television', 'stadium', 'privilege', 'criticises', 'incompetent', 'heritage sites', 'life', 'sydney', 'eastern', 'hospitalized', 'old border', 'worker', 'wish', 'confinement', 'italian police', 'chile', 'child', 'worked', 'criminalises', 'diverted', 'commerce', 'mobile devices', 'new hacking', 'presidency', 'new president', 'castro', 'employ', 'chinese factory', 'missile launchers', 'levies', 'majid', 'swedish pirate', 'played', 'brian cox', 'dead sea', 'campaigning', 'plant operator', 'specter', 'hong', 'things', 'wikileaks releases', 'muslim world', 'rebellion', 'wtf britain', 'aung san suu', 'damages', 'babies', 'north korean regime', 'yousuf raza gilani', 'tuesday morning', 'european', 'pm erdogan', 'tops', 'hectares', 'international campaign', 'matter of national security', 'tuna', 'tune', 'bomb shelter', 'intrusion', 'universal healthcare', 'precision air strike', 'controversial move', 'missile system', 'tax evaders', 'academic', 'european parliament', 'corporate', 'veils', 'distribute', 'terrorist', 'saudi royal family', 'cumbria', 'financially', 'birmingham', 'tel aviv', 'amp poors', 'plight', 'political system', 'previous', 'enters', 'myanmar', 'ease', 'bnp', 'had', 'tar sands', 'disparity', 'easy', 'prison', 'north korean economy', 'east', 'hat', 'second computer', 'judge rules', 'municipal', 'turkish media', 'former guatemalan dictator', 'elders', 'survival', 'posed', 'possible', 'year rule', 'global financial crisis', 'possibly', 'birth', 'unlikely', 'shadow', 'poses', 'african republic', 'massively', 'psychological', 'annual report', 'french president', 'iran election', 'misled', 'steps', 'malnutrition', 'albino body', 'uk banks', 'attorney', 'right', 'old', 'crowd', 'people', 'czech', 'living wage', 'pyongyang', 'crown', 'santiago', 'chinese workers', 'negotiations with iran', 'food policy', 'harassment', 'enemies', 'data centers', 'nuclear scientists', 'rights advocates', 'minister calls', 'bottom', 'western democracy', 'myung', 'fox', 'gooch', 'polluted', 'repression', 'continue', 'japanese whalers', 'surging', 'debt repayments', 'un nuclear agency', 'chemical weapons production', 'shifting', 'foreign investors', 'eu data', 'losing', 'manufacturing', 'hardliners', 'boycotts', 'filipino', 'european ruling', 'dollars', 'citizens', 'french scientists', 'satellite imagery', 'palestinians', 'obscenity', 'nixon', 'vietnam war', 'raised', 'statements', 'american ambassador', 'facility', 'employment minister', 'material', 'speed rail network', 'son', 'undermining', 'beings', 'national protests', 'israeli settlement', 'raises', 'shoots', 'reducing', 'defendants', 'tamil tigers', 'fabric', 'waits', 'panorama', 'support', 'nova', 'raped', 'authorized', 'launching', 'happy', 'sun power', 'underestimated', 'passport', 'manufacturers', 'forming', 'tigers', 'paypal', 'herman van', 'french governments', 'coal mining', 'safeguard', 'concrete proof', 'inside', 'guatemalan dictator efrain', 'devices', 'albinos', 'gilani', 'torturing', 'panels', 'orthodox church', 'passenger', 'non proliferation', 'looms', 'liberal', 'sight', 'centrifuges', 'steady', 'viktor yanukovych', 'ddos', 'proves', 'exist', 'new data', 'accounting', 'nuclear test site', 'dealer', 'negotiations', 'supporters', 'hijabs', 'think tank', 'protested', 'eventual', 'floor', 'overthrow of president', 'cambodia', 'flood', 'russian businessman', 'attacks in europe', 'republic', 'computer science', 'ambitious', 'benefiting', 'guineas', 'developers', 'roll', 'david miranda', 'korean economy', 'models', 'scream', 'muslims', 'intent', 'national dna database', 'miranda', 'persecution', 'new nsa revelations', 'explosions', 'trade agreement', 'nuclear threat', 'ancient sites', 'israeli ambassador', 'rockers', 'packets', 'ottawa', 'court of canada', 'waste of money', 'time', 'push', 'overturned', 'hunger strike', 'form coalition', 'irrigation', 'childs', 'chain', 'whoever', 'naoto', 'egypts', 'countrys parliament', 'next generation', 'chair', 'activates', 'norways', 'fund manager', 'venice', 'bribes', 'mexican politician', 'suspending', 'italian activist vittorio arrigoni', 'uk home', 'privacy laws', 'seabed', 'poors', 'oversight', 'solution under development', 'downloading', 'paychecks', 'government forces', 'president hosni mubarak', 'cheap', 'spain warns', 'choice', 'dotcom case', 'mourn', 'crackdowns', 'police corruption', 'launchers', 'new ambassador', 'minute', 'same day', 'tear', 'leave', 'settle', 'energy agency', 'president mahmoud', 'team', 'loads', 'gang rape', 'prevent', 'bulldozer', 'findings', 'sign', 'air strike', 'year old girl', 'justice system', 'wikileaks revelations', 'pro democracy', 'g20', 'troubled nuclear plant', 'criminal investigation', 'jeopardy', 'abdullah', 'melt', 'current', 'university students', 'intelligence leaker', 'tokyo electric power co', 'falling', 'boost', 'drafted', 'totalling', 'honour', 'funeral', 'understanding', 'yards', 'address', 'alone', 'dwindling', 'nuclear fusion', 'assassinating', 'revenues', 'financiers', 'funded', 'finnish', 'data protection law', 'base in afghanistan', 'ineffective', 'foreign workers', 'studies', 'religious identity in territory', 'bank of scotland', 'love', 'curtailing', 'prefer', 'bloody', 'national oil', 'fake', 'red', 'argentinas', 'opposes', 'syrian diplomat', 'toppled', 'working', 'cyber espionage', 'positive', 'angry', 'blackwater', 'gulags', 'funds of mailpile', 'expert claims', 'opposed', 'wondering', 'films', 'syrians', 'prosecutor', 'loving', 'pm john', 'news corp', 'afford', 'conspiracy theory', 'apparent', 'islamic face veil', 'oregon', 'ahmadinejads', 'ignorant', 'protests in egypt', 'behalf', 'northwest pakistan', 'valued', 'money making', 'national broadband', 'originally', 'facilitating', 'abortion', 'believes', 'health minister', 'banking secrecy', 'zhao', 'printing', 'values', 'believed', 'pulls', 'gunfire', 'production of food', 'israeli soldier', 'mirrors', 'financial support', 'hack into computers', 'hides', 'allowed', 'german law', 'offense', 'stole', 'monitoring', 'winter', 'divided', 'immune', 'vancouver', 'elephant', 'unesco world heritage', 'fighter jets', 'non member', 'spot', 'fueled', 'parliamentary committee', 'date', 'such', 'suck', 'truly', 'data', 'stress', 'surfing', 'natural', 'sectors', 'sq', 'snowden leak', 'st', 'so', 'care system', 'nuclear talks', 'fiber optic cable', 'gay people', 'house of lords', 'sa', 'manga', 'economy minister', 'drunken', 'international atomic energy', 'international trade union', 'insurgency', 'unacceptable', 'wind farm', 'feature', 'course', 'experiments', 'rare earth', 'shirin', 'caucasus', 'online pornography', 'limbs', 'overhaul', 'internationally', 'torn', 'troubles', 'stupidity', 'councillor', 'gazas', 'aviv', 'gazan', 'suspicion', 'french film', 'suspension', 'troubled', 'decades', 'petition', 'sovereign wealth', 'high price', 'civilian', 'nation', 'records', 'drilling', 'right golden dawn', 'standard amp poors', 'arms reduction treaty', 'neutrality', 'uncultivated', 'suspends', 'sri lanka', 'instability', 'amnesty', 'quarter', 'repaired', 'turtle', 'tax avoidance scheme', 'square', 'honduras', 'renewable energy', 'peacekeepers', 'nuclear programme', 'breakthrough', 'peasant movement', 'nuclear warheads', 'entering', 'sexually', 'honduran', 'disasters', 'cyber attacks', 'troll', 'sex abuse', 'container', 'rioters', 'anti corruption', 'air force', 'nuclear arsenals', 'top secret', 'bragg', 'investigation', 'internet', 'suggesting', 'spy agency', 'dodgers', 'irans currency', 'letter urging', 'prostitutes', 'siege', 'thousands of workers', 'governing', 'quite', 'lucrative', 'plea', 'quits', 'wikileaks cables', 'unnamed', 'training', 'natural resources', 'disguised', 'peaceful protesters', 'collapsing', 'programming', 'trading scheme', 'study finds', 'massive', 'routes', 'misused', 'neglect', 'military strikes', 'un rights council', 'saving', 'reveals', 'data snooping', 'clause', 'israeli jews', 'schoolchildren', 'ivory coast', 'one', 'opec', 'punishable', 'spanish', 'vote', 'new zealand bans', 'open', 'extremist views', 'city', 'international sanctions', 'bite', 'supreme court ruling', 'uks', 'indicate', 'teacher', 'draft', 'separatists', 'ethnic cleansing', 'shoppers', 'williams', 'slashes', 'global financial system', 'merchant ships', 'surges', 'proving', 'slashed', 'inventor', 'court order', 'mobile phones', 'muammar gaddafi', 'electronic surveillance', 'favors', 'siding', 'future', 'new wikileaks', 'russia', 'prospect', 'illness', 'sao', 'san', 'sam', 'royalties', 'libor scandal', 'russian orthodox', 'turned', 'locations', 'headquarters', 'prestigious', 'say', 'buried', 'foiled', 'burundi', 'saw', 'warriors', 'aside', 'zoo', 'note', 'intends', 'take', 'new zealand prime minister john', 'destroy', 'vandals', 'concern', 'golan', 'finlands', 'handing', 'military attack', 'nuclear non proliferation treaty', 'opposite', 'slump', 'knew', 'suspects', 'kim dotcom case', 'island nation', 'new research', 'detect', 'remarks', 'government plan', 'knowingly', 'pages', 'overtakes', 'australian prime minister julia', 'radioactive water leak', 'average', 'gay marriage', 'constable', 'drive', 'ways', 'news site', 'canadas government', 'atlantic', 'salt', 'laws', 'operations', 'today anchor', 'group claims', 'surplus', 'senators', 'palestinian leadership', 'jpmorgan', 'high court ruling', 'low wages', 'inner mongolia', 'scarce', 'aggressive', 'imagined', 'fibre', 'slow', 'live tv', 'romanian', 'interrogations', 'economy grows', 'liberation', 'going', 'romanias', 'investigation reveals', 'equipped', 'outrage', 'congressional', 'dispute', 'american style', 'mossad chief', 'freezing', 'parliament votes', 'developing world', 'egyptian army', 'awaiting', 'rights group', 'perus', 'ukraine crisis', 'resource', 'artist', 'borrow', 'worried', 'priest', 'roger', 'bombs', 'liable', 'worries', 'uncover', 'israeli peace', 'surgeries', 'vision', 'mandatory data', 'cyber war', 'same sex couples', 'gangster', 'uk politician', 'surgery', 'bank of japan', 'first nation', 'mecca', 'korean leader', 'untapped', 'jumped', 'financial center', 'representatives', 'vaccines', 'wests', 'junk status', 'bureau', 'new technology', 'monitoring plan', 'enjoys', 'al jazeeras', 'jobs', 'nuclear plant tokyo electric power', 'ayatollah ali', 'president viktor', 'screen', 'news network', 'new regime', 'supermarket', 'revealed', 'italian member', 'spare', 'blood money', 'jets', 'spark', 'undermine', 'president lee myung', 'concentrated', 'mans', 'many', 'millionaire', 'australia expels', 'residency', 'majority of people', 'credit card', 'grooming', 'expression', 'allowance', 'handouts', 'jazeera english', 'european unions', 'gaddafis', 'homosexuality', 'anti', 'extinct', 'new kind', 'considers', 'boat', 'drug companies', 'mounting', 'plant tokyo', 'locally', 'airlines', 'energy companies', 'combined', 'stripped', 'un report', 'prototype', 'renewables', 'wants', 'enable', 'neo nazis', 'deadliest', 'thousand', 'formed', 'settlement construction', 'photos', 'observe', 'former', 'canadian citizen', 'tribal', 'polls', 'engineering', 'squeezes', 'child sex', 'international trade', 'policies', 'national security agency', 'newspaper', 'situation', 'policy review', 'spotlight', 'ive', 'priests', 'tax hikes', 'engaged', 'dubious', 'peace price', 'muslim clerics', 'engages', 'technology', 'old daughter', 'compatriots', 'peace talks', 'missiles', 'shuts', 'threatens', 'parliament', 'surveillance', 'korean regime', 'vandalism', 'breakdown', 'putin', 'ecuadorean', 'sickness', 'sinn fein', 'defy', 'chinese premier', 'xkeyscore', 'wired', 'high cost', 'renewable', 'costa', 'tracking', 'summon', 'costs', 'crimean', 'evict', 'trains', 'gdp', 'summer', 'sprayed', 'block internet', 'being', 'rest', 'ngos', 'tasmanian', 'disperse', 'chocolate factory', 'rousseff', 'weekly', 'rover', 'generator', 'retention law', 'instrument', 'father of computer', 'overthrow', 'authoritarian regimes', 'starving', 'aspects', 'trade union', 'universal jurisdiction', 'sums', 'dark', 'traffic', 'pop', 'nuclear war', 'former chief', 'unesco', 'style anti', 'vague', 'dare', 'legalised', 'intel', 'repeat offenders', 'human rights council', 'black box', 'block oil', 'yearly', 'new laws', 'tsunami', 'offenders', 'inter', 'reform', 'government officials', 'lebanon', 'tvs', 'debt ceiling', 'sovereign default', 'brits', 'anti dumping', 'racial', 'cristina', 'scandals', 'russia india china', 'europe warns', 'ability', 'court of justice', 'cannabis', 'exit', 'francois', 'nuclear test', 'opposition party', 'destroys', 'accessing', 'scientific', 'power', 'credit rating', 'stock markets', 'hollande', 'iconic', 'skilled workers', 'right party', 'leadership', 'thailand', 'kunar province', 'school curriculum', 'stone', 'origins', 'mossad', 'industry', 'fein', 'chief executive', 'pm tony', 'government russia', 'act', 'mean', 'browsing habits', 'fundraising', 'burning', 'flawed', 'image', 'conservative party', 'homeless', 'parties', 'accumulated', 'world news guardian co uk', 'tropical', 'legacy', 'children in schools', 'hes', 'telephone calls', 'hey', 'bangladeshi', 'hed', 'futile', 'brazilian', 'punished', 'bubble', 'recommends', 'complete', 'media report', 'jiabao', 'trade relations', 'mh370', 'survived', 'helicopter', 'presidential race', 'technologies', 'full face', 'chinas massive', 'escalates', 'buying', 'abused', 'pull', 'rush', 'october', 'gay rights', 'monopoly', 'cctv cameras', 'tepco', 'ruse', 'taught', 'dirty', 'pope francis', 'abuses', 'politically', 'agree', 'regimes', 'detailed', 'gone', 'vehicles', 'ad', 'migrate', 'certain', 'ak', 'am', 'al', 'wartime', 'merkels', 'behest', 'health care', 'economic growth', 'neo nazi', 'laboratory', 'watched', 'appalling', 'bradley manning', 'rnsomething', 'abolish', 'summit', 'jong uns', 'british police', 'right wing', 'local officials', 'congress', 'china force', 'seriousness', 'climate scientists', 'party leader', 'rape victim', 'brotherhood', 'drug giant', 'russian police', 'license plates', 'palestinian peace', 'mask', 'water crisis', 'colombian drug', 'mass', 'campaign of boycott', 'financial hub', 'uk porn', 'original', 'waives', 'government moves', 'influenza', 'consider', 'western patients', 'caused', 'rocket launch', 'debris', 'welfare', 'closed doors', 'minors', 'causes', 'democracy protests', 'hunting', 'tv', 'tamil', 'public debate', 'riots', 'missile defence', 'muslim community', 'nuclear arms', 'ghana', 'paying', 'returned', 'canadian province', 'defense minister', 'detention', 'hitting', 'vote fraud', 'blockade', 'president xi jinping', 'trillions', 'labor', 'deepwater horizon', 'parliaments', 'political spectrum', 'cable', 'laying', 'joined', 'jrgen', 'large', 'sand', 'research amp', 'small', 'people of gaza', 'dodges', 'few months', 'sank', 'normal price', 'penalties', 'past', 'chief israel', 'pass', 'optic cable', 'investment', 'islami', 'parliament rejects', 'richard', 'section', 'fighter jet', 'minister john key', 'european court of human rights', 'world news', 'scientists', 'nurse', 'microchip', 'fukushima nuclear accident', 'method', 'white farmers', 'revealing', 'full', 'escaping', 'gchq target', 'human albino body parts', 'other terrorist groups', 'middle class', 'foreign powers', 'china accuses', 'hours', 'bloggers', 'greek debt crisis', 'civilians', 'november', 'backlash', 'polio virus', 'drug cartels', 'compliance', 'pro choice', 'brutal', 'pics', 'prior', 'pick', 'action', 'skepticism', 'reactors', 'sexual violence', 'vic', 'followed', 'marriages', 'global fund', 'abdel', 'new zealand', 'orwellian', 'french election', 'select', 'leader julius', 'bank director', 'ridding', 'select committee', 'internet service', 'party enters', 'amassing', 'more', 'teen', 'door', 'initiated', 'company', 'national television', 'telephone', 'tested', 'university graduates', 'bluefin tuna trade ban', 'nonviolent', 'green energy', 'court upholds', 'european court of human', 'keeping', 'science', 'next month', 'reactor building', 'sent', 'morgan', 'learn', 'male', 'beautiful', 'scam', 'afghan president', 'impacts', 'stated', 'human rights advocates', 'suggestions', 'accept', 'nation on earth', 'states', 'north koreans', 'lee myung', 'sense', 'schoolgirl', 'court on tuesday', 'dress', 'innocent civilians', 'condemn', 'information', 'price tag', 'imminent', 'hugo', 'dismissed', 'earnings', 'gulf of mexico', 'dismisses', 'upto', 'plant', 'plans', 'countryside', 'disgraced', 'greenwald', 'mapping', 'plane', 'censor internet', 'waves', 'ethics', 'lanka', 'refuse', 'imagery', 'russian social network vkontakte', 'fukushima nuclear disaster', 'sri lankan', 'islamic face', 'jihadist', 'register', 'hauling', 'water purification', 'blacklisting', 'egypts islamist', 'fundamental', 'afghan president hamid karzai', 'warfare tests', 'garment factory', 'jordans', 'saudi prince', 'mexican', 'former mossad', 'presidential candidate', 'itd', 'missile defence system', 'activist ship', 'installed', 'job applicants', 'attitude', 'embassy', 'golden dawn party', 'signs', 'capital flight', 'roots', 'rapidly', 'economists', 'shifts', 'big oil', 'deeds', 'president bashar al', 'stricken fukushima', 'wipe', 'mandatory data retention', 'bypass', 'inquiry', 'ally', 'colleague', 'next step', 'president obama', 'assads', 'propose', 'gadget', 'iran urges', 'misuse', 'computer systems', 'recent years', 'dont want', 'always', 'truths', 'courses', 'found', 'shocking', 'investigators', 'week', 'england', 'reduce', 'terrorism act', 'slowdown', 'style website', 'finish', 'yousuf', 'operation', 'really', 'repressive', 'water shortage', 'missed', 'extremist groups', 'research', 'civil rights group', 'mass killings', 'rich pay', 'offline', 'occurs', 'belief', 'risen', 'sparked', 'world heritage', 'human rights activists', 'world war ii', 'investment banking', 'imaging', 'imagine', 'rises', 'amounts of money', 'driven', 'owners', 'submarines', 'mistral class', 'nuclear programme china', 'rocket carrying', 'unmanned', 'major', 'succeeded', 'recruiting', 'number', 'anonymity', 'stage', 'guess', 'heads', 'jew', 'jet', 'benedict', 'threatening', 'checkpoint', 'bad news', 'calculations', 'electronic army', 'minister yousuf raza gilani', 'world news guardian', 'relationship', 'fossil fuel', 'unesco world', 'immediate', 'typhoon', 'crop', 'rain', 'rivers', 'rampant', 'obama', 'likely cause', 'aaa', 'iranian', 'walmart', 'child porn', 'defends', 'security agency', 'prime minister recep tayyip', 'determined', 'marriage', 'aap', 'german solar', 'fishermen', 'uk children', 'election win', 'dollar chinas', 'nuclear waste', 'fights', 'organisations', 'public officials', 'megaupload', 'graffiti', 'pharma companies', 'diplomatic memos', 'final approval', 'sell', 'honeybees', 'self', 'jeopardize', 'heterosexual', 'also', 'recognizing', 'internal', 'conscription', 'legal action', 'brace', 'shops', 'transparent', 'play', 'parliament approves', 'singles', 'democracy activists', 'currency system', 'unused', 'virus', 'nasas', 'plan', 'accepting', 'right golden dawn party', 'kurdish rebels', 'unequal', 'mailpile', 'seize', 'sometimes', 'cover', 'goldman sachs', 'hamid', 'barred', 'chinas demand', 'oil drilling', 'researchers', 'tpp', 'barrel', 'attacking', 'golf', 'gold', 'defended', 'session', 'expressed', 'young men', 'street protests', 'overwhelmed', 'occupation', 'impact', 'rating agencies', 'wikileaks website', 'justice commissioner viviane reding', 'writes', 'writer', 'failed', 'new russian', 'condom', 'factor', 'former banker', 'tax dodgers', 'giants', 'boarding', 'solar energy', 'banned', 'long running', 'unearthed', 'preparing', 'donald', 'reporters', 'banner', 'oil money', 'data retention', 'enemy', 'spains', 'islam film', 'progressive', 'cry', 'minister silvio berlusconi', 'bird', 'banking', 'croatia', 'pacific partnership', 'kill', 'obscure', 'river', 'approaching', 'insane', 'set', 'creator', 'activists', 'world community', 'sex', 'see', 'migration', 'sea', 'private wealth', 'rhino horn', 'knees', 'movie', 'currently', 'nuclear energy', 'rejecting', 'year old daughter', 'malaysia airlines', 'peace prize committee', 'avoidance', 'british engineer', 'uk home secretary', 'falkvinge', 'knowing', 'libyan leader muammar gaddafi', 'targeted', 'brewing', 'economic instability', 'secret germ warfare', 'show nsa', 'untouched', 'incident', 'renewed', 'single person', 'seed bank', 'shoe', 'prospects', 'africas rhinos', 'last', 'american air', 'influential', 'polish immigrant', 'barely', 'connection', 'court issues', 'goverment', 'let', 'approve', 'blaze', 'new citizenship', 'luxury hotel', 'bell', 'seems', 'loan', 'northeastern', 'allegiance', 'community', 'coincidence', 'agents', 'church', 'robert dziekanski', 'worthless', 'xpost', 'publishing', 'monthly', 'convicted', 'suburbs', 'nuclear complex', 'contained', 'nuclear submarine hms astute', 'assassinated', 'plant under control', 'firm', 'repayments', 'champion', 'nuclear submarine', 'fire', 'factory in china', 'mine', 'fund', 'egypts stock', 'egyptian government', 'representative', 'systematic', 'freedom of information', 'insiders', 'towns', 'japanese workers', 'consulate', 'storage devices', 'presses', 'handling', 'mexican presidential', 'judicial', 'straight', 'expanded', 'budget', 'technical', 'disproportionate', 'leaning', 'student protesters', 'scheduled', 'pound', 'hoping', 'backing', 'google launches', 'prime minister yousuf', 'vow', 'owes', 'vanish', 'passenger data', 'chase', 'funny', 'blow whistle', 'radicalization', 'seek', 'drug abuse', 'elevated', 'aleppo', 'virtually', 'ruler', 'survey', 'minister yousuf raza', 'amazon workers', 'flooded', 'korea officials', 'alert', 'donald trump', 'viewing', 'levels', 'necessity', 'euro', 'xi jinping', 'alleging', 'israel today', 'tehrans', 'picks', 'person', 'dutch diplomat', 'party leadership', 'leone', 'tim', 'construct', 'public utilities', 'boes', 'arrests', 'plagued', 'stunt', 'law banning', 'brazilian government', 'readers', 'admission', 'desist', 'signals', 'eager', 'execution style', 'weirder', 'parents', 'location', 'homeland', 'silvio berlusconi', 'submissions', 'surprised', 'harvesting', 'indonesian', 'australia', 'victims', 'middle class professionals', 'emergency', 'demands', 'couple', 'personal wealth', 'wives', 'suffering', 'quest', 'bank of america', 'research shows', 'abduct', 'other countries', 'projects', 'formal', 'imposed', 'camerons', 'sovereign debt crisis', 'squandered', 'face fines', 'parliamentarians', 'underway', 'consensus', 'communications', 'individuals', 'yields', 'tribes', 'disorder', 'suppliers', 'china japan', 'methods', 'senate', 'spring', 'multibillion dollar', 'death threats', 'salman taseer', 'palm', 'food supply', 'mideast', 'curious', 'vilnius', 'broadband', 'religion', 'prosecuted', 'research finds', 'jamaat islami', 'dating', 'temple', 'georgian ambassador', 'tax avoidance', 'occupied west bank', 'ugandas', 'bo', 'agreement', 'nations economy', 'bp', 'nowhere', 'ugandan', 'relating', 'power industry', 'wildlife', 'anything', 'jong ils', 'archbishop', 'cancer drug', 'clinton', 'colorado', 'garbage', 'terrorists', 'intl', 'legalise', 'awaited', 'servers', 'osama', 'independence campaign', 'repaid', 'contributor', 'poaching', 'pose threat', 'soca', 'spam', 'spending', 'sock', 'specifically', 'occupy', 'crackdown', 'suit', 'opens', 'fragmented', 'elsewhere', 'jewish', 'poster', 'atop', 'bluefin', 'vowing', 'slums', 'royal family', 'link', 'pacific', 'human rights abuses', 'front page', 'line', 'posted', 'cia', 'record low', 'up', 'dont need', 'un', 'uk', 'golden age', 'medical', 'storing', 'pre emptive nuclear strikes', 'nationalist', 'influence', 'diverse', 'nationalise', 'nationalism', 'takedown', 'defines', 'thugs', 'codes', 'paradox', 'european elites', 'political crisis', 'fixing', 'uranium', 'invalid', 'preventing', 'points', 'elephant hunting', 'scapegoat', 'elements', 'wrongly', 'sided', 'prosecution', 'robots', 'lufthansa', 'caldern', 'film star', 'sides', 'leaflets', 'ago', 'worsened', 'land', 'fighter', 'president hugo', 'mailing', 'age', 'walked', 'dow', 'feud', 'norwegians', 'carrying', 'supreme court of canada', 'psychiatry', 'fresh', 'ags', 'having', 'anti jewish', 'essay', 'nuclear facility', 'code', 'partial', 'sharply', 'saying', 'pm david cameron', 'dont think', 'results', 'astronauts', 'existing', 'highways', 'mosul', 'broader', 'mercenaries', 'centers', 'seemed', 'turkish', 'harvest', 'concerned', 'state department', 'young', 'send', 'citing', 'arms export', 'criminal penalties', 'postings', 'resources', 'probe', 'garden', 'torture', 'continues', 'languished', 'manipulated', 'year olds', 'mixing', 'nieto', 'continued', 'minerals', 'northwestern', 'magic', 'transmission', 'marry', 'eve', 'fewer', 'damning', 'try', 'cost savings', 'race', 'fossil fuel companies', 'new set', 'obesity', 'severed', 'pledge', 'law on drugs', 'tunisian', 'mediterranean', 'licensed', 'recruitment', 'west bank separation', 'video', 'tunisias', 'iranian regime', 'wheat', 'social network vkontakte', 'trading partner', 'index', 'directive', 'lehman', 'morsi', 'indias', 'indian', 'polluting', 'expresses', 'firms', 'golf course', 'harassing', 'proliferation', 'led', 'lee', 'chinas', 'gathered', 'global recognition', 'time in history', 'slogans', 'surveillance laws', 'poverty', 'slaughter', 'sex trade', 'power grids', 'invented', 'minister david', 'great', 'engage', 'receive', 'involved', 'casino', 'nobel peace prize committee', 'scientology', 'rohingya', 'resulting', 'defeat', 'opinion', 'residents', 'makes', 'maker', 'involves', 'thats', 'internet connection', 'new poll', 'israeli president', 'germany italy', 'mexican drug', 'change china', 'bank separation', 'sexual abuse', 'standing', 'civil disobedience', 'confidence', 'world war', 'whistleblowing', 'certificate', 'prime minister recep', 'illegal', 'ministers', 'next', 'eleven', 'doubt', 'doubling', 'real name', 'confiscate', 'undeclared', 'occurred', 'dealings', 'opposing', 'deregulate', 'labelled', 'rubbish', 'baby', 'aircraft carrier', 'charity', 'customer', 'balls', 'animals', 'challenge', 'clients', 'insists', 'pour', 'prompts', 'drill', 'wearing', 'streamed', 'year old pakistani', 'report finds', 'snooped', 'process', 'lock', 'corporate interests', 'chinese communist party', 'purposes', 'pieces', 'high', 'nears', 'deal with north korea', 'rods', 'weaken', 'educational', 'docking', 'reinstates', 'destroying', 'struggling', 'delay', 'pair', 'animal', 'comedy', 'establishment', 'smut', 'blocks', 'bill clinton', 'await', 'malware', 'tied', 'halted', 'vineyards', 'pigs', 'demonstrating', 'fits', 'ties', 'solidarity', 'npr', 'realized', 'boeing', 'high unemployment', 'counter', 'robot', 'commodities', 'acquitted', 'allow', 'classy', 'intellectuals', 'volunteers', 'counted', 'houston', 'lenders', 'comms', 'produces', 'insight', 'julius malema', 'produced', 'motorcycle', 'swedish neo', 'weapons technology', 'operative', 'warren', 'perfect', 'regions', 'treat', 'ban ki', 'chosen', 'intelligence agency', 'thieves', 'degrees', 'government bill', 'fox news', 'elites', 'sabotaging', 'nuclear missiles', 'outlined', 'president mahmoud ahmadinejad', 'launder', 'disrupted', 'seawater', 'geert', 'human race', 'cabinet approves', 'outlines', 'presidential', 'liberia', 'beijings', 'traced', 'document reveals', 'intelligence service', 'expels', 'truth', 'kroner', 'rising', 'beneath', 'traces', 'human rights groups', 'doing', 'society', 'books', 'qaida', 'agriculture', 'witness', 'rigging', 'internet usage', 'controversial law', 'britons', 'reformist', 'shut', 'british columbia', 'german chancellor angela', 'dutch politician geert wilders', 'regulators', 'german government', 'new leaders', 'regulatory', 'cost taxpayers', 'dprk', 'same way', 'mainland', 'spill', 'anti semite', 'put', 'david', 'underground bunker', 'removing', 'davis', 'hussein', 'scare', 'blown', 'geert wilders', 'power stations', 'scene', 'owned', 'jesus', 'barack obama', 'tier', 'muhammad', 'legalnews', 'owner', 'other news', 'blows', 'turkish government', 'criminal gangs', 'festival', 'detailing', 'system', 'backdoor', 'gcsb', 'travelled', 'painful', 'pervasive', 'enforcement', 'few weeks', 'stars', 'beatings', 'tuscan', 'elite', 'haven', 'tory', 'steel', 'colleagues', 'warfare', 'uk privacy', 'single ethnic', 'turkish police', 'tortured', 'roberts', 'orchestrated', 'gays', 'new report', 'torrent', 'collecting', 'accusing', 'false', 'shrinks', 'greeces', 'partnership', 'tonight', 'research institute', 'defending', 'clearly', 'viewed', 'protection law', 'uk internet', 'documents', 'overthrew', 'attorney general', 'koreas', 'studying', 'jurisdictions', 'mechanism', 'head of state', 'demolished', 'military bases', 'korean', 'accuracy', 'embroiled', 'political scientist', 'world heritage site', 'brazilian president dilma rousseff', 'fidel', 'pyramids', 'delayed', 'visa', 'carcasses', 'device', 'medal', 'subsequently', 'construction site', 'exchange rate', 'bleaker', 'israeli officials', 'stronger', 'face', 'french government', 'fiasco', 'wounded', 'painting', 'fact', 'rare insight', 'wikipedia', 'bring', 'greenhouse', 'presidential candidates', 'asylum', 'economist', 'brink', 'decade', 'israeli company', 'producer', 'jay', 'police officer', 'jan', 'hopi', 'planted', 'tape', 'undercover police', 'language policy', 'mayors', 'hope', 'meant', 'move', 'handle', 'bonds', 'familiar', 'prohibition', 'bin laden', 'child trafficking', 'election fraud', 'european union', 'committees', 'embedded', 'denmark', 'taxes', 'pirate', 'extremists', 'stuff', 'taxed', 'rein', 'former cia', 'strengthened', 'nobel laureate', 'catastrophic', 'top diplomat', 'chancellor angela merkel', 'reddit', 'packet', 'edition', 'yousafzai', 'austrian', 'online game', 'nuclear plans', 'nuclear plant', 'qaddafi', 'packed', 'overfishing', 'wire', 'nationwide', 'insulting', 'vietnams', 'turkish prime minister erdogan', 'minister yousuf', 'mohamed', 'email', 'shiite', 'ends', 'explosive', 'scrolls', 'ignorance', 'bolivian', 'use uk', 'united states government', 'lawsuit', 'cease fire', 'restrictions', 'talks with russia', 'invited', 'eu court rules', 'deficits', 'drug', 'etc', 'local authorities', 'eta', 'figures', 'trumps', 'wal mart', 'invites', 'gay sex', 'new democratic party', 'adjusted', 'co', 'wtf', 'murdoch paper', 'ivory trade', 'leaker edward', 'migrant', 'european country', 'acres', 'admin', 'silvio', 'powered', 'quotas', 'middle east peace', 'leader muammar gaddafi', 'international banking', 'media guardian co', 'waste', 'rights watch', 'eurozone', 'homosexual', 'end spains', 'rob ford', 'rioting', 'drone strikes', 'nuclear nonproliferation', 'uns', 'spain', 'theyve', 'waste of time', 'north korean leader kim jong', 'eus', 'rigged', 'ultra', 'report shows', 'chernobyl', 'indian govt', 'clear message', 'britains', 'home secretary', 'site', 'counterweight', 'vs', 'anti piracy', 'corruption allegations', 'sits', 'city of london', 'ransom', 'lankan', 'federal reserve', 'rachel', 'juan', 'concealing', 'spends', 'paulo', 'new un', 'digging', 'outbreak', 'android', 'breach of trust', 'repercussions', 'sarkozys', 'unimaginable', 'ball', 'columbia', 'paypal freezes funds', 'government data', 'political views', 'drink', 'overseeing', 'phd', 'president francois', 'paving', 'companies in europe', 'ikea', 'afghan', 'identity', 'audit', 'extradited', 'bbc staff', 'indonesia', 'southeastern', 'world leaders', 'command', 'solar firms', 'audio', 'shale gas industry', 'drawing', 'power generation', 'newest', 'kiss', 'less', 'disconnections', 'rooms', 'predicts', 'years', 'paul', 'web', 'generous', 'fired power', 'wed', 'residential', 'sex industry', 'wen', 'realize', 'arrest', 'englands', 'kosovos', 'iranian state', 'villagers', 'innocents', 'increased', 'complicity', 'chancellor', 'archeological', 'website wikileaks', 'increases', 'zimbabwe', 'belgium', 'weapons of mass destruction', 'pakistan court', 'death toll', 'onion', 'bigotry', 'garage', 'become', 'german parliament', 'security services', 'amendment', 'poor', 'indications', 'saudi monarchy', 'new evidence', 'grids', 'footage', 'internet browsing', 'choosing', 'world people', 'online piracy', 'authoritarian', 'ballot', 'recognition', 'industry amp', 'libyans', 'contested', 'literally', 'avoid', 'salaries', 'egyptian revolution', 'demonstrators', 'does', 'keystone', 'state run oil', 'exit polls', 'nouriel', 'deciding', 'blowing', 'routers', 'shortage', 'pressure', 'murdochs', 'swiss banking', 'infiltrating', 'hedge fund', 'loans', 'trials', 'hiding', 'payout', 'viviane', 'puts', 'stuxnet', 'union', 'black sea', 'seeds', 'syrian city', 'vote in national referendum', 'clooney', 'documentary', 'executives', 'burma', 'alliance', 'letters', 'pussy', 'year', 'kerviel', 'aung san', 'roads', 'social networking site', 'mere', 'conference in protest', 'stocks', 'venezuelas', 'housing', 'caviar', 'spots', 'restricts', 'trigger', 'frustration', 'venezuelan', 'edward snowden', 'fiscal', 'atomic weapons', 'juan carlos', 'former iranian', 'fashi', 'xinhua', 'delivery', 'construction', 'bilateral', 'count', 'community centre', 'places', 'official', 'placed', 'convince', 'monument', 'distribution', 'qantas', 'bearing', 'irish', 'nurses', 'recognize', 'contribute', 'leader kim jong', 'slowing', 'consumed', 'websites', 'plundered', 'trade ban', 'inc', 'planting', 'renowned', 'compared', 'oil price', 'sharia', 'deadly', 'banking crisis', 'forests', 'putin warns', 'child sexual abuse', 'bank data deal', 'details', 'price fixing', 'iranian diplomat', 'illusion', 'reckless', 'senior israeli', 'web surfing', 'dead sea scrolls', 'repeat', 'monday', 'presidential term', 'oppression', 'dismantle', 'outlets', 'politician caught', 'chance', 'hugo chavez', 'desmond tutu', 'multinationals', 'repeal', 'mastermind', 'inspiration', 'ghost', 'rule', 'lift', 'pension', 'searched', 'oil sands', 'rural', 'gardens', 'gadhafi', 'suicidal', 'mandatory internet', 'womans', 'magnetic', 'saves', 'russian government', 'cyber warfare', 'controversial', 'oldest', 'integrity', 'relationships', 'votes', 'arabias king abdullah', 'israeli foreign minister', 'election results', 'punjab', 'tony abbott', 'hedge funds', 'radical overhaul', 'edward', 'voted', 'sharia law', 'slowest', 'worth', 'partys', 'government plans', 'kettling', 'gas supply', 'infant mortality', 'unprepared', 'jacob', 'smog', 'tickets', 'intelligence reports', 'prime minister recep tayyip erdogan', 'energy use', 'anti islamic', 'legal ruling', 'dziekanski', 'chinese president', 'monsanto', 'delegate', 'poppy', 'abolishing', 'activist shot', 'undercover', 'diverting', 'blasphemy', 'phones', 'horn', 'preacher', 'country hasnt', 'house of parliament', 'machines', 'colonialism', 'settlement', 'uk considers', 'nuclear program', 'incompatible', 'declassified', 'revolutionize', 'petro', 'reconstruction', 'toll', 'churches', 'call for end', 'officially', 'told', 'crunch', 'david kato', 'simultaneously', 'richest', 'tuition fees', 'protection', 'pursuit', 'intelligence agencies', 'bank secrecy', 'referring', 'obtained', 'full pension', 'murders', 'daughter', 'mexican drug cartels', 'items', 'employees', 'envoy', 'online activists', 'banking sector', 'smoke', 'browsing', 'bunker', 'postponed', 'nuclear power plants', 'fitting', 'human rights', 'secure', 'satellite', 'angrily', 'highly', 'cheats', 'rare metals', 'thursday', 'sign landmark', 'total', 'rest of europe', 'jinping', 'plot', 'sensitive data', 'new wikileaks style', 'palestinian', 'snowdens', 'coins', 'negative', 'insult', 'private information', 'disputed presidential', 'seriously', 'jail for tax', 'abusing', 'award', 'aware', 'sex couples', 'recep', 'government agency', 'yard', 'blocking', 'overrun', 'finance minister', 'word', 'permits', 'work', 'refusing', 'theories', 'era', 'transparency', 'containment', 'criticizing', 'nuclear issue', 'piers', 'legal proceedings', 'world health', 'rios montt', 'cited', 'flung', 'india', 'indicates', 'woman', 'european countries', 'uae', 'cites', 'new delhi', 'recovery', 'farce', 'carriers', 'inhabitants', 'song', 'st petersburg', 'far', 'bbc news french', 'interview', 'ordinary', 'beach', 'intelligence services', 'offshore', 'global currency', 'earlier', 'damaged', 'lab', 'customs', 'big picture', 'lax', 'lay', 'suing', 'cell phone', 'law', 'meaningful', 'job centre', 'cheap medicine', 'prime ministers', 'supermarkets', 'greek', 'nascent', 'green', 'trade war', 'order', 'greed', 'other sites', 'irans nuclear facilities', 'office', 'consent', 'satisfied', 'taser use', 'pre trial', 'nsfw', 'industry uk', 'innovative', 'japan', 'mayor', 'bombing', 'french workers', 'iaea', 'defrauded', 'somewhere', 'highlights', 'recreational', 'precision air', 'space industry', 'production', 'minister kevin rudd', 'citigroup', 'bank settlements', 'split', 'australian pm', 'eventually', 'coffee', 'affected', 'bans', 'safe', 'foreign sites', 'break', 'band', 'cruise missile', 'housing conditions', 'bank', 'bread', 'defected', 'govts', 'vidal', 'nuclear blast', 'classified', 'slavery', 'rocks', 'museum of tolerance', 'last few years', 'reasonable', 'puppet', 'snowden leaks', 'vaccination program', 'carlos', 'music industry', 'lifted', 'schemes', 'logs', 'councils', 'dumping', 'crimes', 'nigerias', 'dutch politician geert', 'nigerian', 'news north korea', 'education ministry', 'hosted', 'crimea', 'currency crisis', 'palau', 'network', 'foreign banks', 'cameras', 'diesel', 'vessels', 'daniel', 'medicine', 'sliding', 'warhead', 'television debate', 'disputed', 'barrier', 'veto', 'standard', 'admits', 'forcibly', 'russia blocks', 'recovering', 'created', 'creates', 'ordering', 'renew', 'oppose', 'canterbury', 'baltic', 'social networking', 'online drug', 'organize', 'kim', 'render', 'contaminated water', 'build nuclear reactor', 'separatist group', 'online video', 'internet use', 'drones', 'implicated', 'tel', 'antarctic', 'electronic', 'impose sanctions', 'rated', 'rejects', 'korea ready', 'approximately', 'google boss eric schmidt', 'compromise', 'phone companies', 'farming', 'dogs', 'damaging', 'sergeant', 'market manipulation', 'fukushima daiichi nuclear plant', 'rejected', 'party wins', 'saudi arabias king', 'wasted', 'iranian nuclear scientist', 'reporters without borders', 'cubic metres', 'toronto', 'internet filter', 'target', 'hike', 'scenes', 'ebay', 'blasphemy law', 'tax in uk', 'greeces debt', 'historical', 'hacking', 'powers', 'interests', 'manned', 'russian president vladimir putin', 'rewrite', 'respecting', 'finance minister brian', 'assange', 'announces plans', 'large majority', 'lula', 'culture select committee', 'contents', 'same time', 'forced', 'hit record', 'laden', 'german president', 'practices', 'luxury', 'forces', 'xi', 'pilgrimage', 'curfew', 'completed', 'circles', 'iceland', 'extending', 'un chief', 'involving', 'germany', 'phase', 'grave', 'christian wulff', 'nano', 'neighborhoods', 'aung', 'civil war', 'sun', 'voting', 'calculates', 'reserve', 'cheap labour', 'international flotilla', 'precarious', 'anniversary', 'enjoyed', 'sharks', 'consciousness', 'saudi king abdullah', 'minister vladimir', 'hrw', 'yen', 'hrs', 'plant iceland', 'pursuing', 'tax evasion', 'adequate', 'executive', 'do', 'great barrier', 'de', 'dc', 'cardinals', 'da', 'stalins', 'tsa', 'nasty', 'dr', 'runs', 'official apology', 'covering', 'bandwidth', 'irregularities', 'president vladimir', 'privacy law', 'time bomb', 'freshwater', 'steal', 'steam', 'secretary', 'regime change', 'french ex', 'presidential election', 'bomb detectors', 'first country', 'tax breaks', 'swine flu', 'horrendous', 'discussions', 'fossil fuels', 'torching', 'techniques', 'state media', 'fire in bangladesh', 'jamaat', 'franois', 'year jail', 'pacific nation', 'away', 'sweden', 'plummeting', 'end nuclear power', 'unable', 'tainted', 'cooperation', 'drawn', 'caves', 'misguided', 'shields', 'accord', 'terms', 'high quality', 'suicide attacks', 'news website', 'wi', 'civil service', 'travellers', 'clues', 'packages', 'abolished', 'electing', 'cop', 'climate', 'cow', 'cox', 'ill', 'gender equality', 'mercosur', 'ils', 'receives', 'exceeds', 'requests', 'com', 'con', 'negotiation', 'tough', 'missile defense system', 'islamists', 'royal', 'seizure', 'asian countries', 'tons', 'tony', 'telecommunications', 'uk governments', 'speak', 'erdoan', 'petty', 'engines', 'condemned', 'buffett', 'sachs', 'drafting', 'german foreign minister', 'russia today', 'bans sale', 'zealand prime minister john', 'dozens', 'hitlers', 'income tax', 'attack on iran', 'families', 'innocent', 'attacked', 'concerning', 'long range', 'chinese factories', 'portugals drug', 'president putin', 'dubai police', 'milk powder', 'ordnance', 'wukan', 'peace prize', 'publicly', 'launches', 'palestinian village', 'air', 'aim', 'aid', 'property', 'overtaking', 'deputy governor', 'launched', 'mistake', 'lavabit', 'uganda', 'west bank separation barrier', 'dumped', 'separatist', 'computer program', 'young people', 'hebrew', 'exile', 'confirmed', 'vanunu', 'perform', 'deepens', 'unity government', 'avoids', 'plates', 'indictment', 'convictions', 'advertising', 'independent', 'raid', 'rompuy', 'new uk', 'saddam', 'disagreement', 'blames', 'hang', 'evil', 'hand', 'liberties', 'norwegian', 'producers', 'blamed', 'western powers', 'court case', 'dhaka', 'passenger jet', 'kept', 'humble', 'president xi', 'client', 'centres', 'network vkontakte', 'class action', 'camps', 'british politicians', 'traditions', 'quoted', 'photo', 'gravity', 'political dissent', 'thanks', 'victim', 'electronically', 'adding', 'unique', 'family', 'photographer', 'pirate partys', 'southeast asia', 'sochi', 'countrys', 'shout', 'belongs', 'board', 'bonanza', 'expelled', 'long run', 'usable', 'caps', 'arab', 'fusion', 'bastards', 'cape', 'retreat', 'national police', 'insurgent', 'gay bill', 'theyre', 'securities', 'gandhi', 'night', 'security', 'soar', 'towards', 'nuclear deal', 'worldwide', 'funds of mailpile secure mailing', 'lashes', 'sends', 'financial data', 'income inequality', 'eyeing', 'born', 'british newspaper', 'bore', 'packet inspection', 'stuxnet virus', 'nobel peace prize', 'denies', 'arrigoni', 'conservationists', 'secret talks', 'comments', 'ossetia', 'mulls', 'filming', 'asking', 'honoured', 'vast majority', 'denied', 'beating', 'education system', 'rivers waters', 'deflation', 'marketing', 'pose', 'graduates', 'plc', 'pla', 'peer', 'khan', 'post', 'renewable energies', 'properties', 'white race', 'rallying', 'natos', 'newspapers', 'months', 'accepts', 'bank separation barrier', 'banker', 'horizon', 'jacques', 'internet police', 'law requiring', 'secret documents', 'undergo', 'pays', 'prisoners', 'bound', 'balances', 'genital mutilation', 'global total', 'wal', 'segment', 'legislation', 'sovereign', 'fight', 'clinical', 'way', 'conservative clerics', 'south korea', 'war', 'president declares', 'lowest', 'russia today anchor', 'illegal trade', 'becoming', 'peninsula', 'taken', 'elderly', 'astonished', 'true', 'ukraines parliament', 'responding', 'isis', 'veiled', 'unthinkable', 'maximum', 'money laundering', 'vatican', 'unusually', 'mails', 'promises', 'stranded', 'new zealand parliament', 'religiously', 'kim dotcom', 'assassinations', 'expertise', 'promised', 'archive', 'physical', 'kenyas', 'dying', 'stake', 'nsa hacking', 'topped', 'reality', 'interested', 'jong', 'holding', 'test', 'heathrow airport', 'kenyan', 'euro zone', 'absurd', 'nuclear plant tokyo electric', 'brothers', 'undersea', 'update', 'israeli forces', 'vladimir putin', 'scores', 'strips', 'criminal networks', 'radioactivity', 'regime', 'mi5', 'flag', 'together', 'loyal', 'swathes', 'few years', 'pakistan court rules', 'school teacher', 'uprisings', 'inexorably', 'stick', 'document suggests', 'concept', 'diplomacy', 'estemirova', 'fabricated', 'general strike', 'didnt try', 'battle', 'data leak', 'superpower', 'tony abbotts', 'devoted', 'mounted', 'conduct series of secret germ', 'zone', 'graph', 'released', 'compensate', 'permanently', 'world news guardian co', 'terror', 'protestors', 'division', 'protective', 'american air base', 'russian president vladimir', 'seemingly', 'liability', 'anonymous', 'entries', 'source of electricity', 'airing', 'blast', 'russian orthodox church', 'domain names', 'campaign finance', 'perceived', 'respiratory', 'presented', 'turns', 'gun', 'presenter', 'guy', 'upper', 'brave', 'legalized', 'temples', 'gaddafis regime', 'discover', 'market falls', 'cost', 'leader muammar', 'penetrated', 'rapist', 'unravels', 'curse', 'appear', 'police officers', 'un general assembly', 'havoc', 'rome', 'shared', 'appeal', 'copyright industry', 'supporting', 'activist freed', 'explosion', 'national broadband network', 'nuclear report', 'muslim', 'appears', 'change', 'sending', 'condoms', 'flames', 'gaza economy', 'salafis', 'trial', 'nuclear disaster', 'domains', 'montreal', 'serious threat', 'penalizes', 'leaked documents', 'regardless', 'extra', 'lending', 'marked', 'uphill', 'italians', 'controls', 'fbi', 'market', 'terminal', 'non existent', 'prove', 'super', 'prompting', 'resigns', 'angela', 'territories', 'live', 'bombings', 'eu russia', 'shaken', 'snowden reveal', 'commissioner', 'club', 'iran calls', 'commissioned', 'british prime minister', 'british taxpayers', 'organizations', 'secret network', 'graphic', 'slogan', 'ibm', 'pushed', 'car', 'african state', 'cap', 'post online', 'cat', 'purge', 'hardest', 'incidents', 'american drone', 'dmitry', 'redacting', 'pension funds', 'heart', 'dedicated', 'hears', 'recalled', 'december', 'chip', 'nobels', 'heard', 'posing', 'clothing', 'occur', 'bankrupt', 'operator tepco', 'british parliament', 'discussion', 'means', 'international community', 'magazine', 'freezes', 'write', 'dominance', 'economy', 'product', 'good news', 'escalate', 'use', 'southern', 'authoritarian governments', 'produce', 'islands', 'drastic', 'heroes', 'justice commissioner', 'nomination', 'lifting', 'new zealand prime', 'financial transaction tax', 'remember', 'grandson', 'whenever', 'accelerated', 'assange supporters', 'anti whaling', 'species', 'worsens', 'embassies', 'serving', 'chief warns', 'indeed', 'court documents', 'police chief', 'brain', 'china on thursday', 'tablets', 'statistical', 'tranche', 'cold', 'still', 'birds', 'cola', 'rooftop', 'national interest', 'forms', 'broadcasts', 'direct challenge', 'bank of china', 'norway', 'correspondence', 'non', 'halt', 'introduce', 'taliban', 'half', 'now', 'provision', 'hall', 'enacted', 'wont', 'unauthorized', 'servant', 'january', 'drop', 'chavez asks', 'african countries', 'stockholm', 'plant reactor', 'entirely', 'new energy', 'el', 'domain', 'female genital mutilation', 'fired', 'challenged', 'cairo', 'yeah', 'bradley', 'fires', 'ex', 'guatemalan dictator', 'malema', 'eu', 'happen', 'avoided', 'pills', 'national trade', 'tried', 'george bush', 'shown', 'opened', 'space', 'year old son', 'sunde', 'looking', 'rational', 'ruinous', 'receiving', 'shows', 'rebuilding', 'cars', 'suleiman', 'afghanistan war', 'chvez', 'extreme weather', 'unwanted', 'rebel', 'obligation', 'marine', 'inevitable', 'card', 'care', 'cycles', 'low birth', 'transition', 'france warns', 'british', 'honest', 'outcry', 'rich chinese', 'tuna trade', 'blind', 'romania', 'flying', 'striking', 'humanitarian crisis', 'directly', 'fi', 'impossible', 'message', 'drove', 'tomorrow', 'armenian genocide', 'size', 'checked', 'silent', 'caught', 'compulsory', 'households', 'tragic', 'desmond', 'friend', 'physicists', 'op ed', 'child abuse', 'mostly', 'brains', 'taxation', 'oil imports from iran', 'eliminates', 'modern nation', 'un human rights', 'inmates', 'nsa revelations', 'tehran', 'eliminated', 'titans', 'professionals', 'television', 'crack', 'recruit', 'hsbc', 'blind eye', 'apples', 'accessed', 'whole country', 'controversial web', 'shady', 'browser', 'french citizenship', 'investors', 'remained', 'computer networks', 'correction', 'premier', 'decapitated', 'supervision', 'anger', 'recover', 'anti gay', 'stoners', 'offering', 'veteran', 'offer', 'equipment', 'online', 'government debt', 'deniers', 'begin', 'oppressive', 'price', 'ex police', 'video footage', 'david cameron', 'america', 'chinese hacking', 'obama announces', 'forever', 'former prime', 'attempting', 'implications', 'slaves', 'clearing', 'professional', 'russian court', 'chinese internet', 'pacific ocean', 'criminalizing', 'german', 'roman catholic church', 'fifty', 'discovered', 'support child', 'dutch government', 'virus disease', 'member state', 'copyrighted', 'become worlds', 'fifth', 'ground', 'trading scandal', 'upgrade', 'adolf', 'space station', 'analyst', 'military junta', 'only', 'enriched', 'indian drug', 'sierra', 'watching', 'recep tayyip', 'cayman islands', 'bank loan', 'cannon', 'soon', 'baghdad', 'cannot', 'ukraines', 'revulsion', 'latin america', 'north korea', 'report on wealth', 'police forces', 'husband', 'bulgaria', 'concert', 'burst', 'severely', 'staged', 'prime minister yousuf raza gilani', 'famine', 'elected', 'actively', 'asleep', 'german president christian', 'europeans', 'israeli pm', 'israeli', 'germany warns', 'tackling', 'justifies', 'skyscraper', 'sanctions against iran', 'israels', 'import', 'justified', 'developer', 'anti corruption crusader', 'austerity measures', 'east china', 'notice', 'nuclear physicist', 'strike action', 'british government', 'albino body parts', 'blame', 'nova scotia', 'armenian', 'article', 'bolivias', 'economy act', 'nile', 'temper', 'enabling', 'warns russia', 'bahraini', 'welfare system', 'comet', 'international airport', 'eu plans', 'comes', 'nearby', 'tonne', 'solar panels', 'industry growing', 'exploit', 'learning', 'rhino horns', 'perpetrators', 'solar panel', 'sticks', 'tahrir square', 'north korea vows', 'internet users', 'legal obligation', 'territorial', 'malala', 'dictator', 'systems', 'avian', 'shortages', 'pesticide', 'irish sea', 'sea scrolls', 'observers', 'brazil russia india', 'extra money', 'mistake russian', 'suspected', 'nuclear bomb', 'poor people', 'developing', 'wealthiest', 'school system', 'data deal', 'editorial', 'freely', 'devastated', 'landslide', 'political activists', 'prime minister john', 'israeli settlers', 'soil', 'metric', 'commander', 'sudanese', 'embrace', 'kenya', 'british terror', 'ship', 'worry', 'develop', 'minister erdogan', 'media', 'ceo', 'followers', 'angered', 'document', 'investigated', 'culture select', 'centuries', 'pm david', 'arctic', 'health care system', 'fruit', 'investigates', 'racketeering', 'funds of mailpile secure', 'swallow', 'mentally', 'complained', 'traps', 'irans economy', 'new austerity', 'charges', 'charger', 'constitutional', 'severe', 'moodys', 'frontpage', 'charged', 'taxi', 'livestock', 'japanese town', 'second city', 'valuable', 'jurisdiction law', 'war on drugs', 'sweeping', 'civilized', 'secret service', 'chinese politician', 'speed', 'euro crisis', 'death', 'euros', 'thinking', 'smugglers', 'german tax', 'subversion', 'treatment', 'roman catholic', 'university system', 'role', 'struck', 'aid money', 'momentum', 'honduran coup', 'real', 'laundering', 'spectacular', 'read', 'cayman', 'early', 'bank chief', 'amp', 'execution', 'stuns', 'ruled', 'tax rules', 'fortune', 'pounds', 'british businessman', 'collective', 'endorses', 'uk government', 'compensation fund', 'annually', 'benefit', 'australian pm tony', 'output', 'military intelligence', 'endorsed', 'plant tokyo electric power co', 'twelve', 'cisco', 'state news', 'opec oil cartel', 'exposed', 'public relations', 'hundreds of billions', 'hacks', 'exposes', 'privatization', 'new budget', 'japan nuclear reactor', 'viral', 'slaughtering', 'trade with india', 'recorded', 'file sharers', 'conservative', 'deficit', 'defense budget', 'sex education', 'assembly', 'racism', 'business', 'sixth', 'equivalent', 'strained', 'unease', 'tuition', 'credits', 'imports from iran', 'innocence', 'romanians', 'francis', 'throw', 'brighton', 'comparison', 'job cuts', 'central', 'come clean', 'sri', 'ideology', 'escalating', 'strike against irans', 'greatly', 'testimony', 'invested', 'berners', 'last april', 'china jails', 'barrels', 'protests', 'inclusion', 'arms deal', 'supreme court', 'involvement', 'heated', 'operator', 'watchdog', 'nation state', 'shrinking', 'intervention', 'log', 'prepare', 'area', 'assumed', 'paywall', 'stark', 'start', 'stealth', 'cats', 'low', 'lot', 'british prime minister david', 'supreme leader', 'global elite', 'shower', 'australian prime minister julia gillard', 'ubs credit', 'smuggling', 'militias', 'brotherhood candidate', 'spy software', 'trying', 'outskirts', 'water cannon', 'hire', 'fraud', 'dominican', 'circulation', 'stanford', 'default', 'mr assange', 'trade organization', 'hunt whales', 'builders', 'beliefs', 'price of oil', 'declaration of war', 'scanner', 'internet access', 'arabs', 'describe', 'moved', 'sales', 'mein kampf', 'navalny', 'parliament today', 'saleh', 'birth control', 'moves', 'hospitals', 'cabinets', 'credibility', 'storage', 'anarchy', 'intercontinental', 'valid', 'forcing', 'second country', 'japanese people', 'shenzhen', 'gaining', 'polar', 'supreme council', 'ineligible', 'foreign ministry', 'torched', 'peak', 'coverage', 'queensland', 'egypt liberals', 'pool', 'building', 'controlled', 'oil from iran', 'repay', 'stockpile', 'restored', 'overseas', 'last month', 'australian troops', 'skeleton', 'democracy movement', 'post earthquake', 'month', 'unrest', 'dotcom', 'montt', 'upholds', 'cameron', 'revoke', 'religious', 'russias parliament', 'president barack obama', 'indian prime minister', 'corps', 'pledged', 'tunisians', 'clerics', 'safety', 'volunteer', 'pledges', 'wmd', 'protest crackdown', 'justice commissioner viviane', 'confidential', 'very', 'horror', 'eldest', 'rogue', 'mps', 'decide', 'austerity', 'environment secretary', 'hermit kingdom', 'parliament china', 'mild', 'random', 'study', 'blackout', 'ballistic missile', 'cookies', 'streets', 'democratic process', 'nude self', 'heralds', 'new snowden', 'european politicians', 'military coup', 'conscience', 'apologizes', 'independent state', 'darkness', 'consumers', 'investing', 'french president francois hollande', 'nonproliferation', 'witnesses', 'learned', 'non profit', 'multinational', 'turmoil', 'iran', 'recruits', 'loose', 'modify', 'answers', 'promoted', 'tracks', 'herman van rompuy', 'war ii', 'iraq', 'post from canada', 'diplomatic row', 'peruvian amazon', 'local governments', 'ahead', 'inspired', 'losses', 'popes', 'soldier', 'amount', 'base', 'arent', 'promotion', 'customer data', 'irish leader', 'poroshenko', 'requiring', 'mousavi', 'glitch', 'aimed', 'trained', 'toys', 'chunks', 'concerted', 'american diplomat', 'conventional', 'flaws', 'takes', 'dmitry medvedev', 'contains', 'help pay', 'oecd', 'sudans', 'mysterious', 'cannibalism', 'erode', 'jewish settlers', 'legal challenge', 'excuse', 'broke', 'nato supply', 'factories', 'producing', 'suffered', 'respected', 'digital economy', 'veterans', 'world editor', 'coalition', 'digital economy act', 'offended', 'fronted', 'yemen', 'hong kong', 'jewish state', 'history', 'fundamentalist', 'pushes', 'paypal freezes funds of mailpile', 'boycott', 'claimed', 'china aims', 'troops in afghanistan', 'cows', 'exclude', 'lacks', 'radiation leak', 'arabic', 'firmly', 'riot police', 'bashar al assad', 'greenpeace', 'daiichi', 'ratified', 'pakistani activist malala yousafzai', 'reject', 'surpasses', 'iran hangs israel', 'rapists', 'fr', 'ft', 'threat', 'rudd', 'muslim nations', 'sceptic', 'spiegel interview', 'tries', 'denial', 'israeli flag', 'invasion', 'fm', 'criticize', 'preferential', 'retirement age', 'documentation', 'diplomat over dubai', 'overnight', 'paris court', 'deterioration', 'banks', 'dream', 'russia threatens', 'nuclear centrifuges', 'british citizens', 'help', 'bashar al', 'rhinos', 'urine', 'charities', 'rabbinic', 'held', 'european commission', 'committee', 'committed', 'hell', 'mcdonalds', 'environmentally', 'romance', 'discloses', 'taxpayer', 'fined', 'botched', 'vaticans', 'actually', 'global food', 'absence', 'disclosed', 'founders', 'tumbling', 'fines', 'evening', 'motivated', 'berlusconis government', 'system in europe', 'food', 'years of oil', 'brink of collapse', 'starbucks', 'foot', 'yr', 'terrorism', 'uk economy', 'face veil', 'cant afford', 'imprisoned', 'sundays', 'fully', 'intervene', 'capability', 'san suu kyi', 'stopped', 'die', 'heavy', 'african migrants', 'neil', 'open chocolate factory', 'blank', 'democrat', 'water reserves', 'sparks controversy', 'government official', 'german chancellor angela merkel', 'certain countries', 'quantum', 'inspections', 'event', 'audio recording', 'dominates', 'state secrets', 'robert', 'temporary', 'testify', 'publish', 'part of government campaign', 'dominated', 'medical association', 'iranian president mahmoud ahmadinejad', 'issue', 'global financial markets', 'ass', 'dictatorial', 'security service fsb', 'real estate', 'pub', 'hacktivists', 'houses', 'reason', 'heroin', 'dire', 'ask', 'censoring', 'speculation', 'temperature', 'revolutionary', 'launch', 'israeli economy', 'terrible', 'americas', 'cheering', 'american', 'sovereign wealth fund', 'syria', 'corrupting', 'financed', 'glenn greenwald', 'watchdogs', 'arsenal', 'hebron', 'sisters', 'data transfer', 'maple', 'arbitration', 'golden dawn', 'horse', 'guaranteeing', 'international condemnation', 'station', 'expand', 'nigeria', 'hundred', 'face charges', 'selling', 'storm', 'trapped', 'stuxnet worm', 'foreign affairs', 'modern economy', 'jordan', 'condemns', 'authors', 'inventing', 'translation', 'raping', 'financing', 'assaulted', 'bride', 'utopia', 'greg', 'store', 'ousted', 'sentenced', 'charlotte', 'contraception', 'wasnt', 'urgently', 'alongside', 'ebadi', 'juice', 'substantial', 'sentences', 'concentration', 'organs', 'vulnerable', 'option', 'lie', 'retracted', 'evasion', 'lin', 'cave', 'scotland', 'officers', 'taxpayers money', 'liu', 'human rights activist', 'labour', 'useless', 'vladimir putins', 'bottled water', 'liz', 'experienced', 'hires', 'ex spy', 'approves', 'sets', 'russian politics', 'kan', 'country struggles', 'hired', 'sponsored', 'eaten', 'chinese technology', 'approved', 'salary', 'loopholes', 'mobile', 'clear', 'popularity', 'unreasonable', 'treasures', 'clean', 'intercepting', 'usual', 'physics', 'signaling', 'car bomb', 'trader jerome kerviel', 'stunned', 'mining industry', 'countrys population', 'press release', 'booze', 'registers', 'stores', 'kill people', 'restructure', 'copyright', 'justice', 'paranoia', 'iranian officials', 'flights', 'pretty', 'hardened', 'circle', 'darwin', 'republican group', 'policing', 'energy sources', 'meanwhile', 'grocery', 'trees', 'famous', 'feels', 'grew', 'pretending', 'alexander', 'catches', 'doesnt want', 'sacrificed', 'celebrates', 'retaliation', 'thwarts', 'stored', 'withdrawal', 'switzerland', 'poisoned', 'national health service', 'scanning', 'russian prime', 'patriotism', 'throwing', 'civil servant', 'culture', 'democratic state', 'close', 'mailpile secure mailing', 'locals', 'dwarf', 'regularly', 'revolution', 'pictures', 'wow', 'new internet', 'pisa', 'catholic church child', 'won', 'agha', 'probably', 'conditions', 'national unity', 'missing', 'liberias', 'spray', 'ranked', 'new tax', 'invisible', 'original owner', 'hardline', 'chinese military unit', 'female genital', 'league', 'food price', 'secrets', 'minorities', 'sensitive', 'canadians', 'experimental', 'words', 'czech republic', 'hackers', 'headed', 'battery', 'oxford university', 'minister silvio', 'cancer drug price', 'likes', 'linux', 'vessel', 'government websites', 'spanish newspapers', 'described', 'government spends', 'stamp', 'wage war', 'child policy', 'describes', 'damn', 'collected', 'threaten', 'territory', 'empty', 'imam', 'dialogue', 'lived', 'partly', 'passengers', 'exempt', 'meltdown china', 'deter', 'french parliament', 'determination', 'argentinian', 'bidding', 'pact', 'pilgrim', 'socialist', 'canadian', 'governor', 'pace', 'price on carbon emissions', 'smart', 'shift', 'fleet', 'loot', 'guide', 'flees', 'mp fires', 'costly', 'voters', 'tax dollars', 'hoax', 'rulers', 'skype', 'ready', 'major operations', 'soft drinks', 'expulsion', 'national debate', 'bell pottinger', 'anymore', 'grant', 'government', 'grand', 'european citizens', 'bbc news', 'conflict', 'big brother', 'used', 'lawyers', 'afghan president hamid', 'optic', 'ratings', 'bonus', 'blair', 'zealand prime minister john key', 'mahmoud ahmadinejad', 'uses', 'user', 'brussels', 'british prime minister david cameron', 'currency reserves', 'kurdish', 'uk citizens', 'database', 'poland', 'zealand parliament', 'dubai killing', 'gaddafi', 'mobs', 'gsm', 'speculative', 'grossly', 'yankees', 'coup', 'top level', 'settlements', 'iranian election', 'sub saharan africa', 'taiwan', 'praying', 'retirement', 'gay men', 'wounding', 'guaranteed', 'barack', 'questioned', 'ballots', 'guarantees', 'remaining', 'total assets', 'interactive map', 'march', 'showing', 'monsantos', 'displaced', 'albino', 'finding', 'game', 'european law', 'populous', 'defied', 'outright', 'avoiders', 'clean energy', 'signal', 'toyota', 'health officials', 'popular', 'online privacy', 'caspian', 'parade', 'soma', 'radicalism', 'fathers', 'creation', 'metres', 'urgent', 'trends', 'economic', 'turn blind', 'erupts', 'scientific discovery', 'criminalising', 'delivered', 'qatar', 'describing', 'former civil servant', 'political prisoners', 'exceeding', 'civilization', 'slash', 'transplant', 'minimal', 'public domain', 'brazilian president', 'eating', 'processing', 'lakes', 'greenhouse gas', 'stem', 'step', 'icelandic parliament', 'financial sector', 'haaretz', 'taboo', 'abroad', 'troops', 'faith', 'wouldnt', 'prime minister vladimir putin', 'lieberman', 'market leader', 'idf', 'messaging', 'becquerels', 'block', 'disclosure', 'environment minister', 'scotland yards', 'predictions', 'wednesday morning', 'conscientious', 'national flag', 'rogue trader', 'ahmadinejad', 'pentagon', 'militarily', 'statistics', 'bangladesh', 'renewal', 'indian politics', 'accountability', 'visas', 'young woman', 'heritage', 'whalers', 'leader calls', 'manufacture', 'russias', 'collapsed', 'egypts ruling', 'properly', 'alive', 'reef', 'sick', 'russian', 'collapses', 'info', 'restarted', 'islamist party', 'holocaust memorial', 'malis', 'other terrorist', 'desalination', 'block eu', 'similar', 'ordered', 'adults', 'spiritual', 'metals', 'reopening', 'franois hollande', 'semite', 'rupert', 'kidney', 'cotton', 'liberalize', 'amounts', 'fears', 'armenians', 'nam', 'financial collapse', 'politicians', 'electrical', 'genome', 'hundreds of thousands', 'department', 'responded', 'russian economy', 'draw', 'australian prime minister', 'energy amp', 'reportedly', 'resign', 'frances', 'regulations', 'militants', 'evan', 'iranian president mahmoud', 'approving', 'social networking sites', 'structure', 'ex police officer', 'urged', 'practically', 'national dna', 'required', 'humiliated', 'orbit', 'novartis', 'depth', 'bribe', 'everywhere', 'infringing', 'requires', 'new generation', 'china blocks', 'natural gas', 'series', 'greek politician', 'nuns', 'olive', 'farms', 'infographic', 'kato', 'go', 'gm', 'japan earthquake', 'parliament elections', 'mosque', 'nuclear strikes', 'brazilian president dilma', 'friendly', 'relocated', 'miners', 'g8', 'facebook', 'nuclear fuel', 'telling', 'major step', 'positions', 'unusual', 'michael', 'wholesale ethnic cleansing', 'west african nation', 'verdict', 'inspection', 'enforce', 'compensated', 'punishing', 'child pornography', 'anti aircraft missiles', 'picked', 'pornography', 'cartel', 'twitters', 'anonymity network', 'plays', 'colonel', 'corruption scandal', 'cell', 'rotten', 'experiment', 'poles', 'pristine', 'shutting', 'stance', 'interactive infographic', 'commercial', 'following', 'focused', 'web monitoring plan', 'kidnapped', 'convert', 'northern', 'kissinger', 'withdrawing', 'drug decriminalization', 'leader kim jong il', 'products', 'gene', 'chinese official', 'patents', 'examining', 'addresses', 'lords', 'president bush', 'win', 'manage', 'uk imf', 'peace laureate', 'lot of money', 'austria', 'government agencies', 'singing', 'post legalnews', 'manipulate', 'strapped', 'saudi arabia', 'snoop', 'remains', 'urges', 'government campaign', 'african leaders', 'camera', 'estate market', 'subsidized', 'vehicle', 'expressway', 'malawi', 'belgian', 'bureaucracy', 'popped', 'formally', 'biblical', 'started', 'becomes', 'old girl', 'benchmark', 'missile', 'israelis', 'overzealous', 'prime minister kevin rudd', 'appointed', 'national security', 'announcing', 'sanctions', 'somali', 'ride', 'deal with switzerland', 'recession', 'tobacco industry', 'crossed', 'servants', 'meet', 'drops', 'control', 'beijing', 'unveiled', 'links', 'escapes', 'strongman', 'escaped', 'energy industry', 'sought', 'hit', 'allow officials', 'voice', 'enough money', 'international inspectors', 'co operation', 'jails', 'iranian nuclear scientists', 'africans', 'restart', 'located', 'monitor internet', 'koreas parliament', 'water desalination', 'guatemalan', 'olive trees', 'immoral', 'jews in israel', 'farm', 'second time', 'chiefs', 'spelling', 'global hacking', 'yrs', 'xenophobia', 'advocates', 'agenda', 'healthcare', 'software', 'fastest', 'world needs', 'astronomical', 'sperm', 'offences', 'cost of living', 'including', 'cruise', 'atomic power', 'global network', 'helicopters', 'exclusion', 'freezes funds of mailpile secure', 'backers', 'israeli warplanes', 'pena nieto', 'pensioners', 'koreans', 'unreported', 'police find', 'nokia', 'french president francois', 'hands', 'front', 'risk of sovereign', 'gunmen', 'world wide web', 'masters', 'service fsb', 'chronic', 'malala yousafzai', 'university', 'magnitude', 'britians', 'mode', 'pools', 'nuclear technology', 'media outlets', 'nationals', 'arms trade', 'commonwealth', 'mobile phone', 'chunk', 'washington post', 'serbia', 'investigative', 'sands', 'measure', 'margins', 'controversial data', 'international law', 'special', 'secretly', 'entertainment', 'activism', 'unlawful', 'nuclear strike', 'islamist', 'obama administration', 'korea calls', 'activist', 'trade surplus', 'libor', 'thriving', 'soviet union', 'cause', 'gary mckinnon', 'student protests', 'chinas central bank', 'free speech', 'thorium', 'attending', 'completely', 'conservatives', 'leader julius malema', 'kiribati', 'princess', 'farmland', 'hostile', 'un security', 'wind turbines', 'route', 'regime pakistani', 'keep', 'counterpart', 'activist vittorio arrigoni', 'eternal life', 'lancet', 'berlusconi', 'designed', 'prospective', 'street vendors', 'co uk', 'blogger', 'powerful', 'improving', 'congo', 'minimum wage', 'wikileaks', 'rebekah brooks', 'precisely', 'quality', 'management', 'declaration of independence', 'privacy', 'bears', 'headscarf', 'anti aircraft', 'adopted', 'attack', 'new york', 'intelligence', 'risk jail', 'saudi princes', 'final', 'viktor', 'punish', 'exactly', 'apologise', 'lists', 'rights activist', 'chemicals', 'manipulation', 'overwhelming', 'herself', 'president refuses', 'photograph', 'lamborghini', 'ben', 'melted nuclear fuel', 'manning', 'obama plans', 'member of parliament', 'power company', 'few media', 'bed', 'electric power co', 'international aid', 'providing', 'bet', 'enforced', 'election commission', 'julian', 'stephen harper', 'opinion poll', 'need', 'french presidential', 'interrogating', 'border', 'flight attendants', 'fluent', 'microphone', 'libyan leader muammar', 'pursued', 'able', 'rare earth metals', 'krugman', 'welsh town', 'instance', 'relatives', 'iranian official', 'skeptics', 'copyright lobby', 'truck', 'detector', 'pursuit of austerity', 'fuels', 'deploy', 'unleash', 'nuclear non proliferation', 'intentions', 'connected', 'middle east', 'violent clashes', 'liberal democratic party', 'threats', 'awe', 'expired', 'cellphone', 'upper house', 'consequences', 'american companies', 'astonishing', 'proceedings', 'pussy riot', 'businessman', 'cairos tahrir square', 'full islamic face', 'affair', 'emerging', 'new study', 'radioactive water', 'emptive', 'violation', 'encrypted', 'circulates', 'indoor', 'social network', 'halting', 'soldiers', 'anti semitism', 'shoes', 'polands', 'envy', 'libyan leader', 'based', 'earned', 'nuclear site', 'winner', 'credited', 'unions', 'arabias', 'mistral', 'bases', 'rabbi', 'fuel', 'employed', 'french professor', 'state security', 'achieve', 'boris', 'commissioner viviane reding', 'slows', 'pyramids of giza', 'purchasing', 'crumbling', 'porn sites', 'overall', 'maritime', 'joint', 'legitimate', 'fallout', 'werent', 'buyer', 'aung san suu kyi', 'kong', 'procedures', 'gray', 'evolution', 'evident', 'tobacco', 'mohammed', 'evaders', 'watershed', 'contain', 'proponents', 'internet freedom', 'grab', 'threat of sanctions', 'spotted', 'german president christian wulff', 'accuses', 'prayers', 'shake', 'humans', 'oil giant', 'immigrant', 'officials', 'powder', 'desperate', 'haiyan', 'struck secret deal', 'harvested', 'palestinian authority', 'nightmare', 'new users', 'israeli court', 'ambassador accuses', 'elbaradei', 'tens', 'al assad', 'sabotage', 'outsiders', 'ken', 'sole', 'body scanners', 'nuclear submarine hms', 'report warns', 'importance', 'indiscriminate', 'key', 'police', 'precious', 'international support', 'problem', 'virtual currency', 'billions of dollars', 'tusks', 'hits', 'nationwide strike', 'worldwide snowden', 'limits', 'territory dispute', 'career', 'trove', 'strains', 'admit', 'readying', 'japanese government', 'uruguays', 'new constitution', 'communist party', 'rebekah', 'diplomats', 'opposition', 'fukushimas', 'latin americas', 'massive scale', 'foxconn factory in china', 'virus attacks', 'father of computer science', 'quit', 'other websites', 'addition', 'discrimination', 'covertly', 'cent', 'quiz', 'ukrainian president', 'liberals', 'slowly', 'kingpin', 'apartheid regime', 'sars', 'foxconns', 'diversity', 'releasing', 'netanyahu', 'tweets', 'shortfall', 'abortions', 'kicks', 'smoking', 'cloud storage', 'uk prime minister', 'novel', 'pension fund', 'intimidate', 'pottinger', 'harder', 'salman', 'whistleblowers', 'fukushima daiichi', 'owns', 'evacuees', 'open letter', 'resident', 'surface', 'national health', 'wreck', 'drug testing', 'capture', 'shooting', 'clinical trials', 'chinese officials', 'generic', 'phone hacking', 'balloon', 'views', 'tripoli', 'proceeds', 'parts', 'speaker', 'northwest', 'underground', 'party', 'fanatics', 'andy coulson', 'forgotten', 'first place', 'effect', 'computer hacker gary', 'long campaign', 'hms astute', 'indigenous', 'single', 'destruction', 'poultry', 'mordechai', 'transaction', 'reflection', 'well', 'rife', 'drone', 'corporation', 'own people', 'restore', 'spring style', 'prison system', 'increasingly', 'avoidance scheme', 'ratings agencies', 'sources', 'mistakes', 'shale gas', 'spells', 'chinese village', 'other way', 'tax rate', 'deposits', 'killed', 'nato', 'opposition leader', 'free wi', 'market value', 'footballer', 'kick', 'fate', 'disappearance', 'crushed', 'historic', 'burden', 'immediately', 'prominent', 'loss', 'necessary', 'lost', 'large majority of germans', 'exploiting', 'sized', 'payments', 'lose', 'toxic water', 'refugees', 'page', 'twitter', 'library', 'homs', 'hush', 'uk proposes', 'home', 'peter', 'korea threatens', 'tax officials', 'wins compensation', 'pinpoint', 'demonstrates', 'prime minister david', 'cradle', 'lives of millions', 'deficit cuts', 'pay damages', 'secret war', 'pr', 'medieval', 'reaching', 'journal', 'years in prison', 'monetary', 'expansion', 'scots', 'prohibited', 'money laundering amp', 'countrys electricity', 'refuge', 'lulzsec', 'former guatemalan', 'freedom', 'sochi olympics', 'recognized', 'luxury cars', 'peoples liberation', 'glenn', 'previously', 'washington', 'barclays bank', 'wake of japans', 'artists', 'state news agency', 'couldnt', 'whos', 'pointless', 'utility', 'world cup', 'accused', 'additional', 'veil', 'museum', 'wont work', 'noticed', 'face jail', 'african country', 'euro area', 'inner', 'democratic control', 'exposure', 'searches', 'cricket', 'revised', 'north', 'al qaida', 'hazardous', 'hq', 'evacuate', 'hu', 'president vladimir putin', 'legal hemp industry', 'hi', 'goals', 'courts', 'democratic party', 'technician', 'store information', 'highest', 'eat', 'speed rail', 'military exercises', 'cells', 'hosting', 'signed', 'internet companies', 'cruel', 'web site', 'limit', 'pumped', 'journalists lawyers', 'mugabe', 'display', 'urging', 'anger online', 'universal', 'generating', 'twist', 'beats', 'education', 'eric', 'ingredients', 'ruble', 'offensive', 'paratroopers', 'nhs', 'fledgling', 'iran admits', 'arab states', 'legal hemp industry growing', 'star', 'living', 'vega', 'stay', 'else', 'friends', 'new sanctions', 'using', 'samsung', 'atheist', 'blogs', 'persistent', 'portion', 'national team', 'irish government', 'lives', 'tanking', 'frankfurt', 'parliament members', 'compromised', 'aided', 'foreign currency', 'todays', 'pardon', 'asias', 'local economy', 'sichuan', 'nottingham', 'protest', 'royal dutch', 'asian', 'aides', 'leader putin', 'captain', 'associated press', 'aug', 'pursuit of austerity measures', 'pensions', 'snowden revelations', 'bays', 'new housing', 'swap', 'teaching', 'sorry', 'rescue', 'israeli government', 'void', 'northern ireland', 'railways', 'avian flu', 'stolen', 'govern', 'affect', 'news china', 'golf resort', 'vast', 'look', 'governor salman taseer', 'percent income tax', 'crops', 'companies', 'commons', 'brimming', 'wulff', 'luxury yacht', 'enhance', 'heading', 'clothes', 'force', 'berlins', 'warns', 'japanese', 'basic income', 'likely', 'implemented', 'even', 'neo', 'military campaign', 'prisons', 'saved', 'panama', 'peace process', 'asia', 'spokesman', 'lights', 'net', 'ever', 'metadata', 'deemed', 'house arrest', 'statehood', 'men', 'drew', 'met', 'possibility', 'active', 'russian president', 'violate', 'dry', 'david camerons press', 'high level', 'economics', 'police arrest', 'oil rig', 'credit', 'drm', 'omar', 'permit', 'complicated', 'theres', 'same sex', 'astute', 'eyebrows', 'campaign', 'oil wealth', 'schooling', 'county', 'moral', 'broadcasters', 'counts', 'british pm david cameron', 'landscape', 'criminals', 'eurozone unemployment hits', 'russian relations', 'army', 'spaniards', 'watering', 'diplomatic solution', 'arms', 'leaks', 'call', 'calm', 'recommend', 'abbotts', 'survive', 'type', 'tell', 'snowden', 'file sharing', 'posting', 'wary', 'expose', 'wars', 'warn', 'disruption', 'berlin', 'warm', 'adult', 'drug consumption', 'flotilla', 'ward', 'nuclear reactors', 'phone calls', 'fukushima nuclear reactor', 'room', 'rights', 'gasoline', 'roof', 'typhoon haiyan', 'movies', 'adolf hitlers', 'italy japan', 'root', 'washingtons', 'phone hacking james', 'face un', 'give', 'civilian casualties', 'punk', 'pro nazi', 'former commander', 'experimental lakes', 'democratic states', 'foods', 'seoul', 'savers', 'computer glitch', 'chinese space station', 'war crimes in gaza', 'aging', 'polio', 'data law', 'soros', 'ddos attacks', 'kabul', 'globalization', 'answer', 'human beings', 'power plant', 'gordon', 'loggers', 'rise', 'minority', 'country thats', 'lithuanian', 'loyalty', 'national army', 'internet monitoring', 'defense secretary', 'lithuanias', 'router', 'president', 'lesbian', 'purchase', 'attempt', 'third', 'loyalists', 'capitalism', 'defaced', 'maintain', 'capitalist', 'operate', 'athletes', 'family members', 'fifa', 'unemployment hits', 'intellectual property', 'other people', 'parliament refuses', 'eavesdropping', 'terrorist groups', 'golan heights', 'pharma', 'personal', 'hezbollah', 'crew', 'better', 'damascus', 'nsa tapping', 'irans', 'stalemate', 'weeks', 'schmidt', 'confidential data', 'donors', 'national resistance', 'belarus', 'mexican president', 'combination', 'unemployed', 'intimidation', 'prime minister yousuf raza', 'academics', 'financial dealings', 'holy see', 'rhetoric', 'russian newspaper', 'meat', 'arrested', 'pakistanis', 'innocent people', 'victories', 'bono', 'wage', 'mounts', 'went', 'side', 'bond', 'dubais', 'principles', 'aide', 'anti gay bill', 'milan', 'arrives', 'trading', 'security forces', 'stealing', 'navy', 'aids', 'dawn', 'extract', 'contend', 'police state', 'decree', 'last decade', 'kiev', 'real names', 'haitis', 'restricted', 'tales', 'internet privacy', 'crucial', 'content', 'surprise', 'venezuela', 'campaign donations', 'european banks', 'train system', 'world leader', 'turning', 'telecommunication', 'resume', 'thailands', 'revenge', 'surveillance drone', 'national ban', 'aboriginal', 'struggle', 'egyptians', 'taser', 'oil pollution', 'swimming', 'japan pm', 'logging', 'iss', 'starts', 'isp', 'messages', 'isi', 'president barack', 'moving', 'stewart', 'vittorio', 'features', 'brazils', 'grade', 'middle east peace process', 'emptive nuclear strike', 'executions', 'hook', 'disappearing', 'ditch', 'uk parliament', 'yuan', 'girls', 'modern state', 'gangrape', 'korea vows', 'hollywood', 'next months', 'stop selling', 'barrier reef', 'media guardian', 'escort', 'jon stewart', 'villages', 'spy proof', 'digs', 'president hosni', 'hadnt', 'greek debt', 'begins', 'distance', 'data collection', 'high tech', 'dawkins', 'italian prime minister silvio', 'missile technology', 'legalize', 'enabled', 'crisis deepens', 'matter', 'street', 'sovereign immunity', 'bidder', 'fish stocks', 'sees', 'palace', 'modern', 'mind', 'mining', 'countrys debt', 'seed', 'seen', 'seem', 'mint', 'tells', 'former mossad chief', 'chest', 'chess', 'tunnels', 'high speed', 'industrial espionage', 'air defense', 'chinas xinjiang', 'established', 'right wing extremists', 'law forcing', 'mario', 'regular', 'polar bear', 'swiss army', 'social network sites', 'marie', 'homosexual propaganda', 'zealand', 'blacklist', 'assisting', 'currency war', 'young adults', 'doc', 'alarm', 'deliberate', 'dog', 'definitely', 'principle', 'wealth tax', 'search engine', 'consumer', 'consumes', 'urgency', 'past decade', 'discontent', 'supply chain', 'lyrics', 'hunger', 'terrorist organization', 'jurisdiction', 'ending', 'murdochs news corp', 'harper government', 'attempts', 'secret surveillance', 'supplied', 'stepping', 'thirds', 'judges', 'resisting', 'australia passes', 'explain', 'debts', 'cripple', 'sugar', 'state monopoly', 'stabbing', 'burial site', 'integrate', 'hoard', 'jailed', 'bahrain', 'falkland islands', 'exports', 'compounded', 'sex workers', 'conduct', 'stop', 'nuclear power plant', 'coast', 'cracks', 'pakistan police', 'comply', 'merchant ship', 'earn', 'bar', 'radiation levels', 'fields', 'rothschild', 'bay', 'bag', 'bad', 'royal bank', 'test site', 'troop', 'rival', 'ban', 'fertility', 'bak', 'ears', 'ethical', 'israeli public', 'decides', 'reference', 'testing', 'third nuclear test', 'zones', 'decided', 'use nuclear weapons', 'nuclear industry', 'uk mps', 'last year', 'subject', 'brazil', 'oil fields', 'said', 'launch pre', 'scrap', 'victorian', 'artificial', 'prince', 'olympics', 'budget deficit', 'secret document', 'fuel rods', 'tolerance', 'warrior', 'lazy', 'vows', 'restricting', 'pakistani taliban', 'physicist', 'harvard', 'cousin', 'wage rise', 'china plans', 'suggested', 'erdogan', 'resistant', 'subverting', 'european central bank', 'chinese government', 'restarting', 'national identity', 'distinction', 'contribution', 'obamas', 'confronted', 'nude photos', 'rich people', 'appeared', 'cemetery', 'former italian prime minister', 'initiative', 'path', 'springs', 'healthcare system', 'targeting', 'vkontakte', 'asks', 'basis', 'referendum', 'tiny', 'commission', 'recognised', 'interest', 'basic', 'witch doctors', 'entered', 'satellite project', 'basij', 'threw', 'website', 'iranian scientist', 'deeper', 'suppress', 'argument', 'luxury flats', 'tapping', 'personally', 'canadian election', 'sad', 'wikileaks cable', 'censored', 'encyclopaedia', 'unpopular', 'tank', 'zuma', 'military dictatorship', 'new leadership', 'ayatollah ali khamenei', 'economies', 'chinese villagers', 'ugly', 'melted', 'suppose', 'legalise drugs', 'reconnaissance', 'balance', 'anchor', 'chilling', 'israeli diplomat', 'cane', 'metropolitan', 'mexico', 'eu law', 'ip', 'complaint', 'defeated', 'attack iran', 'ii', 'shame', 'cant', 'im', 'il', 'euthanasia', 'illegal phone hacking', 'parallel universe', 'ie', 'id', 'grown', 'waging', 'brazil russia india china', 'occupied', 'make', 'speculating', 'body scanner', 'bottled', 'potentially', 'chatroom', 'grows', 'entitled', 'meets', 'advocate', 'poverty stricken', 'tax on soft drinks', 'declaring', 'stressed', 'camerons press officer', 'cyberwar', 'multi national trade', 'bloomberg', 'snowden documents', 'sharers', 'opportunity', 'banks chief', 'thoughts', 'anarchists', 'election monitors', 'programs', 'settled', 'failing', 'turkish prime', 'materials', 'roma', 'claims', 'dark side', 'investments', 'left', 'bp shell', 'facto', 'just', 'sentence', 'unfair', 'fighters', 'german bank', 'identify', 'human', 'anders', 'facts', 'yes', 'human trafficking', 'yet', 'nicolas', 'buyers', 'google boss eric', 'candidate', 'regarded', 'assassination', 'character', 'glencore', 'squad', 'saudi arabias', 'ndrangheta', 'save', 'germanys', 'kyrgyzstan', 'scottish golf', 'government building', 'wanting', 'govt', 'opposition activists', 'dignity', 'millions of euros', 'fundamental freedoms', 'breivik', 'nude', 'manual', 'military action in syria', 'web content', 'switching', 'notorious', 'www', 'greenland', 'deal', 'dead', 'free trade', 'series of corruption', 'presidential elections', 'unfit', 'tracked', 'uproar', 'computer screen', 'outspoken', 'data suggests', 'australian senate', 'track', 'family home', 'western governments', 'tycoons', 'heads towards', 'minister brian', 'rachel corrie', 'twitter account', 'egypts new constitution', 'burn', 'translated', 'british terror suspects', 'confrontation', 'stock exchange', 'bury', 'spanish judge', 'chilean', 'google bbc', 'finance minister brian lenihan', 'operates', 'flourishes', 'high school', 'afternoon', 'nobel peace', 'commit', 'nsa spying', 'automatically', 'nerve', 'indians', 'managers', 'subs', 'lied', 'intellectual', 'down', 'lies', 'tax loopholes', 'financial system', 'doctrine', 'north korea warns', 'amsterdam', 'rant', 'unprecedented', 'loyalty oath', 'communists', 'development of nuclear weapons', 'initial', 'mass protests', 'editor', 'fraction', 'military unit', 'bolivia', 'garment workers', 'form', 'clinics', 'russian military', 'landing', 'ford', 'failure', 'percentage points', 'syndicate', 'radioactive', 'surrender', 'atrocities', 'builds', 'military action', 'prevents', 'attached', 'economic blockade', 'benchmarks', 'propaganda', 'delete', 'zeroes', 'sarcophagus', 'bitcoins', 'covert', 'environment ministry', 'sale', 'palestinian land', 'floating', 'widows', 'shit', 'graft', 'marking', 'south africa', 'molester', 'towards democracy', 'generally', 'social media', 'handed', 'digital', 'computer hacker gary mckinnon', 'east peace process', 'exporter', 'outside world', 'savage', 'dies', 'felt', 'utilities', 'diet', 'fell', 'afghan police', 'reign', 'authorities', 'transfers', 'weekend', 'died', 'jones', 'fsb', 'happening', 'apology', 'potato', 'restores', 'daily', 'stripping', 'teeth', 'european leaders', 'profits', 'council vote', 'secretary of state', 'julia gillard', 'managed', 'factory fire', 'bombed', 'manager', 'mile', 'skin', 'heritage site', 'bomber', 'milk', 'retention', 'suicide', 'praises', 'casualties', 'iraqs', 'father', 'editors', 'emptive nuclear strikes', 'iraqi', 'finally', 'praised', 'former guatemalan dictator efrain', 'petersburg', 'controversial plan', 'marks', 'new line', 'sovereignty', 'advises', 'adviser', 'smartphone', 'inciting', 'billionaire', 'nationalize', 'german govt', 'swiss bank', 'defying', 'advised', 'yahoo news', 'signs agreement', 'tax haven', 'governments', 'world phone', 'did', 'apartheid', 'dig', 'proposals', 'accidentally', 'website owner', 'ten years', 'militarys', 'spanish town', 'round', 'attracting', 'shave', 'olympic', 'unexpected', 'financial scandal', 'fearing', 'dealing', 'toxic waste', 'worm', 'hiv aids', 'report claims', 'run', 'google translate', 'targets', 'spy agencies', 'afghanistan', 'adds', 'heres', 'encrusted', 'favour', 'suspect', 'somalia', 'islamic dress', 'international', 'satellite tv', 'free fall', 'filled', 'install', 'tibet', 'guardian', 'mr', 'victimized', 'french', 'okinawa', 'kilometers', 'preferential treatment', 'earthquake', 'wait', 'box', 'boy', 'battling', 'institute', 'roubini', 'bow', 'exploitation', 'convoys', 'bom', 'suggestion', 'priceless', 'bob', 'teenage', 'elect', 'israels defense', 'merely', 'israeli peace activist', 'cyberattack', 'imf chief', 'verge', 'suppression', 'ailing', 'hotels', 'everybody', 'franco', 'military officer', 'visit', 'boris johnson', 'france', 'scenarios', 'insider', 'web monitoring', 'peru', 'francs', 'government corruption', 'sharing', 'acceptable', 'curriculum', 'influenza virus', 'downtown', 'countrys debt problems', 'adverts', 'nicolas sarkozy', 'archaeologists', 'effort', 'capturing', 'fly', 'demolish', 'swedish pirate party', 'tokyo', 'avoiding', 'flu', 'fukushima nuclear power', 'soup', 'bluefin tuna', 'growing', 'making', 'arrive', 'claim', 'crazy', 'firing', 'uruguay', 'lobbying', 'fuck', 'agent', 'sample', 'japans nuclear crisis', 'battered', 'council', 'air defense system', 'parchin', 'salary cut', 'study suggests', 'pink', 'burgeoning', 'smear campaign', 'oslo', 'nyt', 'download music', 'chemical', 'hostage', 'sunday', 'tibetans', 'intelligence community', 'sworn', 'map', 'prime minister john key', 'german pirate', 'critics', 'north korean leader', 'scientific whaling', 'deforestation', 'membership', 'doesnt tolerate criticism', 'mad', 'congressman', 'destructive', 'guys', 'grow', 'print money', 'man', 'johnson', 'maybe', 'africas', 'borrowing', 'orthodox jews', 'outpouring', 'provide', 'switch', 'killers', 'jail', 'deposit', 'african', 'basket', 'bill gates', 'talk', 'lsd', 'shield', 'seeing', 'military council', 'gradual', 'pointed', 'seizing', 'arab democracy', 'argues', 'stability', 'chinas economy', 'cuts', 'argued', 'west bank settlement', 'allegations of corruption', 'battle lines', 'group', 'monitor', 'president nicolas', 'interesting', 'undermined', 'telstra', 'maid', 'prophet muhammad', 'policy', 'mail', 'search warrant', 'main', 'undermines', 'texas', 'chinese premier wen', 'prime', 'finance', 'janeiro', 'enclave', 'killer', 'kkk', 'aspirations', 'secretary general', 'bullshit', 'developments', 'possess', 'dictator efrain', 'resignation', 'settings', 'peasant', 'rock', 'hijack', 'un rights', 'total cost', 'nick', 'elephants', 'wide web', 'scheme', 'witch hunt', 'money trail', 'prime minister kevin', 'liberal party', 'manifesto', 'speculators', 'girl', 'deputy pm', 'turkeys', 'torrent site', 'canada', 'emerges', 'afghans', 'greeks', 'interference', 'secret files', 'computer experts', 'help contain', 'bailout', 'web censorship', 'emerged', 'dutch', 'former news', 'correct', 'vatican bank', 'hefty', 'papuan', 'chiles', 'pumping', 'brooks', 'spies', 'screaming', 'bayer', 'spied', 'ore', 'spending cuts', 'thinks', 'advance', 'underwear', 're election', 'language', 'ministry', 'president calls', 'headphones', 'suisse', 'thing', 'rupert murdochs', 'think', 'first', 'second life', 'fleeing', 'question', 'internet censors', 'gchq', 'americans', 'fast', 'suspended', 'carry', 'corporations', 'sounds', 'fiji', 'discharged', 'gay rights activist', 'little', 'nuclear test north korea', 'anyone', 'alfred', 'participated', 'minaret', 'speaking', 'bloodshed', 'eyes', 'allegedly', 'economic development', 'moscow', 'broadcast', 'hillary', 'new trade', 'infiltrate', 'prime minister erdogan', 'moscows', 'cartels', 'israeli parliament', 'new wave', 'russian opposition', 'zealand prime minister', 'civil servants', 'sabotaged', 'mutilation', 'protected', 'venture', 'were', 'sean', 'germ warfare tests', 'gathering', 'social justice', 'hillary clinton', 'defecting', 'marijuana', 'voices', 'conspiracy', 'comedian', 'scotlands', 'spectacle', 'nazi', 'kevin', 'speakers', 'efficient', 'venezuelans', 'shocked', 'endangered', 'clintons', 'potential', 'interior', 'performance', 'registered', 'channel', 'pain', 'ordinated', 'cleaners', 'investigations', 'arguing', 'job prospects', 'ultra orthodox', 'paid', 'assault', 'complaints', 'coveted', 'cuban', 'massacred', 'especially', 'surprising', 'state of emergency', 'wielding', 'local election', 'modern world', 'alarming', 'corrie', 'cubas', 'shop', 'rating', 'shot', 'suicide terrorism', 'show', 'government website', 'delta', 'sites', 'legalization', 'jordanian', 'cambodian', 'corner', 'atlantic bluefin', 'prime minister julia', 'own security', 'pedophiles', 'fend', 'mubarak', 'storms', 'pump', 'taseer', 'require isps', 'new target', 'black', 'raising', 'treasury', 'daily newspaper', 'awareness', 'ranking', 'hungarian', 'get', 'contracts', 'merkel', 'british govt', 'employers', 'hailed', 'nearly', 'soltan', 'lankans', 'gen', 'switzerland amp', 'class professionals', 'special police', 'malaysian', 'morning', 'chinese activist', 'medias', 'miles', 'worrying', 'wiki', 'moammar', 'declared', 'post war', 'seas', 'third time', 'seat', 'cologne', 'declares', 'eliminating', 'seal', 'government policy', 'wonder', 'anti islam', 'indicted', 'label', 'denmarks', 'enough', 'freedom of expression', 'president dilma rousseff', 'diamonds', 'reading', 'checks', 'british medical association', 'affordable', 'infrastructure', 'chancellor angela', 'august', 'legitimacy', 'jp', 'killing', 'jo', 'greek economy', 'signaled', 'minister julia', 'huge demand', 'trader', 'imf', 'court declares', 'according', 'blasts', 'public services', 'dated', 'power companies', 'holders', 'traded', 'high speed rail', 'cancer', 'firewall', 'bomb hits', 'accusation', 'binge drinking', 'slain', 'grants', 'cancel', 'sao paulo', 'keqiang', 'custody', 'blockade of gaza', 'considering', 'arts', 'iran in protest', 'underworld', 'capable', 'encryption', 'metropolitan police', 'mark', 'mart', 'workshop', 'mars', 'borders', 'range missiles', 'bank data', 'drug market', 'full islamic face veil', 'educated', 'shopping', 'offered', 'nazi party', 'gripped', 'dramatic', 'wake', 'surveillance society', 'declaration', 'hardcore', 'sound', 'disconnected', 'release sent', 'profiles', 'network sites', 'warning', 'ongoing', 'omar suleiman', 'coca', 'promising', 'cancelled', 'investigating', 'kim regime', 'thousands of people', 'trades', 'then', 'strait', 'middle', 'pressing', 'sahara', 'hijab', 'level of corruption', 'movements', 'bags', 'par', 'harsh', 'doctor', 'pay', 'same', 'speech', 'arguments', 'stepped', 'pak', 'myung bak', 'pan', 'extended', 'last night', 'running', 'disadvantaged', 'credit suisse', 'public diplomacy', 'nuclear plant operator', 'fuel companies', 'largely', 'iraqis', 'roughly', 'youth unemployment', 'accountable', 'solve', 'gates', 'malicious', 'gangs', 'money', 'rights abuses', 'sights', 'data protection', 'drug policy', 'unofficial', 'tv show', 'child sex abuse', 'julian assanges', 'majid jamali', 'decriminalization', 'regime japans', 'korean leader kim jong', 'pile', 'aircraft missiles', 'extensive', 'police break', 'grip', 'agricultural lands', 'mos', 'fin soup', 'admitting', 'grid', 'mom', 'secrecy', 'mob', 'aiming', 'mod', 'rcmp', 'plant workers', 'christine', 'large scale', 'twin', 'serves', 'server', 'facing', 'chamber', 'nose', 'retailers', 'turkish pm', 'served', 'voluntarily', 'robbers', 'financial markets', 'jews', 'afflict', 'witchcraft', 'basic human', 'imprisonment', 'internet traffic', 'turkish pm erdogan', 'bank accounts', 'images', 'organizing', 'booming', 'herald', 'confirm', 'sudan', 'amanpour', 'critical', 'expressing', 'aussie', 'extraordinary rendition', 'moderate', 'ripple effect', 'knife', 'londons', 'millions of people', 'british intelligence', 'airways', 'seconds', 'kyoto', 'minister julia gillard', 'broker', 'dictators', 'bank settlement', 'broken', 'despicable', 'gold mining', 'drums', 'roaming', 'senate votes', 'raptor', 'manufacturer', 'conducting', 'export rules', 'opium', 'contagion', 'island', 'fringe', 'generated', 'series of deaths', 'airline', 'finance ministers', 'west', 'mixed', 'experimental lakes area', 'arab spring style', 'road', 'quietly', 'lands', 'whites', 'spreading', 'auschwitz', 'currency swaps', 'submarine hms astute', 'defence policy', 'einstein', 'jerusalem', 'school students', 'pharmaceutical', 'shells', 'downed', 'strip', 'handcuffed', 'presidential vote', 'available online', 'fukushima radiation', 'chats', 'tycoon', 'internet control law', 'strikes', 'sophisticated', 'wiping', 'hurricanes', 'news french', 'media empire', 'rail system', 'entire countries', 'strawberry', 'emissions', 'manuel', 'powerless', 'white house', 'syrias', 'leaked', 'videos', 'turbines', 'censor', 'deep', 'fellow', 'leaker', 'file', 'importing', 'lifetime', 'deterrent', 'new nsa', 'cables', 'online news', 'film', 'fill', 'again', 'amendments', 'drivers', 'cyberbullying', 'british couple', 'field', 'prism', 'cleanup', 'san suu', 'egypts military rulers', 'privatized', 'iranian president', 'europe', 'obsessed', 'uk copyright', 'shelter', 'important', 'recent', 'memos', 'chris', 'new oil', 'legal', 'laptops', 'h1n1 virus', 'remote', 'assets', 'levels of radiation', 'dilma', 'casts', 'syrian regime', 'oil revenue', 'resale', 'spills', 'kuwait', 'resolution', 'caste', 'forget', 'founder', 'grassroots', 'desalination plant', 'forbidden', 'dollar', 'worms', 'founded', 'nuclear alert', 'universal jurisdiction law', 'forged', 'african nation', 'talks', 'satellite images', 'children', 'uk police', 'shattered', 'wholesale ethnic cleansing put', 'edward snowdens', 'source of corruption', 'fukushima nuclear plant', 'preserved', 'alberta', 'vittorio arrigoni', 'enjoying', 'primary school', 'distorting', 'returning', 'activist malala yousafzai', 'wiretap', 'fall', 'winning', 'difference', 'nuclear bombs', 'knighthood', 'washing', 'dictatorship', 'mothers', 'celebrity', 'military strike', 'moldova', 'saudi', 'norths', 'syrian electronic army', 'wall street', 'embassy following', 'mordechai vanunu', 'state television', 'grabs', 'zero', 'perspective', 'lawyer', 'dictator efrain rios', 'further', 'migrant workers', 'high speed rail network', 'saudi king', 'dial', 'abc', 'stood', 'opted', 'wrecked', 'magnetic bombs', 'new york times', 'public', 'movement', 'deformities', 'malaria', 'dawn party', 'nsa spying scandal', 'tax cheats', 'component', 'disastrous', 'operating', 'non jewish', 'publishes', 'campaigns', 'search', 'bible', 'prosecutors', 'streets of tehran', 'airport', 'published', 'narrow', 'tiananmen', 'cruise missiles', 'buses', 'full islamic', 'tayyip erdogan', 'africa', 'russia india', 'empty chair', 'sanction', 'extinction', 'establish', 'eye', 'wiped', 'destination', 'debt crisis', 'governance', 'young muslims', 'cultivation', 'double standards', 'libel', 'furor', 'achieving', 'hacker gary', 'diamond', 'staggering', 'brisk', 'news guardian', 'admissions', 'landed', 'state workers', 'grisly', 'particular', 'bulgarias', 'town', 'none', 'hour', 'strain', 'recall', 'guards', 'remain', 'sudden', 'halts', 'step towards', 'abandon', 'dea', 'hormuz', 'election debate', 'purchases', 'shark', 'hamburger', 'spy chief', 'share', 'collision', 'minimum', 'numbers', 'litres', 'sharp', 'korea confirms', 'biography', 'lloyds', 'homicide', 'arab spring', 'needs', 'oil company', 'acts', 'party leaders', 'sacred', 'acta', 'profiting', 'civilisation', 'russian prime minister vladimir', 'punk rock', 'charms', 'uprising', 'advice', 'home country', 'different', 'questioning', 'ambassador', 'blood', 'coming', 'wave', 'response', 'encryption software', 'rights council', 'world economy toward disaster', 'giant google', 'dragon', 'western europes', 'coal', 'face veils', 'seizes', 'responsibility', 'online surveillance', 'pleasure', 'playing', 'morsis', 'iran hangs', 'infant', 'news corps', 'swamped', 'azerbaijan', 'setback', 'radar', 'already', 'eu states', 'filters', 'existence', 'suffer', 'arrogant', 'irans nuclear scientists', 'doesnt work', 'foreign minister', 'un security council', 'energies', 'pcs', 'food chain', 'past year', 'late', 'detected', 'reuters', 'pena', 'small amounts', 'upping', 'bushehr', 'good', 'massive fraud', 'slash deficit', 'seeking', 'attitudes towards', 'energy minister', 'primary', 'nuclear scientist', 'oxford', 'iranians', 'complain', 'association', 'mystery', 'easily', 'exiles', 'pregnant', 'gas prices', 'evade', 'spy', 'ashes', 'habits', 'australian election', 'gender', 'clamp', 'harm', 'everyone', 'mental', 'korea nuclear test', 'house', 'fish', 'hard', 'idea', 'engaging', 'oil', 'mass destruction', 'connect', 'fist', 'ripple', 'national tv', 'insurance', 'initiatives', 'suu kyi', 'funding', 'government orders', 'only way', 'foxconn', 'projected', 'acting', 'old people', 'print', 'disobedience', 'pathetic', 'commits', 'enforcing', 'disputed presidential election', 'isps', 'mikhail', 'haarde', 'members', 'backed', 'reparations', 'beginning', 'benefits', 'prophet', 'finland', 'ban on polio', 'conducted', 'rainforest', 'pilots', 'indebted', 'dont', 'tayyip', 'mistakenly', 'netted', 'waged', 'welcome', 'instances', 'done', 'embassy attack', 'wages', 'heights', 'bullied', 'president francois hollande', 'divorce', '5th', 'revive', 'least', 'militant', 'nuclear proliferation', 'regulation', 'social services', 'statement', 'rates', 'lease', 'illegal ivory', 'megaupload founder', 'park', 'sri lankans', 'dilma rousseff', 'part', 'russian prime minister vladimir putin', 'doctors', 'tackle', 'gruesome', 'trolls', 'believe', 'inconvenient', 'stirs', 'saharan africa', 'chinese man', 'john', 'north koreas', 'recording', 'wind power', 'contrary', 'supposed', 'viviane reding', 'treated', 'declare', 'interactive', 'idled', 'fuelling', 'ditches', 'plead', 'philippine', 'mass surveillance', 'india considers', 'trade sanctions', 'download', 'tax office', 'li keqiang', 'meltdown', 'aged', 'orders', 'factory collapse', 'mountain', 'built', 'dancing', 'risk of sovereign default', 'chinas state run', 'russian parliament', 'majority', 'lifts', 'build', 'fukushima plants', 'deepening', 'cameroon', 'energy company', 'province', 'aids virus', 'share data', 'serve', 'eggs', 'salmon', 'chart', 'summons', 'most', 'significant', 'services', 'space agency', 'extremely', 'president vladimir putins', 'kg', 'oil imports', 'ki', 'humanitarian', 'km', 'charitable', 'organise', 'joining', 'sector', 'thomas', 'particularly', 'rebels', 'money spent', 'obligations', 'commissions', 'air base', 'afghan government', 'businesses', 'rick falkvinge', 'court orders', 'fine', 'networks', 'giant', 'dividing', 'nervous', 'ruin', 'distributed', 'president hamid', 'massing', 'freedoms', 'internet history', 'dysfunctional', 'override', 'volatile', 'seller', 'permission', 'revolts', 'express', 'horsemeat', 'courage', '21st century', 'theft', 'annexation', 'meir', 'merchandise', 'garment factory collapse', 'resolve', 'motorcycles', 'federal court', 'doubled', 'safeguarding', 'jong nam', 'common', 'witches', 'severe water', 'doubles', 'drone campaign', 'restaurants', 'middle classes', 'pirate party enters', 'airline passenger', 'individual', 'economic meltdown', 'peace activist', 'feared', 'atomic energy', 'expert', 'visiting', 'please', 'world safer', 'fans', 'china overtakes', 'new nuclear test', 'burned', 'donate', 'wont sell', 'iron', 'coffee shops', 'parliament iran', 'environmentalists', 'aircraft', 'reverse', 'restaurant', 'solely', 'commercial fishing', 'annual', 'foreign', 'black money', 'kitchens', 'first time in history', 'australian govt', 'consume', 'canadas', 'point', 'simple', 'simply', 'shutdown', 'upgrades', 'openness', 'volunteered', 'ravaged', 'expensive', 'raise', 'defence system', 'create', 'underage', 'rivals', 'secret', 'dropping', 'ireland', 'intrusive', 'meeting', 'bid for membership', 'slips', 'nukes', 'housing crisis', 'gay', 'vice president', 'honorary', 'gas', 'gap', 'satellite navigation', 'understand', 'gag', 'resisted', 'evangelical', 'minister lieberman', 'politician', 'survivor', 'talking', 'solid', 'bill', 'tolerate', 'elections', 'internet censorship', 'canadian government', 'replaced', 'fun', 'international money', 'portugal', 'century', 'cents', 'violently', 'stations', 'climate summit', 'deal france', 'pm tony abbotts', 'unaffected', 'italy', 'internet porn', 'butcher', 'much money', 'textile', 'endemic corruption', 'proved', 'honeybee', 'development', 'mexico city', 'currencies', 'long list', 'yesterday', 'global warming', 'husbands', 'shirin ebadi', 'moment', 'prime minister vladimir', 'purpose', 'predecessors', 'first gay', 'rules', 'halve', 'web sites', 'spent', 'flags', 'withdraw', 'landmark', 'organization', 'spend', 'prevention', 'chinese premier wen jiabao', 'bankers bonuses', 'world trade', 'fundamentalists', 'shape', 'openly', 'atomic', 'world phone hacking', 'world', 'alternative', 'injuries', 'alignment', 'timber', 'letting', 'cut', 'cup', 'streets of montreal', 'hated', 'danger', 'pay copyright', 'cover ups', 'shouting', 'subjects', 'deliberately', 'lee myung bak', 'circumcision', 'civil society', 'impoverished', 'administrative', 'bin', 'world economy', 'big', 'bid', 'clooneys', 'matters', 'foreigners', 'united russia', 'charlotte church', 'bit', 'police confirm', 'knock', 'president christian wulff', 'semi', 'follows', 'smartphone apps', 'addressed', 'indication', 'loyalist', 'chief executive bob', 'google', 'often', 'iphone users', 'absolutely', 'extremism', 'back', 'impeach', 'spacecraft returns', 'extremist', 'strongest', 'deficit china', 'mirror', 'ourselves', 'scale', 'commonwealth games', 'pet', 'decision', 'pew', 'pep', 'integration', 'british airways', 'constitutional court', 'connecting', 'eliminate', 'palestinian territories', 'cameraman', 'patient', 'iran deal', 'taxing', 'side effects', 'continuing', 'paedophile', 'restrictive', 'usd', 'chanting', 'special forces', 'usb', 'city council', 'occupied west', 'goods', 'usa', 'ip address', 'pfizer', 'story skyscraper', 'drama', 'slams', 'financial industry', 'barrels of oil', 'kazakhstans', 'pollution', 'jimmy', 'harassed', 'nsa', 'aliens', 'retailer', 'invading', 'exercises', 'olmert', 'bankruptcy', 'ontario', 'global market', 'swedens', 'apparently', 'batons', 'dalai', 'infected', 'germans', 'homemade', 'forward', 'islamic state', 'translate', 'opponent', 'nuclear arsenal', 'eastern kunar province', 'immigration', 'khamenei', 'boys', 'cloud', 'hopes', 'deep packet', 'directed', 'bay founder', 'political corruption', 'planet', 'exploration', 'planes', 'chinas economic growth', 'sort', 'development bank', 'expedition', 'flow', 'mckinnon', 'deprive', 'athenians', 'cure', 'curb', 'minister reuters', 'internet spying', 'cafe', 'denying', 'economy shrank', 'saudi prince defects', 'fracking', 'phone number', 'intensifying', 'amsterdams', 'pesticides', 'assassinate', 'scientific research', 'south africas', 'explaining', 'intensifies', 'lend', 'prepared', 'deutsche bank', 'utterly', 'lent', 'prepares', 'depicting', 'central banks', 'desert', 'unveils plan', 'rallied', 'maldives', 'thousands of students', 'ultra orthodox jews', 'teams', 'netanyahus', 'bankers', 'school children', 'notion', 'presenting', 'rallies', 'failures', 'enrichment', 'initiating', 'last years', 'afghanistans', 'evidence', 'fitch', 'homosexual behavior', 'sanctuary', 'governor salman', 'vicious', 'breached', 'vietnamese', 'first nuclear reactor', 'last surviving', 'helps', 'fatal', 'ingredient', 'former head of state', 'queen', 'cctv', 'ankara', 'soyuz', 'putting', 'accuse', 'presidential aide', 'assad', 'korea', 'entire', 'korean leader kim', 'global supply', 'uncovering', 'shock', 'populist', 'irans nuclear program', 'chief economist', 'havent', 'ceasefire', 'havens', 'sewage', 'warheads', 'bleeding', 'intelligence chief', 'demonstrations', 'muammar', 'uncomfortable', 'copenhagen', 'depression', 'reconciliation', 'misguided attempt', 'rail network', 'giving', 'global markets', 'assisted', 'access', 'huawei', 'terror group', 'activists on tuesday', 'protection rules', 'exercise', 'body', 'wealth gap', 'exchange', 'last week', 'jointly', 'sinn', 'intercept', 'sink', 'church of england', 'others', 'military doctrine', 'safer', 'extreme', 'low cost', 'cern', 'department of homeland security', 'later', 'price on carbon', 'california', 'existent', 'implement', 'proof', 'honor', 'looted', 'red cross', 'named', 'presidents', 'new zealands', 'private', 'extravagance', 'names', 'salehi', 'identity cards', 'scandal', 'resolutions', 'ukraines presidential', 'providers', 'nobel', 'uks richest man', 'butler', 'greek crisis', 'harrowing', 'nuclear shutdown', 'sons', 'expansion of nato', 'upcoming', 'recent weeks', 'trail', 'train', 'prizes', 'ashamed', 'enslave', 'iii', 'hints', 'account', 'life saving', 'tunnel', 'free access', 'package', 'foreign spies', 'nuclear attack', 'lakes area', 'obvious', 'criminal prosecution', 'smear', 'industrial', 'cybercrime', 'closing', 'didnt', 'rehabilitation', 'electricity prices', 'violence', 'prohibiting', 'super tax', 'australian prime', 'capita gdp', 'effectively', 'reserves', 'bones', 'stories', 'serial', 'contempt', 'native', 'population control', 'lama', 'daring', 'democracy', 'holds', 'uranium enrichment', 'state run', 'controversial anti', 'apocalypse', 'forest', 'afp', 'stock', 'profile', 'buildings', 'new details', 'waters', 'philosophy', 'nuclear power station', 'government protesters', 'collection', 'nullify', 'legality', 'drugs policy', 'bombers', 'chasing', 'dalai lama', 'sit', 'lines', 'guatemala', 'israeli citizen', 'greek government', 'chief', 'furious', 'addiction', 'amp deep', 'institutional', 'geopolitics', 'meter', 'gazans', 'well site', 'please global financial markets', 'horns', 'agricultural', 'privacy rights', 'happiest', 'industries', 'revived', 'la', 'french president nicolas', 'li', 'southern ocean', 'willing', 'icelandic bank', 'criminal', 'extradition', 'eur', 'dad', 'skilled', 'greater', 'pakistani activist malala', 'dam', 'prime minister', 'hard line', 'mention', 'cutting', 'carbon emissions', 'courtroom', 'india china', 'day', 'applicants', 'north korean leader kim', 'february', 'airports', 'warned', 'south pacific', 'identified', 'decommission', 'sin', 'leaked diplomatic memos', 'lingerie', 'commissioner viviane', 'muslim women', 'disregard', 'identifies', 'thwart', 'tension', 'apologize', 'week scientists', 'new exhibition', 'programmes', 'sexual', 'old son', 'announces', 'defend', 'tsunami hit', 'former ally', 'lecture', 'electronics', 'stun', 'announced', 'world health organization', 'frank', 'prime minister julia gillard', 'amiri', 'deal with iran', 'backwards', 'allies', 'ruins', 'global wealth', 'chicken', 'allied', 'court rules', 'barriers', 'retail', 'south', 'election victory', 'internet providers', 'years in jail', 'braced', 'reaches', 'strategic', 'embarrassed', 'top official', 'hurdle', 'reached', 'warships', 'anti terrorist', 'mobile roaming', 'pakistans', 'ancient', 'sadly', 'jong un', 'activist dies', 'indian anti', 'palestine', 'pakistani', 'benghazi', 'gear', 'transaction tax', 'explanation', 'nobody', 'environmental', 'economys', 'spiegel', 'copyright holders', 'ipad', 'youtube', 'secret program', 'swedes', 'compensation', 'average income', 'visited', 'doctorate', 'passports', 'wakes', 'minister kevin', 'online games', 'nuclear plants', 'canadian scientists', 'control law', 'ethnically', 'geoengineering', 'demonstration', 'living standards', 'public education', 'mil', 'marine reserves', 'mid', 'parks', 'executive bob', 'concerns', 'ramping', 'provoked', 'autocratic', 'rediscovered', 'little attention', 'relatively', 'international monetary fund', 'new campaign', 'coup iran', 'preliminary', 'prisoner', 'draws', 'nazi regime', 'herman', 'nuclear whistleblower mordechai vanunu', 'nsas', 'gather', 'request', 'nkorea', 'capita', 'artificially', 'online trolls', 'normally', 'mi6', 'medvedev', 'illegal solar', 'text', 'supported', 'activist group', 'plant tokyo electric', 'industrialist', 'atlantic bluefin tuna', 'economic forum', 'staff', 'communism', 'grabbed', 'knowledge', 'chinese internet users', 'sparks', 'hydroelectric', 'production amp', 'communist', 'finger', 'photographs', 'international atomic', 'hijacking', 'corporate media', 'beat', 'whistleblower', 'bear', 'israeli companies', 'timing', 'areas', 'organ', 'rage', 'calling', 'privacy policy', 'anti government', 'evacuating', 'tightening', 'fixed', 'constructing', 'exists', 'national', 'showdown', 'enhanced', 'greece', 'racket', 'unveils', 'energy needs', 'colombias', 'exploited', 'past decades', 'turks', 'extradite', 'pattern', 'laureate', 'nuclear disarmament', 'routine', 'ebola', 'progress', 'tax havens', 'colombian', 'john key', 'underwater', 'president dilma', 'monarchy', 'deliver', 'former head', 'founder julian assange', 'armenia', 'web calls', 'wall street journal', 'revoked', 'joke', 'taking', 'equal', 'trips', 'mental illness', 'revokes', 'busted', 'passing', 'otherwise', 'comment', 'china arrests', 'relevant', 'statues', 'ambushed', 'ships', 'disarmament', 'kandahar', 'laugh', 'fukushima', 'mafia', 'earning', 'citizenship', 'pouring', 'controversy china', 'copies', 'downgraded', 'video shows', 'council of europe', 'elects', 'gaza', 'proposal', 'kitchen', 'online censorship', 'yesterdays', 'blaming', 'foes', 'overwhelmingly', 'essentially', 'bulk', 'finished', 'watches', 'general', 'politics of exclusion', 'blackouts', 'crude oil', 'homes', 'multi', 'american activist', 'unicef', 'ap', 'next week', 'plain', 'appearance', 'value', 'giza', 'currencys', 'hubs', 'eurozone debt', 'planets', 'almost', 'dissent', 'walks', 'narendra', 'linkedin', 'helped', 'girlfriend', 'financial transaction', 'arabia', 'partner', 'inspector', 'president bashar', 'productivity', 'flight mh370', 'gas pipeline', 'america china', 'syrian', 'administration', 'fukushima plant', 'slammed', 'japans nuclear plant', 'chilean students', 'ukrainian parliament', 'injured', 'responses', 'kidnapping', 'cubic', 'shames', 'minister david cameron', 'reporting', 'restart nuclear reactor', 'yanukovych', 'bullying', 'former un', 'fucked', 'osama bin', 'scholars', 'center', 'weapon', 'ministry of defence', 'jewish leaders', 'thought', 'bangladesh factory', 'interpol', 'position', 'israeli citizenship', 'soviet', 'latest', 'arming', 'ratify', 'ambition', 'domestic', 'clinic', 'interim', 'rnthe', 'repent', 'seats', 'protecting', 'apostasy', 'nuclear accident', 'gmo', 'ads', 'kampf', 'panic buying', 'investor', 'demographic', 'lake', 'recommending', 'add', 'forbes', 'spirals', 'citizen', 'internet control', 'countrys image', 'match', 'tests', 'worlds', 'judiciary', 'row with germany', 'deployment', 'string', 'austerity cuts', 'dubai', 'unconditional basic income', 'success', 'agency moodys', 'journalism', 'admitted', 'trade deal', 'journalist', 'viruses', 'works', 'soft', 'italian', 'accessible', 'expels israeli diplomat', 'infiltrates', 'classical', 'authority', 'hair', 'wider', 'infiltrated', 'proper', 'american citizen', 'happens', 'highlighting', 'greece ireland', 'intelligent', 'students', 'marched', 'red sea', 'masked', 'rockets', 'yanukovich', 'chains', 'noise', 'japans', 'daily show', 'crossing', 'host', 'sub saharan', 'shark species', 'economy toward disaster', 'panel', 'cameron announces', 'indian prime', 'guantnamo', 'guangdong', 'shaking', 'withdrew', 'introduces', 'network of journalists', 'part of government', 'anonymous hacks', 'introduced', 'crash of air', 'middle ages', 'eurozone debt crisis', 'defense system', 'photovoltaic', 'rendered', 'childrens', 'billions', 'brands', 'guard', 'doesnt', 'female', 'internet blackout', 'dont change', 'quickly', 'worlds second', 'tax law', 'rushed', 'lucrative trade', 'controversial cartoons', 'election issue', 'awarded', 'biggest', 'globe', 'chinese scientist', 'ivory', 'buy', 'bus', 'brand', 'preparations', 'repeated', 'court bans', 'plague', 'sprawling', 'embargo', 'catholic bishop', 'princes', 'dangerous', 'flip', 'regime loses', 'merchant vessel', 'minutes', 'plutonium', 'sock puppet', 'supreme', 'fukushima daiichi nuclear power plant', 'president sarkozy', 'big banks', 'deaths', 'whisper', 'domino', 'exceeded', 'supply lines', 'paraguay', 'mysteriously', 'identities', 'campus', 'data sharing', 'denied report', 'repressive regime', 'dressed', 'claiming', 'detail', 'virtual', 'entrance exam', 'desecration', 'ubs', 'shouldve', 'half years', 'india refuses', 'ecological', 'former nsa contractor', 'shrank', 'eu justice', 'indonesias', 'christians', 'stirred', 'abdullah bin', 'western companies', 'starting', 'hikes', 'election campaigns', 'pupil', 'accidents', 'nepals', 'limited', 'mass demonstrations', 'unprecedented move', 'facilities', 'sleep', 'legal hemp', 'hate', 'poorly', 'feeding', 'vile', 'paris', 'crises', 'tweet', 'poorest', 'redrawing', 'gaza flotilla', 'warplanes', 'corporate taxes', 'korean war', 'pride', 'merchant', 'risk', 'islamism', 'hugo chvez', 'national debt', 'jack', 'monkeys', 'encounter', 'election campaign', 'school', 'magnate', 'pension contributions', 'switzerlands', 'china blocks bloomberg', 'internet surveillance', 'real time', 'relics', 'venus', 'methane', 'enjoy', 'polio vaccination', 'leaders', 'consistent', 'guidelines', 'estimates', 'direct', 'financial institutions', 'surrounding', 'persuade', 'infiltration', 'life changing', 'estimated', 'lenihan', 'blue', 'crimes against humanity', 'hide', 'organisms', 'beaten', 'health service', 'liberty', 'minister recep tayyip erdogan', 'open chocolate', 'statoil', 'endorse', 'supplier', 'supplies', 'german state', 'seeks', 'kicked', 'licences', 'rich countries', 'hundreds', 'kicker', 'aftermath', 'generals', 'pornographic', 'forum', 'cairos', 'auction', 'leaves', 'changed', 'trade negotiations', 'analysts', 'abolition', 'islamic militants', 'chateau', 'changes', 'punishment', 'biometric', 'new snowden leak', 'swearing', 'general election', 'straw', 'advisor', 'julia', 'feelings', 'foreign policy', 'internet freedoms', 'forums', 'heathrow', 'taiwans', 'australian police', 'oil royalties', 'unconditional basic', 'hospital', 'hanoi', 'nuclear ambitions', 'africas ruling', 'national park', 'raids', 'wikileaks style', 'politician geert wilders', 'fainting', 'preview', 'assessment', 'president hugo chavez', 'slaughtered', 'wholesale ethnic', 'internet service providers', 'long way', 'coastal waters', 'phone', 'wage workers', 'excellent', 'companys', 'shoot', 'join', 'assanges', 'jazeeras', 'advocacy', 'legal battle', 'personal data', 'mw', 'foils', 'mp', 'ms', 'henry', 'reding', 'unilateral', 'estate', 'dolphin', 'voters in iceland', 'times', 'attract', 'ceremony', 'end', 'nsa surveillance', 'conversation', 'work china', 'sitting', 'sound alarm', 'minister brian lenihan', 'new level', 'accusations', 'free food', 'toxic', 'widespread', 'charging', 'financial market', 'kalashnikov', 'shahram amiri', 'mess', 'turing', 'york times', 'coffers', 'demanding', 'parallel', 'stronghold', 'russia signs', 'acknowledged', 'spent fuel', 'double standard', 'patent', 'ultimate', 'enter', 'child internet', 'executed', 'phone call', 'abuse network', 'expects', 'london', 'thesis', 'facial recognition', 'criminal charges', 'hypocrisy', 'new law', 'expectations', 'mongolia', 'destroyed', 'signatory', 'ftse', 'british aid', 'diseases', 'prevented', 'tax on top earners', 'revelations', 'chinese police', 'monarch', 'tourism', 'netherlands', 'alex', 'bosnia', 'reserve currency', 'notified', 'nicolas sarkozys', 'explode', 'victory', 'crimes in gaza', 'power grid', 'eurozone unemployment', 'personal information', 'signing', 'food prices', 'genocidal', 'celebrating', 'ukraines presidential election', 'un resolution', 'hanged', 'saturday', 'driving', 'god', 'deep packet inspection', 'department of homeland', 'central african republic', 'millennium', 'banning', 'got', 'newly', 'gov', 'swell', 'independence', 'broadband network', 'president bashar assads', 'rail', 'rapid population', 'eternal', 'form of energy', 'free', 'counterparts', 'iraq war', 'wanted', 'bletchley', 'ritual', 'days', 'tolerant', 'filter', 'israel police', 'israeli settlements', 'smokers', 'soda', 'inspectors', 'appeals', 'rana', 'researcher', 'encouraging', 'nhk', 'hearing', 'restrict', 'fantasy', 'philosophical', 'relations', 'heywood', 'anti terror', 'appeals court', 'revival', 'cellphone users', 'tor', 'archbishop of canterbury', 'top', 'modern history', 'bitcoin', 'fiction', 'full body scanner', 'ballistic', 'too', 'percentage', 'tear gas', 'country into giant laboratory', 'urban', 'ceiling', 'murder', 'tool', 'wilders', 'leaking', 'took', 'negotiating', 'southern africa', 'nobel peace price', 'terror suspects', 'western', 'ubs credit suisse', 'abandoning', 'union activist', 'european court', 'frankly', 'bloated', 'immigrants', 'tourists', 'classes', 'gabon', 'quebec', 'president lee myung bak', 'public anger', 'ran', 'raw', 'regulate', 'botswana', 'ray', 'egypts stock market', 'parliamentarian', 'harper', 'thoroughly', 'south koreas', 'isolated', 'contact', 'scientist shahram', 'degenerated', 'gaza strip', 'foreigners buying', 'defence', 'spread fear', 'plenty', 'genital', 'coin', 'tibetan', 'explosives', 'prostitute', 'peers', 'eu agrees', 'treats', 'tanzania', 'devastating', 'metal', 'treaty', 'reputation', 'enterprise', 'rupees', 'text messages', 'silencing', 'pardoned', 'activist malala', 'pope', 'reductions', 'labels', 'north america', 'new powers', 'radio', 'solutions', 'earth', 'bail', 'rural areas', 'phone records', 'appealed', 'reunification', 'spite', 'delays', 'prices fall', 'gods', 'announce', 'simon singh', 'oct', 'asians', 'criticizes', 'national newspaper', 'hostility', 'watch', 'israeli police', 'criticized', 'next election', 'amazon', 'israeli policy', 'state parliament', 'wedding', 'report', 'haiti', 'thousands of protesters', 'election result', 'countries', 'spokesperson', 'scotia', 'boggling', 'east peace', 'commercialization', 'twice', 'health organization', 'shots', 'automatic', 'health problems', 'new government', 'swept', 'assange in jail', 'conservative muslims', '1960s', 'proclaims', 'detection', 'submitted', 'mahmoud', 'corrupt', 'greenhouse gas emissions', 'capacity', 'containment vessels', 'european court ruling', 'discovers', 'approach', 'draft bill', 'discovery', 'eu officials', 'weak', 'however', 'boss', 'southeast', 'wear', 'censorship', 'contamination', 'news', 'war logs', 'british deputy', 'blasted', 'improve', 'faced', 'protect', 'sanitation', 'fault', 'participating', 'players', 'games', 'record breaking', 'faces', 'professor of economics', 'expense', 'safety standards', 'smuggled', 'churchs', 'kwh', 'free wi fi', 'epidemic', 'undersea cable', 'smuggler', 'british deputy prime', 'trust', 'hitler', 'conference', 'jobless', 'beef', 'binge', 'been', 'blower', 'beneficiary', 'submarine', 'beer', 'spread', 'animal rights activists', 'expected', 'germ warfare', 'teenager', 'conservative government', 'drugs', 'un secretary general', 'darfur', 'enterprises', 'catch', 'hamid karzai', 'generic drugs', 'strike against iran', 'quality public', 'senior government', 'censors', 'teachers', 'stopping', 'procedure', 'natives', 'pyramid', 'provocative', 'governments efforts', 'expenses', 'robert mugabe', 'experts', 'diplomatic cables', 'sovereign debt', 'containing', 'suggest', 'alleged involvement', 'beside', 'complex', 'front runner', 'several', 'mailpile secure', 'female russian', 'leftist', 'screw', 'welsh', 'social', 'greeted', 'raza', 'white south', 'amount of money', 'minister recep', 'pre emptive nuclear strike', 'mentioning', 'dollars dominance', 'pakistani army', 'shortly', 'russians', 'secret trade', 'english language', 'ocean', 'savings', 'greatest', 'detained', 'mother', 'unification', 'jean', 'assembling', 'proposed', 'unemployment', 'laptop', 'proposes', 'battles', 'national referendum', 'breaching', 'web filtering', 'research group', 'monitored', 'chechnya', 'housing units', 'rumor', 'technological', 'reversal', 'humanity', 'gave', 'insider trading', 'casting', 'advances', 'breaks', 'steal organs', 'addicts', 'cultural', 'judge', 'burns', 'singh', 'advanced', 'apart', 'melting', 'brutality', 'gift', 'serbias', 'hunt', 'specific', 'offices', 'officer', 'jazeera', 'national unity government', 'syrian rebels', 'successfully', 'malaysia', 'clubs', 'meters', 'election', 'escape', 'korean refugees', 'bletchley park', 'eric schmidt', 'african farmers', 'clash', 'states government', 'armed', 'zionist', 'ethnic group', 'ice', 'rhino', 'rio', 'everything', 'zionism', 'cnn', 'christmas', 'espionage', 'nuclear missile', 'core', 'bbc news china', 'inspector general', 'deleted', 'brawl', 'corn', 'disappeared', 'staunchly', 'corp', 'good job', 'census', 'benedict xvi', 'attacks', 'conspiracy theories', 'surround', 'plunging', 'undocumented', 'dinner', 'misleading', 'ensure', 'steadily', 'efforts', 'sept', 'donates', 'news agency xinhua', 'presence', 'civil', 'american officials', 'obtaining', 'obscene', 'bath', 'entrepreneur', 'ussr', 'donated', 'coastal', 'trafficked', 'eu bans', 'emigrate', 'stem cell research', 'existed', 'rely', 'vaccination', 'outbreaks', 'transform', 'sunlight', 'stuck', 'fought', 'crews', 'president lee', 'osama bin laden', 'head', 'attempted', 'removes', 'wireless', 'heat', 'hear', 'solar', 'london riots', 'removed', 'icesave', 'counsel', 'peace treaty', 'lashed', 'human history', 'bargain', 'retire', 'earth metals', 'big pharma', 'animal rights', 'chemical weapons', 'estonia', 'fury', 'suspicions', 'turkeys parliament', 'karroubi', 'weapons program', 'telecoms', 'hama', 'check', 'anti corruption activist', 'constructed', 'blatantly', 'new security', 'nk', 'upheaval', 'good thing', 'royal bank of scotland', 'david camerons press officer', 'zimbabwes', 'tip', 'vanishes', 'junta', 'italian prime', 'ny', 'beheading', 'setting', 'complicit', 'papers', 'vanished', 'falkland', 'picture', 'cleric', 'reveals details', 'reconsider', 'television network', 'eiffel', 'britain france', 'korean peninsula', 'iran nuclear report', 'global economy', 'countrys power', 'discharge', 'chinese company', 'stops', 'pedophilia', 'longer', 'australians', 'scientific bodies', 'putins', 'yacht', 'withhold', 'uncovered', 'tax revenues', 'vietnam', 'serious', 'backward', 'deep water', 'web users', 'neighbors', 'western wall', 'remarkable', 'rob', 'bush administration', 'focus', 'leads', 'pakistan taliban', 'displaying', 'row', 'long time', 'passage', 'environment', 'charge', 'presidential jet', 'promoting', 'weakening', 'bill of rights', 'burmas', 'advisory council', 'tax fraud', 'federation', 'advantage', 'conservative muslim', 'hundreds of people', 'tanks', 'tanzanias', 'cool', 'human albino', 'denounced', 'chinese communist', 'clouds', 'vladimir', 'policeman', 'philippines', 'posts', 'brother', 'standards', 'atomic program', 'domestically', 'online wikileaks', 'nuclear stockpile', 'quick', 'pork', 'says', 'free zone', 'pms', 'cyber', 'widened', 'invaded', 'port', 'drinks', 'korean leader kim jong il', 'illegal logging', 'constitution', 'true cost', 'islamist president', 'disease', 'service providers', 'agrees', 'secret government', 'members of parliament', 'hemp industry growing', 'oil prices', 'goes', 'military rulers', 'sky news', 'monetary fund', 'english channel', 'partners', 'mali', 'water', 'assad regime', 'unanimously', 'witch', 'groups', 'crippled', 'supplying', 'dec', 'healthy', 'rethink', 'guilty', 'proud', 'court ruling', 'exams', 'african nations', 'weird', 'kim jong', 'navigation', 'emerge', 'shootings', 'majority of germans', 'metric tons', 'arab world', 'ethiopian', 'bribery', 'paralyzed', 'scientific purposes', 'south asia', 'nuclear weapon', 'employer', 'crisis', 'west bank', 'handled', 'australias', 'athens', 'memorial', 'andy', 'iphone', 'memory', 'australian', 'today', 'power plants', 'rios', 'kerry', 'riot', 'controversial web filtering', 'former french president', 'chocolate', 'employee', 'provincial capital', 'cases', 'long term', 'tribunal', 'last months', 'julius', 'gillard', 'modified', 'flagship', 'mortality', 'tony blair', 'unconditional', 'massive computer', 'south americas', 'dodge', 'kyi', 'iodine', 'corrupted', 'figure', 'downfall', 'amazons', 'regime of president', 'millionaires', 'palestinian enclave', 'critic', 'performed', 'raza gilani', 'fukushima disaster', 'abc news', 'parliamentary', 'harmed', 'mismanagement', 'iraqi government', 'vital', 'fourth', 'genocide', 'speaks', 'vodafone', 'narrowly', 'levy', 'crashes', 'huge', 'fascist', 'broad', 'financial advisor', 'crashed', 'birthday', 'co founder', 'tories', 'commodity', 'storm parliament', 'purification', 'gold reserves', 'inform', 'fire safety', 'model for others', 'representation', 'imagining', 'exclusive', 'joins', 'mainly', 'ratings agency', 'embezzlement', 'security council', 'blocked', 'apes', 'iron fist', 'organisation', 'hosni', 'offers', 'syrian troops', 'loophole', 'jail time', 'happened', 'minister recep tayyip', 'lonely', 'body parts', 'conversations', 'series of secret germ', 'nuclear non', 'qualified', 'sweeping new law', 'part of efforts', 'nuclear agency', 'new figures', 'term', 'equality', 'name', 'abuse by priests', 'high court', 'invents', 'debating', 'nuclear warhead', 'control group', 'individually', 'rethinking', 'unproductive', 'torch', 'persian', 'north west', 'begun', 'arabias king', 'obsession', 'intended', 'hacker', 'threatened tribe', 'profit', 'tensions', 'factory', 'cancels', 'attracted', 'federal government', 'hacked', 'currency reform', 'indian anti corruption', 'theory', 'lawmaker', 'oil cartel', 'record level', 'police force', 'allow nsa', 'factory workers', 'flare', 'h1n1', 'impose', 'italian activist vittorio', 'pandemic', 'bird flu virus', 'motion', 'turn', 'place', 'retreating', 'sex scandals', 'discontinued', 'domain name', 'origin', 'suspend', 'surviving', 'revenue', 'local residents', 'joint development', 'multibillion', 'commissioners', 'radioactive iodine', 'array', 'hairdressers', 'george', 'millions', 'earths', 'given', 'black market', 'district', 'virgin', 'antibiotics', 'production line', 'plastic', 'cooling', 'lobbyists', 'convention', 'legally', 'white', 'coulson', 'gives', 'hug', 'hub', 'cope', 'shrouded', 'stem cell', 'alan', 'cops', 'italys', 'copy', 'holder', 'population', 'wide', 'nuclear weapons', 'birmingham men', 'looting', 'gates foundation', 'require', 'diplomatic', 'international space station', 'youve', 'computer', 'cards', 'poisoning', 'outcome', 'oath', 'transport', 'theocracy', 'pre', 'legalizing', 'armored', 'anc', 'year battle', 'pro', 'confessed', 'prostitution', 'rent', 'sells', 'first woman', 'controversial deal', 'marathon', 'china model', 'ideas', 'solar storm', 'broadcasting', 'david camerons', 'resembling', 'israeli extremist', 'urge', 'sure', 'multiple', 'job market', 'ukrainian', 'somali pirates', 'falls', 'visitors', 'stormed', 'cleared', 'wikileaks founder', 'banking system', 'presidential palace', 'considered', 'adopt', 'hungry', 'uk govt', 'french president nicolas sarkozy', 'border with gaza', 'trafficking', 'uncle', 'senior', 'deputy prime minister', 'luxor', 'masturbation', 'operations in afghanistan', 'drastically', 'convoy', 'australian government', 'workshops', 'allegations', 'fukushima nuclear power plant', 'spaces', 'hack', 'spacex', 'corruption probe', 'tar sands oil', 'legal system', 'proliferation treaty', 'gulf', 'favor', 'state', 'crime', 'missile defense', 'western opinion', 'carbon tax', 'drug barons', 'south pacific nation', 'tv program', 'hedge', 'trade', 'closure', 'reveal', 'regarding', 'democratic society', 'floods', 'nuclear safety', 'nsa contractor', 'first human', 'naked', 'jokes', 'paper', 'predicted', 'mapped', 'bought', 'ignored', 'terrorist attack', 'leader kim', 'imposing', 'violated', 'gas industry', 'connections', 'pregnant woman', 'college', 'ignores', 'parking', 'violates', 'encouraged', 'surfaces', 'fails', 'invoked', 'mortgage', 'farmers', 'federal', 'review', 'italian government', 'outsourcing', 'weapons', 'outside', 'hemp industry', 'whats', 'gas price', 'german court', 'sacked', 'opec oil', 'cities', 'come', 'un sanctions', 'nuclear meltdown', 'reaction', 'acquiring', 'missions', 'libya', 'successes', 'ryanair', 'region', 'cafes', 'quiet', 'contract', 'leftists', 'senator', 'railway', 'deported', 'duty', 'pakistan', 'filtering', 'provocation', 'pot', 'colony', 'period', 'insist', 'approval', 'flu virus', 'bizarre', 'poll', 'turkey', 'oil firm', 'saudis', 'new leader', 'peruvian', 'italian activist', 'deposited', 'declining', 'peaceful', 'billionaires', 'featuring', 'tens of billions', 'hardly', 'use tax', 'squatters', 'engine', 'direction', 'pirate party', 'peaceful demonstrators', 'robbed', 'blessing', 'andrew', 'growth prospects', 'tiger', 'minister', 'british ambassador', 'drug war', 'careful', 'irrelevant', 'spirit', 'pilot', 'case', 'hacker gary mckinnon', 'mount', 'cash', 'cast', 'surveillance equipment', 'european space agency', 'rescue operation', 'live coverage', 'abducted', 'jong il', 'punches', 'crusader', 'hurting', 'dissident', 'couples', 'someone', 'un secretary', 'british prime', 'brutal crackdown', 'revolutions', 'australian vaccination', 'author', 'irelands', 'granted', 'moratorium', 'trip', 'siberias', 'ethiopia', 'french officials', 'eurozone crisis', 'buys', 'reminder', 'insurers', 'events', 'television station', 'hermit', 'status', 'world economic forum', 'percent income', 'freezes funds of mailpile', 'downloads', 'refusal', 'driver', 'drives', 'weed', 'director', 'persons', 'kremlins', 'statue', 'changing', 'cartoon', 'vowed', 'relies', 'parliament passes', 'civil liberties', 'income gap', 'magical', 'relief', 'components', 'relied', 'inability', 'model', 'reward', 'bodies', 'justify', 'withdraws', 'specific scientific evidence', 'separation barrier', 'internet blog', 'guided', 'unconstitutional', 'actions', 'lavish', 'violent', 'cease', 'windfarm', 'kilo', 'nuclear whistleblower', 'polish', 'captured', 'blow', 'announcement', 'nuclear deterrent', 'feminist', 'rose', 'favouring', 'nz', 'way of life', 'blog', 'wall', 'lets', 'bloc', 'viewers', 'samples', 'engulfed', 'angry birds', 'poised', 'prime minister david cameron', 'disrupt', 'tuesday', 'ross', 'kingdom', 'nuclear sites', 'kills', 'delhi', 'religious identity', 'terrorist attacks', 'group eta', 'inflation', 'accepted', 'armed forces', 'ahmadinejad iran', 'acute', 'former british pm', 'julian assange', 'standstill', 'kennedy', 'military chief', 'non proliferation treaty', 'reduces', 'cause cancer', 'first election', 'donations', 'recalls', 'tower', 'reduced', 'verge of collapse', 'death sentence', 'joking', 'simulator', 'madrid', 'divestment', 'competition', 'fatwa', 'table', 'top earners', 'military operations', 'informant', 'cabinet ministers', 'provided', 'mental health', 'caribbean', 'swaps', 'strangling', 'slick', 'luxembourg', 'moon', 'provides', 'provider', 'googles', 'greek parliament', 'freed', 'football', 'finance chief', 'warlords', 'royals', 'mubaraks', 'ok', 'oh', 'discussed', 'shrimp', 'justice department', 'stand', 'decent', 'discusses', 'abortion laws', 'op', 'tribe', 'great barrier reef', 'communication', 'revolutionaries', 'united states', 'dutch politician', 'accounts', 'early elections', 'determine', 'gary', 'internet south', 'whales', 'there', 'alleged', 'strict', 'new prime minister', 'racist', 'strong', 'mannings', 'alleges', 'valley', 'energy', 'settlement expansion', 'abkhazia', 'catholics', 'japans debt', 'millionaire businessman', 'regard', 'amongst', 'cabinet', 'swear allegiance', 'promote', 'haitian', 'faster', 'internationals', 'applying', 'wholesale', 'public interest', 'sacks', 'food production', 'flats', 'grass', 'strongly', 'cbc', 'contributors', 'cinema', 'repatriation', 'central asia', 'turkish opposition', 'yemens', 'britain', 'yemeni', 'solar flare', 'politics', 'bishop', 'help fund', 'incorrect', 'hasnt', 'piracy', 'deserve', 'pet owners', 'former military', 'independent scotland', 'zetas', 'harshest', 'south koreans', 'full body', 'trash', 'dismayed', 'immunity', 'requested', 'separate', 'al qaeda', 'symbol', 'includes', 'condom campaign', 'bullets', 'recognise', 'included', 'scrutiny', 'copyright infringement', 'israel cuts', 'arsenals', 'calls', 'wife', 'invest', 'odds', 'barcelona', 'pope benedict', 'treason', 'chinese', 'ali', 'green light', 'lack', 'seals', 'earners', 'spacecraft', 'systemic', 'barons', 'attack on irans nuclear facilities', 'follow', 'everyones', 'decisions', 'jerome', 'synthetic', 'diplomat resigns', 'apartment', 'morgans', 'catastrophe', 'subjected', 'switched', 'opportunities', 'removal', 'program', 'piracy law', 'lawmakers', 'berlin wall', 'presentation', 'secret deal', 'canadian researchers', 'activities', 'belonging', 'global', 'worse', 'egyptian', 'infringement', 'tuna trade ban', 'magnitude earthquake', 'fat', 'unregulated', 'net worth', 'smartphones', 'worst', 'sony', 'hemp', 'treating', 'caesium', 'stimulus', 'list', 'prolonged', 'plotting', 'fukushima daiichi nuclear power', 'lesbians', 'google earth', 'material online', 'electric power', 'programme', 'sub standard', 'employing', 'rats', 'escalation', 'ten', 'louvre', 'tea', 'ted', 'wont fly', 'rate', 'security service', 'design', 'illegal file', 'functioning', 'sue', 'imported', 'sub', 'belgiums', 'deeply', 'brief', 'crush', 'suu', 'version', 'attitudes', 'nsa spy', 'chemical weapon', 'guns', 'layers', 'christian', 'seeping', 'theresa', 'net neutrality', 'killings', 'scandal that cost', 'tragedy', 'naval', 'extraordinary', 'environmental damage', 'donald trumps', 'shop owners', 'allows', 'public debt', 'internet cafes', 'reduction treaty', 'options', 'pilot project', 'suddenly', 'local police', 'drone attacks', 'texts', 'fresh water', 'protesters in cairo', 'alleged pirates', 'style show', 'boycott divestment', 'tens of thousands', 'fin trade', 'communist party leaders', 'warship', 'interception', 'former prime minister', 'sex offenders', 'conspiring', 'china sentences', 'freedom of speech', 'branded', 'markets', 'idf soldiers', 'minor', 'flat', 'israel', 'cold war', 'knows', 'grabbing', 'year old man', 'operators', 'media guardian co uk', 'domination', 'basically', 'known', 'saharan', 'plagiarism', 'debates', 'london mayor', 'southwest', 'behring', 'bashir', 'computers', 'embarrassing', 'brown', 'solar system', 'holocaust survivors', 'government surveillance', 'airplane', 'allege', 'countrys deficit', 'influenced', 'unemployment benefit', 'court', 'goal', 'rather', 'breaking', 'campaign of boycott divestment', 'pinochet', 'cleansing', 'uk law', 'french court', 'explains', 'shouldnt', 'private school', 'orbits', 'replace', 'fascism', 'wealth disparity', 'trademark', 'sellafield', 'catholic church', 'coffee giant', 'trucks', 'short', 'prefers', 'international space', 'stash', 'stasi', 'local currency', 'blasphemous', 'shore', 'began', 'turnover', 'iraq wmd', 'copper', 'september', 'developed', 'mission', 'disabled', 'outraged', 'isnt', 'scientist', 'ban ki moon', 'powerful politician', 'high speed internet', 'trouble', 'islam', 'style', 'party proposes', 'clashed', 'pray', 'trade talks', 'jailing', 'clashes', 'resort', 'power station', 'stephen', 'supply routes', 'argentina', 'soccer', 'alter', 'argentine', 'bluefin tuna trade', 'financial crisis', 'tuition fee', 'return', 'eu court', 'brutally', 'framework', 'zealands', 'milestone', 'communities', 'hunted', 'bigger', 'instructions', 'sochi games', 'scuffles', 'nuclear reactor', 'countrys economy', 'level', 'inequality', 'mastercard', 'death china', 'friendship', 'cell research', 'pirates', 'weight', 'generation', 'pirated', 'expect', 'organised', 'protests in turkey', 'alcohol', 'poachers', 'clandestine', 'nepal', 'financial institution', 'health', 'british deputy prime minister', 'mexicos', 'plea bargain', 'indian government', 'benjamin', 'fiber', 'solvent', 'west bank settlements', 'friday', 'unexplained', 'foxconn factory', 'teach', 'generate', 'thrown', 'general assembly', 'syrian government', 'site home', 'introduction', 'prejudice', 'circuit', 'twenty', 'fallen', 'throws', 'feed', 'news north', 'feel', 'radical', 'linking', 'feet', 'plummet', 'defects', 'colombia', 'fees', 'slower', 'passes', 'story', 'scathing', 'script', 'leading', 'interviews', 'porn', 'hangs', 'doomsday', 'settler', 'steals', 'passed', 'ali khamenei', 'piers morgans', 'agent orange', 'finances', 'ecuador', 'gps', 'attendants', 'pipelines', 'erupted', 'rift', 'exploded', 'hotel', 'military intervention', 'sarkozy', 'optical', 'rifle', 'indias financial hub', 'convinced', 'king', 'kind', 'surveillance system', 'double', 'internet giant', 'phone numbers', 'aims', 'sunni', 'risks', 'insulted', 'scanners', 'risky', 'silence', 'liabilities', 'uniforms', 'outstanding', 'strengthen', 'imports', 'suspicious', 'computer worm', 'nuclear facilities', 'nights', 'chairman', 'genetically', 'donor', 'youre', 'added', 'electric', 'warnings', 'goldman', 'measures', 'reach', 'react', 'cigarette', 'drug price', 'shareholder', 'nothing', 'stands', 'israel government', 'grams', 'windows', 'traditional', 'dissolved', 'mystery virus', 'human rights watch', 'institutions', 'lying', 'malian', 'east jerusalem', 'kosovo', 'turkish prime minister', 'shares', 'stoned', 'routinely', 'costing', 'stifle', 'rocket', 'derry', 'unrealistic', 'nato forces', 'senate committee', 'penalty', 'viagra', 'feminists', 'education secretary', 'corruption charges', 'football team', 'founding', 'gains', 'hiv', 'german society', 'whistle', 'brian lenihan', 'hid', 'longest', 'critically', 'emails', 'data retention law', 'tax on top', 'medicines', 'german economy', 'investigate', 'search engines', 'cartoons', 'activity', 'sustainable', 'wrote', 'bars', 'president assad', 'art', 'real estate market', 'dump', 'achieved', 'declines', 'online porn', 'weapons production', 'defense', 'injecting', 'former italian prime', 'chambers', 'italian prime minister', 'arm', 'declined', 'youth', 'learnt', 'internet pirates', 'anti war', 'bashar assads', 'minister vladimir putin', 'slapped', 'libraries', 'degrading', 'dismantling', 'various', 'orbiting', 'familys', 'secret germ warfare tests', 'numerous', 'corruption', 'latin', 'recently', 'creating', 'calls for mass', 'oppose government', 'sold', 'attention', 'confiscated', 'fatality', 'illegal phone', 'betrayed', 'citys', 'license', 'oversee', 'account holders', 'homeland security', 'roman', 'became', 'context', 'jail for corruption', 'finds', 'regulates', 'reasons', 'smith', 'nuclear capability', 'improper', 'regulated', 'village', 'semitism', 'bolster', 'decline', 'brics', 'speed internet', 'incomes', 'water leak', 'bangladeshi garment', 'political', 'due', 'food shortage', 'strategy', 'pc', 'reduction', 'pa', 'controversial bill', 'extends', 'ph', 'major victory', 'pm', 'flight', 'ages', 'transferring', 'precision', 'president hamid karzai', 'secret germ', 'demand', 'incoming', 'deepwater', 'other acts', 'world bank', 'nuclear weapons program', 'former soldiers', 'plants', 'georgia', 'advocating', 'territorial dispute', 'bailouts', 'frozen', 'warrant', 'sweden allows', 'government land', 'own life', 'earthquakes', 'behavior', 'engineers', 'giant laboratory', 'financial times', 'dublin', 'oil production', 'news guardian co', 'rip', 'ecstasy', 'rig', 'rid', 'church child', 'confirms', 'death penalty', 'provisions', 'energy revolution', 'widely', 'peoples', 'advise', 'spears', 'daughters', 'higher', 'australian people', 'literature', 'regulator', 'restraint', 'negotiate', 'cement', 'flown', 'arrived', 'contractors', 'waste dump', 'solar power', 'protest movement', 'lower', 'local council', 'minister john', 'anybody', 'analysis', 'dared', 'vancouver airport', 'jewish settlement', 'edge', 'machinery', 'starved', 'identity in territory', 'stating', 'lehman brothers', 'gaza tunnel', 'muslim brotherhood', 'competitive', 'sands development', 'questions', 'filesharing', 'retired', 'reliance', 'continent', 'profitable', 'tables', 'tablet', 'thinktank', 'egyptian president', 'workers', 'common currency', 'environmental impact', 'contractor', 'exhibition', 'violations', 'jerome kerviel', 'freefall', 'customers', 'complains', 'community service', 'dvds', 'condemnation', 'unlimited', 'eu import', 'palestinian state', 'israeli diplomat over dubai', 'traffickers', 'skeptical', 'bank of england', 'founder julian', 'commanders', 'hacker group', 'ignore', 'collect', 'distrust', 'un official', 'essential', 'secure mailing', 'grenades', 'sale of cannabis', 'few days', 'australian woman', 'livestock farming', 'australian pm tony abbotts', 'prop', 'third world', 'cup team', 'innovation', 'prof', 'anna', 'jumps', 'martin', 'raided', 'radioactive material', 'refused', 'internet activity', 'world cup team', 'bird flu', 'refuses', 'cannons', 'intense', 'vaccine', 'swiss banks', 'roundup', 'coca cola', 'pipeline', 'shadow banking', 'trader jerome', 'entrepreneurs', 'ordeal', 'factory worker', 'pension cuts', 'stricken', 'range', 'militia', 'quashed', 'internet filtering', 'hatred', 'womens', 'surveillance technology', 'world record', 'top court', 'al jazeera', 'crash site', 'tymoshenko', 'ayatollah', 'imfs', 'nuclear test north', 'burials', 'private data', 'lone', 'long', 'vendors', 'upheld', 'global energy', 'scientific evidence', 'files', 'mountains', 'plunge', 'new research shows', 'searching', 'fisheries', 'repeatedly', 'filed', 'real world', 'junior', 'deployed', 'motive', 'patriot', 'ugandas parliament', 'rights groups', 'called', 'associated', 'soars', 'international drug', 'gunpoint', 'entrance', 'anti nsa', 'associates', 'reservoirs', 'rally', 'next year', 'chinas richest', 'state run media', 'nuclear workers', 'peace', 'project shows', 'backs', 'illegal file sharing', 'democratically', 'income', 'airline passenger data', 'eastern kunar', 'mock', 'nice', 'users', 'francois hollande', 'factory building', 'population growth', 'problems', 'oil industry', 'helping', 'meaning', 'long range missiles', 'allowing', 'suffers', 'vice', 'landmark ruling', 'departments', 'microsoft', 'nasa', 'narrative', 'standoff', 'once', 'edf', 'issued', 'high profile', 'resistance', 'water supply', 'alien', 'gang', 'winds', 'contributions', 'issues', 'teenage girl', 'mail service', 'trade deficit', 'drug production', 'simon', 'nationalization', 'itll', 'dissidents', 'saudi royal', 'languages', 'oecd urges', 'stable', 'breach', 'include', 'dramatically', 'islamic law', 'seized', 'mainstream', 'european space', 'ordinary greeks', 'engineered', 'approved bill', 'religious freedom', 'migrants', 'public support', 'new program', 'human albino body', 'head of britains', 'drinking', 'tutu', 'economic crisis', 'north korean nuclear test', 'notes', 'underscores', 'leader', 'deals', 'barents sea', 'polling', 'dealt', 'relation', 'small villages', 'settlers', 'noted', 'concluded', 'shahram', 'smaller', 'ben ali', 'air france', 'aquifer', 'fold', 'china india', 'jacob zuma', 'traveling', 'online protest', 'concludes', 'acid', 'haiyan relief', 'makers', 'folk', 'universities', 'exchange for money', 'public sector', 'french police', 'concessions', 'arms reduction', 'up german', 'bank bailouts', 'find', 'backdoor access', 'waiting', 'capital', 'relocate', 'ammunition', 'nazis', 'fire in china', 'dna database', 'chose', 'pushing', 'categorically', 'slated', 'rating agency', 'separation', 'scrapped', 'ukraine', 'trans', 'cant take', 'metro', 'sectarian division', 'larger', 'leaving', 'suggests', 'caste system', 'email system', 'apple', 'deputy', 'egypt', 'app', 'computer virus', 'scaled', 'russias fsb', 'arms sales', 'motor', 'duck', 'apply', 'saudi ambassador', 'boasts', 'trump', 'national government', 'power co', 'fed', 'fee', 'feb', 'stream', 'consumption', 'anonymous warns', 'germ', 'few', 'uss', 'expanding', 'subsidies', 'secret report', 'possession', 'brazilians', 'former british', 'journalists', 'former ambassador', 'heir', 'infection', 'cooperate', 'rabbis', 'series of secret germ warfare', 'web inventor', 'standard amp', 'women', 'john kerry', 'legal reform', 'angry protesters', 'slaps', 'islamabad', 'report exposes', 'stroke', 'presidential debate', 'political establishment', 'anywhere', 'military regime', 'dissolve', 'dropped', 'patrol', 'tar', 'spying', 'cairos tahrir', 'tax', 'next few years', 'tag', 'something', 'enrique', 'rape', 'military equipment', 'summers', 'united', 'syndrome', 'guru', 'mein', 'struggles', 'satellite photos', 'former italian', 'traders', 'brian', 'privatize', 'instead', 'ex minister', 'panic', 'secular', 'currency wars', 'swedish', 'nuclear watchdog', 'attend', 'masks', 'illegal drugs', 'abuse', 'g20 summit', 'ethnic', 'tahrir', 'cheaper', 'tax bill', 'energy firms', 'central bank', 'light', 'prince defects', 'wwii', 'chinese space', 'israeli state', 'new zealand prime minister', 'user data', 'spreads', 'wealth fund', 'pacific island', 'looks', 'quake', 'jamali fashi', 'efrain', 'boosts', 'contaminated', 'superior', 'silk', 'eu diplomat', 'frightening', 'lech', 'choose', 'orange', 'covered', 'holiday', 'crowds', 'violating', 'crash', 'orthodox', 'wolfgang', 'practice', 'flew', 'spikes', 'fingerprint', 'satellites', 'republican', 'flee', 'fled', 'successor', 'articles', 'northern irish', 'missile shield', 'agency xinhua', 'election protests', 'latvia', 'conservatism', 'trap', 'bills', 'eases', 'flight data', 'stealth technology', 'secretive', 'lobby group', 'related', 'icelands', 'communist rebels', 'remove', 'firepower', 'financial capital', 'ambassadors', 'satellite television', 'category', 'tabloid', 'main square', 'sentiment', 'disarray', 'chaos', 'agha soltan', 'german chancellor', 'western world', 'exporting', 'supports', 'bhopal', 'disclose', 'uks richest', 'north korea agrees', 'nsa uses', 'rouhani', 'taliban threaten', 'social programs', 'york', 'developed nation', 'conflicts', 'networking', 'philip', 'islamic republic', 'overtake', 'organic', 'islamic', 'power cuts', 'illicit', 'depriving', 'rumored', 'millions of dollars', 'wind energy', 'scientist shahram amiri', 'central bank governor', 'hard drive', 'proposing', 'cbc news', 'endemic', 'israeli arabs', 'publication', 'uniting', 'unknown', 'paypal freezes', 'priority', 'cell phones', 'national data', 'new rule', 'global power', 'shell', 'google boss', 'shelf', 'doomed', 'internet giants', 'german intelligence', 'leaders wife', 'greeces economy', 'july', 'diverse leads', 'institution', 'hearings', 'mubarak regime', 'holland', 'isolation', 'stock market', 'riches', 'infectious', 'limiting', 'patients', 'uncontrollable', 'different countries', 'hundred people', 'sugar cane', 'intelligence leaker edward snowden', 'teenagers', 'un human', 'western sanctions', 'linked', 'catholic', 'afraid', 'pupils', 'europes', 'agency', 'bosnian', 'russian prime minister', 'president lula', 'rapid population growth', 'combat', 'centre', 'petrol', 'harmful', 'cracking', 'copyright law', 'alarmed', 'class', 'european partners', 'deny', 'nuclear crisis', 'halved', 'neighboring', 'ensues', 'looked', 'shark fin soup', 'guinea', 'fund managers', 'gain', 'prime minister silvio', 'chances', 'electoral', 'agreed', 'quebecs', 'purely', 'planning', 'democrats', 'fear', 'feat', 'debate', 'guardian co uk', 'filmed', 'mumbai', 'first female', 'operational', 'new rules', 'fly zone', 'candidates', 'country pakistan', 'local', 'wen jiabao', 'prosecute', 'sued', 'topple', 'karzais', 'cuba', 'government insists', 'massacre', 'ones', 'sues', 'cubs', 'checkpoints', 'chips', 'new record', 'eurozones', 'homosexuals', 'liberation army', 'unesco world heritage site', 'ended', 'recent report', 'married', 'affluent', 'syrias ambassador', 'swear', 'generations', 'view', 'available', 'campaign groups', 'expel', 'acquired', 'climate change', 'north korea preparing', 'pr firm', 'amp tax', 'international court', 'gmail', 'closer', 'war crimes', 'jewish people', 'closet', 'windfall', 'action in syria', 'oil exports', 'genius', 'mexicans', 'identification', 'closed', 'crude', 'rendition', 'frustrated', 'defacing', 'recipe', 'jos', 'weighing', 'exam', 'opening', 'agencies', 'embarrassment', 'job', 'takeover', 'p2p', 'probing', 'carbon trading', 'swift', 'jon', 'karzai', 'dont ask', 'piece', 'near ukraine', 'xilai', 'april', 'grain', 'member states', 'financial trouble', 'iran nuclear deal', 'taliban regime', 'grounds', 'sequenced', 'tunisia', 'walk', 'packaging', 'guantnamo bay', 'respect', 'withdrawn', 'amp business', 'united kingdom', 'provinces', 'platform', 'hindu', 'hunters', 'bbc', 'window', 'responds', 'agreements', 'demand answers', 'boundless', 'iran china', 'emirate', 'tyrannical', 'former italian prime minister silvio', 'painted', 'swedish administration', 'worlds super', 'hms', 'ensuring', 'exploding', 'british pm david', 'present', 'syrian oil', 'abandoned', 'sultan', 'irate', 'choices', 'stunning', 'ruling class', 'nuclear whistleblower mordechai', 'wild', 'budget cuts', 'supply', 'state police', 'thus', 'news guardian co uk', 'dual', 'thug', 'major uk', 'new global currency', 'smuggle', 'perhaps', 'privileges', 'buddhist', 'radiation', 'cross', 'unite', 'safe haven', 'member', 'unity', 'attack on irans', 'largest', 'units', 'gets', 'privileged', 'difficult', 'cellphones', 'slave', 'entire nation', 'conceived', 'id card', 'diplomat', 'sopa', 'corruption activist', 'student', 'pdf', 'whale', 'lobby', 'warming', 'premiers', 'web pages', 'rating agency moodys', 'whole', 'contest', 'fighting', 'uk hacker', 'english', 'excessive', 'cried', 'heavily', 'election candidates', 'wealthy', 'old man', 'obtain', 'fishing', 'rocked', 'doesnt tolerate', 'biologist', 'toilets', 'rapid', 'saudi activist', 'tv interview', 'drunk', 'sky', 'capabilities', 'discuss', 'arresting', 'book', 'adoption', 'usage', 'sparking', 'acted', 'enact', 'islamist militants', 'branch', 'myth', 'north korean refugees', 'chief of staff', 'protesters', 'republics', 'interrogation', 'ex leader', 'south korea officials', 'know', 'facial', 'press', 'conduct series', 'neda', 'alan turing', 'loses', 'taxpayers', 'senior government officials', 'james', 'stealth fighter', 'traitors', 'canadas legal hemp industry', 'tumble', 'scared', 'scottish', 'illegally', 'growth', 'export', 'ablaze', 'empire', 'employment', 'disrupting', 'lead', 'leak', 'mines', 'philosopher', 'dna profiles', 'south america', 'bosses', 'young women', 'murdoch', 'murderer', 'obey', 'corruption crusader', 'murdered', 'nuclear experts', 'rare', 'carried', 'extension', 'getting', 'universe', 'solar plant', 'sectarian', 'shipping', 'surge', 'dependency', 'carries', 'carrier', 'weapons of mass', 'soviet era', 'ndp', 'outstripped', 'own', 'unsustainable', 'owe', 'payment', 'warrants', 'show of support', 'fundraiser', 'weather', 'promise', 'significantly', 'maize', 'nuke', 'van', 'transfer', 'desertification', 'apps', 'spiral', 'intention', 'own currency', 'film shows', 'ed', 'breeding', 'jason', 'footage shows', 'triggered', 'funds', 'oil spill', 'tasked', 'automated', 'teaming', 'challenges', 'polar bears', 'made', 'tactics', 'protesting', 'record', 'eu citizens', 'television channel', 'ruling', 'demonstrate', 'anti graft', 'tuesday night', 'horrific', 'received', 'nuclear power', 'nuclear plant tokyo', 'north korea threatens', 'mutual', 'press freedom', 'incredible', 'palestines', 'percent', 'monitors', 'other', 'rupert murdoch', 'boom', 'normal', 'murdochs news', 'junk', 'chavez', 'kinds', 'civil rights', 'june', 'poor nations', 'south africas ruling', 'upwards', 'extort', 'brazil russia', 'ranks', 'intentionally', 'korean government', 'new plan', 'volumes', 'tonnes', 'justice minister', 'expands', 'bereaved'])\n"
     ]
    }
   ],
   "source": [
    "final_vocabulary = set(word_final_list + phase_final_list)\n",
    "print len(final_vocabulary)\n",
    "print final_vocabulary"
   ]
  },
  {
   "cell_type": "code",
   "execution_count": 201,
   "metadata": {},
   "outputs": [
    {
     "name": "stdout",
     "output_type": "stream",
     "text": [
      "(1500, 11708)\n",
      "(489, 11708)\n"
     ]
    }
   ],
   "source": [
    "tfidfvectorizer_final = TfidfVectorizer(vocabulary = final_vocabulary, ngram_range = (1, 5))\n",
    "train_term_document_matrix_tfidf = tfidfvectorizer_final.fit_transform(headlines_train)\n",
    "test_term_document_matrix_tfidf = tfidfvectorizer_final.transform(headlines_test)\n",
    "print train_term_document_matrix_tfidf.shape\n",
    "print test_term_document_matrix_tfidf.shape"
   ]
  },
  {
   "cell_type": "markdown",
   "metadata": {},
   "source": [
    "### Decision Tree"
   ]
  },
  {
   "cell_type": "code",
   "execution_count": 202,
   "metadata": {},
   "outputs": [
    {
     "name": "stdout",
     "output_type": "stream",
     "text": [
      "0.541333333333\n",
      "0.517382413088\n"
     ]
    }
   ],
   "source": [
    "# REFERENCE: http://scikit-learn.org/stable/modules/tree.html\n",
    "from sklearn import tree\n",
    "clf = tree.DecisionTreeClassifier()\n",
    "clf = clf.fit(train_term_document_matrix_tfidf, DJIA_train)\n",
    "clf_train = clf.predict(train_term_document_matrix_tfidf)\n",
    "clf_test = clf.predict(test_term_document_matrix_tfidf)\n",
    "train_accu = sum(DJIA_train == clf_train)/float(len(DJIA_train))\n",
    "test_accu = sum(DJIA_test == clf_test)/float(len(DJIA_test))\n",
    "print train_accu\n",
    "print test_accu"
   ]
  },
  {
   "cell_type": "markdown",
   "metadata": {},
   "source": [
    "### Random Forests"
   ]
  },
  {
   "cell_type": "code",
   "execution_count": 203,
   "metadata": {},
   "outputs": [
    {
     "name": "stdout",
     "output_type": "stream",
     "text": [
      "0.541333333333\n",
      "0.517382413088\n"
     ]
    }
   ],
   "source": [
    "# REFERENCE: http://scikit-learn.org/stable/modules/generated/sklearn.ensemble.RandomForestClassifier.html\n",
    "from sklearn.ensemble import RandomForestClassifier\n",
    "clfr = RandomForestClassifier(max_depth=100, random_state=0)\n",
    "clfr = clfr.fit(train_term_document_matrix_tfidf, DJIA_train)\n",
    "clfr_train = clfr.predict(train_term_document_matrix_tfidf)\n",
    "clfr_test = clfr.predict(test_term_document_matrix_tfidf)\n",
    "train_accu = sum(DJIA_train == clfr_train)/float(len(DJIA_train))\n",
    "test_accu = sum(DJIA_test == clfr_test)/float(len(DJIA_test))\n",
    "print train_accu\n",
    "print test_accu"
   ]
  },
  {
   "cell_type": "code",
   "execution_count": null,
   "metadata": {
    "collapsed": true
   },
   "outputs": [],
   "source": []
  },
  {
   "cell_type": "code",
   "execution_count": null,
   "metadata": {
    "collapsed": true
   },
   "outputs": [],
   "source": []
  },
  {
   "cell_type": "code",
   "execution_count": null,
   "metadata": {
    "collapsed": true
   },
   "outputs": [],
   "source": []
  },
  {
   "cell_type": "code",
   "execution_count": null,
   "metadata": {
    "collapsed": true
   },
   "outputs": [],
   "source": []
  },
  {
   "cell_type": "markdown",
   "metadata": {},
   "source": [
    "## Tokenization End"
   ]
  },
  {
   "cell_type": "code",
   "execution_count": 186,
   "metadata": {
    "collapsed": true
   },
   "outputs": [],
   "source": [
    "headlines =[' '.join(map(str, headline)) for headline in headlines]"
   ]
  },
  {
   "cell_type": "code",
   "execution_count": 187,
   "metadata": {},
   "outputs": [
    {
     "data": {
      "text/plain": [
       "1989"
      ]
     },
     "execution_count": 187,
     "metadata": {},
     "output_type": "execute_result"
    }
   ],
   "source": [
    "len(headlines)"
   ]
  },
  {
   "cell_type": "code",
   "execution_count": 188,
   "metadata": {},
   "outputs": [
    {
     "data": {
      "text/plain": [
       "['G e o r g i a   \\' d o w n s   t w o   R u s s i a n   w a r p l a n e s \\'   a s   c o u n t r i e s   m o v e   t o   b r i n k   o f   w a r \"   B R E A K I N G :   M u s h a r r a f   t o   b e   i m p e a c h e d . \\'   R u s s i a   T o d a y :   C o l u m n s   o f   t r o o p s   r o l l   i n t o   S o u t h   O s s e t i a ;   f o o t a g e   f r o m   f i g h t i n g   ( Y o u T u b e ) \\'   R u s s i a n   t a n k s   a r e   m o v i n g   t o w a r d s   t h e   c a p i t a l   o f   S o u t h   O s s e t i a ,   w h i c h   h a s   r e p o r t e d l y   b e e n   c o m p l e t e l y   d e s t r o y e d   b y   G e o r g i a n   a r t i l l e r y   f i r e \\'   A f g h a n   c h i l d r e n   r a p e d   w i t h   \\' i m p u n i t y , \\'   U . N .   o f f i c i a l   s a y s   -   t h i s   i s   s i c k ,   a   t h r e e   y e a r   o l d   w a s   r a p e d   a n d   t h e y   d o   n o t h i n g \"   1 5 0   R u s s i a n   t a n k s   h a v e   e n t e r e d   S o u t h   O s s e t i a   w h i l s t   G e o r g i a   s h o o t s   d o w n   t w o   R u s s i a n   j e t s . \\'   B r e a k i n g :   G e o r g i a   i n v a d e s   S o u t h   O s s e t i a ,   R u s s i a   w a r n e d   i t   w o u l d   i n t e r v e n e   o n   S O \\' s   s i d e \"   T h e   \\' e n e m y   c o m b a t e n t \\'   t r i a l s   a r e   n o t h i n g   b u t   a   s h a m :   S a l i m   H a m a n   h a s   b e e n   s e n t e n c e d   t o   5   1 / 2   y e a r s ,   b u t   w i l l   b e   k e p t   l o n g e r   a n y w a y   j u s t   b e c a u s e   t h e y   f e e l   l i k e   i t . \"   G e o r g i a n   t r o o p s   r e t r e a t   f r o m   S .   O s e t t a i n   c a p i t a l ,   p r e s u m a b l y   l e a v i n g   s e v e r a l   h u n d r e d   p e o p l e   k i l l e d .   [ V I D E O ] \\'   D i d   t h e   U . S .   P r e p   G e o r g i a   f o r   W a r   w i t h   R u s s i a ? \\'   R i c e   G i v e s   G r e e n   L i g h t   f o r   I s r a e l   t o   A t t a c k   I r a n :   S a y s   U . S .   h a s   n o   v e t o   o v e r   I s r a e l i   m i l i t a r y   o p s \\'   A n n o u n c i n g : C l a s s   A c t i o n   L a w s u i t   o n   B e h a l f   o f   A m e r i c a n   P u b l i c   A g a i n s t   t h e   F B I \\'   S o - - - R u s s i a   a n d   G e o r g i a   a r e   a t   w a r   a n d   t h e   N Y T \\' s   t o p   s t o r y   i s   o p e n i n g   c e r e m o n i e s   o f   t h e   O l y m p i c s ?     W h a t   a   f u c k i n g   d i s g r a c e   a n d   y e t   f u r t h e r   p r o o f   o f   t h e   d e c l i n e   o f   j o u r n a l i s m . \"   C h i n a   t e l l s   B u s h   t o   s t a y   o u t   o f   o t h e r   c o u n t r i e s \\'   a f f a i r s \"   D i d   W o r l d   W a r   I I I   s t a r t   t o d a y ? \\'   G e o r g i a   I n v a d e s   S o u t h   O s s e t i a   -   i f   R u s s i a   g e t s   i n v o l v e d ,   w i l l   N A T O   a b s o r b   G e o r g i a   a n d   u n l e a s h   a   f u l l   s c a l e   w a r ? \\'   A l - Q a e d a   F a c e s   I s l a m i s t   B a c k l a s h \\'   C o n d o l e e z z a   R i c e :   \" T h e   U S   w o u l d   n o t   a c t   t o   p r e v e n t   a n   I s r a e l i   s t r i k e   o n   I r a n . \"   I s r a e l i   D e f e n s e   M i n i s t e r   E h u d   B a r a k :   \" I s r a e l   i s   p r e p a r e d   f o r   u n c o m p r o m i s i n g   v i c t o r y   i n   t h e   c a s e   o f   m i l i t a r y   h o s t i l i t i e s . \" \\'   T h i s   i s   a   b u s y   d a y :     T h e   E u r o p e a n   U n i o n   h a s   a p p r o v e d   n e w   s a n c t i o n s   a g a i n s t   I r a n   i n   p r o t e s t   a t   i t s   n u c l e a r   p r o g r a m m e . \\'   G e o r g i a   w i l l   w i t h d r a w   1 , 0 0 0   s o l d i e r s   f r o m   I r a q   t o   h e l p   f i g h t   o f f   R u s s i a n   f o r c e s   i n   G e o r g i a \\' s   b r e a k a w a y   r e g i o n   o f   S o u t h   O s s e t i a \"   W h y   t h e   P e n t a g o n   T h i n k s   A t t a c k i n g   I r a n   i s   a   B a d   I d e a   -   U S   N e w s   & a m p ;   W o r l d   R e p o r t \\'   C a u c a s u s   i n   c r i s i s :   G e o r g i a   i n v a d e s   S o u t h   O s s e t i a \\'   I n d i a n   s h o e   m a n u f a c t o r y     -   A n d   a g a i n   i n   a   s e r i e s   o f   \" y o u   d o   n o t   l i k e   y o u r   w o r k ? \" \\'   V i s i t o r s   S u f f e r i n g   f r o m   M e n t a l   I l l n e s s e s   B a n n e d   f r o m   O l y m p i c s \\'   N o   H e l p   f o r   M e x i c o \\' s   K i d n a p p i n g   S u r g e \"',\n",
       " 'W h y   w o n t   A m e r i c a   a n d   N a t o   h e l p   u s ?   I f   t h e y   w o n t   h e l p   u s   n o w ,   w h y   d i d   w e   h e l p   t h e m   i n   I r a q ? \\'   B u s h   p u t s   f o o t   d o w n   o n   G e o r g i a n   c o n f l i c t \\'   J e w i s h   G e o r g i a n   m i n i s t e r :   T h a n k s   t o   I s r a e l i   t r a i n i n g ,   w e \\' r e   f e n d i n g   o f f   R u s s i a   \"   G e o r g i a n   a r m y   f l e e s   i n   d i s a r r a y   a s   R u s s i a n s   a d v a n c e   -   G o r i   a b a n d o n e d   t o   R u s s i a   w i t h o u t   a   s h o t   f i r e d \\'   O l y m p i c   o p e n i n g   c e r e m o n y   f i r e w o r k s   \\' f a k e d \\' \"   W h a t   w e r e   t h e   M o s s a d   w i t h   f r a u d u l e n t   N e w   Z e a l a n d   P a s s p o r t s   d o i n g   i n   I r a q ? \\'   R u s s i a   a n g e r e d   b y   I s r a e l i   m i l i t a r y   s a l e   t o   G e o r g i a \\'   A n   A m e r i c a n   c i t i z e n   l i v i n g   i n   S . O s s e t i a   b l a m e s   U . S .   a n d   G e o r g i a n   l e a d e r s   f o r   t h e   g e n o c i d e   o f   i n n o c e n t   p e o p l e \\'   W e l c o m e   T o   W o r l d   W a r   I V !   N o w   I n   H i g h   D e f i n i t i o n ! \\'   G e o r g i a \\' s   m o v e ,   a   m i s t a k e   o f   m o n u m e n t a l   p r o p o r t i o n s   \"   R u s s i a   p r e s s e s   d e e p e r   i n t o   G e o r g i a ;   U . S .   s a y s   r e g i m e   c h a n g e   i s   g o a l \\'   A b h i n a v   B i n d r a   w i n s   f i r s t   e v e r   I n d i v i d u a l   O l y m p i c   G o l d   M e d a l   f o r   I n d i a \\'     U . S .   s h i p   h e a d s   f o r   A r c t i c   t o   d e f i n e   t e r r i t o r y \\'   D r i v e r s   i n   a   J e r u s a l e m   t a x i   s t a t i o n   t h r e a t e n   t o   q u i t   r a t h e r   t h a n   w o r k   f o r   t h e i r   n e w   b o s s   -   a n   A r a   T h e   F r e n c h   T e a m   i s   S t u n n e d   b y   P h e l p s   a n d   t h e   4 x 1 0 0 m   R e l a y   T e a m \\'   I s r a e l   a n d   t h e   U S   b e h i n d   t h e   G e o r g i a n   a g g r e s s i o n ? \\'   \" D o   n o t   b e l i e v e   T V ,   n e i t h e r   R u s s i a n   n o r   G e o r g i a n .   T h e r e   a r e   m u c h   m o r e   v i c t i m s \" \\'   R i o t s   a r e   s t i l l   g o i n g   o n   i n   M o n t r e a l   ( C a n a d a )   b e c a u s e   p o l i c e   m u r d e r e d   a   b o y   o n   S a t u r d a y . \\'   C h i n a   t o   o v e r t a k e   U S   a s   l a r g e s t   m a n u f a c t u r e r \\'   W a r   i n   S o u t h   O s s e t i a   [ P I C S ] \\'   I s r a e l i   P h y s i c i a n s   G r o u p   C o n d e m n s   S t a t e   T o r t u r e \\'     R u s s i a   h a s   j u s t   b e a t e n   t h e   U n i t e d   S t a t e s   o v e r   t h e   h e a d   w i t h   P e a k   O i l \\'   P e r h a p s   t h e   q u e s t i o n   a b o u t   t h e   G e o r g i a   -   R u s s i a   c o n f l i c t   \\'   R u s s i a   i s   s o   m u c h   b e t t e r   a t   w a r \\'   S o   t h i s   i s   w h a t   i t \\' s   c o m e   t o :   t r a d i n g   s e x   f o r   f o o d . \"',\n",
       " 'R e m e m b e r   t h a t   a d o r a b l e   9 - y e a r - o l d   w h o   s a n g   a t   t h e   o p e n i n g   c e r e m o n i e s ?   T h a t   w a s   f a k e ,   t o o . \\'   R u s s i a   \\' e n d s   G e o r g i a   o p e r a t i o n \\' \"   \" I f   w e   h a d   n o   s e x u a l   h a r a s s m e n t   w e   w o u l d   h a v e   n o   c h i l d r e n . . . \" \\'   A l - Q a \\' e d a   i s   l o s i n g   s u p p o r t   i n   I r a q   b e c a u s e   o f   a   b r u t a l   c r a c k d o w n   o n   a c t i v i t i e s   i t   r e g a r d s   a s   u n - I s l a m i c   -   i n c l u d i n g   w o m e n   b u y i n g   c u c u m b e r s \"   C e a s e f i r e   i n   G e o r g i a :   P u t i n   O u t m a n e u v e r s   t h e   W e s t \\'   W h y   M i c r o s o f t   a n d   I n t e l   t r i e d   t o   k i l l   t h e   X O   $ 1 0 0   l a p t o p \\'   S t r a t f o r :   T h e   R u s s o - G e o r g i a n   W a r   a n d   t h e   B a l a n c e   o f   P o w e r       \\'   I \\' m   T r y i n g   t o   G e t   a   S e n s e   o f   T h i s   W h o l e   G e o r g i a - R u s s i a   W a r :   V o t e   U p   I f   Y o u   T h i n k   G e o r g i a   S t a r t e d   I t ,   O r   D o w n   I f   y o u   T h i n k   R u s s i a   D i d \"   T h e   U S   m i l i t a r y   w a s   s u r p r i s e d   b y   t h e   t i m i n g   a n d   s w i f t n e s s   o f   t h e   R u s s i a n   m i l i t a r y \\' s   m o v e   i n t o   S o u t h   O s s e t i a   a n d   i s   s t i l l   t r y i n g   t o   s o r t   o u t   w h a t   h a p p e n e d ,   a   U S   d e f e n s e   o f f i c i a l   s a i d   M o n d a y \"   U . S .   B e a t s   W a r   D r u m   a s   I r a n   D u m p s   t h e   D o l l a r \\'   G o r b a c h e v :   \" G e o r g i a n   m i l i t a r y   a t t a c k e d   t h e   S o u t h   O s s e t i a n   c a p i t a l   o f   T s k h i n v a l i   w i t h   m u l t i p l e   r o c k e t   l a u n c h e r s   d e s i g n e d   t o   d e v a s t a t e   l a r g e   a r e a s \" \\'   C N N   u s e   f o o t a g e   o f   T s k h i n v a l i   r u i n s   t o   c o v e r   G e o r g i a n   r e p o r t   [ V I D E O ] \\'   B e g i n n i n g   a   w a r   a s   t h e   O l y m p i c s   w e r e   o p e n i n g   v i o l a t e s   t h e   a n c i e n t   t r a d i t i o n   o f   a   t r u c e   t o   c o n f l i c t   d u r i n g   t h e   G a m e s .     T h e   I O C   c o u l d   r e s p o n d   b y   t a k i n g   t h e   2 0 1 4   g a m e s   a w a y   f r o m   R u s s i a . \\'   5 5   p y r a m i d s   a s   l a r g e   a s   t h e   L u x o r   s t a c k e d   i n t o   a   m e g a - c i t y   p y r a m i d   i n   T o k y o   B a y \\'   T h e   1 1   T o p   P a r t y   C i t i e s   i n   t h e   W o r l d \\'   U . S .   t r o o p s   s t i l l   i n   G e o r g i a   ( d i d   y o u   k n o w   t h e y   w e r e   i n   G e o r g i a   i n   t h e   f i r s t   p l a c e ? ) \\'   W h y   R u s s i a s   r e s p o n s e   t o   G e o r g i a   w a s   r i g h t \\'   G o r b a c h e v   a c c u s e s   U . S .   o f   m a k i n g   a   \" s e r i o u s   b l u n d e r \"   i n   p u r s u i n g   i t s   i n t e r e s t   i n   t h e   C a u c a s u s   r e g i o n \\'   R u s s i a ,   G e o r g i a ,   a n d   N A T O :   C o l d   W a r   T w o \\'   R e m e m b e r   t h a t   a d o r a b l e   6 2 - y e a r - o l d   w h o   l e d   y o u r   c o u n t r y   i n t o   w a r   b a s e d   o n   e v i d e n c e ?   T h a t   w a s   f a k e ,   t o o . \\'   W a r   i n   G e o r g i a :   T h e   I s r a e l i   c o n n e c t i o n \\'   A l l   s i g n s   p o i n t   t o   t h e   U S   e n c o u r a g i n g   G e o r g i a   t o   i n v a d e   S o u t h   O s s e t i a .   G o d d a m n i t   B u s h . \\'   C h r i s t o p h e r   K i n g   a r g u e s   t h a t   t h e   U S   a n d   N A T O   a r e   b e h i n d   t h e   G e o r g i a n   i n v a s i o n   o f   S o u t h   O s s e t i a   b u t   h a v e   m i s j u d g e d   R u s s i a n   r e s o l v e .   \\'   A m e r i c a :   T h e   N e w   M e x i c o ? \\'   B B C   N E W S   |   A s i a - P a c i f i c   |   E x t i n c t i o n   \\' b y   m a n   n o t   c l i m a t e \\' \"',\n",
       " '  U . S .   r e f u s e s   I s r a e l   w e a p o n s   t o   a t t a c k   I r a n :   r e p o r t \\'   W h e n   t h e   p r e s i d e n t   o r d e r e d   t o   a t t a c k   T s k h i n v a l i   [ t h e   c a p i t a l   o f   S o u t h   O s s e t i a ] ,   w e   k n e w   t h e n   w e   w e r e   d o o m e d .   H o w   c o m e   h e   d i d n \\' t   r e a l i z e   t h a t ? \"     I s r a e l   c l e a r s   t r o o p s   w h o   k i l l e d   R e u t e r s   c a m e r a m a n \\'   B r i t a i n \\\\ \\' s   p o l i c y   o f   b e i n g   t o u g h   o n   d r u g s   i s   \" p o i n t l e s s \" ,   s a y s   a   f o r m e r   c i v i l   s e r v a n t   w h o   o n c e   r a n   t h e   C a b i n e t \\\\ \\' s   a n t i - d r u g s   u n i t . \\'   B o d y   o f   1 4   y e a r   o l d   f o u n d   i n   t r u n k ;   L a t e s t   ( r a n s o m   p a i d )   k i d n a p p i n g   v i c t i m   i n   M e x i c o .   H e a d   c o p   q u i t s ,   P r e z   d i s s o l v e s   s u s p e c t   e l i t e   t a s k   f o r c e \\'   C h i n a   h a s   m o v e d   1 0   m i l l i o n   q u a k e   s u r v i v o r s   i n t o   p r e f a b   h o m e s \\'   B u s h   a n n o u n c e s   O p e r a t i o n   G e t   A l l   U p   I n   R u s s i a \\' s   G r i l l .   Y e a h ,   t h i s   w i l l   e n d   w e l l . \"   R u s s i a n   f o r c e s   s i n k   G e o r g i a n   s h i p s   \\'   T h e   c o m m a n d e r   o f   a   N a v y   a i r   r e c o n n a i s s a n c e   s q u a d r o n   t h a t   p r o v i d e s   t h e   P r e s i d e n t   a n d   t h e   d e f e n s e   s e c r e t a r y   t h e   a i r b o r n e   a b i l i t y   t o   c o m m a n d   t h e   n a t i o n \\' s   n u c l e a r   w e a p o n s   h a s   b e e n   r e l i e v e d   o f   d u t y \"   9 2 %   o f   C N N   r e a d e r s :   R u s s i a \\' s   a c t i o n s   i n   G e o r g i a   -   j u s t i f i e d ! \"   U S A   t o   s e n d   f l e e t   i n t o   B l a c k   S e a   t o   h e l p   G e o r g i a ,   s e n d   t r o o p s   i n   \" h u m a n i t a r i a n   a i d   e x e r c i s e \" \\'   U S   w a r n s   a g a i n s t   I s r a e l i   p l a n   t o   s t r i k e   a g a i n s t   I r a n \\' s   n u c l e a r   f a c i l i t i e s \"   I n   a n   i n t r i g u i n g   c y b e r a l l i a n c e ,   t w o   E s t o n i a n   c o m p u t e r   e x p e r t s   a r e   h e a d i n g   t o   G e o r g i a   t o   k e e p   t h e   c o u n t r y \\' s   n e t w o r k s   r u n n i n g   a m i d   a n   i n t e n s e   m i l i t a r y   c o n f r o n t a t i o n   w i t h   R u s s i a \"   T h e   C N N   E f f e c t :   G e o r g i a   S c h o o l s   R u s s i a   i n   I n f o r m a t i o n   W a r f a r e \\'   W h y   R u s s i a s   r e s p o n s e   t o   G e o r g i a   w a s   r i g h t \\'   E l e p h a n t s   e x t i n c t   b y   2 0 2 0 ? \\'   U S   h u m a n i t a r i a n   m i s s i o n s   s o o n   i n   G e o r g i a   -   i f   R u s s i a   h i t s   t h e   U S   -   W W I I I ? \\'   G e o r g i a \\' s   D D O S   c a m e   f r o m   U S   s o u r c e s \"   R u s s i a n   c o n v o y   h e a d s   i n t o   G e o r g i a ,   v i o l a t i n g   t r u c e \\'   I s r a e l i   d e f e n c e   m i n i s t e r :   U S   a g a i n s t   s t r i k e   o n   I r a n \\'   G o r b a c h e v :   W e   H a d   N o   C h o i c e \\'   W i t n e s s :   R u s s i a n   f o r c e s   h e a d   t o w a r d s   T b i l i s i   i n   b r e a c h   o f   c e a s e f i r e   a g r e e m e n t \\'     Q u a r t e r   o f   R u s s i a n s   b l a m e   U . S .   f o r   c o n f l i c t :   p o l l \\'   G e o r g i a n   p r e s i d e n t     s a y s   U S   m i l i t a r y   w i l l   t a k e   c o n t r o l   o f   s e a p o r t s   a n d   a i r p o r t s   -   P e n t a g o n   d e n i e s \\'   2 0 0 6 :   N o b e l   l a u r e a t e   A l e k s a n d e r   S o l z h e n i t s y n   a c c u s e s   U . S . ,   N A T O   o f   e n c i r c l i n g   R u s s i a \\'',\n",
       " 'A l l   t h e   e x p e r t s   a d m i t   t h a t   w e   s h o u l d   l e g a l i s e   d r u g s   \\'   W a r   i n   S o u t h   O s e t i a   -   8 9   p i c t u r e s   m a d e   b y   a   R u s s i a n   s o l d i e r . \\'   S w e d i s h   w r e s t l e r   A r a   A b r a h a m i a n   t h r o w s   a w a y   m e d a l   i n   O l y m p i c   h i s s y   f i t   \\'   R u s s i a   e x a g g e r a t e d   t h e   d e a t h   t o l l   i n   S o u t h   O s s e t i a .   N o w   o n l y   4 4   w e r e   o r i g i n a l l y   k i l l e d   c o m p a r e d   t o   2 , 0 0 0 . \\'   M i s s i l e   T h a t   K i l l e d   9   I n s i d e   P a k i s t a n   M a y   H a v e   B e e n   L a u n c h e d   b y   t h e   C I A \\'   R u s h d i e   C o n d e m n s   R a n d o m   H o u s e \\' s   R e f u s a l   t o   P u b l i s h   N o v e l   f o r   F e a r   o f   M u s l i m   R e t a l i a t i o n \"   P o l a n d   a n d   U S   a g r e e   t o   m i s s l e   d e f e n s e   d e a l .   I n t e r e s t i n g   t i m i n g ! \\'   W i l l   t h e   R u s s i a n s   c o n q u e r   T b l i s i ?   B e t   o n   i t ,   n o   s e r i o u s l y   y o u   c a n   B E T   o n   i t \\'   R u s s i a   e x a g g e r a t i n g   S o u t h   O s s e t i a n   d e a t h   t o l l ,   s a y s   h u m a n   r i g h t s   g r o u p \\'     M u s h a r r a f   e x p e c t e d   t o   r e s i g n   r a t h e r   t h a n   f a c e   i m p e a c h m e n t \\'   M o s c o w   M a d e   P l a n s   M o n t h s   A g o   t o   I n v a d e   G e o r g i a \\'   W h y   R u s s i a s   r e s p o n s e   t o   G e o r g i a   w a s   r i g h t \\'   N i g e r i a   h a s   h a n d e d   o v e r   t h e   p o t e n t i a l l y   o i l - r i c h   B a k a s s i   p e n i n s u l a   t o   C a m e r o o n . \\'   T h e   U S   a n d   P o l a n d   h a v e   a g r e e d   a   p r e l i m i n a r y   d e a l   o n   p l a n s   f o r   t h e   c o n t r o v e r s i a l   U S   d e f e n c e   s h i e l d \\'   R u s s i a   a p p a r e n t l y   i s   s a b o t a g i n g   i n f r a s t r u c t u r e   t o   c r i p p l e   t h e   a l r e a d y   b a t t e r e d   G e o r g i a n   m i l i t a r y . \\'   B a n k   a n a l y s t   f o r e c a s t   G e o r g i a n   c r i s i s   2   d a y s   e a r l y \\'   G e o r g i a   c o n f i c t   c o u l d   s e t   b a c k   R u s s i a \\' s   U S   r e l a t i o n s   \\' f o r   y e a r s \\'   |   W o r l d   n e w s   |   g u a r d i a n . c o . u k \"   W a r   i n   t h e   C a u c a s u s   i s   a s   m u c h   t h e   p r o d u c t   o f   a n   A m e r i c a n   i m p e r i a l   d r i v e   a s   l o c a l   c o n f l i c t s . \\'   \" N o n - m e d i a \"   p h o t o s   o f   S o u t h   O s s e t i a / G e o r g i a   c o n f l i c t . \\'   G e o r g i a n   T V   r e p o r t e r   s h o t   b y   R u s s i a n   s n i p e r   d u r i n g   l i v e   b r o a d c a s t   [ v i d e o ] \\'   S a u d i   A r a b i a :   M o t h e r   m o v e s   t o   b l o c k   c h i l d   m a r r i a g e \\'   T a l i b a n   w a g e s   w a r   o n   h u m a n i t a r i a n   a i d   w o r k e r s \\'   R u s s i a :   W o r l d     \" c a n   f o r g e t   a b o u t \"   G e o r g i a \\\\ \\' s   t e r r i t o r i a l   i n t e g r i t y \\'   D a r f u r   r e b e l s   a c c u s e   S u d a n   o f   m o u n t i n g   m a j o r   a t t a c k \\'   P h i l i p p i n e s   :   P e a c e   A d v o c a t e   s a y   M u s l i m s   n e e d   a s s u r a n c e   C h r i s t i a n s   n o t   o u t   t o   c o n v e r t   t h e m \\'',\n",
       " 'M o m   o f   m i s s i n g   g a y   m a n :   T o o   b a d   h e \\' s   n o t   a   2 1 - y e a r - o l d   c h e e r l e a d e r ,   t h e n   t h e y \\' d   s t i l l   b e   l o o k i n g   f o r   h i m \"   R u s s i a :   U . S .   P o l a n d   M i s s i l e   D e a l   W o n \\' t   G o   \\' U n p u n i s h e d \\' \"   T h e   g o v e r n m e n t   h a s   b e e n   a c c u s e d   o f   c r e a t i n g   l a w s   t h a t   h a v e   a   c h i l l i n g   e f f e c t   o n   f r e e d o m   o f   e x p r e s s i o n   i n   t h e   U K   i n   a   c r i t i c a l   r e p o r t   f r o m   t h e   U N \\' s   c o m m i t t e e   o n   h u m a n   r i g h t s \"   T h e   I t a l i a n   g o v e r n m e n t   h a s   l a s h e d   o u t   a t   a n   i n f l u e n t i a l   C a t h o l i c   m a g a z i n e   w h i c h   s u g g e s t e d   f a s c i s m   m i g h t   b e   r e s u r f a c i n g   w i t h i n   t h e   g o v e r n m e n t . \\'   G o r b a c h e v :   G e o r g i a   s t a r t e d   c o n f l i c t   i n   S .   O s s e t i a \\'   C h i n a   f a k e s   m o r e   t h a n   y o u r   g i r l f r i e n d ;   \\' E t h n i c   m i n o r i t y \\'   c h i l d r e n   a t   O l y m p i c s   c e r e m o n y   w e r e   f a k e   t o o ! \"   T h e   U N \\' s   c r i t i c i s m   o f   f r e e d o m   o f   e x p r e s s i o n   i n   t h e   U K   a r e   v a l i d \"   R u s s i a n   g e n e r a l   t h r e a t e n s   n u c l e a r   s t r i k e   o n   P o l a n d   a s   B u s h   d e m a n d s   M o s c o w   w i t h d r a w s   f r o m   G e o r g i a \\'   R u s s i a   c a n   i n s p e c t   P o l i s h   m i s s i l e   d e f e n c e   s i t e \\'   R u s s i a - G e o r g i a   C o n f l i c t   F u e l e d   b y   R u s h   t o   C o n t r o l   C a s p i a n   E n e r g y   R e s o u r c e s \\'   B u s i n e s s   W e e k :   V i c t o r y   i n   G e o r g i a   g i v e s   R u s s i a   t h e   e d g e   i n   t h e   s t r u g g l e   o v e r   a c c e s s   t o   t h e   C a s p i a n \\' s   3 5   b i l l i o n   b a r r e l s   o f   o i l   a n d   t r i l l i o n s   o f   c u b i c   f e e t   o f   g a s \"   U n d e r   S o v i e t   r u l e   w e   d i d n \\' t   b e l i e v e   a   w o r d   o f   o u r   o w n   p r o p a g a n d a . . .   B u t   w e   h a v e   l e a r n t . . .   t h a t   t h e   W e s t   h a s   i t s   o w n   p r o p a g a n d a   a n d . . .   i s   m o r e   p o w e r f u l   b e c a u s e   p e o p l e   b e l i e v e   i t . \"   M i n i s t e r s   h a v e   b e e n   a c c u s e d   o f   b u i l d i n g   a   n a t i o n a l   D N A   d a t a b a s e   \" b y   s t e a l t h \"   b y   r e t a i n i n g   p r o f i l e s   o f   n e a r l y   4 0 , 0 0 0   c h i l d r e n   n e v e r   c o n v i c t e d   o f   a   c r i m e . \\'   R u s s i a :   G e o r g i a   c a n   \\' f o r g e t \\'   r e g a i n i n g   p r o v i n c e s \"   R u s s i a n s   \\' S e i z e   U S   W e a p o n s   D e p o t \\'   i n   G e o r g i a \"   W h y   a r e   r e d d i t o r s   g e n e r a l l y   s u p p o r t i v e   o f   R u s s i a s   i n v a s i o n   o f   G e o r g i a ,   b u t   c r i t i c a l   o f   A m e r i c a s   i n   I r a q ? \\'   J o h a n n   H a r i :   W e   n e e d   t o   s t o p   b e i n g   s u c h   c o w a r d s   a b o u t   I s l a m \\'   U S   o f f i c i a l s   h a v e   s a i d   t h a t   t h e i r   m i l i t a r y   p r e s e n c e   i n   G e o r g i a   w i l l   n o w   b e c o m e   p e r m a n e n t \\'   I s r a e l   c l e a r s   t r o o p s   w h o   k i l l e d   R e u t e r s   c a m e r a m a n \\'   U n e n f o r c e a b l e   l a w s   e n c o u r a g e   c o p s   t o   e s c a l a t e   t h e i r   t a c t i c s   - -   u n t i l   t r a g e d y   o c c u r s \\'   W h a t   C h i n e s e   p o l l u t i o n   r e a l l y   l o o k s   l i k e \\'   H a c k e r   K i d n a p s   a n d   T o r t u r e s   I n f o r m a n t ,   P o s t s   P i c t u r e   a s   a   W a r n i n g   t o   O t h e r s \\'   B u s h   T e l l s   P u t i n :   T h i s   A g g r e s s i o n   W i l l   N o t   S t a n d \\'   G e o r g i a   i s   a l l   a b o u t   t h e   o i l   p i p e l i n e s \\'   R i v a l s   s a y   t h e y   p l a n   t o   r e m o v e   G e o r g i a n   p r e s i d e n t \\'',\n",
       " 'I n   a n   A f g h a n   p r i s o n ,   t h e   m a j o r i t y   o f   f e m a l e   p r i s o n e r s   a r e   s e r v i n g   2 0 - y e a r   s e n t e n c e s   f o r   b e i n g   v i c t i m s   o f   r a p e   \\'   L i t t l e   g i r l ,   y o u \\' r e   n o t   u g l y ;   t h e y   a r e \"   P a k i s t a n \\' s   M u s h a r r a f   t o   R e s i g n ,   L e a v e   t h e   C o u n t r y \"   T o r n a d o   t h r o w s   a   b u s   i n   P o l a n d ,   c a p t u r e d   b y   o n e   o f   t h e   p a s s e n g e r s \\'   B r i t a i n \\' s   t e r r o r   l a w s   h a v e   l e f t   m e   a n d   m y   f a m i l y   s h a t t e r e d \"   I r a n   \\' f i r e s   s a t e l l i t e   i n t o   s p a c e \\' \"   R i g h t s   o f   N o n - M u s l i m s   r e s t r i c t e d   b y   n e w   M a l d i v e s   c o n s t i t u t i o n \\'   T o u r   o f   T s k h i n v a l i   u n d e r c u t s   R u s s i a n   v e r s i o n   o f   f i g h t i n g \\'   T h e   G r e a t   R e s o u r c e   W a r   i s   a l r e a d y   u n d e r w a y ,   m a i n l y   i n   t h e   M i d d l e   E a s t ,   b u t   a l s o   i n   s m a l l e r   s k i r m i s h e s   s c a t t e r e d   a r e a s   a r o u n d   t h e   w o r l d ,   d i s g u i s e d   t o   m a n y   a s   t h e   G l o b a l   W a r   o n   T e r r o r .   \\'   O v e r   1 9 0 , 0 0 0   U S   c o n t r a c t o r s   w o r k i n g   i n   I r a q \\'   R u s s i a   m o v e s   S S - 2 1   m i s s i l e s   i n t o   G e o r g i a :   U S   d e f e n s e   o f f i c i a l \\'   a   P r e s i d e n t   s a y s   h e   i s   r e s i g n i n g   \" t o   a v o i d   a n   i m p e a c h m e n t   b a t t l e   t h a t   w o u l d   h a r m   t h e   n a t i o n \\\\ \\' s   i n t e r e s t s \" \\'   \" D e m o c r a t i c \"   G e o r g i a   s h u t s   d o w n   a n   o p p o s i t i o n   T V   c h a n n e l   o w n e d   b y   R u s s i a n s \\'   N e w   C o l d   W a r   i s   a n   o p t i o n   - -   R u s s i a n   p a r l i a m e n t a r i a n   \\'   G e o r g i a n   S i t u a t i o n   C o n t i n u e s   t h e   Q u e s t   f o r   T h e   P r i z e   o f   O i l ,   M o n e y   a n d   P o w e r \\'   M I 5   s e e k s   g a y   s p i e s \\'     N e w   p o r n   c h a n n e l   l e t s   C a n a d i a n s   s t r u t   t h e i r   s t u f f \\'   T h e   D a n g e r o u s   N e i g h b o r :   V l a d i m i r   P u t i n   T a k e s   o n   a   P o w e r l e s s   W e s t \\'   I s r a e l   o p i n i o n   p a g e :   R u s s i a n s   a r e   s a n e r . \\'   N A T O \\' s   H o u r \"   G e o r g i a n   P r e s i d e n t   S a a k a s h v i l i   E a t s   H i s   T i e   o n   L i v e   T V \\'   N o   C h i c k e n   L e f t   B e h i n d :   A n i m a l   R F I D   S u r v e i l l a n c e   A r r i v e s   i n   F o r c e \\'   P u t i n   h a s   g i v e n   u s   a n   o r d e r   t h a t   e v e r y o n e   m u s t   l e a v e   o r   b e   s h o t \\'   N a t i o n a l   D N A   d a t a b a s e   g r o w s   o n   t h e   g e n e s   o f   t h e   i n n o c e n t \\'   M a y o r   A s k s   U g l y   W o m e n   T o   V i s i t   H i s   T o w n \\'',\n",
       " 'M a n   a r r e s t e d   a n d   l o c k e d   u p   f o r   f i v e   h o u r s   a f t e r   t a k i n g   p h o t o   o f   p o l i c e   v a n   i g n o r i n g   \\' n o   e n t r y \\'   s i g n \"   T h e   U S   m i s s i l e   d e f e n c e   s y s t e m   i s   t h e   m a g i c   p u d d i n g   t h a t   w i l l   n e v e r   r u n   o u t \\'   S c h r d e r   l a m b a s t e d   f o r   b l a m i n g   R u s s i a n   c o n f l i c t   o n   G e o r g i a \\'   O f f i c i a l s :   1 0   F r e n c h   s o l d i e r s   k i l l e d   n e a r   K a b u l   \\'   T h e s e   t e n   l a w s   m a k e   C h i n a   a   t o t a l i t a r i a n   w a s t e l a n d \\'   R u s s i a   s e i z e s   U S   v e h i c l e s \\'   M u s l i m s   a r e   o n l y   4 %   o f   D e n m a r k \\' s   5 . 4   m i l l i o n   p e o p l e   b u t   m a k e   u p   a   m a j o r i t y   o f   t h e   c o u n t r y \\' s   c o n v i c t e d   r a p i s t s .   P r a c t i c a l l y   a l l   t h e   f e m a l e   v i c t i m s   a r e   n o n - M u s l i m . \"   T a l i b a n   F o r c e s   K i l l   1 0   F r e n c h   S o l d i e r s   a n d   R a i d   U . S .   B a s e \\'   A s s a u l t s ,   k i d n a p p i n g s   a n d   k i l l i n g s   o f   h u m a n i t a r i a n   a i d   w o r k e r s   h a v e   m o r e   t h a n   d o u b l e d   i n   t h e   p a s t   f i v e   y e a r s \\'   S o u t h   O s s e t i a   I s n \\' t   K o s o v o \"   F i n a l l y ,   a n   O l y m p i c   i m a g e   t o   t a k e   y o u r   m i n d   o f f   M i c h a e l   P h e l p s   . . .   [ p i c ] \\'   N e w   Y o r k   l a s e r   g r a f f i t i   a r t i s t   d e t a i n e d   i n d e f i n i t e l y   i n   B e i j i n g   f o r   T i b e t   P r o t e s t   a r t \\'   U S   l e f t   i s o l a t e d   o v e r   N a t o   p l a n s   t o   m a i n t a i n   r e l a t i o n s   w i t h   R u s s i a \\'   D r i v e n :   S h a i   A g a s s i \\' s   A u d a c i o u s   P l a n   t o   P u t   E l e c t r i c   C a r s   o n   t h e   R o a d \"     N A T O   f r e e z e s   R u s s i a n   t i e s   o v e r   G e o r g i a \\'   B r a z i l   W i l l   P l a y   M i l i t a r y   W a r   G a m e   t o   D e f e n d   R e c e n t l y   D i s c o v e r e d   O f f s h o r e   O i l \\'   1 6 , 0 0 0   f i n e   f o r   B r i t i s h   w o m a n   c a u g h t   s h a r i n g   g a m e   o n l i n e \\'   1 0 2 - y e a r - o l d   g r a n d m a   i s   o l d e s t   p e r s o n   o n   F a c e b o o k \\'   T o d a y   5   y e a r s   a g o   -   A u g u s t   1 9 t h   2 0 0 3 .   B o m b i n g   o f   t h e   U N   h e a d q u a r t e r s   i n   I r a q \\'   U S   n a t i o n a l   K e n   H a y w o o d ,   w h o s e   c o m p u t e r   w a s   f o u n d   t o   s e n d   t h r e a t   e m a i l s   a f t e r   s e r i a l   b o m b   b l a s t s   i n   I n d i a ,   f l e e s   t h e   c o u n t r y . \\'     T a l i b a n   k i l l   1 0   F r e n c h   t r o o p s   n e a r   A f g h a n   c a p i t a l \\'   N o t   E v e r y b o d y   L o v e s   O f f s h o r e   W i n d   P o w e r   i n   S p a i n \\'   T a l i b a n   F o r c e s   K i l l   1 0   F r e n c h   S o l d i e r s   a n d   R a i d   U . S .   B a s e   \\'   P a k i s t a n   i s   m o r e   d e m o c r a t i c   t h a n   A m e r i c a .   \\'   B l a z e   e n g u l f s   E g y p t i a n   p a r l i a m e n t \\'',\n",
       " 'T w o   e l d e r l y   C h i n e s e   w o m e n   h a v e   b e e n   s e n t e n c e d   t o   a   y e a r   o f   r e - e d u c a t i o n   t h r o u g h   l a b o r   a f t e r   t h e y   s o u g h t   a   p e r m i t   t o   d e m o n s t r a t e   i n   a n   o f f i c i a l   O l y m p i c   p r o t e s t   a r e a . \\'   T h e   P o w e r   o f   I s l a m :   T h e   H u m a n   R i g h t s   C o u n c i l   a t   t h e   U n i t e d   N a t i o n s   h a s   n o w   b a n n e d   a n y   c r i t i c i s m   r e g a r d i n g   S h a r i a   L a w   a n d   h u m a n   r i g h t s   i n   t h e   I s l a m i c   W o r l d \\'   W e   h a d   5 5   t i m e s   m o r e   m i l i t a r y   s o l d i e r s   i n   t h e   f i r s t   G u l f   W a r   t h a n   c o n t r a c t o r s .   I n   t h e   c u r r e n t   I r a q   w a r ,   t h e   r a t i o \\' s   1 : 1 . \"   \" I   l i v e   h e r e   o n   l e s s   t h a n   a   d o l l a r   a   m o n t h \"   - -   O b a m a \\\\ \\' s   b r o t h e r ,   K e n y a   s h a n t y   t o w n   \\'   R u s s i a   s e n d s   a i r c r a f t   c a r r i e r   t o   S y r i a . \\'   T h e   A m e r i c a n   p e o p l e   s h o u l d   b e   e t e r n a l l y   g r a t e f u l   t o   O l d   E u r o p e   f o r   h a v i n g   s p i k e d   t h e   B u s h - M c C a i n   p l a n   t o   b r i n g   G e o r g i a   i n t o   N A T O . \\'   A b k h a z i a   o f f i c i a l l y   a p p e a l s   t o   R u s s i a   f o r   i n d e p e n d e n c e \\'   R u s s i a   w a r n s   o f   r e s p o n s e   \" b e y o n d   d i p l o m a c y \"   a g a i n s t   U S   m i s s i l e   s h i e l d \\'   I n d i a   S e t s   A s i d e   4 0 %   o f   R e g i o n a l   W a s t e l a n d   f o r   J a t r o p h a   B i o d i e s e l   P r o d u c t i o n \\'   E l d e r l y   C h i n e s e   W o m e n   S e n t e n c e d   t o   L a b o r   R e - e d u c a t i o n   A f t e r   A p p l y i n g   f o r   P e r m i s s i o n   t o   P r o t e s t   a t   t h e   O l y m p i c s \\'   P l a n e   s k i d s   o f f   r u n w a y   i n   M a d r i d \\'   T a l i b a n   m o u n t   f e r o c i o u s   a s s a u l t s   o n   a l l i e d   t a r g e t s \\'   1 5 0   F e a r e d   D e a d   I n   S p a n a i r   P l a n e   C r a s h   I n   M a d r i d   \\'   W a s   W e s t e r n   I n t e l l i g e n c e   i n v o l v e d   i n   t e r r o r i s t   a t t a c k s   i n   I n d i a ?   A   w e s t e r n e r s   c o m p u t e r   I n t e r n e t   c o n n e c t i o n   w a s   u s e d   t o   s e n d   t e r r o r   e - m a i l   m i n u t e s   b e f o r e   A h m e d a b a d   b l a s t s .   \\'   S p a n i s h   F r e e d o m   o f   S p e e c h   D i e s   a n   I g n o b l e   D e a t h   s o   t h a t   S p a n i s h   P a r a s i t e s   W i l l   N o t   b e   O f f e n d e d .   \\'   G r o t e   M a r k t   [ P I C ] \\'   R u s s i a   h a s   i n f o r m e d   N o r w a y   t h a t   i t   p l a n s   t o   c u t   a l l   m i l i t a r y   t i e s   w i t h   N A T O \\'   \\' W h a t   A r e   t h e   A i m s   o f   t h i s   W a r ? \\' :   F r e n c h   O p p o s i t i o n   D e m a n d s   R e t h i n k   o f   A f g h a n i s t a n   M i s s i o n \"   B u s h   C o v e r e d   u p   M u s h a r r a f   T i e s   w i t h   A l   Q a e d a \\'   M i k h a i l   G o r b a c h e v :   R u s s i a   N e v e r   W a n t e d   a   W a r \\'   G e r m a n s   u r g e   t o u g h e r   l a w s   a f t e r   n e w   p r i v a c y   s c a n d a l   \\'   T h e   T i m e   o f   t h e   W i m p s :   D i a l o g u e   w i t h   R u s s i a   I s   t h e   O n l y   C h o i c e \\'   1 9 9 8   M i s s i l e   S t r i k e s   o n   B i n   L a d e n   M a y   H a v e   B a c k f i r e d \\'   F o r   a   m o m e n t   l e t \\' s   f o r g e t   e v e r y t h i n g   e l s e   a n d   p a y   h o m a g e   t o   t h e s e   u n s u n g   h e r o e s \"   T h e   F i r s t   S o l a r   R a d i o   S t a t i o n   i n   A r g e n t i n a \\'',\n",
       " 'B r i t i s h   r e s i d e n t   h e l d   i n   G u a n t a n a m o   B a y   w i n s   l e g a l   b a t t l e   t o   f o r c e   F o r e i g n   O f f i c e   t o   r e v e a l   \\' t o r t u r e \\'   e v i d e n c e \"   C h i n e s e   m a y   h a v e   k i l l e d   1 4 0   T i b e t a n s   t h i s   w e e k :   D a l a i   L a m a \\'   U . S .   N a v y   S h i p s   H e a d   t o   G e o r g i a \\'   H a c k e r   u n c o v e r s   C h i n e s e   o l y m p i c   f r a u d \\'   I f   y o u \\' v e   e v e r   w o n d e r e d   w h a t   K i m   J o n g   I l   w a s   l i k e   i n   g r a d e   s c h o o l ,   h e r e   y o u   g o .   Y e s ,   h e   w a s   q u i t e   r o n e r y .   A l s o ,   o r d e r e d   h i s   f o r m e r   t e a c h e r \\' s   w h o l e   f a m i l y   k i l l e d . \"   R u s s i a \\' s   N u c l e a r   T h r e a t   I s   M o r e   T h a n   W o r d s \"   C z e c h   P r e s i d e n t :   \" I   m u s t   p r o t e s t   a l o u d   a g a i n s t   t h e   i n c o r r e c t   i n t e r p r e t a t i o n   o f   t h e   s i t u a t i o n   i n   t h e   C a u c a s u s . \" \\'   5 0 %   O f   A l l   F o o d   P r o d u c e d   I s   W a s t e d   B e f o r e   I t   G e t s   U s e d \\'   C h i n a   s e n t e n c e s   A l i v e   i n   B a g h d a d   b l o g g e r ,   G R L \\' s   J a m e s   P o w d e r l y   & a m p ;   4   o t h e r   c i t i z e n   j o u r n a l i s t s   t o   1 0   d a y s   i n   j a i l   f o r   c o v e r i n g   T i b e t   p r o t e s t s   d u r i n g   t h e   O l y m p i c s \"   \" G o   a h e a d   a n d   l e t   G e o r g i a   d e c l a r e   w a r   b e t w e e n   N A T O   a n d   R u s s i a .   N o w ,   a n y   h a l f - w i t   s m a l l - c o u n t r y   l e a d e r   g e t s   t o   a u d i t i o n   f o r   t h e   r o l e   o f   A r c h d u k e   F e r d i n a n d \" \\'   C a f f e r t y :   G e o r g i a   S t a r t e d   W a r   w i t h   R u s s i a   [ v i d ] \\'   K a z a k h s t a n   i s   c o n s i d e r i n g   d i v e r t i n g   i t s   o i l   e x p o r t s   a w a y   f r o m   t h e   B T C   p i p e l i n e   t h a t   r u n s   t h r o u g h   G e o r g i a ,   a n d   u s i n g   R u s s i a   i n s t e a d .   T h e   r e a s o n ? \\'   R u s s i a   t h r e a t e n s   s a l e   o f   o f f e n s i v e   w e a p o n s   t o   I s r a e l \\' s   e n e m i e s \"   B e l f a s t   P o l i c e   C o n f i s c a t e   B o a r d g a m e   I n   T e r r o r i s t   C r a c k d o w n \\'   W o r l d \\' s   O l d e s t   M a n   D i e s   A t   T h e   A g e   O f   1 3 8 \"   R u s s i a   c o n d e m n s   U S   m i s s i l e   d e a l \\'   N A T O s   d e c i s i o n   t o   f r e e z e   r e l a t i o n s   w i t h   M o s c o w   a n d   W a s h i n g t o n s   i n e p t   h a n d l i n g   o f   P a k i s t a n   a r e   s t r a t e g i c   f o r e i g n   p o l i c y   m i s t a k e s . \\'   S w e e t   S i x t e e n   o r   F r a u d u l e n t   F o u r t e e n ,     H a c k e r s   u n e a r t h   m o r e   u n d e r a g e   g y m n a s t   a l l e g a t i o n s   \\'   I f   R u s s i a s   f e e l i n g   c h u r l i s h ,   t h e y   c a n   p r e t t y   m u c h   b r i n g   t o   a   g r i n d i n g   h a l t   a n y   k i n d   o f   c o e r c i v e   a c t i o n s \\'   C h i n e s e   G y m n a s t s   1 4 ,   O f f i c i a l   D o c u m e n t   S h o w s \\'   S u i c i d e   a t t a c k   k i l l s   a t   l e a s t   5 0   a t   P a k i s t a n   a r m s   f a c t o r y \\'   T h e   A b k h a z i a n   P a r l i a m e n t   h a s   a p p r o v e d   a n   o f f i c i a l   a p p e a l   t o   R u s s i a   t o   r e c o g n i s e   i t s   i n d e p e n d e n c e \\'   G e o r g i a ,   B u l g a r i a   a n d   t h e   S e c o n d   B a l k a n   W a r   |   a f o e   |   A   F i s t f u l   o f   E u r o s   |   E u r o p e a n   O p i n i o n \\'   T e r r o r i s t   r e v e a l s   P a k \\' s   s i n i s t e r   d e s i g n s   o n   I n d i a \"   I n t e r n a t i o n a l   O l y m p i c   C o m m i t t e e   l a u n c h e s   p r o b e   i n t o   H e   K e x i n \\' s   a g e \"']"
      ]
     },
     "execution_count": 188,
     "metadata": {},
     "output_type": "execute_result"
    }
   ],
   "source": [
    "headlines[:10]"
   ]
  },
  {
   "cell_type": "code",
   "execution_count": 189,
   "metadata": {
    "collapsed": true
   },
   "outputs": [],
   "source": [
    "headlines_train = headlines[:1500]\n",
    "headlines_test = headlines[1500:]\n",
    "DJIA_train = df.Label[:1500].values\n",
    "DJIA_test = df.Label[1500:].values"
   ]
  },
  {
   "cell_type": "code",
   "execution_count": 45,
   "metadata": {
    "collapsed": true
   },
   "outputs": [],
   "source": [
    "# CountVectorizer\n",
    "basicvectorizer = CountVectorizer(ngram_range=(3,3))\n",
    "train_term_document_matrix_basic = basicvectorizer.fit_transform(headlines_train)\n",
    "test_term_document_matrix_basic = basicvectorizer.transform(headlines_test)"
   ]
  },
  {
   "cell_type": "code",
   "execution_count": 46,
   "metadata": {
    "collapsed": true
   },
   "outputs": [],
   "source": [
    "# TfidfVectorizer\n",
    "tfidfvectorizer = TfidfVectorizer(min_df=0.0, max_df=0.2, max_features = 200000, ngram_range = (1, 1))\n",
    "train_term_document_matrix_tfidf = tfidfvectorizer.fit_transform(headlines_train)\n",
    "test_term_document_matrix_tfidf = tfidfvectorizer.transform(headlines_test)"
   ]
  },
  {
   "cell_type": "code",
   "execution_count": 47,
   "metadata": {},
   "outputs": [
    {
     "data": {
      "text/plain": [
       "(1500, 30541)"
      ]
     },
     "execution_count": 47,
     "metadata": {},
     "output_type": "execute_result"
    }
   ],
   "source": [
    "train_term_document_matrix_tfidf.shape"
   ]
  },
  {
   "cell_type": "code",
   "execution_count": 49,
   "metadata": {},
   "outputs": [
    {
     "data": {
      "text/plain": [
       "(489, 30541)"
      ]
     },
     "execution_count": 49,
     "metadata": {},
     "output_type": "execute_result"
    }
   ],
   "source": [
    "tfidfvectorizer.transform(headlines_test).shape"
   ]
  },
  {
   "cell_type": "markdown",
   "metadata": {},
   "source": [
    "### Get \"Good\" Types"
   ]
  },
  {
   "cell_type": "code",
   "execution_count": 34,
   "metadata": {},
   "outputs": [
    {
     "data": {
      "text/plain": [
       "['zeitung',\n",
       " 'zeland',\n",
       " 'zelaya',\n",
       " 'zelayas',\n",
       " 'zell',\n",
       " 'zen',\n",
       " 'zenroren',\n",
       " 'zero',\n",
       " 'zeroed',\n",
       " 'zeroes',\n",
       " 'zeroing',\n",
       " 'zeros',\n",
       " 'zeta',\n",
       " 'zetas',\n",
       " 'zeus',\n",
       " 'zeus3',\n",
       " 'zf',\n",
       " 'zhaleh',\n",
       " 'zhanaozen',\n",
       " 'zhang',\n",
       " 'zhanglidong',\n",
       " 'zhao',\n",
       " 'zhaoxu',\n",
       " 'zheng',\n",
       " 'zhenghu',\n",
       " 'zhijun',\n",
       " 'zhisheng',\n",
       " 'zhisong',\n",
       " 'zhongying',\n",
       " 'zhou',\n",
       " 'zhuhai',\n",
       " 'ziad',\n",
       " 'zidane',\n",
       " 'zika',\n",
       " 'zim',\n",
       " 'zimbabwe',\n",
       " 'zimbabwean',\n",
       " 'zimbabweans',\n",
       " 'zimbabwehood',\n",
       " 'zimbabwes',\n",
       " 'zimbawe',\n",
       " 'zimmermann',\n",
       " 'zina',\n",
       " 'zinc',\n",
       " 'zindler',\n",
       " 'zine',\n",
       " 'zinedine',\n",
       " 'zinn',\n",
       " 'zintan',\n",
       " 'zion',\n",
       " 'zionazism',\n",
       " 'zionism',\n",
       " 'zionist',\n",
       " 'zionists',\n",
       " 'zip',\n",
       " 'zips',\n",
       " 'ziyang',\n",
       " 'zizek',\n",
       " 'zlin',\n",
       " 'zlitan',\n",
       " 'zliten',\n",
       " 'zmirs',\n",
       " 'zoabi',\n",
       " 'zoe',\n",
       " 'zogby',\n",
       " 'zoha',\n",
       " 'zombie',\n",
       " 'zombies',\n",
       " 'zone',\n",
       " 'zones',\n",
       " 'zong',\n",
       " 'zoo',\n",
       " 'zookeeper',\n",
       " 'zookeepers',\n",
       " 'zoologist',\n",
       " 'zoologists',\n",
       " 'zoom',\n",
       " 'zooming',\n",
       " 'zoos',\n",
       " 'zor',\n",
       " 'zossen',\n",
       " 'zrich',\n",
       " 'zschpe',\n",
       " 'zte',\n",
       " 'zu',\n",
       " 'zubaydah',\n",
       " 'zuckberg',\n",
       " 'zuckerberg',\n",
       " 'zuckerburg',\n",
       " 'zuhair',\n",
       " 'zuist',\n",
       " 'zulu',\n",
       " 'zuma',\n",
       " 'zumas',\n",
       " 'zurich',\n",
       " 'zuyevo',\n",
       " 'zwanziger',\n",
       " 'zweimal',\n",
       " 'zygi',\n",
       " 'zyklon']"
      ]
     },
     "execution_count": 34,
     "metadata": {},
     "output_type": "execute_result"
    }
   ],
   "source": [
    "tfidfvectorizer.get_feature_names()[-100:]"
   ]
  },
  {
   "cell_type": "code",
   "execution_count": 35,
   "metadata": {},
   "outputs": [
    {
     "data": {
      "text/plain": [
       "34489"
      ]
     },
     "execution_count": 35,
     "metadata": {},
     "output_type": "execute_result"
    }
   ],
   "source": [
    "len(tfidfvectorizer.get_feature_names())"
   ]
  },
  {
   "cell_type": "markdown",
   "metadata": {},
   "source": [
    "### Singular Value Decomposition of term document matrix"
   ]
  },
  {
   "cell_type": "code",
   "execution_count": 36,
   "metadata": {
    "collapsed": true
   },
   "outputs": [],
   "source": [
    "from sklearn.preprocessing import normalize\n",
    "#row normalize\n",
    "temp_matrix = normalize(train_term_document_matrix_tfidf, axis = 0)\n",
    "svd_matrix = temp_matrix.transpose()"
   ]
  },
  {
   "cell_type": "code",
   "execution_count": 37,
   "metadata": {},
   "outputs": [
    {
     "name": "stdout",
     "output_type": "stream",
     "text": [
      "<class 'scipy.sparse.csr.csr_matrix'>\n",
      "(34489, 1500)\n"
     ]
    }
   ],
   "source": [
    "print(type(svd_matrix))\n",
    "print(svd_matrix.shape)"
   ]
  },
  {
   "cell_type": "code",
   "execution_count": 38,
   "metadata": {
    "collapsed": true
   },
   "outputs": [],
   "source": [
    "from scipy.sparse.linalg import svds\n",
    "u, s, v_trans = svds(svd_matrix, k=100)"
   ]
  },
  {
   "cell_type": "code",
   "execution_count": 39,
   "metadata": {},
   "outputs": [
    {
     "data": {
      "image/png": "[encoded data removed]",
      "text/plain": [
       "<matplotlib.figure.Figure at 0x20784a62320>"
      ]
     },
     "metadata": {},
     "output_type": "display_data"
    }
   ],
   "source": [
    "plt.plot(s[::-1])\n",
    "plt.xlabel(\"Singular value number\")\n",
    "plt.ylabel(\"Singular value\")\n",
    "plt.show()"
   ]
  },
  {
   "cell_type": "code",
   "execution_count": 40,
   "metadata": {},
   "outputs": [
    {
     "name": "stdout",
     "output_type": "stream",
     "text": [
      "(34489, 20)\n",
      "(1500, 20)\n"
     ]
    }
   ],
   "source": [
    "words_compressed, _, docs_compressed = svds(svd_matrix, k=20)\n",
    "docs_compressed = docs_compressed.transpose()\n",
    "\n",
    "print(words_compressed.shape)\n",
    "print(docs_compressed.shape)"
   ]
  },
  {
   "cell_type": "markdown",
   "metadata": {},
   "source": [
    "### project docs onto 2-dimensional space"
   ]
  },
  {
   "cell_type": "code",
   "execution_count": 41,
   "metadata": {
    "collapsed": true
   },
   "outputs": [],
   "source": [
    "from sklearn.manifold import TSNE"
   ]
  },
  {
   "cell_type": "code",
   "execution_count": 42,
   "metadata": {},
   "outputs": [
    {
     "name": "stdout",
     "output_type": "stream",
     "text": [
      "(1500, 20)\n",
      "[t-SNE] Computing 91 nearest neighbors...\n",
      "[t-SNE] Indexed 1500 samples in 0.003s...\n",
      "[t-SNE] Computed neighbors for 1500 samples in 0.177s...\n",
      "[t-SNE] Computed conditional probabilities for sample 1000 / 1500\n",
      "[t-SNE] Computed conditional probabilities for sample 1500 / 1500\n",
      "[t-SNE] Mean sigma: 0.009836\n",
      "[t-SNE] KL divergence after 250 iterations with early exaggeration: 72.807610\n",
      "[t-SNE] Error after 1000 iterations: 1.825997\n",
      "(1500, 2)\n"
     ]
    }
   ],
   "source": [
    "tsne = TSNE(verbose=1)\n",
    "print(docs_compressed.shape)\n",
    "projected_docs = tsne.fit_transform(docs_compressed)\n",
    "print(projected_docs.shape)"
   ]
  },
  {
   "cell_type": "code",
   "execution_count": 43,
   "metadata": {},
   "outputs": [
    {
     "data": {
      "image/png": "[encoded data removed]",
      "text/plain": [
       "<matplotlib.figure.Figure at 0x20783a56208>"
      ]
     },
     "metadata": {},
     "output_type": "display_data"
    }
   ],
   "source": [
    "plt.figure(figsize=(15,15))\n",
    "plt.scatter(projected_docs[:,0],projected_docs[:,1])\n",
    "plt.show()"
   ]
  },
  {
   "cell_type": "markdown",
   "metadata": {
    "collapsed": true
   },
   "source": [
    "## Kmeans clustering"
   ]
  },
  {
   "cell_type": "code",
   "execution_count": 186,
   "metadata": {
    "collapsed": true
   },
   "outputs": [],
   "source": [
    "from sklearn.cluster import KMeans\n",
    "from sklearn.decomposition import PCA\n",
    "from sklearn.preprocessing import scale"
   ]
  },
  {
   "cell_type": "code",
   "execution_count": 187,
   "metadata": {
    "collapsed": true
   },
   "outputs": [],
   "source": [
    "np.random.seed(42)"
   ]
  },
  {
   "cell_type": "code",
   "execution_count": 188,
   "metadata": {
    "collapsed": true
   },
   "outputs": [],
   "source": [
    "from sklearn import preprocessing"
   ]
  },
  {
   "cell_type": "code",
   "execution_count": 189,
   "metadata": {
    "collapsed": true
   },
   "outputs": [],
   "source": [
    "normed_data = normalize(train_term_document_matrix_tfidf)"
   ]
  },
  {
   "cell_type": "code",
   "execution_count": 190,
   "metadata": {},
   "outputs": [
    {
     "data": {
      "text/plain": [
       "KMeans(algorithm='auto', copy_x=True, init='k-means++', max_iter=300,\n",
       "    n_clusters=15, n_init=10, n_jobs=1, precompute_distances='auto',\n",
       "    random_state=None, tol=0.0001, verbose=0)"
      ]
     },
     "execution_count": 190,
     "metadata": {},
     "output_type": "execute_result"
    }
   ],
   "source": [
    "kmeans = KMeans(init='k-means++', n_clusters=15, n_init=10)\n",
    "kmeans.fit(normed_data)"
   ]
  },
  {
   "cell_type": "code",
   "execution_count": 191,
   "metadata": {
    "collapsed": true
   },
   "outputs": [],
   "source": [
    "train_labels = kmeans.labels_"
   ]
  },
  {
   "cell_type": "code",
   "execution_count": 192,
   "metadata": {},
   "outputs": [
    {
     "data": {
      "text/plain": [
       "array([ 5,  5,  5,  5,  5,  5,  5,  5,  5,  5,  5,  5,  4,  5,  5,  5,  5,\n",
       "        5,  1, 12,  5,  5,  5,  5,  5,  5,  5, 10,  5,  4,  2,  5, 10,  5,\n",
       "        1,  1,  5, 12,  5, 12, 10,  5, 12, 12,  6,  1, 13, 12, 12,  5])"
      ]
     },
     "execution_count": 192,
     "metadata": {},
     "output_type": "execute_result"
    }
   ],
   "source": [
    "train_labels[:50]"
   ]
  },
  {
   "cell_type": "code",
   "execution_count": 193,
   "metadata": {},
   "outputs": [
    {
     "data": {
      "text/plain": [
       "1500"
      ]
     },
     "execution_count": 193,
     "metadata": {},
     "output_type": "execute_result"
    }
   ],
   "source": [
    "len(train_labels)"
   ]
  },
  {
   "cell_type": "code",
   "execution_count": 194,
   "metadata": {
    "collapsed": true
   },
   "outputs": [],
   "source": [
    "test_labels = kmeans.predict(normalize(test_term_document_matrix_tfidf))"
   ]
  },
  {
   "cell_type": "code",
   "execution_count": 195,
   "metadata": {},
   "outputs": [
    {
     "data": {
      "text/plain": [
       "array([ 2,  2,  3,  3,  3,  3,  2,  3,  2,  1,  3, 11,  3,  3, 12, 11,  1,\n",
       "        1,  1, 13, 11, 14, 13,  2, 11, 11,  6, 11, 11,  1,  6,  1,  6,  1,\n",
       "       11, 11, 13, 12, 11,  6,  6,  6,  1,  2,  4,  6,  2,  1, 13,  4,  2,\n",
       "        1,  1,  1,  2,  6,  2,  1,  1,  1,  2,  1,  1, 13,  6, 13,  1,  1,\n",
       "        2,  6,  1,  1,  1,  1, 12,  2,  2,  1,  2,  2,  6,  2,  4, 13,  6,\n",
       "        1,  6,  1,  1,  1,  6,  4,  1,  2,  1,  1, 12,  6,  6, 12])"
      ]
     },
     "execution_count": 195,
     "metadata": {},
     "output_type": "execute_result"
    }
   ],
   "source": [
    "test_labels[:100]"
   ]
  },
  {
   "cell_type": "code",
   "execution_count": 196,
   "metadata": {},
   "outputs": [
    {
     "data": {
      "text/plain": [
       "489"
      ]
     },
     "execution_count": 196,
     "metadata": {},
     "output_type": "execute_result"
    }
   ],
   "source": [
    "len(test_labels)"
   ]
  },
  {
   "cell_type": "code",
   "execution_count": 197,
   "metadata": {
    "collapsed": true
   },
   "outputs": [],
   "source": [
    "label_DJIA = pd.DataFrame({'train_label': train_labels, 'DJIA_train':DJIA_train})"
   ]
  },
  {
   "cell_type": "code",
   "execution_count": 198,
   "metadata": {},
   "outputs": [
    {
     "data": {
      "text/html": [
       "<div>\n",
       "<style>\n",
       "    .dataframe thead tr:only-child th {\n",
       "        text-align: right;\n",
       "    }\n",
       "\n",
       "    .dataframe thead th {\n",
       "        text-align: left;\n",
       "    }\n",
       "\n",
       "    .dataframe tbody tr th {\n",
       "        vertical-align: top;\n",
       "    }\n",
       "</style>\n",
       "<table border=\"1\" class=\"dataframe\">\n",
       "  <thead>\n",
       "    <tr style=\"text-align: right;\">\n",
       "      <th></th>\n",
       "      <th>DJIA_train</th>\n",
       "      <th>train_label</th>\n",
       "    </tr>\n",
       "  </thead>\n",
       "  <tbody>\n",
       "    <tr>\n",
       "      <th>0</th>\n",
       "      <td>0</td>\n",
       "      <td>5</td>\n",
       "    </tr>\n",
       "    <tr>\n",
       "      <th>1</th>\n",
       "      <td>1</td>\n",
       "      <td>5</td>\n",
       "    </tr>\n",
       "    <tr>\n",
       "      <th>2</th>\n",
       "      <td>0</td>\n",
       "      <td>5</td>\n",
       "    </tr>\n",
       "    <tr>\n",
       "      <th>3</th>\n",
       "      <td>0</td>\n",
       "      <td>5</td>\n",
       "    </tr>\n",
       "    <tr>\n",
       "      <th>4</th>\n",
       "      <td>1</td>\n",
       "      <td>5</td>\n",
       "    </tr>\n",
       "  </tbody>\n",
       "</table>\n",
       "</div>"
      ],
      "text/plain": [
       "   DJIA_train  train_label\n",
       "0           0            5\n",
       "1           1            5\n",
       "2           0            5\n",
       "3           0            5\n",
       "4           1            5"
      ]
     },
     "execution_count": 198,
     "metadata": {},
     "output_type": "execute_result"
    }
   ],
   "source": [
    "label_DJIA.head()"
   ]
  },
  {
   "cell_type": "code",
   "execution_count": 199,
   "metadata": {},
   "outputs": [
    {
     "data": {
      "text/plain": [
       "array([  5.2,  20.5,  10.5,   7.5,   9.7,   3.7,  11.1,  10.6,   3.9,\n",
       "         5.7,   5.2,   5. ,  35.8,  13.1,   2.5])"
      ]
     },
     "execution_count": 199,
     "metadata": {},
     "output_type": "execute_result"
    }
   ],
   "source": [
    "label_DJIA.groupby('train_label')['DJIA_train'].count().values/10"
   ]
  },
  {
   "cell_type": "code",
   "execution_count": 202,
   "metadata": {
    "collapsed": true
   },
   "outputs": [],
   "source": [
    "def clustering_plot(label_DJIA, test_labels, n_clusters):    \n",
    "    plt.figure(figsize =(12,8))\n",
    "    res = label_DJIA.groupby('train_label')['DJIA_train'].mean()\n",
    "    s = label_DJIA.groupby('train_label')['DJIA_train'].count().values*2\n",
    "    plt.plot(res)\n",
    "    plt.hist(test_labels, normed = 1, bins =np.arange(-0.5,n_clusters-0.5, 1), alpha = 0.5)\n",
    "    plt.scatter(res.index, res.values, s = s, color = 'r')\n",
    "    plt.xticks(np.arange(0, n_clusters, step=1))\n",
    "    plt.axhline(y=0.5, color = 'k')\n",
    "    plt.axhline(y=0.4, color = 'k', linestyle = 'dashed')\n",
    "    plt.axhline(y=0.6, color = 'k', linestyle = 'dashed')\n",
    "    plt.xlabel('Cluster Labels / Histogram of test labels (normed = 1)', size = 15)\n",
    "    plt.ylabel('Average Within Cluster for training set', size = 15)\n",
    "    plt.ylim((0,1))\n",
    "    plt.show()"
   ]
  },
  {
   "cell_type": "code",
   "execution_count": 203,
   "metadata": {},
   "outputs": [
    {
     "data": {
      "image/png": "[encoded data removed]",
      "text/plain": [
       "<matplotlib.figure.Figure at 0x1f60a1f2668>"
      ]
     },
     "metadata": {},
     "output_type": "display_data"
    }
   ],
   "source": [
    "clustering_plot(label_DJIA, test_labels, n_clusters=15)"
   ]
  },
  {
   "cell_type": "code",
   "execution_count": 116,
   "metadata": {
    "collapsed": true
   },
   "outputs": [],
   "source": [
    "positive_labels = list(res[res > 0.6].index)"
   ]
  },
  {
   "cell_type": "code",
   "execution_count": 118,
   "metadata": {},
   "outputs": [
    {
     "data": {
      "text/plain": [
       "[1, 13, 17]"
      ]
     },
     "execution_count": 118,
     "metadata": {},
     "output_type": "execute_result"
    }
   ],
   "source": [
    "positive_labels"
   ]
  },
  {
   "cell_type": "code",
   "execution_count": 117,
   "metadata": {
    "collapsed": true
   },
   "outputs": [],
   "source": [
    "negative_labels = list(res[res < 0.4].index)"
   ]
  },
  {
   "cell_type": "code",
   "execution_count": 119,
   "metadata": {},
   "outputs": [
    {
     "data": {
      "text/plain": [
       "[7, 9, 15]"
      ]
     },
     "execution_count": 119,
     "metadata": {},
     "output_type": "execute_result"
    }
   ],
   "source": [
    "negative_labels"
   ]
  },
  {
   "cell_type": "code",
   "execution_count": 145,
   "metadata": {
    "collapsed": true
   },
   "outputs": [],
   "source": [
    "mean_labels = list(res[np.abs(res-0.5) < 0.05].index)"
   ]
  },
  {
   "cell_type": "code",
   "execution_count": 146,
   "metadata": {},
   "outputs": [
    {
     "data": {
      "text/plain": [
       "[0, 2, 5, 8, 10, 11, 12, 14]"
      ]
     },
     "execution_count": 146,
     "metadata": {},
     "output_type": "execute_result"
    }
   ],
   "source": [
    "mean_labels"
   ]
  },
  {
   "cell_type": "code",
   "execution_count": 121,
   "metadata": {
    "collapsed": true
   },
   "outputs": [],
   "source": [
    "test_label_DJIA = pd.DataFrame({'test_label': test_labels, 'DJIA_test':DJIA_test})"
   ]
  },
  {
   "cell_type": "code",
   "execution_count": 140,
   "metadata": {},
   "outputs": [
    {
     "data": {
      "text/plain": [
       "14    159\n",
       "8     146\n",
       "18     85\n",
       "3      31\n",
       "16     24\n",
       "19     14\n",
       "5      10\n",
       "11      7\n",
       "12      5\n",
       "2       3\n",
       "9       2\n",
       "1       2\n",
       "10      1\n",
       "Name: test_label, dtype: int64"
      ]
     },
     "execution_count": 140,
     "metadata": {},
     "output_type": "execute_result"
    }
   ],
   "source": [
    "test_label_DJIA.test_label.value_counts()"
   ]
  },
  {
   "cell_type": "markdown",
   "metadata": {},
   "source": [
    "## Kmeans plot"
   ]
  },
  {
   "cell_type": "code",
   "execution_count": 57,
   "metadata": {},
   "outputs": [
    {
     "data": {
      "image/png": "[encoded data removed]",
      "text/plain": [
       "<matplotlib.figure.Figure at 0x1f60968cda0>"
      ]
     },
     "metadata": {},
     "output_type": "display_data"
    }
   ],
   "source": [
    "#reduced_data = PCA(n_components=2).fit_transform(data)\n",
    "reduced_data = projected_docs #2D docs data\n",
    "kmeans = KMeans(init='k-means++', n_clusters=20, n_init=10)\n",
    "kmeans.fit(reduced_data)\n",
    "\n",
    "# Step size of the mesh. Decrease to increase the quality of the VQ.\n",
    "h = .02     # point in the mesh [x_min, x_max]x[y_min, y_max].\n",
    "\n",
    "# Plot the decision boundary. For that, we will assign a color to each\n",
    "x_min, x_max = reduced_data[:, 0].min() - 1, reduced_data[:, 0].max() + 1\n",
    "y_min, y_max = reduced_data[:, 1].min() - 1, reduced_data[:, 1].max() + 1\n",
    "xx, yy = np.meshgrid(np.arange(x_min, x_max, h), np.arange(y_min, y_max, h))\n",
    "\n",
    "# Obtain labels for each point in mesh. Use last trained model.\n",
    "Z = kmeans.predict(np.c_[xx.ravel(), yy.ravel()])\n",
    "\n",
    "# Put the result into a color plot\n",
    "Z = Z.reshape(xx.shape)\n",
    "plt.figure(figsize=(15,15))\n",
    "plt.clf()\n",
    "plt.imshow(Z, interpolation='nearest',\n",
    "           extent=(xx.min(), xx.max(), yy.min(), yy.max()),\n",
    "           cmap=plt.cm.Paired,\n",
    "           aspect='auto', origin='lower')\n",
    "\n",
    "plt.plot(reduced_data[:, 0], reduced_data[:, 1], 'k.', markersize=10)\n",
    "# Plot the centroids as a white X\n",
    "centroids = kmeans.cluster_centers_\n",
    "plt.scatter(centroids[:, 0], centroids[:, 1],\n",
    "            marker='x', s=169, linewidths=3,\n",
    "            color='w', zorder=10)\n",
    "plt.title('K-means clustering (PCA-reduced data)\\n'\n",
    "          'Centroids are marked with white cross')\n",
    "plt.xlim(x_min, x_max)\n",
    "plt.ylim(y_min, y_max)\n",
    "plt.xticks(())\n",
    "plt.yticks(())\n",
    "plt.show()"
   ]
  },
  {
   "cell_type": "markdown",
   "metadata": {},
   "source": [
    "### KNN"
   ]
  },
  {
   "cell_type": "code",
   "execution_count": 204,
   "metadata": {
    "collapsed": true
   },
   "outputs": [],
   "source": [
    "def KNN(X_train, Y_train, X_test, Y_test, K):\n",
    "    \"\"\"\n",
    "    X_train: term_doc_matrix\n",
    "    Y_train: list\n",
    "    X_test: term_doc_matrix\n",
    "    Y_test: list\n",
    "    K: integer\n",
    "    \"\"\"\n",
    "    pred = np.zeros(len(Y_test), dtype = 'int64')\n",
    "    inverted_index_test = { i[0]:i[1] for i in list(zip(range(len(Y_test)),Y_test))}\n",
    "    inverted_index_train= { i[0]:i[1] for i in list(zip(range(len(Y_train)),Y_train))}\n",
    "    sim_score_matrix_K =  cosine_similarity(X_test, X_train)\n",
    "    for j in range(sim_score_matrix_K.shape[0]):\n",
    "        highest_K_score_index = np.argsort(sim_score_matrix_K[j])[-K:]\n",
    "        DJIA_K = [inverted_index_train[idx] for idx in highest_K_score_index]\n",
    "        Prob = (sum(DJIA_K)+0.)/len(DJIA_K) #smoothing\n",
    "        if Prob >= 0.5:\n",
    "            pred[j] = 1\n",
    "        else:\n",
    "            pred[j] = 0\n",
    "    accu = np.mean(Y_test == pred)\n",
    "    return accu"
   ]
  },
  {
   "cell_type": "code",
   "execution_count": 19,
   "metadata": {},
   "outputs": [
    {
     "data": {
      "text/plain": [
       "<matplotlib.legend.Legend at 0x1b3ed9bd550>"
      ]
     },
     "execution_count": 19,
     "metadata": {},
     "output_type": "execute_result"
    },
    {
     "data": {
      "image/png": "[encoded data removed]",
      "text/plain": [
       "<matplotlib.figure.Figure at 0x1b3ecd97278>"
      ]
     },
     "metadata": {},
     "output_type": "display_data"
    }
   ],
   "source": [
    "# CountVectorizer\n",
    "train_error =[1- KNN(train_term_document_matrix_basic, DJIA_train, train_term_document_matrix_basic, DJIA_train, K) for K in range(1, 20)]\n",
    "test_error = [1- KNN(train_term_document_matrix_basic, DJIA_train, test_term_document_matrix_basic, DJIA_test, K) for K in range(1, 20)]\n",
    "one_over_k = [1.0/K for K in range(1, 20)]\n",
    "plt.plot(one_over_k, train_error, '-yo', label = 'train error')\n",
    "plt.plot(one_over_k, test_error, '-go', label = 'test error')\n",
    "plt.ylabel('error')\n",
    "plt.xlabel('1/K')\n",
    "plt.legend(loc = 'lower left')"
   ]
  },
  {
   "cell_type": "code",
   "execution_count": 205,
   "metadata": {},
   "outputs": [
    {
     "data": {
      "text/plain": [
       "<matplotlib.legend.Legend at 0x36b45b70>"
      ]
     },
     "execution_count": 205,
     "metadata": {},
     "output_type": "execute_result"
    },
    {
     "data": {
      "image/png": "[encoded data removed]",
      "text/plain": [
       "<matplotlib.figure.Figure at 0x2c1e15f8>"
      ]
     },
     "metadata": {},
     "output_type": "display_data"
    }
   ],
   "source": [
    "# TfidfVectorizer\n",
    "train_error =[1- KNN(train_term_document_matrix_tfidf, DJIA_train, train_term_document_matrix_tfidf, DJIA_train, K) for K in range(1, 20)]\n",
    "test_error = [1- KNN(train_term_document_matrix_tfidf, DJIA_train, test_term_document_matrix_tfidf, DJIA_test, K) for K in range(1, 20)]\n",
    "one_over_k = [1.0/K for K in range(1, 20)]\n",
    "plt.plot(one_over_k, train_error, '-yo', label = 'train error')\n",
    "plt.plot(one_over_k, test_error, '-go', label = 'test error')\n",
    "plt.ylabel('error')\n",
    "plt.xlabel('1/K')\n",
    "plt.legend(loc = 'lower left')"
   ]
  },
  {
   "cell_type": "code",
   "execution_count": 206,
   "metadata": {},
   "outputs": [
    {
     "data": {
      "text/plain": [
       "0.48261758691206547"
      ]
     },
     "execution_count": 206,
     "metadata": {},
     "output_type": "execute_result"
    }
   ],
   "source": [
    "KNN(train_term_document_matrix_tfidf, DJIA_train, test_term_document_matrix_tfidf, DJIA_test, 10)"
   ]
  },
  {
   "cell_type": "code",
   "execution_count": 207,
   "metadata": {},
   "outputs": [
    {
     "data": {
      "text/plain": [
       "3"
      ]
     },
     "execution_count": 207,
     "metadata": {},
     "output_type": "execute_result"
    }
   ],
   "source": [
    "np.argmin(test_error)"
   ]
  },
  {
   "cell_type": "code",
   "execution_count": 208,
   "metadata": {},
   "outputs": [
    {
     "data": {
      "text/plain": [
       "0.45866666666666667"
      ]
     },
     "execution_count": 208,
     "metadata": {},
     "output_type": "execute_result"
    }
   ],
   "source": [
    "KNN(train_term_document_matrix_tfidf, DJIA_train, train_term_document_matrix_tfidf, DJIA_train, 1)"
   ]
  },
  {
   "cell_type": "code",
   "execution_count": 209,
   "metadata": {},
   "outputs": [
    {
     "data": {
      "text/plain": [
       "0.54133333333333333"
      ]
     },
     "execution_count": 209,
     "metadata": {},
     "output_type": "execute_result"
    }
   ],
   "source": [
    "sum(DJIA_train)/float(len(DJIA_train))"
   ]
  },
  {
   "cell_type": "markdown",
   "metadata": {},
   "source": [
    "### Logistic"
   ]
  },
  {
   "cell_type": "code",
   "execution_count": 210,
   "metadata": {
    "collapsed": true
   },
   "outputs": [],
   "source": [
    "from sklearn.linear_model import LogisticRegression"
   ]
  },
  {
   "cell_type": "code",
   "execution_count": 211,
   "metadata": {},
   "outputs": [],
   "source": [
    "#logit = LogisticRegression()\n",
    "#logit_fit = logit.fit(train_term_document_matrix_basic, DJIA_train)\n",
    "#logit_predict = logit.predict(test_term_document_matrix_basic)\n",
    "#accu = sum(DJIA_test == logit_predict)/len(DJIA_test)\n",
    "#accu"
   ]
  },
  {
   "cell_type": "code",
   "execution_count": 212,
   "metadata": {},
   "outputs": [
    {
     "name": "stdout",
     "output_type": "stream",
     "text": [
      "\n"
     ]
    }
   ],
   "source": [
    "print train_term_document_matrix_tfidf[0]"
   ]
  },
  {
   "cell_type": "code",
   "execution_count": 213,
   "metadata": {},
   "outputs": [
    {
     "data": {
      "text/plain": [
       "0.51738241308793453"
      ]
     },
     "execution_count": 213,
     "metadata": {},
     "output_type": "execute_result"
    }
   ],
   "source": [
    "# LASSO\n",
    "logit = LogisticRegression(penalty='l1')\n",
    "logit_fit = logit.fit(train_term_document_matrix_tfidf, DJIA_train)\n",
    "logit_predict = logit.predict(test_term_document_matrix_tfidf)\n",
    "accu = sum(DJIA_test == logit_predict)/float(len(DJIA_test))\n",
    "accu"
   ]
  },
  {
   "cell_type": "code",
   "execution_count": 214,
   "metadata": {},
   "outputs": [
    {
     "data": {
      "text/plain": [
       "0.51738241308793453"
      ]
     },
     "execution_count": 214,
     "metadata": {},
     "output_type": "execute_result"
    }
   ],
   "source": [
    "# Ridge\n",
    "logit = LogisticRegression(penalty='l2')\n",
    "logit_fit = logit.fit(train_term_document_matrix_tfidf, DJIA_train)\n",
    "logit_predict = logit.predict(test_term_document_matrix_tfidf)\n",
    "accu = sum(DJIA_test == logit_predict)/float(len(DJIA_test))\n",
    "accu"
   ]
  },
  {
   "cell_type": "markdown",
   "metadata": {},
   "source": [
    "### Rocchio Classification"
   ]
  },
  {
   "cell_type": "code",
   "execution_count": 215,
   "metadata": {
    "collapsed": true
   },
   "outputs": [],
   "source": [
    "def Rocchio(X_train, Y_train, X_test, Y_test):\n",
    "    \"\"\"\n",
    "    X_train: term_doc_matrix\n",
    "    Y_train: list\n",
    "    X_test: term_doc_matrix\n",
    "    Y_test: list\n",
    "    \"\"\"\n",
    "    pred = np.zeros(len(Y_test), dtype = 'int64')\n",
    "    X_train_1 = X_train[np.array(Y_train) == 1, :]\n",
    "    X_train_0 = X_train[np.array(Y_train) == 0, :]\n",
    "    Centriod_1 = (np.sum(X_train_1, axis = 0)+0.)/X_train_1.shape[0]\n",
    "    Centriod_0 = (np.sum(X_train_0, axis = 0)+0.)/X_train_0.shape[0]\n",
    "    for j in range(len(Y_test)):\n",
    "        distance_1 = np.sqrt(np.sum(np.square(X_test[j]-Centriod_1)))\n",
    "        distance_0 = np.sqrt(np.sum(np.square(X_test[j]-Centriod_0)))\n",
    "        if distance_1 <= distance_0:\n",
    "            pred[j] = 1\n",
    "        else:\n",
    "            pred[j] = 0\n",
    "    accu = np.mean(Y_test == pred)\n",
    "    return accu"
   ]
  },
  {
   "cell_type": "code",
   "execution_count": 216,
   "metadata": {},
   "outputs": [
    {
     "data": {
      "text/plain": [
       "0.51738241308793453"
      ]
     },
     "execution_count": 216,
     "metadata": {},
     "output_type": "execute_result"
    }
   ],
   "source": [
    "# test_accuracy\n",
    "Rocchio(train_term_document_matrix_tfidf, DJIA_train, test_term_document_matrix_tfidf, DJIA_test)"
   ]
  },
  {
   "cell_type": "code",
   "execution_count": 217,
   "metadata": {},
   "outputs": [
    {
     "data": {
      "text/plain": [
       "0.54133333333333333"
      ]
     },
     "execution_count": 217,
     "metadata": {},
     "output_type": "execute_result"
    }
   ],
   "source": [
    "# train_accuracy\n",
    "Rocchio(train_term_document_matrix_tfidf, DJIA_train, train_term_document_matrix_tfidf, DJIA_train)"
   ]
  },
  {
   "cell_type": "markdown",
   "metadata": {},
   "source": [
    "### Naive Bayes"
   ]
  },
  {
   "cell_type": "code",
   "execution_count": 218,
   "metadata": {
    "collapsed": true
   },
   "outputs": [],
   "source": [
    "from sklearn.naive_bayes import BernoulliNB"
   ]
  },
  {
   "cell_type": "code",
   "execution_count": 219,
   "metadata": {},
   "outputs": [
    {
     "data": {
      "text/plain": [
       "BernoulliNB(alpha=1, binarize=0.0, class_prior=None, fit_prior=True)"
      ]
     },
     "execution_count": 219,
     "metadata": {},
     "output_type": "execute_result"
    }
   ],
   "source": [
    "BNBclassifier = BernoulliNB(alpha=1)\n",
    "BNBclassifier.fit(train_term_document_matrix_tfidf, DJIA_train)"
   ]
  },
  {
   "cell_type": "code",
   "execution_count": 220,
   "metadata": {},
   "outputs": [
    {
     "data": {
      "text/plain": [
       "0.51738241308793453"
      ]
     },
     "execution_count": 220,
     "metadata": {},
     "output_type": "execute_result"
    }
   ],
   "source": [
    "BNBpred = BNBclassifier.predict(test_term_document_matrix_tfidf)\n",
    "np.mean(BNBpred==DJIA_test)"
   ]
  },
  {
   "cell_type": "markdown",
   "metadata": {},
   "source": [
    "### Evaluation"
   ]
  },
  {
   "cell_type": "code",
   "execution_count": 35,
   "metadata": {},
   "outputs": [
    {
     "data": {
      "text/plain": [
       "array([0, 1], dtype=int64)"
      ]
     },
     "execution_count": 35,
     "metadata": {},
     "output_type": "execute_result"
    }
   ],
   "source": [
    "BNBclassifier.classes_"
   ]
  },
  {
   "cell_type": "code",
   "execution_count": 37,
   "metadata": {
    "collapsed": true
   },
   "outputs": [],
   "source": [
    "from sklearn.metrics import classification_report, confusion_matrix"
   ]
  },
  {
   "cell_type": "code",
   "execution_count": 38,
   "metadata": {},
   "outputs": [
    {
     "name": "stdout",
     "output_type": "stream",
     "text": [
      "[[115 121]\n",
      " [ 97 156]]\n"
     ]
    }
   ],
   "source": [
    "print(confusion_matrix(DJIA_test, BNBpred))"
   ]
  },
  {
   "cell_type": "code",
   "execution_count": 39,
   "metadata": {
    "scrolled": true
   },
   "outputs": [
    {
     "name": "stdout",
     "output_type": "stream",
     "text": [
      "             precision    recall  f1-score   support\n",
      "\n",
      "          0       0.54      0.49      0.51       236\n",
      "          1       0.56      0.62      0.59       253\n",
      "\n",
      "avg / total       0.55      0.55      0.55       489\n",
      "\n"
     ]
    }
   ],
   "source": [
    "print(classification_report(DJIA_test, BNBpred))"
   ]
  },
  {
   "cell_type": "code",
   "execution_count": 40,
   "metadata": {
    "collapsed": true
   },
   "outputs": [],
   "source": [
    "down_probs=BNBclassifier.feature_log_prob_[0,:]\n",
    "\n",
    "up_probs=BNBclassifier.feature_log_prob_[1,:]"
   ]
  },
  {
   "cell_type": "code",
   "execution_count": 41,
   "metadata": {
    "collapsed": true
   },
   "outputs": [],
   "source": [
    "logodds=down_probs-up_probs"
   ]
  },
  {
   "cell_type": "code",
   "execution_count": 42,
   "metadata": {
    "collapsed": true
   },
   "outputs": [],
   "source": [
    "terms = tfidfvectorizer.get_feature_names()"
   ]
  },
  {
   "cell_type": "code",
   "execution_count": 43,
   "metadata": {},
   "outputs": [
    {
     "name": "stdout",
     "output_type": "stream",
     "text": [
      "\n",
      "Features that are most indicative of DJIA_UP:\n",
      "\n",
      "lack of\n",
      "in britain\n",
      "in east\n",
      "embassy in\n",
      "time in\n",
      "woman who\n",
      "government has\n",
      "and other\n",
      "he has\n",
      "what the\n",
      "\n",
      "\n",
      "Features that are most indicative of DJIA_DOWN\n",
      "\n",
      "said the\n",
      "sexual abuse\n",
      "phone hacking\n",
      "children in\n",
      "fire on\n",
      "the german\n",
      "if it\n",
      "not only\n",
      "the former\n",
      "the ground\n"
     ]
    }
   ],
   "source": [
    "print(\"\\nFeatures that are most indicative of DJIA_UP:\\n\")\n",
    "for i in np.argsort(logodds)[:10]:\n",
    "    print(terms[i])\n",
    "    \n",
    "print(\"\\n\\nFeatures that are most indicative of DJIA_DOWN\\n\")\n",
    "for i in np.argsort(-logodds)[:10]:\n",
    "    print(terms[i])"
   ]
  },
  {
   "cell_type": "markdown",
   "metadata": {},
   "source": [
    "### Empath Tool Text Analysis"
   ]
  },
  {
   "cell_type": "code",
   "execution_count": 67,
   "metadata": {
    "collapsed": true
   },
   "outputs": [],
   "source": [
    "lexicon = Empath()"
   ]
  },
  {
   "cell_type": "code",
   "execution_count": 68,
   "metadata": {},
   "outputs": [
    {
     "data": {
      "text/plain": [
       "\"b'Why wont America and Nato help us? If they wont help us now, why did we help them in Iraq?'\""
      ]
     },
     "execution_count": 68,
     "metadata": {},
     "output_type": "execute_result"
    }
   ],
   "source": [
    "df.iloc[1,1]"
   ]
  },
  {
   "cell_type": "code",
   "execution_count": 69,
   "metadata": {},
   "outputs": [
    {
     "data": {
      "text/plain": [
       "{'achievement': 0.0,\n",
       " 'affection': 0.0,\n",
       " 'aggression': 0.0,\n",
       " 'air_travel': 0.0,\n",
       " 'alcohol': 0.0,\n",
       " 'ancient': 0.0,\n",
       " 'anger': 0.0,\n",
       " 'animal': 0.0,\n",
       " 'anonymity': 0.0,\n",
       " 'anticipation': 0.0,\n",
       " 'appearance': 0.0,\n",
       " 'art': 0.0,\n",
       " 'attractive': 0.0,\n",
       " 'banking': 0.0,\n",
       " 'beach': 0.0,\n",
       " 'beauty': 0.0,\n",
       " 'blue_collar_job': 0.0,\n",
       " 'body': 0.0,\n",
       " 'breaking': 0.0,\n",
       " 'business': 0.0,\n",
       " 'car': 0.0,\n",
       " 'celebration': 0.0,\n",
       " 'cheerfulness': 0.0,\n",
       " 'childish': 0.0,\n",
       " 'children': 0.0,\n",
       " 'cleaning': 0.0,\n",
       " 'clothing': 0.0,\n",
       " 'cold': 0.0,\n",
       " 'college': 0.0,\n",
       " 'communication': 0.0,\n",
       " 'competing': 0.0,\n",
       " 'computer': 0.0,\n",
       " 'confusion': 0.05,\n",
       " 'contentment': 0.0,\n",
       " 'cooking': 0.0,\n",
       " 'crime': 0.0,\n",
       " 'dance': 0.0,\n",
       " 'death': 0.0,\n",
       " 'deception': 0.0,\n",
       " 'disappointment': 0.0,\n",
       " 'disgust': 0.0,\n",
       " 'dispute': 0.0,\n",
       " 'divine': 0.0,\n",
       " 'domestic_work': 0.0,\n",
       " 'dominant_heirarchical': 0.0,\n",
       " 'dominant_personality': 0.0,\n",
       " 'driving': 0.0,\n",
       " 'eating': 0.0,\n",
       " 'economics': 0.0,\n",
       " 'emotional': 0.0,\n",
       " 'envy': 0.0,\n",
       " 'exasperation': 0.0,\n",
       " 'exercise': 0.0,\n",
       " 'exotic': 0.0,\n",
       " 'fabric': 0.0,\n",
       " 'family': 0.0,\n",
       " 'farming': 0.0,\n",
       " 'fashion': 0.0,\n",
       " 'fear': 0.0,\n",
       " 'feminine': 0.0,\n",
       " 'fight': 0.0,\n",
       " 'fire': 0.0,\n",
       " 'friends': 0.0,\n",
       " 'fun': 0.0,\n",
       " 'furniture': 0.0,\n",
       " 'gain': 0.0,\n",
       " 'giving': 0.0,\n",
       " 'government': 0.0,\n",
       " 'hate': 0.0,\n",
       " 'healing': 0.0,\n",
       " 'health': 0.0,\n",
       " 'hearing': 0.0,\n",
       " 'help': 0.15,\n",
       " 'heroic': 0.0,\n",
       " 'hiking': 0.0,\n",
       " 'hipster': 0.0,\n",
       " 'home': 0.0,\n",
       " 'horror': 0.0,\n",
       " 'hygiene': 0.0,\n",
       " 'independence': 0.0,\n",
       " 'injury': 0.0,\n",
       " 'internet': 0.0,\n",
       " 'irritability': 0.0,\n",
       " 'journalism': 0.0,\n",
       " 'joy': 0.0,\n",
       " 'kill': 0.0,\n",
       " 'law': 0.0,\n",
       " 'leader': 0.0,\n",
       " 'legend': 0.0,\n",
       " 'leisure': 0.0,\n",
       " 'liquid': 0.0,\n",
       " 'listen': 0.0,\n",
       " 'love': 0.0,\n",
       " 'lust': 0.0,\n",
       " 'magic': 0.0,\n",
       " 'masculine': 0.0,\n",
       " 'medical_emergency': 0.0,\n",
       " 'medieval': 0.0,\n",
       " 'meeting': 0.0,\n",
       " 'messaging': 0.0,\n",
       " 'military': 0.0,\n",
       " 'money': 0.0,\n",
       " 'monster': 0.0,\n",
       " 'morning': 0.0,\n",
       " 'movement': 0.0,\n",
       " 'music': 0.0,\n",
       " 'musical': 0.0,\n",
       " 'negative_emotion': 0.0,\n",
       " 'neglect': 0.0,\n",
       " 'negotiate': 0.0,\n",
       " 'nervousness': 0.0,\n",
       " 'night': 0.0,\n",
       " 'noise': 0.0,\n",
       " 'occupation': 0.0,\n",
       " 'ocean': 0.0,\n",
       " 'office': 0.0,\n",
       " 'optimism': 0.0,\n",
       " 'order': 0.0,\n",
       " 'pain': 0.0,\n",
       " 'party': 0.0,\n",
       " 'payment': 0.0,\n",
       " 'pet': 0.0,\n",
       " 'philosophy': 0.0,\n",
       " 'phone': 0.0,\n",
       " 'plant': 0.0,\n",
       " 'play': 0.0,\n",
       " 'politeness': 0.0,\n",
       " 'politics': 0.0,\n",
       " 'poor': 0.0,\n",
       " 'positive_emotion': 0.0,\n",
       " 'power': 0.0,\n",
       " 'pride': 0.0,\n",
       " 'prison': 0.0,\n",
       " 'programming': 0.0,\n",
       " 'rage': 0.0,\n",
       " 'reading': 0.0,\n",
       " 'real_estate': 0.0,\n",
       " 'religion': 0.0,\n",
       " 'restaurant': 0.0,\n",
       " 'ridicule': 0.0,\n",
       " 'royalty': 0.0,\n",
       " 'rural': 0.0,\n",
       " 'sadness': 0.0,\n",
       " 'sailing': 0.0,\n",
       " 'school': 0.0,\n",
       " 'science': 0.0,\n",
       " 'sexual': 0.0,\n",
       " 'shame': 0.0,\n",
       " 'shape_and_size': 0.0,\n",
       " 'ship': 0.0,\n",
       " 'shopping': 0.0,\n",
       " 'sleep': 0.0,\n",
       " 'smell': 0.0,\n",
       " 'social_media': 0.0,\n",
       " 'sound': 0.0,\n",
       " 'speaking': 0.0,\n",
       " 'sports': 0.0,\n",
       " 'stealing': 0.0,\n",
       " 'strength': 0.0,\n",
       " 'suffering': 0.0,\n",
       " 'superhero': 0.0,\n",
       " 'surprise': 0.0,\n",
       " 'swearing_terms': 0.0,\n",
       " 'swimming': 0.0,\n",
       " 'sympathy': 0.0,\n",
       " 'technology': 0.0,\n",
       " 'terrorism': 0.0,\n",
       " 'timidity': 0.0,\n",
       " 'tool': 0.0,\n",
       " 'torment': 0.0,\n",
       " 'tourism': 0.0,\n",
       " 'toy': 0.0,\n",
       " 'traveling': 0.0,\n",
       " 'trust': 0.0,\n",
       " 'ugliness': 0.0,\n",
       " 'urban': 0.0,\n",
       " 'vacation': 0.0,\n",
       " 'valuable': 0.0,\n",
       " 'vehicle': 0.0,\n",
       " 'violence': 0.0,\n",
       " 'war': 0.0,\n",
       " 'warmth': 0.0,\n",
       " 'water': 0.0,\n",
       " 'weakness': 0.0,\n",
       " 'wealthy': 0.0,\n",
       " 'weapon': 0.0,\n",
       " 'weather': 0.0,\n",
       " 'wedding': 0.0,\n",
       " 'white_collar_job': 0.0,\n",
       " 'work': 0.0,\n",
       " 'worship': 0.0,\n",
       " 'writing': 0.0,\n",
       " 'youth': 0.0,\n",
       " 'zest': 0.0}"
      ]
     },
     "execution_count": 69,
     "metadata": {},
     "output_type": "execute_result"
    }
   ],
   "source": [
    "lexicon.analyze(df.iloc[1,1], normalize=True)"
   ]
  },
  {
   "cell_type": "code",
   "execution_count": 70,
   "metadata": {},
   "outputs": [
    {
     "data": {
      "text/plain": [
       "'b\"Russia \\'ends Georgia operation\\'\"'"
      ]
     },
     "execution_count": 70,
     "metadata": {},
     "output_type": "execute_result"
    }
   ],
   "source": [
    "df.iloc[2,2]"
   ]
  },
  {
   "cell_type": "code",
   "execution_count": 71,
   "metadata": {},
   "outputs": [
    {
     "data": {
      "text/plain": [
       "{'achievement': 0.0,\n",
       " 'affection': 0.0,\n",
       " 'aggression': 0.0,\n",
       " 'air_travel': 0.0,\n",
       " 'alcohol': 0.0,\n",
       " 'ancient': 0.0,\n",
       " 'anger': 0.0,\n",
       " 'animal': 0.0,\n",
       " 'anonymity': 0.0,\n",
       " 'anticipation': 0.0,\n",
       " 'appearance': 0.0,\n",
       " 'art': 0.0,\n",
       " 'attractive': 0.0,\n",
       " 'banking': 0.0,\n",
       " 'beach': 0.0,\n",
       " 'beauty': 0.0,\n",
       " 'blue_collar_job': 0.0,\n",
       " 'body': 0.0,\n",
       " 'breaking': 0.0,\n",
       " 'business': 0.0,\n",
       " 'car': 0.0,\n",
       " 'celebration': 0.0,\n",
       " 'cheerfulness': 0.0,\n",
       " 'childish': 0.0,\n",
       " 'children': 0.0,\n",
       " 'cleaning': 0.0,\n",
       " 'clothing': 0.0,\n",
       " 'cold': 0.0,\n",
       " 'college': 0.0,\n",
       " 'communication': 0.0,\n",
       " 'competing': 0.0,\n",
       " 'computer': 0.0,\n",
       " 'confusion': 0.0,\n",
       " 'contentment': 0.0,\n",
       " 'cooking': 0.0,\n",
       " 'crime': 0.0,\n",
       " 'dance': 0.0,\n",
       " 'death': 0.0,\n",
       " 'deception': 0.0,\n",
       " 'disappointment': 0.0,\n",
       " 'disgust': 0.0,\n",
       " 'dispute': 0.0,\n",
       " 'divine': 0.0,\n",
       " 'domestic_work': 0.0,\n",
       " 'dominant_heirarchical': 0.0,\n",
       " 'dominant_personality': 0.0,\n",
       " 'driving': 0.0,\n",
       " 'eating': 0.0,\n",
       " 'economics': 0.0,\n",
       " 'emotional': 0.0,\n",
       " 'envy': 0.0,\n",
       " 'exasperation': 0.0,\n",
       " 'exercise': 0.0,\n",
       " 'exotic': 0.0,\n",
       " 'fabric': 0.0,\n",
       " 'family': 0.0,\n",
       " 'farming': 0.0,\n",
       " 'fashion': 0.0,\n",
       " 'fear': 0.0,\n",
       " 'feminine': 0.0,\n",
       " 'fight': 0.0,\n",
       " 'fire': 0.0,\n",
       " 'friends': 0.0,\n",
       " 'fun': 0.0,\n",
       " 'furniture': 0.0,\n",
       " 'gain': 0.0,\n",
       " 'giving': 0.0,\n",
       " 'government': 0.0,\n",
       " 'hate': 0.0,\n",
       " 'healing': 0.0,\n",
       " 'health': 0.0,\n",
       " 'hearing': 0.0,\n",
       " 'help': 0.0,\n",
       " 'heroic': 0.0,\n",
       " 'hiking': 0.0,\n",
       " 'hipster': 0.0,\n",
       " 'home': 0.0,\n",
       " 'horror': 0.0,\n",
       " 'hygiene': 0.0,\n",
       " 'independence': 0.0,\n",
       " 'injury': 0.0,\n",
       " 'internet': 0.0,\n",
       " 'irritability': 0.0,\n",
       " 'journalism': 0.0,\n",
       " 'joy': 0.0,\n",
       " 'kill': 0.0,\n",
       " 'law': 0.0,\n",
       " 'leader': 0.0,\n",
       " 'legend': 0.0,\n",
       " 'leisure': 0.0,\n",
       " 'liquid': 0.0,\n",
       " 'listen': 0.0,\n",
       " 'love': 0.0,\n",
       " 'lust': 0.0,\n",
       " 'magic': 0.0,\n",
       " 'masculine': 0.0,\n",
       " 'medical_emergency': 0.0,\n",
       " 'medieval': 0.0,\n",
       " 'meeting': 0.0,\n",
       " 'messaging': 0.0,\n",
       " 'military': 0.0,\n",
       " 'money': 0.0,\n",
       " 'monster': 0.0,\n",
       " 'morning': 0.0,\n",
       " 'movement': 0.0,\n",
       " 'music': 0.0,\n",
       " 'musical': 0.0,\n",
       " 'negative_emotion': 0.0,\n",
       " 'neglect': 0.0,\n",
       " 'negotiate': 0.0,\n",
       " 'nervousness': 0.0,\n",
       " 'night': 0.0,\n",
       " 'noise': 0.0,\n",
       " 'occupation': 0.0,\n",
       " 'ocean': 0.0,\n",
       " 'office': 0.0,\n",
       " 'optimism': 0.0,\n",
       " 'order': 0.0,\n",
       " 'pain': 0.0,\n",
       " 'party': 0.0,\n",
       " 'payment': 0.0,\n",
       " 'pet': 0.0,\n",
       " 'philosophy': 0.0,\n",
       " 'phone': 0.0,\n",
       " 'plant': 0.0,\n",
       " 'play': 0.0,\n",
       " 'politeness': 0.0,\n",
       " 'politics': 0.0,\n",
       " 'poor': 0.0,\n",
       " 'positive_emotion': 0.0,\n",
       " 'power': 0.0,\n",
       " 'pride': 0.0,\n",
       " 'prison': 0.0,\n",
       " 'programming': 0.0,\n",
       " 'rage': 0.0,\n",
       " 'reading': 0.0,\n",
       " 'real_estate': 0.0,\n",
       " 'religion': 0.0,\n",
       " 'restaurant': 0.0,\n",
       " 'ridicule': 0.0,\n",
       " 'royalty': 0.0,\n",
       " 'rural': 0.0,\n",
       " 'sadness': 0.0,\n",
       " 'sailing': 0.0,\n",
       " 'school': 0.0,\n",
       " 'science': 0.0,\n",
       " 'sexual': 0.0,\n",
       " 'shame': 0.0,\n",
       " 'shape_and_size': 0.0,\n",
       " 'ship': 0.0,\n",
       " 'shopping': 0.0,\n",
       " 'sleep': 0.0,\n",
       " 'smell': 0.0,\n",
       " 'social_media': 0.0,\n",
       " 'sound': 0.0,\n",
       " 'speaking': 0.0,\n",
       " 'sports': 0.0,\n",
       " 'stealing': 0.0,\n",
       " 'strength': 0.0,\n",
       " 'suffering': 0.0,\n",
       " 'superhero': 0.0,\n",
       " 'surprise': 0.0,\n",
       " 'swearing_terms': 0.0,\n",
       " 'swimming': 0.0,\n",
       " 'sympathy': 0.0,\n",
       " 'technology': 0.0,\n",
       " 'terrorism': 0.0,\n",
       " 'timidity': 0.0,\n",
       " 'tool': 0.0,\n",
       " 'torment': 0.0,\n",
       " 'tourism': 0.0,\n",
       " 'toy': 0.0,\n",
       " 'traveling': 0.0,\n",
       " 'trust': 0.0,\n",
       " 'ugliness': 0.0,\n",
       " 'urban': 0.0,\n",
       " 'vacation': 0.0,\n",
       " 'valuable': 0.0,\n",
       " 'vehicle': 0.0,\n",
       " 'violence': 0.0,\n",
       " 'war': 0.0,\n",
       " 'warmth': 0.0,\n",
       " 'water': 0.0,\n",
       " 'weakness': 0.0,\n",
       " 'wealthy': 0.0,\n",
       " 'weapon': 0.0,\n",
       " 'weather': 0.0,\n",
       " 'wedding': 0.0,\n",
       " 'white_collar_job': 0.0,\n",
       " 'work': 0.0,\n",
       " 'worship': 0.0,\n",
       " 'writing': 0.0,\n",
       " 'youth': 0.0,\n",
       " 'zest': 0.0}"
      ]
     },
     "execution_count": 71,
     "metadata": {},
     "output_type": "execute_result"
    }
   ],
   "source": [
    "lexicon.analyze(df.iloc[2,2], normalize=True)"
   ]
  },
  {
   "cell_type": "code",
   "execution_count": 72,
   "metadata": {
    "collapsed": true
   },
   "outputs": [],
   "source": [
    "def empath_analyze(doc):\n",
    "    print (doc)\n",
    "    result = lexicon.analyze(doc, normalize=True)\n",
    "    for term, score in result.items():\n",
    "        if score != 0.:\n",
    "            print ((term, score))"
   ]
  },
  {
   "cell_type": "code",
   "execution_count": 73,
   "metadata": {},
   "outputs": [
    {
     "data": {
      "text/plain": [
       "dict_keys(['help', 'office', 'dance', 'money', 'wedding', 'domestic_work', 'sleep', 'medical_emergency', 'cold', 'hate', 'cheerfulness', 'aggression', 'occupation', 'envy', 'anticipation', 'family', 'vacation', 'crime', 'attractive', 'masculine', 'prison', 'health', 'pride', 'dispute', 'nervousness', 'government', 'weakness', 'horror', 'swearing_terms', 'leisure', 'suffering', 'royalty', 'wealthy', 'tourism', 'furniture', 'school', 'magic', 'beach', 'journalism', 'morning', 'banking', 'social_media', 'exercise', 'night', 'kill', 'blue_collar_job', 'art', 'ridicule', 'play', 'computer', 'college', 'optimism', 'stealing', 'real_estate', 'home', 'divine', 'sexual', 'fear', 'irritability', 'superhero', 'business', 'driving', 'pet', 'childish', 'cooking', 'exasperation', 'religion', 'hipster', 'internet', 'surprise', 'reading', 'worship', 'leader', 'independence', 'movement', 'body', 'noise', 'eating', 'medieval', 'zest', 'confusion', 'water', 'sports', 'death', 'healing', 'legend', 'heroic', 'celebration', 'restaurant', 'violence', 'programming', 'dominant_heirarchical', 'military', 'neglect', 'swimming', 'exotic', 'love', 'hiking', 'communication', 'hearing', 'order', 'sympathy', 'hygiene', 'weather', 'anonymity', 'trust', 'ancient', 'deception', 'fabric', 'air_travel', 'fight', 'dominant_personality', 'music', 'vehicle', 'politeness', 'toy', 'farming', 'meeting', 'war', 'speaking', 'listen', 'urban', 'shopping', 'disgust', 'fire', 'tool', 'phone', 'gain', 'sound', 'injury', 'sailing', 'rage', 'science', 'work', 'appearance', 'valuable', 'warmth', 'youth', 'sadness', 'fun', 'emotional', 'joy', 'affection', 'traveling', 'fashion', 'ugliness', 'lust', 'shame', 'torment', 'economics', 'anger', 'politics', 'ship', 'clothing', 'car', 'strength', 'technology', 'breaking', 'shape_and_size', 'power', 'white_collar_job', 'animal', 'party', 'terrorism', 'smell', 'disappointment', 'poor', 'plant', 'pain', 'beauty', 'timidity', 'philosophy', 'negotiate', 'negative_emotion', 'cleaning', 'messaging', 'competing', 'law', 'friends', 'payment', 'achievement', 'alcohol', 'liquid', 'feminine', 'weapon', 'children', 'monster', 'ocean', 'giving', 'contentment', 'writing', 'rural', 'positive_emotion', 'musical'])"
      ]
     },
     "execution_count": 73,
     "metadata": {},
     "output_type": "execute_result"
    }
   ],
   "source": [
    "lexicon.analyze('hit', normalize=True).keys()"
   ]
  },
  {
   "cell_type": "code",
   "execution_count": 74,
   "metadata": {
    "collapsed": true
   },
   "outputs": [],
   "source": [
    "categories = list(lexicon.analyze('no', normalize=True).keys())"
   ]
  },
  {
   "cell_type": "code",
   "execution_count": 75,
   "metadata": {
    "collapsed": true
   },
   "outputs": [],
   "source": [
    "empath_df = pd.DataFrame()"
   ]
  },
  {
   "cell_type": "code",
   "execution_count": 76,
   "metadata": {},
   "outputs": [
    {
     "data": {
      "text/plain": [
       "Top1     b'Dutch to ban burkas when picking children up...\n",
       "Top2     b\"For 21 years a British man has refused to bu...\n",
       "Top3       b'War Nerd - Ossetia: all over but the whining'\n",
       "Top4     b'North Korean Leader Kim Jong-il is Confirmed...\n",
       "Top5            b'Polish PM Wants Child Abusers Castrated'\n",
       "Top6                  b'Russian bombers land in Venezuela'\n",
       "Top7            b'Devastating Landslide Kills 56 in China'\n",
       "Top8     b'Iran demands UN investigate Israeli \"threats...\n",
       "Top9     b'2 Israeli Human Right Groups: Israel is forc...\n",
       "Top10    b'125,000 Gorillas Find Haven in Mud Swamp But...\n",
       "Top11    b'Moroccan blogger insults King, King jails in...\n",
       "Top12    b'Ralph Peters, the retired US army colonel wh...\n",
       "Top13                   b\"US 'not winning' in Afghanistan\"\n",
       "Top14    b'Earth Policy Institute: Increasing Equality ...\n",
       "Top15                 b\"Israel 'dividing up Palestinians'\"\n",
       "Top16    b'Iran Being Supported by Shell Oil, OMV and M...\n",
       "Top17    b'Russia sends warplanes on Venezuela training...\n",
       "Top18    b'Satellite Images Reveal Exact Nature of Dest...\n",
       "Top19                               b'Obama win preferred'\n",
       "Top20              b'Across Haiti, a Scene of Devastation'\n",
       "Top21    b'Google Satellites Aim to Bring High-Speed In...\n",
       "Top22    b'Hindus highlight plight of Roma people in Eu...\n",
       "Top23    b'Australia Criticized for Setting \"Weak\" Carb...\n",
       "Top24    b'This is why the Taliban are pissed, and so w...\n",
       "Top25                     b'Islam in Europe: Balkan youth'\n",
       "Name: 2008-09-10, dtype: object"
      ]
     },
     "execution_count": 76,
     "metadata": {},
     "output_type": "execute_result"
    }
   ],
   "source": [
    "df.iloc[22, 1:]"
   ]
  },
  {
   "cell_type": "code",
   "execution_count": 77,
   "metadata": {
    "collapsed": true
   },
   "outputs": [],
   "source": [
    "def create_empath_df(headlines, lexicon, length, categories):\n",
    "    \"\"\"\n",
    "    df: pd.DataFrame, original headline dataframe\n",
    "    lexicon: empath object, empath tool\n",
    "    length: integer, length of the dataframe\n",
    "    categories: list, list of categories in lexicon\n",
    "    \"\"\"\n",
    "    \n",
    "    #df_empath = pd.DataFrame(0, index=df.index[:length], columns=categories)\n",
    "    row_list = []\n",
    "    for i in range(length):\n",
    "        row_list.append(lexicon.analyze(headlines[i], normalize=True))\n",
    "    df_empath = pd.DataFrame(row_list, index=df.index[:length])\n",
    "    return df_empath"
   ]
  },
  {
   "cell_type": "code",
   "execution_count": 78,
   "metadata": {
    "collapsed": true
   },
   "outputs": [],
   "source": [
    "df_empath = create_empath_df(headlines, lexicon, len(headlines), categories)"
   ]
  },
  {
   "cell_type": "code",
   "execution_count": 79,
   "metadata": {},
   "outputs": [
    {
     "data": {
      "text/html": [
       "<div>\n",
       "<style>\n",
       "    .dataframe thead tr:only-child th {\n",
       "        text-align: right;\n",
       "    }\n",
       "\n",
       "    .dataframe thead th {\n",
       "        text-align: left;\n",
       "    }\n",
       "\n",
       "    .dataframe tbody tr th {\n",
       "        vertical-align: top;\n",
       "    }\n",
       "</style>\n",
       "<table border=\"1\" class=\"dataframe\">\n",
       "  <thead>\n",
       "    <tr style=\"text-align: right;\">\n",
       "      <th></th>\n",
       "      <th>achievement</th>\n",
       "      <th>affection</th>\n",
       "      <th>aggression</th>\n",
       "      <th>air_travel</th>\n",
       "      <th>alcohol</th>\n",
       "      <th>ancient</th>\n",
       "      <th>anger</th>\n",
       "      <th>animal</th>\n",
       "      <th>anonymity</th>\n",
       "      <th>anticipation</th>\n",
       "      <th>...</th>\n",
       "      <th>wealthy</th>\n",
       "      <th>weapon</th>\n",
       "      <th>weather</th>\n",
       "      <th>wedding</th>\n",
       "      <th>white_collar_job</th>\n",
       "      <th>work</th>\n",
       "      <th>worship</th>\n",
       "      <th>writing</th>\n",
       "      <th>youth</th>\n",
       "      <th>zest</th>\n",
       "    </tr>\n",
       "    <tr>\n",
       "      <th>Date</th>\n",
       "      <th></th>\n",
       "      <th></th>\n",
       "      <th></th>\n",
       "      <th></th>\n",
       "      <th></th>\n",
       "      <th></th>\n",
       "      <th></th>\n",
       "      <th></th>\n",
       "      <th></th>\n",
       "      <th></th>\n",
       "      <th></th>\n",
       "      <th></th>\n",
       "      <th></th>\n",
       "      <th></th>\n",
       "      <th></th>\n",
       "      <th></th>\n",
       "      <th></th>\n",
       "      <th></th>\n",
       "      <th></th>\n",
       "      <th></th>\n",
       "      <th></th>\n",
       "    </tr>\n",
       "  </thead>\n",
       "  <tbody>\n",
       "    <tr>\n",
       "      <th>2008-08-08</th>\n",
       "      <td>0.002674</td>\n",
       "      <td>0.0</td>\n",
       "      <td>0.002674</td>\n",
       "      <td>0.000000</td>\n",
       "      <td>0.000000</td>\n",
       "      <td>0.002674</td>\n",
       "      <td>0.000000</td>\n",
       "      <td>0.000000</td>\n",
       "      <td>0.0</td>\n",
       "      <td>0.000000</td>\n",
       "      <td>...</td>\n",
       "      <td>0.000000</td>\n",
       "      <td>0.010695</td>\n",
       "      <td>0.000000</td>\n",
       "      <td>0.002674</td>\n",
       "      <td>0.000000</td>\n",
       "      <td>0.002674</td>\n",
       "      <td>0.000000</td>\n",
       "      <td>0.0</td>\n",
       "      <td>0.000000</td>\n",
       "      <td>0.002674</td>\n",
       "    </tr>\n",
       "    <tr>\n",
       "      <th>2008-08-11</th>\n",
       "      <td>0.000000</td>\n",
       "      <td>0.0</td>\n",
       "      <td>0.007326</td>\n",
       "      <td>0.003663</td>\n",
       "      <td>0.003663</td>\n",
       "      <td>0.000000</td>\n",
       "      <td>0.003663</td>\n",
       "      <td>0.000000</td>\n",
       "      <td>0.0</td>\n",
       "      <td>0.000000</td>\n",
       "      <td>...</td>\n",
       "      <td>0.000000</td>\n",
       "      <td>0.003663</td>\n",
       "      <td>0.000000</td>\n",
       "      <td>0.003663</td>\n",
       "      <td>0.000000</td>\n",
       "      <td>0.007326</td>\n",
       "      <td>0.000000</td>\n",
       "      <td>0.0</td>\n",
       "      <td>0.003663</td>\n",
       "      <td>0.000000</td>\n",
       "    </tr>\n",
       "    <tr>\n",
       "      <th>2008-08-12</th>\n",
       "      <td>0.000000</td>\n",
       "      <td>0.0</td>\n",
       "      <td>0.005698</td>\n",
       "      <td>0.000000</td>\n",
       "      <td>0.000000</td>\n",
       "      <td>0.005698</td>\n",
       "      <td>0.000000</td>\n",
       "      <td>0.000000</td>\n",
       "      <td>0.0</td>\n",
       "      <td>0.000000</td>\n",
       "      <td>...</td>\n",
       "      <td>0.002849</td>\n",
       "      <td>0.002849</td>\n",
       "      <td>0.000000</td>\n",
       "      <td>0.005698</td>\n",
       "      <td>0.000000</td>\n",
       "      <td>0.002849</td>\n",
       "      <td>0.002849</td>\n",
       "      <td>0.0</td>\n",
       "      <td>0.000000</td>\n",
       "      <td>0.000000</td>\n",
       "    </tr>\n",
       "    <tr>\n",
       "      <th>2008-08-13</th>\n",
       "      <td>0.000000</td>\n",
       "      <td>0.0</td>\n",
       "      <td>0.006369</td>\n",
       "      <td>0.000000</td>\n",
       "      <td>0.000000</td>\n",
       "      <td>0.003185</td>\n",
       "      <td>0.000000</td>\n",
       "      <td>0.000000</td>\n",
       "      <td>0.0</td>\n",
       "      <td>0.003185</td>\n",
       "      <td>...</td>\n",
       "      <td>0.000000</td>\n",
       "      <td>0.012739</td>\n",
       "      <td>0.006369</td>\n",
       "      <td>0.003185</td>\n",
       "      <td>0.000000</td>\n",
       "      <td>0.006369</td>\n",
       "      <td>0.000000</td>\n",
       "      <td>0.0</td>\n",
       "      <td>0.000000</td>\n",
       "      <td>0.000000</td>\n",
       "    </tr>\n",
       "    <tr>\n",
       "      <th>2008-08-14</th>\n",
       "      <td>0.007194</td>\n",
       "      <td>0.0</td>\n",
       "      <td>0.003597</td>\n",
       "      <td>0.000000</td>\n",
       "      <td>0.003597</td>\n",
       "      <td>0.000000</td>\n",
       "      <td>0.000000</td>\n",
       "      <td>0.003597</td>\n",
       "      <td>0.0</td>\n",
       "      <td>0.000000</td>\n",
       "      <td>...</td>\n",
       "      <td>0.000000</td>\n",
       "      <td>0.007194</td>\n",
       "      <td>0.000000</td>\n",
       "      <td>0.003597</td>\n",
       "      <td>0.003597</td>\n",
       "      <td>0.000000</td>\n",
       "      <td>0.000000</td>\n",
       "      <td>0.0</td>\n",
       "      <td>0.003597</td>\n",
       "      <td>0.000000</td>\n",
       "    </tr>\n",
       "  </tbody>\n",
       "</table>\n",
       "<p>5 rows × 194 columns</p>\n",
       "</div>"
      ],
      "text/plain": [
       "            achievement  affection  aggression  air_travel   alcohol  \\\n",
       "Date                                                                   \n",
       "2008-08-08     0.002674        0.0    0.002674    0.000000  0.000000   \n",
       "2008-08-11     0.000000        0.0    0.007326    0.003663  0.003663   \n",
       "2008-08-12     0.000000        0.0    0.005698    0.000000  0.000000   \n",
       "2008-08-13     0.000000        0.0    0.006369    0.000000  0.000000   \n",
       "2008-08-14     0.007194        0.0    0.003597    0.000000  0.003597   \n",
       "\n",
       "             ancient     anger    animal  anonymity  anticipation    ...     \\\n",
       "Date                                                                 ...      \n",
       "2008-08-08  0.002674  0.000000  0.000000        0.0      0.000000    ...      \n",
       "2008-08-11  0.000000  0.003663  0.000000        0.0      0.000000    ...      \n",
       "2008-08-12  0.005698  0.000000  0.000000        0.0      0.000000    ...      \n",
       "2008-08-13  0.003185  0.000000  0.000000        0.0      0.003185    ...      \n",
       "2008-08-14  0.000000  0.000000  0.003597        0.0      0.000000    ...      \n",
       "\n",
       "             wealthy    weapon   weather   wedding  white_collar_job  \\\n",
       "Date                                                                   \n",
       "2008-08-08  0.000000  0.010695  0.000000  0.002674          0.000000   \n",
       "2008-08-11  0.000000  0.003663  0.000000  0.003663          0.000000   \n",
       "2008-08-12  0.002849  0.002849  0.000000  0.005698          0.000000   \n",
       "2008-08-13  0.000000  0.012739  0.006369  0.003185          0.000000   \n",
       "2008-08-14  0.000000  0.007194  0.000000  0.003597          0.003597   \n",
       "\n",
       "                work   worship  writing     youth      zest  \n",
       "Date                                                         \n",
       "2008-08-08  0.002674  0.000000      0.0  0.000000  0.002674  \n",
       "2008-08-11  0.007326  0.000000      0.0  0.003663  0.000000  \n",
       "2008-08-12  0.002849  0.002849      0.0  0.000000  0.000000  \n",
       "2008-08-13  0.006369  0.000000      0.0  0.000000  0.000000  \n",
       "2008-08-14  0.000000  0.000000      0.0  0.003597  0.000000  \n",
       "\n",
       "[5 rows x 194 columns]"
      ]
     },
     "execution_count": 79,
     "metadata": {},
     "output_type": "execute_result"
    }
   ],
   "source": [
    "df_empath.head()"
   ]
  },
  {
   "cell_type": "code",
   "execution_count": 80,
   "metadata": {},
   "outputs": [
    {
     "data": {
      "text/plain": [
       "(1989, 194)"
      ]
     },
     "execution_count": 80,
     "metadata": {},
     "output_type": "execute_result"
    }
   ],
   "source": [
    "df_empath.shape"
   ]
  },
  {
   "cell_type": "code",
   "execution_count": 86,
   "metadata": {},
   "outputs": [
    {
     "data": {
      "text/plain": [
       "government               18.334742\n",
       "war                      18.295696\n",
       "crime                    17.805880\n",
       "negative_emotion         15.593990\n",
       "law                      14.581313\n",
       "leader                   13.672307\n",
       "fight                    12.854356\n",
       "business                 11.580704\n",
       "kill                     11.559420\n",
       "stealing                 11.327771\n",
       "money                    10.438415\n",
       "weapon                   10.127006\n",
       "military                 10.042624\n",
       "violence                  9.919046\n",
       "death                     9.818250\n",
       "dispute                   9.785117\n",
       "economics                 9.588079\n",
       "terrorism                 9.011457\n",
       "technology                8.622042\n",
       "prison                    8.507852\n",
       "aggression                8.277288\n",
       "banking                   8.274927\n",
       "power                     8.195709\n",
       "dominant_heirarchical     8.165138\n",
       "work                      8.032700\n",
       "payment                   7.885455\n",
       "politics                  7.883431\n",
       "traveling                 6.987825\n",
       "valuable                  6.933162\n",
       "children                  6.886553\n",
       "                           ...    \n",
       "morning                   0.909222\n",
       "fabric                    0.851878\n",
       "night                     0.847440\n",
       "medieval                  0.839631\n",
       "pride                     0.824433\n",
       "hygiene                   0.802923\n",
       "beauty                    0.722132\n",
       "pet                       0.720374\n",
       "furniture                 0.693147\n",
       "hipster                   0.609330\n",
       "blue_collar_job           0.600155\n",
       "envy                      0.591651\n",
       "timidity                  0.582137\n",
       "ridicule                  0.580753\n",
       "dominant_personality      0.534823\n",
       "lust                      0.505659\n",
       "affection                 0.486082\n",
       "anticipation              0.483707\n",
       "ugliness                  0.445336\n",
       "superhero                 0.427662\n",
       "swearing_terms            0.419626\n",
       "irritability              0.416338\n",
       "exasperation              0.396691\n",
       "anonymity                 0.380447\n",
       "sympathy                  0.373691\n",
       "zest                      0.359032\n",
       "contentment               0.351928\n",
       "cheerfulness              0.340043\n",
       "joy                       0.256605\n",
       "politeness                0.177822\n",
       "Length: 194, dtype: float64"
      ]
     },
     "execution_count": 86,
     "metadata": {},
     "output_type": "execute_result"
    }
   ],
   "source": [
    "df_empath.sum(axis=0).sort_values(ascending = False)"
   ]
  },
  {
   "cell_type": "code",
   "execution_count": 92,
   "metadata": {},
   "outputs": [
    {
     "data": {
      "text/plain": [
       "<matplotlib.collections.PathCollection at 0x1b3ea360390>"
      ]
     },
     "execution_count": 92,
     "metadata": {},
     "output_type": "execute_result"
    },
    {
     "data": {
      "image/png": "[encoded data removed]",
      "text/plain": [
       "<matplotlib.figure.Figure at 0x1b3ea3604e0>"
      ]
     },
     "metadata": {},
     "output_type": "display_data"
    }
   ],
   "source": [
    "cat_total_scores = df_empath.sum(axis=0).sort_values(ascending = False)\n",
    "plt.plot(cat_total_scores.values)\n",
    "plt.scatter(25, cat_total_scores.values[25], color = 'r')"
   ]
  },
  {
   "cell_type": "code",
   "execution_count": 99,
   "metadata": {
    "collapsed": true
   },
   "outputs": [],
   "source": [
    "daily_category = df_empath.idxmax(axis=1)"
   ]
  },
  {
   "cell_type": "code",
   "execution_count": 106,
   "metadata": {},
   "outputs": [
    {
     "data": {
      "text/plain": [
       "crime               343\n",
       "government          283\n",
       "war                 199\n",
       "negative_emotion    152\n",
       "business            114\n",
       "leader               71\n",
       "law                  67\n",
       "fight                61\n",
       "economics            46\n",
       "money                45\n",
       "dtype: int64"
      ]
     },
     "execution_count": 106,
     "metadata": {},
     "output_type": "execute_result"
    }
   ],
   "source": [
    "daily_category.value_counts()[:10]"
   ]
  },
  {
   "cell_type": "code",
   "execution_count": 104,
   "metadata": {},
   "outputs": [
    {
     "data": {
      "text/plain": [
       "[<matplotlib.lines.Line2D at 0x1b3e96d9748>]"
      ]
     },
     "execution_count": 104,
     "metadata": {},
     "output_type": "execute_result"
    },
    {
     "data": {
      "image/png": "[encoded data removed]",
      "text/plain": [
       "<matplotlib.figure.Figure at 0x1b3e9160e10>"
      ]
     },
     "metadata": {},
     "output_type": "display_data"
    }
   ],
   "source": [
    "plt.plot(daily_category.value_counts().values)"
   ]
  },
  {
   "cell_type": "code",
   "execution_count": 170,
   "metadata": {
    "collapsed": true
   },
   "outputs": [],
   "source": [
    "from collections import defaultdict\n",
    "cat_to_color = defaultdict(lambda: 'k')"
   ]
  },
  {
   "cell_type": "code",
   "execution_count": 171,
   "metadata": {
    "collapsed": true
   },
   "outputs": [],
   "source": [
    "cat_to_color.update({daily_category.value_counts().index[10+i] : 'C'+str(i+1) for i in range(3)})"
   ]
  },
  {
   "cell_type": "code",
   "execution_count": 172,
   "metadata": {},
   "outputs": [
    {
     "data": {
      "text/plain": [
       "defaultdict(<function __main__.<lambda>>,\n",
       "            {'banking': 'C2', 'dispute': 'C1', 'military': 'C3'})"
      ]
     },
     "execution_count": 172,
     "metadata": {},
     "output_type": "execute_result"
    }
   ],
   "source": [
    "cat_to_color"
   ]
  },
  {
   "cell_type": "code",
   "execution_count": 173,
   "metadata": {},
   "outputs": [
    {
     "data": {
      "text/plain": [
       "1500"
      ]
     },
     "execution_count": 173,
     "metadata": {},
     "output_type": "execute_result"
    }
   ],
   "source": [
    "projected_docs.shape[0]"
   ]
  },
  {
   "cell_type": "code",
   "execution_count": 174,
   "metadata": {},
   "outputs": [
    {
     "data": {
      "text/plain": [
       "(1989,)"
      ]
     },
     "execution_count": 174,
     "metadata": {},
     "output_type": "execute_result"
    }
   ],
   "source": [
    "daily_category.shape"
   ]
  },
  {
   "cell_type": "code",
   "execution_count": 175,
   "metadata": {
    "collapsed": true
   },
   "outputs": [],
   "source": [
    "color_to_project = defaultdict(list)\n",
    "for i in range(projected_docs.shape[0]):\n",
    "    color_to_project[cat_to_color[daily_category[i]]].append(i)"
   ]
  },
  {
   "cell_type": "code",
   "execution_count": 176,
   "metadata": {},
   "outputs": [
    {
     "data": {
      "image/png": "[encoded data removed]",
      "text/plain": [
       "<matplotlib.figure.Figure at 0x1b3f0cc2278>"
      ]
     },
     "metadata": {},
     "output_type": "display_data"
    }
   ],
   "source": [
    "plt.figure(figsize=(15,15))\n",
    "for color, indices in color_to_project.items():\n",
    "    indices = np.array(indices)\n",
    "    plt.scatter(projected_docs[indices,0], projected_docs[indices,1],\n",
    "                color = color)\n",
    "plt.show()"
   ]
  },
  {
   "cell_type": "markdown",
   "metadata": {},
   "source": [
    "### ML using empath matrix"
   ]
  },
  {
   "cell_type": "code",
   "execution_count": 115,
   "metadata": {
    "collapsed": true
   },
   "outputs": [],
   "source": [
    "train_empath_matrix = df_empath[:1500].as_matrix(columns = df_empath.columns)\n",
    "test_empath_matrix = df_empath[1500:].as_matrix(columns = df_empath.columns)"
   ]
  },
  {
   "cell_type": "code",
   "execution_count": 132,
   "metadata": {},
   "outputs": [
    {
     "data": {
      "text/plain": [
       "0.53987730061349692"
      ]
     },
     "execution_count": 132,
     "metadata": {},
     "output_type": "execute_result"
    }
   ],
   "source": [
    "KNN(train_empath_matrix, DJIA_train, test_empath_matrix, DJIA_test, 15)"
   ]
  },
  {
   "cell_type": "code",
   "execution_count": 124,
   "metadata": {},
   "outputs": [
    {
     "data": {
      "text/plain": [
       "0.50920245398773001"
      ]
     },
     "execution_count": 124,
     "metadata": {},
     "output_type": "execute_result"
    }
   ],
   "source": [
    "Rocchio(train_empath_matrix, DJIA_train, test_empath_matrix, DJIA_test)"
   ]
  },
  {
   "cell_type": "code",
   "execution_count": 129,
   "metadata": {},
   "outputs": [
    {
     "data": {
      "text/plain": [
       "0.51738241308793453"
      ]
     },
     "execution_count": 129,
     "metadata": {},
     "output_type": "execute_result"
    }
   ],
   "source": [
    "logit = LogisticRegression(penalty='l2')\n",
    "logit_fit = logit.fit(train_empath_matrix, DJIA_train)\n",
    "logit_predict = logit.predict(test_empath_matrix)\n",
    "accu = sum(DJIA_test == logit_predict)/len(DJIA_test)\n",
    "accu"
   ]
  },
  {
   "cell_type": "code",
   "execution_count": 130,
   "metadata": {},
   "outputs": [
    {
     "data": {
      "text/plain": [
       "0.49693251533742333"
      ]
     },
     "execution_count": 130,
     "metadata": {},
     "output_type": "execute_result"
    }
   ],
   "source": [
    "BNBclassifier.fit(train_empath_matrix, DJIA_train)\n",
    "BNBpred = BNBclassifier.predict(test_empath_matrix)\n",
    "np.mean(BNBpred==DJIA_test)"
   ]
  },
  {
   "cell_type": "markdown",
   "metadata": {
    "collapsed": true
   },
   "source": [
    "### LDA topic classification"
   ]
  },
  {
   "cell_type": "code",
   "execution_count": 200,
   "metadata": {
    "collapsed": true
   },
   "outputs": [],
   "source": [
    "from sklearn.decomposition import LatentDirichletAllocation as LDA\n",
    "cv = CountVectorizer(stop_words = 'english', max_df=.7, min_df=50,\n",
    "                     max_features=6000)\n",
    "counts = cv.fit_transform(headlines)\n",
    "\n",
    "def print_top_words(model, feature_names, n_top_words):\n",
    "    for topic_idx, topic in enumerate(model.components_):\n",
    "        print(\"Topic #%d:\" % topic_idx)\n",
    "        print(\" \".join([feature_names[i]\n",
    "                        for i in topic.argsort()[:-n_top_words - 1:-1]]))\n",
    "    print()"
   ]
  },
  {
   "cell_type": "code",
   "execution_count": 201,
   "metadata": {},
   "outputs": [
    {
     "name": "stdout",
     "output_type": "stream",
     "text": [
      "(1989, 2135)\n"
     ]
    },
    {
     "name": "stderr",
     "output_type": "stream",
     "text": [
      "D:\\Anaconda3\\lib\\site-packages\\sklearn\\decomposition\\online_lda.py:294: DeprecationWarning: n_topics has been renamed to n_components in version 0.19 and will be removed in 0.21\n",
      "  DeprecationWarning)\n",
      "D:\\Anaconda3\\lib\\site-packages\\sklearn\\decomposition\\online_lda.py:536: DeprecationWarning: The default value for 'learning_method' will be changed from 'online' to 'batch' in the release 0.20. This warning was introduced in 0.18.\n",
      "  DeprecationWarning)\n"
     ]
    },
    {
     "name": "stdout",
     "output_type": "stream",
     "text": [
      "iteration: 1 of max_iter: 10\n",
      "iteration: 2 of max_iter: 10\n",
      "iteration: 3 of max_iter: 10\n",
      "iteration: 4 of max_iter: 10\n",
      "iteration: 5 of max_iter: 10\n",
      "iteration: 6 of max_iter: 10\n",
      "iteration: 7 of max_iter: 10\n",
      "iteration: 8 of max_iter: 10\n",
      "iteration: 9 of max_iter: 10\n",
      "iteration: 10 of max_iter: 10\n"
     ]
    }
   ],
   "source": [
    "n_topic = 15\n",
    "print(counts.shape)\n",
    "model = LDA(n_topics=n_topic, max_iter=10, n_jobs=4, verbose=1)\n",
    "res = model.fit_transform(counts)"
   ]
  },
  {
   "cell_type": "code",
   "execution_count": 202,
   "metadata": {},
   "outputs": [
    {
     "name": "stdout",
     "output_type": "stream",
     "text": [
      "Topic #0:\n",
      "gaza israel israeli says uk government children killed school years people 000 war crisis soldiers palestinian new hamas video attack\n",
      "Topic #1:\n",
      "wikileaks assange protesters egypt protests police libya julian government egyptian gaddafi mubarak protest video cables libyan people square bahrain thousands\n",
      "Topic #2:\n",
      "nsa snowden whistleblower surveillance edward fukushima russia intelligence rights new war spanish world says human people mission obama dies asylum\n",
      "Topic #3:\n",
      "people china police years president uk year 000 world news court government war says chinese minister israel killed country man\n",
      "Topic #4:\n",
      "israel police gaza year uk says attack war afghanistan world state hamas million know military like president israeli taliban people\n",
      "Topic #5:\n",
      "israel gaza israeli war hamas iran palestinian nuclear palestinians afghanistan earthquake pakistan jewish killed video soldiers west troops aid civilians\n",
      "Topic #6:\n",
      "90 afghan civilians afghanistan film trial israel backs attack children killed fraud says 60 investigation seven war british claims china\n",
      "Topic #7:\n",
      "russia india israel says war pakistan die iran people china dead new military iraq nuclear strike arrested chief russian venezuela\n",
      "Topic #8:\n",
      "snowden edward surveillance francis bolivia meeting prize kind meet created domestic russia revealed airport address security value zimbabwe says putin\n",
      "Topic #9:\n",
      "bin laden pakistan georgia oil killed bush ships government nuclear sea knew g20 told freedom iraq year laws man arrested\n",
      "Topic #10:\n",
      "ukraine russia russian putin ukrainian crimea says nato military troops georgia pro president kiev war vladimir eastern forces moscow sanctions\n",
      "Topic #11:\n",
      "flu street arctic wars ahmadinejad wall georgia shooting ceo finland jets sea president death india speak russia military fighter school\n",
      "Topic #12:\n",
      "says world new 000 people china government oil state police said israel russia uk million war amp tax international iran\n",
      "Topic #13:\n",
      "new says government year china syria world police amp years president syrian old japan climate change country turkey women india\n",
      "Topic #14:\n",
      "isis korea north islamic says south saudi russia state korean china iran world arabia new fight nuclear iraq military turkish\n",
      "\n"
     ]
    }
   ],
   "source": [
    "feature_names = cv.get_feature_names()\n",
    "print_top_words(model, feature_names, 20)"
   ]
  },
  {
   "cell_type": "code",
   "execution_count": 203,
   "metadata": {},
   "outputs": [
    {
     "data": {
      "text/plain": [
       "(1989, 15)"
      ]
     },
     "execution_count": 203,
     "metadata": {},
     "output_type": "execute_result"
    }
   ],
   "source": [
    "res.shape"
   ]
  },
  {
   "cell_type": "code",
   "execution_count": 210,
   "metadata": {},
   "outputs": [
    {
     "data": {
      "text/plain": [
       "0.50715746421267893"
      ]
     },
     "execution_count": 210,
     "metadata": {},
     "output_type": "execute_result"
    }
   ],
   "source": [
    "KNN(X_train=res[:1500, :], Y_train=DJIA_train, X_test=res[1500:, :], Y_test=DJIA_test, K=4)"
   ]
  },
  {
   "cell_type": "code",
   "execution_count": 211,
   "metadata": {},
   "outputs": [
    {
     "data": {
      "text/plain": [
       "0.46216768916155421"
      ]
     },
     "execution_count": 211,
     "metadata": {},
     "output_type": "execute_result"
    }
   ],
   "source": [
    "Rocchio(X_train=res[:1500, :], Y_train=DJIA_train, X_test=res[1500:, :], Y_test=DJIA_test)"
   ]
  },
  {
   "cell_type": "code",
   "execution_count": 213,
   "metadata": {},
   "outputs": [
    {
     "data": {
      "text/plain": [
       "0.51738241308793453"
      ]
     },
     "execution_count": 213,
     "metadata": {},
     "output_type": "execute_result"
    }
   ],
   "source": [
    "BNBclassifier.fit(res[:1500, :], DJIA_train)\n",
    "BNBpred = BNBclassifier.predict(res[1500:, :])\n",
    "np.mean(BNBpred==DJIA_test)"
   ]
  },
  {
   "cell_type": "code",
   "execution_count": 217,
   "metadata": {},
   "outputs": [
    {
     "data": {
      "text/plain": [
       "0.53578732106339466"
      ]
     },
     "execution_count": 217,
     "metadata": {},
     "output_type": "execute_result"
    }
   ],
   "source": [
    "logit = LogisticRegression(penalty='l2')\n",
    "logit_fit = logit.fit(res[:1500, :], DJIA_train)\n",
    "logit_predict = logit.predict(res[1500: , :])\n",
    "accu = np.mean(DJIA_test == logit_predict)\n",
    "accu"
   ]
  },
  {
   "cell_type": "code",
   "execution_count": null,
   "metadata": {
    "collapsed": true
   },
   "outputs": [],
   "source": []
  }
 ],
 "metadata": {
  "kernelspec": {
   "display_name": "Python 2",
   "language": "python",
   "name": "python2"
  },
  "language_info": {
   "codemirror_mode": {
    "name": "ipython",
    "version": 2
   },
   "file_extension": ".py",
   "mimetype": "text/x-python",
   "name": "python",
   "nbconvert_exporter": "python",
   "pygments_lexer": "ipython2",
   "version": "2.7.13"
  }
 },
 "nbformat": 4,
 "nbformat_minor": 2
}
