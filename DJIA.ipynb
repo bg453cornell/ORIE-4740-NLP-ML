{
 "cells": [
  {
   "cell_type": "code",
   "execution_count": 82,
   "metadata": {
    "collapsed": true
   },
   "outputs": [],
   "source": [
    "import pandas as pd\n",
    "import matplotlib.pyplot as plt\n",
    "import numpy as np\n",
    "%matplotlib inline"
   ]
  },
  {
   "cell_type": "code",
   "execution_count": 61,
   "metadata": {
    "collapsed": true
   },
   "outputs": [],
   "source": [
    "df = pd.read_csv(\"data/DJI.csv\", header=0, index_col=0)"
   ]
  },
  {
   "cell_type": "code",
   "execution_count": 62,
   "metadata": {},
   "outputs": [],
   "source": [
    "df['return'] = (df['Adj Close'] - df['Adj Close'].shift(1))/df['Adj Close'].shift(1)"
   ]
  },
  {
   "cell_type": "code",
   "execution_count": 63,
   "metadata": {},
   "outputs": [
    {
     "data": {
      "text/plain": [
       "-0.0037231791831603654"
      ]
     },
     "execution_count": 63,
     "metadata": {},
     "output_type": "execute_result"
    }
   ],
   "source": [
    "(11284.15039-11326.32031)/11326.32031"
   ]
  },
  {
   "cell_type": "code",
   "execution_count": 64,
   "metadata": {},
   "outputs": [],
   "source": [
    "df.dropna(how='any', axis = 0, inplace=True)"
   ]
  },
  {
   "cell_type": "code",
   "execution_count": 65,
   "metadata": {},
   "outputs": [],
   "source": [
    "df = df['return']"
   ]
  },
  {
   "cell_type": "code",
   "execution_count": 66,
   "metadata": {},
   "outputs": [
    {
     "data": {
      "image/png": "[encoded data removed]",
      "text/plain": [
       "<matplotlib.figure.Figure at 0x20345592eb8>"
      ]
     },
     "metadata": {},
     "output_type": "display_data"
    }
   ],
   "source": [
    "df.hist()\n",
    "plt.show()"
   ]
  },
  {
   "cell_type": "code",
   "execution_count": 68,
   "metadata": {},
   "outputs": [],
   "source": [
    "res = pd.cut(df, 5, retbins=True)"
   ]
  },
  {
   "cell_type": "code",
   "execution_count": 69,
   "metadata": {},
   "outputs": [],
   "source": [
    "cat_DJIA = pd.Series(res[0])"
   ]
  },
  {
   "cell_type": "code",
   "execution_count": 70,
   "metadata": {},
   "outputs": [
    {
     "data": {
      "text/plain": [
       "pandas.core.series.Series"
      ]
     },
     "execution_count": 70,
     "metadata": {},
     "output_type": "execute_result"
    }
   ],
   "source": [
    "type(df)"
   ]
  },
  {
   "cell_type": "code",
   "execution_count": 71,
   "metadata": {},
   "outputs": [
    {
     "data": {
      "text/plain": [
       "Date\n",
       "8/4/2008     (-0.0408, -0.00292]\n",
       "8/5/2008       (-0.00292, 0.035]\n",
       "8/6/2008       (-0.00292, 0.035]\n",
       "8/7/2008     (-0.0408, -0.00292]\n",
       "8/8/2008       (-0.00292, 0.035]\n",
       "8/11/2008      (-0.00292, 0.035]\n",
       "8/12/2008    (-0.0408, -0.00292]\n",
       "8/13/2008    (-0.0408, -0.00292]\n",
       "8/14/2008      (-0.00292, 0.035]\n",
       "8/15/2008      (-0.00292, 0.035]\n",
       "8/18/2008    (-0.0408, -0.00292]\n",
       "8/19/2008    (-0.0408, -0.00292]\n",
       "8/20/2008      (-0.00292, 0.035]\n",
       "8/21/2008      (-0.00292, 0.035]\n",
       "8/22/2008      (-0.00292, 0.035]\n",
       "8/25/2008    (-0.0408, -0.00292]\n",
       "8/26/2008      (-0.00292, 0.035]\n",
       "8/27/2008      (-0.00292, 0.035]\n",
       "8/28/2008      (-0.00292, 0.035]\n",
       "8/29/2008    (-0.0408, -0.00292]\n",
       "9/2/2008       (-0.00292, 0.035]\n",
       "9/3/2008       (-0.00292, 0.035]\n",
       "9/4/2008     (-0.0408, -0.00292]\n",
       "9/5/2008       (-0.00292, 0.035]\n",
       "9/8/2008       (-0.00292, 0.035]\n",
       "9/9/2008     (-0.0408, -0.00292]\n",
       "9/10/2008      (-0.00292, 0.035]\n",
       "9/11/2008      (-0.00292, 0.035]\n",
       "9/12/2008      (-0.00292, 0.035]\n",
       "9/15/2008     (-0.0789, -0.0408]\n",
       "                    ...         \n",
       "6/17/2016    (-0.0408, -0.00292]\n",
       "6/20/2016      (-0.00292, 0.035]\n",
       "6/21/2016      (-0.00292, 0.035]\n",
       "6/22/2016      (-0.00292, 0.035]\n",
       "6/23/2016      (-0.00292, 0.035]\n",
       "6/24/2016    (-0.0408, -0.00292]\n",
       "6/27/2016    (-0.0408, -0.00292]\n",
       "6/28/2016      (-0.00292, 0.035]\n",
       "6/29/2016      (-0.00292, 0.035]\n",
       "6/30/2016      (-0.00292, 0.035]\n",
       "7/1/2016       (-0.00292, 0.035]\n",
       "7/5/2016     (-0.0408, -0.00292]\n",
       "7/6/2016       (-0.00292, 0.035]\n",
       "7/7/2016       (-0.00292, 0.035]\n",
       "7/8/2016       (-0.00292, 0.035]\n",
       "7/11/2016      (-0.00292, 0.035]\n",
       "7/12/2016      (-0.00292, 0.035]\n",
       "7/13/2016      (-0.00292, 0.035]\n",
       "7/14/2016      (-0.00292, 0.035]\n",
       "7/15/2016      (-0.00292, 0.035]\n",
       "7/18/2016      (-0.00292, 0.035]\n",
       "7/19/2016      (-0.00292, 0.035]\n",
       "7/20/2016      (-0.00292, 0.035]\n",
       "7/21/2016    (-0.0408, -0.00292]\n",
       "7/22/2016      (-0.00292, 0.035]\n",
       "7/25/2016    (-0.0408, -0.00292]\n",
       "7/26/2016      (-0.00292, 0.035]\n",
       "7/27/2016      (-0.00292, 0.035]\n",
       "7/28/2016      (-0.00292, 0.035]\n",
       "7/29/2016      (-0.00292, 0.035]\n",
       "Name: return, Length: 2012, dtype: category\n",
       "Categories (5, interval[float64]): [(-0.0789, -0.0408] < (-0.0408, -0.00292] < (-0.00292, 0.035] < (0.035, 0.0729] < (0.0729, 0.111]]"
      ]
     },
     "execution_count": 71,
     "metadata": {},
     "output_type": "execute_result"
    }
   ],
   "source": [
    "cat_DJIA"
   ]
  },
  {
   "cell_type": "code",
   "execution_count": 73,
   "metadata": {},
   "outputs": [
    {
     "data": {
      "text/plain": [
       "(-0.00292, 0.035]      1384\n",
       "(-0.0408, -0.00292]     592\n",
       "(-0.0789, -0.0408]       18\n",
       "(0.035, 0.0729]          16\n",
       "(0.0729, 0.111]           2\n",
       "Name: return, dtype: int64"
      ]
     },
     "execution_count": 73,
     "metadata": {},
     "output_type": "execute_result"
    }
   ],
   "source": [
    "cat_DJIA.value_counts()"
   ]
  },
  {
   "cell_type": "code",
   "execution_count": 83,
   "metadata": {},
   "outputs": [],
   "source": [
    "labels = [ \"{0:.2f} - {1:.2f}\".format(i, i + 0.04) for i in np.arange(-0.08, 0.12, 0.04) ]"
   ]
  },
  {
   "cell_type": "code",
   "execution_count": 84,
   "metadata": {},
   "outputs": [
    {
     "data": {
      "text/plain": [
       "['-0.08 - -0.04', '-0.04 - 0.00', '0.00 - 0.04', '0.04 - 0.08', '0.08 - 0.12']"
      ]
     },
     "execution_count": 84,
     "metadata": {},
     "output_type": "execute_result"
    }
   ],
   "source": [
    "labels"
   ]
  },
  {
   "cell_type": "code",
   "execution_count": 87,
   "metadata": {},
   "outputs": [],
   "source": [
    "test = pd.cut(df, np.arange(-0.08, 0.16, 0.04), right=False, labels=labels)"
   ]
  },
  {
   "cell_type": "code",
   "execution_count": 77,
   "metadata": {},
   "outputs": [
    {
     "data": {
      "text/plain": [
       "-0.07873277273163562"
      ]
     },
     "execution_count": 77,
     "metadata": {},
     "output_type": "execute_result"
    }
   ],
   "source": [
    "df.min()"
   ]
  },
  {
   "cell_type": "code",
   "execution_count": 78,
   "metadata": {},
   "outputs": [
    {
     "data": {
      "text/plain": [
       "0.11080331578802195"
      ]
     },
     "execution_count": 78,
     "metadata": {},
     "output_type": "execute_result"
    }
   ],
   "source": [
    "df.max()"
   ]
  },
  {
   "cell_type": "code",
   "execution_count": 88,
   "metadata": {},
   "outputs": [
    {
     "data": {
      "text/plain": [
       "Date\n",
       "8/4/2008      -0.04 - 0.00\n",
       "8/5/2008       0.00 - 0.04\n",
       "8/6/2008       0.00 - 0.04\n",
       "8/7/2008      -0.04 - 0.00\n",
       "8/8/2008       0.00 - 0.04\n",
       "8/11/2008      0.00 - 0.04\n",
       "8/12/2008     -0.04 - 0.00\n",
       "8/13/2008     -0.04 - 0.00\n",
       "8/14/2008      0.00 - 0.04\n",
       "8/15/2008      0.00 - 0.04\n",
       "8/18/2008     -0.04 - 0.00\n",
       "8/19/2008     -0.04 - 0.00\n",
       "8/20/2008      0.00 - 0.04\n",
       "8/21/2008      0.00 - 0.04\n",
       "8/22/2008      0.00 - 0.04\n",
       "8/25/2008     -0.04 - 0.00\n",
       "8/26/2008      0.00 - 0.04\n",
       "8/27/2008      0.00 - 0.04\n",
       "8/28/2008      0.00 - 0.04\n",
       "8/29/2008     -0.04 - 0.00\n",
       "9/2/2008      -0.04 - 0.00\n",
       "9/3/2008       0.00 - 0.04\n",
       "9/4/2008      -0.04 - 0.00\n",
       "9/5/2008       0.00 - 0.04\n",
       "9/8/2008       0.00 - 0.04\n",
       "9/9/2008      -0.04 - 0.00\n",
       "9/10/2008      0.00 - 0.04\n",
       "9/11/2008      0.00 - 0.04\n",
       "9/12/2008     -0.04 - 0.00\n",
       "9/15/2008    -0.08 - -0.04\n",
       "                 ...      \n",
       "6/17/2016     -0.04 - 0.00\n",
       "6/20/2016      0.00 - 0.04\n",
       "6/21/2016      0.00 - 0.04\n",
       "6/22/2016     -0.04 - 0.00\n",
       "6/23/2016      0.00 - 0.04\n",
       "6/24/2016     -0.04 - 0.00\n",
       "6/27/2016     -0.04 - 0.00\n",
       "6/28/2016      0.00 - 0.04\n",
       "6/29/2016      0.00 - 0.04\n",
       "6/30/2016      0.00 - 0.04\n",
       "7/1/2016       0.00 - 0.04\n",
       "7/5/2016      -0.04 - 0.00\n",
       "7/6/2016       0.00 - 0.04\n",
       "7/7/2016      -0.04 - 0.00\n",
       "7/8/2016       0.00 - 0.04\n",
       "7/11/2016      0.00 - 0.04\n",
       "7/12/2016      0.00 - 0.04\n",
       "7/13/2016      0.00 - 0.04\n",
       "7/14/2016      0.00 - 0.04\n",
       "7/15/2016      0.00 - 0.04\n",
       "7/18/2016      0.00 - 0.04\n",
       "7/19/2016      0.00 - 0.04\n",
       "7/20/2016      0.00 - 0.04\n",
       "7/21/2016     -0.04 - 0.00\n",
       "7/22/2016      0.00 - 0.04\n",
       "7/25/2016     -0.04 - 0.00\n",
       "7/26/2016     -0.04 - 0.00\n",
       "7/27/2016     -0.04 - 0.00\n",
       "7/28/2016     -0.04 - 0.00\n",
       "7/29/2016     -0.04 - 0.00\n",
       "Name: return, Length: 2012, dtype: category\n",
       "Categories (5, object): [-0.08 - -0.04 < -0.04 - 0.00 < 0.00 - 0.04 < 0.04 - 0.08 < 0.08 - 0.12]"
      ]
     },
     "execution_count": 88,
     "metadata": {},
     "output_type": "execute_result"
    }
   ],
   "source": [
    "test"
   ]
  },
  {
   "cell_type": "code",
   "execution_count": 90,
   "metadata": {},
   "outputs": [
    {
     "data": {
      "text/plain": [
       "0.00 - 0.04      1069\n",
       "-0.04 - 0.00      911\n",
       "-0.08 - -0.04      20\n",
       "0.04 - 0.08        10\n",
       "0.08 - 0.12         2\n",
       "Name: return, dtype: int64"
      ]
     },
     "execution_count": 90,
     "metadata": {},
     "output_type": "execute_result"
    }
   ],
   "source": [
    "test.value_counts()"
   ]
  },
  {
   "cell_type": "code",
   "execution_count": null,
   "metadata": {
    "collapsed": true
   },
   "outputs": [],
   "source": []
  }
 ],
 "metadata": {
  "kernelspec": {
   "display_name": "Python 3",
   "language": "python",
   "name": "python3"
  },
  "language_info": {
   "codemirror_mode": {
    "name": "ipython",
    "version": 3
   },
   "file_extension": ".py",
   "mimetype": "text/x-python",
   "name": "python",
   "nbconvert_exporter": "python",
   "pygments_lexer": "ipython3",
   "version": "3.6.3"
  }
 },
 "nbformat": 4,
 "nbformat_minor": 2
}
