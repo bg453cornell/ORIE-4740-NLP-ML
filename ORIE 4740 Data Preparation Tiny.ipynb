{
 "cells": [
  {
   "cell_type": "code",
   "execution_count": 2,
   "metadata": {},
   "outputs": [
    {
     "name": "stdout",
     "output_type": "stream",
     "text": [
      "Requirement already satisfied: empath in c:\\programdata\\anaconda2\\lib\\site-packages\n",
      "Requirement already satisfied: requests in c:\\programdata\\anaconda2\\lib\\site-packages (from empath)\n"
     ]
    },
    {
     "name": "stderr",
     "output_type": "stream",
     "text": [
      "You are using pip version 9.0.1, however version 10.0.1 is available.\n",
      "You should consider upgrading via the 'python -m pip install --upgrade pip' command.\n"
     ]
    }
   ],
   "source": [
    "import pandas as pd\n",
    "import numpy as np\n",
    "import matplotlib.pyplot as plt\n",
    "%matplotlib inline\n",
    "import re\n",
    "import os\n",
    "import struct\n",
    "import nltk\n",
    "#nltk.download() \n",
    "from nltk.tag import pos_tag # pos_tag shows the characteristic of a word \n",
    "                             # using information in the database\n",
    "\n",
    "from sklearn.feature_extraction.text import CountVectorizer\n",
    "from sklearn.feature_extraction.text import TfidfVectorizer\n",
    "from sklearn.cross_validation import ShuffleSplit\n",
    "from sklearn.metrics.pairwise import cosine_similarity\n",
    "# Install Empath tool for analyzing text across lexical categories\n",
    "import sys\n",
    "!{sys.executable} -m pip install empath\n",
    "from empath import Empath"
   ]
  },
  {
   "cell_type": "code",
   "execution_count": 3,
   "metadata": {
    "collapsed": true
   },
   "outputs": [],
   "source": [
    "# Remove some minor problems in form.\n",
    "def small_clean(text):\n",
    "    text = text.replace('b\\'', '')\n",
    "    text = text.replace('b\"', '')\n",
    "    text = text.replace('*', '')\n",
    "    return text"
   ]
  },
  {
   "cell_type": "code",
   "execution_count": 4,
   "metadata": {
    "collapsed": true
   },
   "outputs": [],
   "source": [
    "# Single words that we think may be meaningful.\n",
    "good_pos_tag_set = set(['JJ','JJR','JJS', # adjective\n",
    "                        'NN','NNP','NNS','NNPS', # noun\n",
    "                        'RB','RBR','RBS','RP', # adverb and particle\n",
    "                        'VB','VBD','VBG','VBN','VBP','VBZ']) # verb"
   ]
  },
  {
   "cell_type": "code",
   "execution_count": 5,
   "metadata": {
    "collapsed": true
   },
   "outputs": [],
   "source": [
    "# The following two functions are used to help extract terminology and meaningful words\n",
    "# REFERENCE: http://bdewilde.github.io/blog/2014/09/23/intro-to-automatic-keyphrase-extraction/\n",
    "def extract_candidate_chunks(text, grammar=r'KT: {(<JJ>* <NN.*>+ <IN>)? <JJ>* <NN.*>+}'):\n",
    "    import itertools, nltk, string\n",
    "\n",
    "    # exclude candidates that are stop words or entirely punctuation\n",
    "    punct = set(string.punctuation)\n",
    "    stop_words = set(nltk.corpus.stopwords.words('english'))\n",
    "    # tokenize, POS-tag, and chunk using regular expressions\n",
    "    chunker = nltk.chunk.regexp.RegexpParser(grammar)\n",
    "    tagged_sents = nltk.pos_tag_sents(nltk.word_tokenize(sent) for sent in nltk.sent_tokenize(text))\n",
    "    all_chunks = list(itertools.chain.from_iterable(nltk.chunk.tree2conlltags(chunker.parse(tagged_sent))\n",
    "                                                    for tagged_sent in tagged_sents))\n",
    "    # join constituent chunk words into a single chunked phrase\n",
    "    candidates = [' '.join(word for word, pos, chunk in group).lower()\n",
    "                  for key, group in itertools.groupby(all_chunks, lambda (word,pos,chunk): chunk != 'O') if key]\n",
    "\n",
    "    return [cand for cand in candidates\n",
    "            if cand not in stop_words and not all(char in punct for char in cand)]\n",
    "\n",
    "def extract_candidate_words(text, good_tags=good_pos_tag_set):\n",
    "    import itertools, nltk, string\n",
    "\n",
    "    # exclude candidates that are stop words or entirely punctuation\n",
    "    punct = set(string.punctuation)\n",
    "    stop_words = set(nltk.corpus.stopwords.words('english'))\n",
    "    # tokenize and POS-tag words\n",
    "    tagged_words = itertools.chain.from_iterable(nltk.pos_tag_sents(nltk.word_tokenize(sent)\n",
    "                                                                    for sent in nltk.sent_tokenize(text)))\n",
    "    # filter on certain POS tags and lowercase all words\n",
    "    candidates = [word.lower() for word, tag in tagged_words\n",
    "                  if tag in good_tags and word.lower() not in stop_words\n",
    "                  and not all(char in punct for char in word)]\n",
    "\n",
    "    return candidates\n",
    "\n",
    "# Pack the word extraction process. Return the list of terms and good words\n",
    "def tokenize_pack(text):\n",
    "    text = small_clean(text)\n",
    "    wordlist = extract_candidate_words(text, good_tags=good_pos_tag_set)\n",
    "    termlist = extract_candidate_chunks(text, grammar=r'KT: {(<JJ>* <NN.*>+ <IN>)? <JJ>* <NN.*>+}')\n",
    "    finallist = wordlist + termlist\n",
    "    return finallist"
   ]
  },
  {
   "cell_type": "code",
   "execution_count": 6,
   "metadata": {
    "collapsed": true
   },
   "outputs": [],
   "source": [
    "df = pd.read_csv(\"./data/Combined_News_DJIA.csv\", header = 0, index_col = 0)"
   ]
  },
  {
   "cell_type": "code",
   "execution_count": 7,
   "metadata": {
    "collapsed": true
   },
   "outputs": [],
   "source": [
    "headlines = df.as_matrix(columns = df.columns[1:]) "
   ]
  },
  {
   "cell_type": "code",
   "execution_count": 8,
   "metadata": {
    "collapsed": true
   },
   "outputs": [],
   "source": [
    "headlines =[' '.join(map(str, headline)) for headline in headlines]"
   ]
  },
  {
   "cell_type": "code",
   "execution_count": 9,
   "metadata": {
    "collapsed": true
   },
   "outputs": [],
   "source": [
    "for i in range(len(headlines)):\n",
    "    headlines[i] = small_clean(headlines[i])"
   ]
  },
  {
   "cell_type": "code",
   "execution_count": 10,
   "metadata": {
    "collapsed": true
   },
   "outputs": [],
   "source": [
    "headlines_train = headlines[:1500]\n",
    "headlines_test = headlines[1500:]\n",
    "DJIA_train = df.Label[:1500].values\n",
    "DJIA_test = df.Label[1500:].values"
   ]
  },
  {
   "cell_type": "code",
   "execution_count": 11,
   "metadata": {},
   "outputs": [
    {
     "name": "stdout",
     "output_type": "stream",
     "text": [
      "(1500, 1778)\n",
      "(489, 1778)\n",
      "(1500, 694)\n",
      "(489, 694)\n"
     ]
    }
   ],
   "source": [
    "# TfidfVectorizer\n",
    "# Exclude the extremely high frequency words/phases and extremely low frequency words/phases.\n",
    "tfidfvectorizer_word_candidate = TfidfVectorizer(min_df=0.03, max_df=0.2, max_features = 200000, ngram_range = (1, 1))\n",
    "tfidfvectorizer_phase_candidate = TfidfVectorizer(min_df=0.03, max_df=0.2, max_features = 200000, ngram_range = (2, 5))\n",
    "train_word_document_matrix_tfidf = tfidfvectorizer_word_candidate.fit_transform(headlines_train)\n",
    "test_word_document_matrix_tfidf = tfidfvectorizer_word_candidate.transform(headlines_test)\n",
    "train_phase_document_matrix_tfidf = tfidfvectorizer_phase_candidate.fit_transform(headlines_train)\n",
    "test_phase_document_matrix_tfidf = tfidfvectorizer_phase_candidate.transform(headlines_test)\n",
    "print train_word_document_matrix_tfidf.shape\n",
    "print test_word_document_matrix_tfidf.shape\n",
    "print train_phase_document_matrix_tfidf.shape\n",
    "print test_phase_document_matrix_tfidf.shape"
   ]
  },
  {
   "cell_type": "code",
   "execution_count": 12,
   "metadata": {},
   "outputs": [
    {
     "name": "stdout",
     "output_type": "stream",
     "text": [
      "1778\n",
      "1689\n"
     ]
    }
   ],
   "source": [
    "word_candidate_list = tfidfvectorizer_word_candidate.get_feature_names()\n",
    "word_final_list = []\n",
    "for i in range(len(word_candidate_list)):\n",
    "    posTag = pos_tag([str(word_candidate_list[i])])[0][1]\n",
    "    isGood = (good_pos_tag_set.union([posTag])==good_pos_tag_set)\n",
    "    if isGood:\n",
    "        word_final_list.append(str(word_candidate_list[i]))\n",
    "print len(word_candidate_list)\n",
    "print len(word_final_list)"
   ]
  },
  {
   "cell_type": "code",
   "execution_count": 13,
   "metadata": {},
   "outputs": [
    {
     "name": "stdout",
     "output_type": "stream",
     "text": [
      "694\n",
      "331\n"
     ]
    }
   ],
   "source": [
    "phase_candidate_list = tfidfvectorizer_phase_candidate.get_feature_names()\n",
    "phase_final_list = []\n",
    "phase_all_text = \"\"\n",
    "for i in range(len(phase_candidate_list)):\n",
    "    phase_all_text = phase_all_text + \", \" + str(phase_candidate_list[i])\n",
    "    \n",
    "phase_final_list = extract_candidate_chunks(phase_all_text, grammar=r'KT: {(<JJ>* <NN.*>+ <IN>)? <JJ>* <NN.*>+}')\n",
    "print len(phase_candidate_list)\n",
    "print len(phase_final_list)"
   ]
  },
  {
   "cell_type": "code",
   "execution_count": 14,
   "metadata": {},
   "outputs": [
    {
     "name": "stdout",
     "output_type": "stream",
     "text": [
      "1827\n",
      "set(['protest', 'asian', 'controversial', 'oldest', 'hate', 'looking', 'votes', 'electricity', 'edward', 'voted', 'worth', 'rescue', 'rise', 'stolen', 'school', 'prize', 'called', 'companies', 'solution', 'monsanto', 'announced', 'force', 'leaders', 'blasphemy', 'warns', 'direct', 'holocaust', 'talks', 'likely', 'street', 'estimated', 'neo', 'beaten', 'asia', 'toll', 'supplies', 'net', 'ever', 'seeks', 'told', 'reporter', 'never', 'richest', 'here', 'hundreds', 'reported', 'protection', 'china', 'kids', 'daughter', 'employees', 'changed', 'envoy', 'reports', 'credit', 'military', 'gay marriage', 'criticism', 'campaign', 'hamas', 'brought', 'turning', 'actions', 'cocaine', 'unit', 'plot', 'dna', 'palestinian', 'hospital', 'arms', 'leaks', 'call', 'telegraph', 'strike', 'tell', 'snowden', 'supporters', 'holy', 'warn', 'phone', 'berlin', 'flotilla', 'hold', 'blocking', 'shoot', 'join', 'work', 'refusing', 'first time', 'era', 'mr', 'president', 'give', 'india', 'currency', 'want', 'david', 'risk', 'end', 'turn', 'provide', 'travel', 'damage', 'very', 'interview', 'earlier', 'confirmed', 'demanding', 'wrong', 'death penalty', 'law', 'attempt', 'third', 'wins', 'revolt', 'greek', 'green', 'south', 'enter', 'democratic', 'order', 'wind', 'operations', 'executed', 'office', 'london', 'japan', 'mayor', 'bombing', 'imf', 'personal', 'new law', 'crew', 'destroyed', 'damascus', 'production', 'hidden', 'then', 'tourist', 'bans', 'safe', 'break', 'revelations', 'schools', 'bank', 'netherlands', 'meat', 'victory', 'volcano', 'went', 'side', 'financial', 'series', 'train', 'crimes', 'wednesday', 'nigerian', 'security forces', 'navy', 'aids', 'network', 'driving', 'god', 'content', 're', 'banning', 'got', 'newly', 'gov', 'venezuela', 'independence', 'disputed', 'threatened', 'given', 'free', 'admits', 'iraq war', 'wanted', 'created', 'days', 'isn', 'uses', 'already', 'spying', 'drones', 'pirate bay', 'service', 'rejects', 'girls', 'rates', 'too', 'john', 'danish', 'murder', 'collapse', 'villages', 'took', 'rejected', 'japanese', 'bailout', 'begins', 'target', 'second', 'nations', 'project', 'hacking', 'powers', 'sees', 'modern', 'eyes', 'seen', 'seek', 'tells', 'forced', 'allegedly', 'laden', 'harper', 'responsible', 'causing', 'paris', 'toxic', 'iceland', 'germany', 'letter', 'germans', 'united nations', 'zealand', 'don', 'released', 'professor', 'camp', 'dog', 'civil war', 'treaty', 'storm', 'came', 'saying', 'bomb', 'reactor', 'pope', 'hunger', 'probe', 'attempts', 'qaeda', 'radio', 'earth', 'unemployment', 'bush', 'rich', 'jailed', 'bahrain', 'de', 'watch', 'nuclear weapons', 'coast', 'amazon', 'haiti', 'dr', 'israeli', 'officially', 'bay', 'bad', 'release', 'bashar', 'secretary', 'disaster', 'jong un', 'decided', 'result', 'fail', 'iran', 'last year', 'best', 'situation', 'brazil', 'away', 'sweden', 'future', 'olympics', 'pirate', 'reddit', 'vows', 'boss', 'censorship', 'carbon', 'debt', 'received', 'protect', 'accident', 'met', 'country', 'ill', 'cup', 'games', 'planned', 'faces', 'com', 'asked', 'libyan', 'islamists', 'tons', 'tony', 'hitler', 'speak', 'conference', 'iraq', 'puts', 'union', 'claiming', 'referendum', 'commission', 'much', 'interest', 'expected', 'dozens', 'teenager', 'website', 'families', 'attacked', 'drugs', 'worker', 'chile', 'child', 'east', 'peace prize', 'launches', 'air', 'aid', 'property', 'leaves', 'launched', 'mexico', 'ii', 'experts', 'il', 'victims', 'hong', 'nazi', 'make', 'babies', 'several', 'bid', 'independent', 'satellite', 'raid', 'social', 'hand', 'norwegian', 'kim', 'blamed', 'kept', 'failing', 'suffering', 'ocean', 'detained', 'mother', 'claims', 'camps', 'left', 'human rights', 'proposed', 'sentence', 'photo', 'terrorist', 'proposes', 'fighters', 'victim', 'yes', 'yet', 'assassination', 'royal', 'countrys', 'spread', 'board', 'innocent', 'prison', 'save', 'humanity', 'gave', 'breaks', 'possible', 'arab', 'possibly', 'barack obama', 'birth', 'judge', 'highly', 'hunt', 'steps', 'officer', 'night', 'jazeera', 'right', 'deal', 'people', 'sends', 'born', 'election', 'escape', 'denies', 'total', 'clash', 'comments', 'everything', 'denied', 'cnn', 'beating', 'losing', 'post', 'super', 'attacks', 'dollars', 'months', 'genocide', 'nobel peace', 'islands', 'efforts', 'palestinians', 'raised', 'civil', 'prisoners', 'son', 'lies', 'raises', 'crowd', 'support', 'legislation', 'fight', 'syrian rebels', 'editor', 'way', 'music', 'south korea', 'bolivia', 'war', 'head', 'form', 'offer', 'attempted', 'becoming', 'failure', 'solar', 'removed', 'true', 'vatican', 'propaganda', 'pirate party', 'sale', 'ship', 'regime', 'dying', 'south africa', 'handed', 'role', 'protester', 'holding', 'test', 'julian assange', 'picture', 'cleric', 'dies', 'muslims', 'authorities', 'died', 'longer', 'daily', 'vietnam', 'time', 'push', 'serious', 'leads', 'ice', 'battle', 'bomber', 'row', 'killings', 'zone', 'father', 'environment', 'iraqi', 'charge', 'terror', 'brown', 'anonymous', 'blast', 'governments', 'vladimir', 'diplomats', 'level', 'did', 'die', 'philippines', 'brother', 'leave', 'team', 'guy', 'prevent', 'olympic', 'revolution', 'porn', 'cyber', 'sign', 'cost', 'year old girl', 'targets', 'afghanistan', 'appear', 'g20', 'current', 'suspect', 'somalia', 'goes', 'appeal', 'boost', 'mp', 'explosion', 'guardian', 'water', 'groups', 'alone', 'appears', 'change', 'boy', 'yemen', 'mubarak', 'canadian', 'guilty', 'trial', 'women', 'love', 'fake', 'fbi', 'market', 'wealth', 'working', 'angry', 'visit', 'france', 'live', 'peru', 'today', 'sharing', 'riot', 'investigation', 'cases', 'effort', 'fly', 'graphic', 'tokyo', 'car', 'flu', 'following', 'making', 'claim', 'citizens', 'agent', 'heard', 'dropped', 'council', 'allowed', 'swedish', 'cuba', 'chemical', 'sunday', 'economy', 'map', 'information', 'critics', 'use', 'southern', 'islamic', 'such', 'data', 'grow', 'times', 'natural', 'remember', 'jail', 'african', 'talk', 'breaking', 'kong', 'cuts', 'cold', 'still', 'blocked', 'police', 'offers', 'policy', 'mail', 'main', 'decades', 'happened', 'non', 'halt', 'civilian', 'killer', 'nation', 'records', 'taliban', 'half', 'term', 'name', 'james', 'didn', 'rock', 'sri lanka', 'amnesty', 'el', 'square', 'honduras', 'fired', 'cairo', 'fires', 'ex', 'sexually', 'eu', 'girl', 'surprise', 'tried', 'canada', 'living', 'ahmadinejad', 'opened', 'space', 'tensions', 'factory', 'increase', 'condemns', 'hacked', 'dutch', 'shows', 'cars', 'spies', 'rebel', 'care', 'training', 'language', 'ministry', 'thing', 'place', 'massive', 'think', 'one', 'americans', 'fast', 'suspended', 'spanish', 'carry', 'message', 'raped', 'open', 'george', 'millions', 'city', 'little', 'caught', 'catholic church', 'anyone', 'draft', 'white', 'gives', 'mining', 'releases', 'moscow', 'cops', 'tehran', 'thai', 'population', 'television', 'cartels', 'diplomatic', 'accused', 'russia', 'pro', 'turned', 'marijuana', 'anger', 'saw', 'uranium', 'sending', 'potential', 'online', 'destroy', 'channel', 'begin', 'ukrainian', 'price', 'knew', 'suspects', 'paid', 'falls', 'assault', 'david cameron', 'rupert murdoch', 'america', 'wikileaks founder', 'radioactive', 'considered', 'later', 'drive', 'wing', 'trafficking', 'atlantic', 'senior', 'laws', 'shot', 'show', 'allegations', 'discovered', 'russian', 'ground', 'gulf', 'crime', 'going', 'black', 'outrage', 'dispute', 'occupied', 'merkel', 'soon', 'baghdad', 'cannot', 'nearly', 'jong', 'reveal', 'morning', 'miles', 'bombs', 'husband', 'reveals', 'declared', 'drug war', 'signs', 'declares', 'fails', 'farmers', 'federal', 'review', 'sites', 'weapons', 'enough', 'jobs', 'blame', 'jets', 'article', 'cities', 'come', 'libya', 'region', 'priests', 'according', 'blasts', 'comes', 'pakistan', 'cancer', 'pot', 'homosexuality', 'poll', 'considers', 'boat', 'considering', 'better', 'west', 'dictator', 'peaceful', 'borders', 'tepco', 'wants', 'offered', 'photos', 'suspected', 'evidence', 'weeks', 'paying', 'developing', 'cash', 'world news', 'policies', 'newspaper', 'investigating', 'commander', 'middle', 'someone', 'kenya', 'technology', 'different', 'missiles', 'shuts', 'doctor', 'pay', 'same', 'surveillance', 'inquiry', 'document', 'status', 'putin', 'arctic', 'scientist', 'running', 'charges', 'costs', 'researchers', 'charged', 'summer', 'gangs', 'money', 'rest', 'war on drugs', 'violent', 'kill', 'polish', 'speed', 'captured', 'blow', 'yr', 'euros', 'seems', 'wall', 'treatment', 'republic', 'kingdom', 'kills', 'rules', 'delhi', 'early', 'traffic', 'using', 'ruled', 'uk government', 'facing', 'tsunami', 'jews', 'exposed', 'lebanon', 'pacific', 'images', 'sudan', 'recorded', 'legal', 'moon', 'cannabis', 'freed', 'turkey', 'business', 'broken', 'thailand', 'francis', 'central', 'mossad', 'island', 'industry', 'sri', 'thousands', 'stand', 'act', 'road', 'protests', 'burning', 'supreme court', 'united states', 'rising', 'homeless', 'parties', 'jerusalem', 'area', 'alleged', 'start', 'racist', 'low', 'lot', 'brazilian', 'fish', 'media', 'complete', 'strikes', 'cabinet', 'trying', 'buying', 'tony blair', 'fraud', 'pope francis', 'abuses', 'agree', 'gone', 'leaked', 'arabs', 'am', 'sales', 'deep', 'general', 'britain', 'together', 'file', 'politics', 'moves', 'cables', 'film', 'again', 'piracy', 'summit', 'poor', 'congress', 'students', 'important', 'recent', 'coverage', 'building', 'assets', 'calls', 'wife', 'websites', 'mass', 'resolution', 'founder', 'ali', 'caused', 'lack', 'dollar', 'month', 'unrest', 'cameron', 'settlement', 'religious', 'children', 'causes', 'hunting', 'tv', 'thursday', 'riots', 'program', 'safety', 'case', 'woman', 'worse', 'egyptian', 'far', 'detention', 'blockade', 'worst', 'mps', 'fall', 'austerity', 'list', 'large', 'saudi', 'small', 'study', 'programme', 'ten', 'streets', 'past', 'rate', 'lawyer', 'pass', 'further', 'sue', 'defence', 'anniversary', 'public', 'scientists', 'guns', 'movement', 'full', 'christian', 'hours', 'suicide', 'civilians', 'strong', 'search', 'prosecutors', 'ahead', 'allows', 'brutal', 'pics', 'soldier', 'airport', 'published', 'action', 'family', 'africa', 'ask', 'aimed', 'gunmen', 'new zealand', 'armed', 'takes', 'finally', 'vote', 'taken', 'markets', 'israel', 'company', 'flag', 'broke', 'known', 'town', 'hour', 'science', 'coalition', 'guards', 'remain', 'sent', 'mali', 'male', 'hong kong', 'history', 'share', 'accept', 'boycott', 'arabia', 'numbers', 'species', 'huge', 'needs', 'court', 'rather', 'acts', 'acta', 'plant', 'plans', 'uprising', 'internet', 'tries', 'plane', 'ambassador', 'blood', 'coming', 'invasion', 'lanka', 'response', 'refuse', 'short', 'coal', 'threatens', 'banks', 'putting', 'mexican', 'help', 'administration', 'mission', 'trade', 'held', 'embassy', 'committee', 'committed', 'hell', 'islam', 'style', 'foreign minister', 'fined', 'border', 'actually', 'clashes', 'reuters', 'systems', 'speech', 'argentina', 'jong il', 'good', 'return', 'seeking', 'food', 'iranians', 'mystery', 'growing', 'pregnant', 'spy', 'tear', 'stopped', 'man', 'turns', 'shocking', 'heavy', 'week', 'everyone', 'england', 'pirates', 'generation', 'house', 'energy', 'hard', 'idea', 'gun', 'operation', 'hugo', 'really', 'funding', 'poachers', 'robert', 'research', 'health', 'issue', 'friday', 'reason', 'base', 'members', 'backed', 'beginning', 'launch', 'threat', 'syria', 'major', 'dont', 'feel', 'radical', 'number', 'done', 'colombia', 'passes', 'story', 'heads', 'jet', 'leading', 'threatening', 'station', 'warming', 'passed', 'nigeria', 'ecuador', 'selling', 'statement', 'trapped', 'hotel', 'park', 'sarkozy', 'part', 'jordan', 'doctors', 'believe', 'obama', 'king', 'kind', 'iranian', 'double', 'youth', 'marriage', 'risks', 'sentenced', 'sentences', 'confirms', 'orders', 'sell', 'built', 'self', 'scotland', 'officers', 'majority', 'labour', 'build', 'finding', 'province', 'towards', 'approves', 'measures', 'reach', 'virus', 'plan', 'nothing', 'approved', 'constitution', 'seize', 'mobile', 'clear', 'humanitarian', 'cover', 'bodies', 'clean', 'western', 'rebels', 'gold', 'fine', 'find', 'occupation', 'impact', 'access', 'giant', 'copyright', 'justice', 'penalty', 'failed', 'flights', 'old girl', 'toronto', 'hit', 'hiv', 'banned', 'preparing', 'remove', 'banking', 'investigate', 'switzerland', 'river', 'set', 'govt', 'intelligence', 'activists', 'culture', 'see', 'defense', 'sea', 'close', 'threats', 'expert', 'mine', 'pictures', 'currently', 'won', 'burned', 'conditions', 'corruption', 'europe', 'latin', 'recently', 'creating', 'missing', 'targeted', 'sold', 'attention', 'incident', 'death', 'opposition', 'guantanamo', 'secrets', 'roman', 'canadians', 'poverty', 'whole', 'finds', 'point', 'community', 'agents', 'church', 'described', 'raise', 'create', 'political', 'due', 'earthquake', 'convicted', 'secret', 'ireland', 'threaten', 'territory', 'meeting', 'pm', 'firm', 'flight', 'gay', 'passengers', 'fire', 'somali', 'gas', 'assange', 'fund', 'lives', 'demand', 'prices', 'world bank', 'plants', 'georgia', 'politician', 'look', 'bill', 'budget', 'elections', 'real', 'century', 'ready', 'aged', 'italy', 'read', 'survey', 'bbc news', 'conflict', 'higher', 'development', 'used', 'lawyers', 'blair', 'yesterday', 'alert', 'levels', 'moving', 'euro', 'dark', 'poland', 'spent', 'person', 'zimbabwe', 'gaddafi', 'swiss', 'organization', 'coup', 'settlements', 'arrests', 'questions', 'world', 'taiwan', 'cut', 'also', 'workers', 'barack', 'source', 'parents', 'bin', 'indonesian', 'australia', 'march', 'emergency', 'demands', 'big', 'couple', 'game', 'continue', 'popular', 'google', 'often', 'senate', 'economic', 'scale', 'decision', 'religion', 'run', 'agreement', 'refused', 'step', 'bp', 'refuses', 'troops', 'pipeline', 'firing', 'range', 'slams', 'idf', 'block', 'pollution', 'clinton', 'terrorists', 'nsa', 'services', 'next', 'pentagon', 'bangladesh', 'spending', 'question', 'long', 'crackdown', 'twitter', 'opens', 'files', 'jewish', 'immigration', 'boys', 'link', 'authority', 'european parliament', 'hopes', 'line', 'cia', 'planet', 'un', 'uk', 'medical', 'ordered', 'influence', 'doesn', 'single', 'warning', 'rally', 'rupert', 'peace', 'fears', 'backs', 'politicians', 'income', 'users', 'reportedly', 'problems', 'resign', 'prepared', 'helping', 'militants', 'allowing', 'ago', 'land', 'fighter', 'age', 'youtube', 'bankers', 'nasa', 'al qaeda', 'fresh', 'having', 'once', 'issued', 'results', 'gang', 'go', 'conservative', 'issues', 'turkish', 'mosque', 'young', 'send', 'late', 'include', 'resources', 'seized', 'torture', 'continues', 'wave', 'facebook', 'telling', 'assad', 'drinking', 'entire', 'shock', 'try', 'race', 'settlers', 'abortion', 'demonstrations', 'video', 'cartel', 'giving', 'cell', 'indian', 'capital', 'firms', 'nazis', 'body', 'led', 'chinas', 'exchange', 'commercial', 'last week', 'believed', 'let', 'others', 'kidnapped', 'ukraine', 'great', 'northern', 'receive', 'involved', 'scientology', 'leaving', 'suggests', 'products', 'residents', 'makes', 'named', 'apple', 'heart', 'egypt', 'win', 'private', 'names', 'scandal', 'sexual abuse', 'saudi arabia', 'world war', 'usa', 'remains', 'illegal', 'ministers', 'nobel', 'few', 'stage', 'parliament', 'journalists', 'started', 'becomes', 'missile', 'carrying', 'israelis', 'baby', 'carried', 'account', 'animals', 'sanctions', 'challenge', 'recession', 'meet', 'control', 'beijing', 'violence', 'links', 'process', 'tax', 'something', 'rape', 'democracy', 'holds', 'forest', 'animal', 'instead', 'blocks', 'farm', 'waters', 'abuse', 'ethnic', 'ties', 'light', 'counter', 'chief', 'allow', 'move', 'including', 'looks', 'quake', 'll', 'ships', 'labor', 'criminal', 'extradition', 'crash', 'greater', 'orthodox', 'practice', 'hands', 'front', 'flee', 'day', 'presidential', 'worlds', 'warned', 'university', 'magnitude', 'rockets', 'truth', 'accounts', 'doing', 'strip', 'related', 'society', 'qaida', 'sexual', 'special', 'secretly', 'announces', 'defend', 'islamist', 'activist', 'cause', 'red', 'shut', 'ban', 'york', 'allies', 'spill', 'put', 'keep', 'court rules', 'berlusconi', 'blogger', 'powerful', 'owned', 'congo', 'wikileaks', 'owner', 'reached', 'ancient', 'privacy', 'revealed', 'system', 'relations', 'attack', 'new york', 'palestine', 'pakistani', 'final', 'shell', 'gaza strip', 'environmental', 'elite', 'haven', 'things', 'tortured', 'patients', 'gays', 'false', 'julian', 'corrupt', 'uganda', 'need', 'apparently', 'linked', 'catholic', 'documents', 'russians', 'agency', 'able', 'bus', 'korean', 'worldwide', 'nytimes', 'combat', 'centre', 'middle east', 'class', 'sex abuse', 'request', 'disease', 'face', 'wounded', 'fact', 'text', 'agreed', 'bring', 'planning', 'soldiers', 'fear', 'asylum', 'police officers', 'debate', 'decade', 'staff', 'based', 'police officer', 'fuel', 'communist', 'local', 'hope', 'means', 'beat', 'whistleblower', 'massacre', 'joint', 'ones', 'words', 'years', 'european union', 'areas', 'high court', 'denmark', 'taxes', 'calling', 'extremists', 'dangerous', 'view', 'accuses', 'climate change', 'national', 'computer', 'greece', 'nuclear plant', 'war crimes', 'reform', 'favor', 'state', 'closed', 'tens', 'email', 'ends', 'agencies', 'job', 'key', 'group', 'hits', 'taking', 'tens of thousands', 'aircraft', 'april', 'co', 'wtf', 'tunisia', 'tuesday', 'supreme', 'fukushima', 'mafia', 'bbc', 'gaza', 'proposal', 'waste', 'climate', 'netanyahu', 'tanks', 'spain', 'homes', 'norway', 'wild', 've', 'almost', 'site', 'helped', 'claimed', 'finance', 'shooting', 'wearing', 'began', 'views', 'radiation', 'cross', 'member', 'parts', 'largest', 'underground', 'outbreak', 'terrorism', 'gets', 'injured', 'reporting', 'effect', 'student', 'afghan', 'identity', 'destruction', 'priest', 'center', 'weapon', 'indonesia', 'well', 'fighting', 'thought', 'drone', 'english', 'soviet', 'latest', 'rocket', 'less', 'increasingly', 'percent', 'executive', 'sources', 'fishing', 'web', 'supply', 'arrest', 'nato', 'citizen', 'unprecedented', 'tests', 'government', 'protesters', 'historic', 'know', 'press', 'immediately', 'prominent', 'loss', 'dubai', 'death toll', 'showing', 'lost', 'admitted', 'loses', 'journalist', 'lose', 'become', 'refugees', 'page', 'italian', 'drop', 'footage', 'village', 'alive', 'growth', 'home', 'lead', 'leak', 'avoid', 'demonstrators', 'does', 'murdoch', 'years in prison', 'paper', 'pressure', 'murdered', 'hiding', 'rare', 'asks', 'getting', 'freedom', 'urged', 'urges', 'documentary', 'burma', 'own', 'tourists', 'previously', 'washington', 'billions', 'guard', 'female', 'world cup', 'biggest', 'ivory', 'buy', 'north', 'al qaida', 'funds', 'oil spill', 'construction', 'highest', 'made', 'places', 'protesting', 'official', 'signed', 'record', 'ruling', 'problem', 'minutes', 'irish', 'deaths', 'year', 'nuclear power', 'education', 'phone hacking', 'diplomat', 'deadly', 'eastern', 'offensive', 'book', 'details', 'illegally', 'chavez', 'monday', 'june', 'stay', 'else', 'friends', 'christians', 'starting', 'rule'])\n"
     ]
    }
   ],
   "source": [
    "final_vocabulary = set(word_final_list + phase_final_list)\n",
    "print len(final_vocabulary)\n",
    "print final_vocabulary"
   ]
  },
  {
   "cell_type": "code",
   "execution_count": 20,
   "metadata": {},
   "outputs": [
    {
     "ename": "TypeError",
     "evalue": "unbound method polarity_scores() must be called with SentimentIntensityAnalyzer instance as first argument (got str instance instead)",
     "output_type": "error",
     "traceback": [
      "\u001b[1;31m\u001b[0m",
      "\u001b[1;31mTypeError\u001b[0mTraceback (most recent call last)",
      "\u001b[1;32m<ipython-input-20-54ad1b327d9c>\u001b[0m in \u001b[0;36m<module>\u001b[1;34m()\u001b[0m\n\u001b[0;32m      1\u001b[0m \u001b[1;32mfrom\u001b[0m \u001b[0mnltk\u001b[0m\u001b[1;33m.\u001b[0m\u001b[0msentiment\u001b[0m\u001b[1;33m.\u001b[0m\u001b[0mvader\u001b[0m \u001b[1;32mimport\u001b[0m \u001b[0mSentimentIntensityAnalyzer\u001b[0m \u001b[1;32mas\u001b[0m \u001b[0msia\u001b[0m\u001b[1;33m\u001b[0m\u001b[0m\n\u001b[1;32m----> 2\u001b[1;33m \u001b[0msia\u001b[0m\u001b[1;33m.\u001b[0m\u001b[0mpolarity_scores\u001b[0m\u001b[1;33m(\u001b[0m\u001b[1;34m\"I have an apple\"\u001b[0m\u001b[1;33m)\u001b[0m\u001b[1;33m\u001b[0m\u001b[0m\n\u001b[0m",
      "\u001b[1;31mTypeError\u001b[0m: unbound method polarity_scores() must be called with SentimentIntensityAnalyzer instance as first argument (got str instance instead)"
     ]
    }
   ],
   "source": [
    "from nltk.sentiment.vader import SentimentIntensityAnalyzer as sia\n",
    "sia.polarity_scores(\"I have an apple\")"
   ]
  },
  {
   "cell_type": "code",
   "execution_count": 16,
   "metadata": {},
   "outputs": [
    {
     "name": "stdout",
     "output_type": "stream",
     "text": [
      "(1500, 1827)\n",
      "(489, 1827)\n"
     ]
    }
   ],
   "source": [
    "tfidfvectorizer_final = TfidfVectorizer(vocabulary = final_vocabulary, ngram_range = (1, 5))\n",
    "train_term_document_matrix_tfidf = tfidfvectorizer_final.fit_transform(headlines_train)\n",
    "test_term_document_matrix_tfidf = tfidfvectorizer_final.transform(headlines_test)\n",
    "print train_term_document_matrix_tfidf.shape\n",
    "print test_term_document_matrix_tfidf.shape"
   ]
  },
  {
   "cell_type": "code",
   "execution_count": 17,
   "metadata": {},
   "outputs": [
    {
     "data": {
      "text/plain": [
       "0.5173824130879345"
      ]
     },
     "execution_count": 17,
     "metadata": {},
     "output_type": "execute_result"
    }
   ],
   "source": [
    "# Two benchmarks of accuracy:\n",
    "# 1. percentage of market up on test days.\n",
    "float(sum(DJIA_test))/len(headlines_test)"
   ]
  },
  {
   "cell_type": "code",
   "execution_count": 18,
   "metadata": {},
   "outputs": [
    {
     "name": "stdout",
     "output_type": "stream",
     "text": [
      "0.533742331288\n"
     ]
    }
   ],
   "source": [
    "# 2. accuracy of daily reversal prediction on test days.\n",
    "dl = np.array(DJIA_test)\n",
    "dl_p = np.zeros(len(dl))\n",
    "dl_p[0] = df.Label[1499]\n",
    "s = 0\n",
    "for i in range(len(dl)):\n",
    "    if (i!=0):dl_p[i] = dl[i-1]\n",
    "    if (dl_p[i]==dl[i]):\n",
    "        s = s+1\n",
    "print 1-float(s)/len(dl)"
   ]
  },
  {
   "cell_type": "code",
   "execution_count": 19,
   "metadata": {
    "collapsed": true
   },
   "outputs": [],
   "source": [
    "# CountVectorizer(N\\A)\n",
    "# basicvectorizer = CountVectorizer(ngram_range=(3,3))\n",
    "# train_term_document_matrix_basic = basicvectorizer.fit_transform(headlines_train)\n",
    "# test_term_document_matrix_basic = basicvectorizer.transform(headlines_test)"
   ]
  },
  {
   "cell_type": "code",
   "execution_count": 18,
   "metadata": {},
   "outputs": [
    {
     "data": {
      "text/plain": [
       "0.50715746421267893"
      ]
     },
     "execution_count": 18,
     "metadata": {},
     "output_type": "execute_result"
    }
   ],
   "source": [
    "from sklearn.linear_model import LogisticRegression\n",
    "# LASSO\n",
    "logit = LogisticRegression(penalty='l1')\n",
    "logit_fit = logit.fit(train_term_document_matrix_tfidf, DJIA_train)\n",
    "logit_predict = logit.predict(test_term_document_matrix_tfidf)\n",
    "accu = sum(DJIA_test == logit_predict)/float(len(DJIA_test))\n",
    "accu"
   ]
  },
  {
   "cell_type": "markdown",
   "metadata": {},
   "source": [
    "### KNN"
   ]
  },
  {
   "cell_type": "code",
   "execution_count": 19,
   "metadata": {
    "collapsed": true
   },
   "outputs": [],
   "source": [
    "def KNN(X_train, Y_train, X_test, Y_test, K):\n",
    "    \"\"\"\n",
    "    X_train: term_doc_matrix\n",
    "    Y_train: list\n",
    "    X_test: term_doc_matrix\n",
    "    Y_test: list\n",
    "    K: integer\n",
    "    \"\"\"\n",
    "    pred = np.zeros(len(Y_test), dtype = 'int64')\n",
    "    inverted_index_test = { i[0]:i[1] for i in list(zip(range(len(Y_test)),Y_test))}\n",
    "    inverted_index_train= { i[0]:i[1] for i in list(zip(range(len(Y_train)),Y_train))}\n",
    "    sim_score_matrix_K =  cosine_similarity(X_test, X_train)\n",
    "    for j in range(sim_score_matrix_K.shape[0]):\n",
    "        highest_K_score_index = np.argsort(sim_score_matrix_K[j])[-K:]\n",
    "        DJIA_K = [inverted_index_train[idx] for idx in highest_K_score_index]\n",
    "        Prob = (sum(DJIA_K)+0.)/len(DJIA_K) #smoothing\n",
    "        if Prob >= 0.5:\n",
    "            pred[j] = 1\n",
    "        else:\n",
    "            pred[j] = 0\n",
    "    accu = np.mean(Y_test == pred)\n",
    "    return accu"
   ]
  },
  {
   "cell_type": "code",
   "execution_count": 20,
   "metadata": {},
   "outputs": [
    {
     "data": {
      "text/plain": [
       "<matplotlib.legend.Legend at 0x3b7c4eb8>"
      ]
     },
     "execution_count": 20,
     "metadata": {},
     "output_type": "execute_result"
    },
    {
     "data": {
      "image/png": "[encoded data removed]",
      "text/plain": [
       "<matplotlib.figure.Figure at 0xe9e87b8>"
      ]
     },
     "metadata": {},
     "output_type": "display_data"
    }
   ],
   "source": [
    "# TfidfVectorizer\n",
    "train_error =[1- KNN(train_term_document_matrix_tfidf, DJIA_train, train_term_document_matrix_tfidf, DJIA_train, K) for K in range(1, 20)]\n",
    "test_error = [1- KNN(train_term_document_matrix_tfidf, DJIA_train, test_term_document_matrix_tfidf, DJIA_test, K) for K in range(1, 20)]\n",
    "one_over_k = [1.0/K for K in range(1, 20)]\n",
    "plt.plot(one_over_k, train_error, '-yo', label = 'train error')\n",
    "plt.plot(one_over_k, test_error, '-go', label = 'test error')\n",
    "plt.ylabel('error')\n",
    "plt.xlabel('1/K')\n",
    "plt.legend(loc = 'lower left')"
   ]
  },
  {
   "cell_type": "code",
   "execution_count": 21,
   "metadata": {},
   "outputs": [
    {
     "name": "stdout",
     "output_type": "stream",
     "text": [
      "training error: 0.393333333333\n",
      "test error: 0.482617586912\n"
     ]
    }
   ],
   "source": [
    "#For example, when K=5, the corresponding training and test errors are:\n",
    "print \"training error:\",1- KNN(train_term_document_matrix_tfidf, DJIA_train, train_term_document_matrix_tfidf, DJIA_train, K)\n",
    "print \"test error:\",1- KNN(train_term_document_matrix_tfidf, DJIA_train, test_term_document_matrix_tfidf, DJIA_test, K)"
   ]
  },
  {
   "cell_type": "markdown",
   "metadata": {},
   "source": [
    "### Logistic"
   ]
  },
  {
   "cell_type": "code",
   "execution_count": 22,
   "metadata": {
    "collapsed": true
   },
   "outputs": [],
   "source": [
    "from sklearn.linear_model import LogisticRegression"
   ]
  },
  {
   "cell_type": "code",
   "execution_count": 23,
   "metadata": {},
   "outputs": [
    {
     "data": {
      "text/plain": [
       "0.4887525562372188"
      ]
     },
     "execution_count": 23,
     "metadata": {},
     "output_type": "execute_result"
    }
   ],
   "source": [
    "logit = LogisticRegression()\n",
    "logit_fit = logit.fit(train_term_document_matrix_tfidf, DJIA_train)\n",
    "logit_predict = logit.predict(test_term_document_matrix_tfidf)\n",
    "accu = sum(DJIA_test == logit_predict)/float(len(DJIA_test))\n",
    "accu"
   ]
  },
  {
   "cell_type": "code",
   "execution_count": 24,
   "metadata": {},
   "outputs": [
    {
     "data": {
      "text/plain": [
       "0.50715746421267893"
      ]
     },
     "execution_count": 24,
     "metadata": {},
     "output_type": "execute_result"
    }
   ],
   "source": [
    "# LASSO\n",
    "logit = LogisticRegression(penalty='l1')\n",
    "logit_fit = logit.fit(train_term_document_matrix_tfidf, DJIA_train)\n",
    "logit_predict = logit.predict(test_term_document_matrix_tfidf)\n",
    "accu = sum(DJIA_test == logit_predict)/float(len(DJIA_test))\n",
    "accu"
   ]
  },
  {
   "cell_type": "code",
   "execution_count": 25,
   "metadata": {},
   "outputs": [
    {
     "data": {
      "text/plain": [
       "0.4887525562372188"
      ]
     },
     "execution_count": 25,
     "metadata": {},
     "output_type": "execute_result"
    }
   ],
   "source": [
    "# Ridge\n",
    "logit = LogisticRegression(penalty='l2')\n",
    "logit_fit = logit.fit(train_term_document_matrix_tfidf, DJIA_train)\n",
    "logit_predict = logit.predict(test_term_document_matrix_tfidf)\n",
    "accu = sum(DJIA_test == logit_predict)/float(len(DJIA_test))\n",
    "accu"
   ]
  },
  {
   "cell_type": "markdown",
   "metadata": {},
   "source": [
    "### Rocchio Classification"
   ]
  },
  {
   "cell_type": "code",
   "execution_count": 26,
   "metadata": {
    "collapsed": true
   },
   "outputs": [],
   "source": [
    "def Rocchio(X_train, Y_train, X_test, Y_test):\n",
    "    \"\"\"\n",
    "    X_train: term_doc_matrix\n",
    "    Y_train: list\n",
    "    X_test: term_doc_matrix\n",
    "    Y_test: list\n",
    "    \"\"\"\n",
    "    pred = np.zeros(len(Y_test), dtype = 'int64')\n",
    "    X_train_1 = X_train[np.array(Y_train) == 1, :]\n",
    "    X_train_0 = X_train[np.array(Y_train) == 0, :]\n",
    "    Centriod_1 = (np.sum(X_train_1, axis = 0)+0.)/X_train_1.shape[0]\n",
    "    Centriod_0 = (np.sum(X_train_0, axis = 0)+0.)/X_train_0.shape[0]\n",
    "    for j in range(len(Y_test)):\n",
    "        distance_1 = np.sqrt(np.sum(np.square(X_test[j]-Centriod_1)))\n",
    "        distance_0 = np.sqrt(np.sum(np.square(X_test[j]-Centriod_0)))\n",
    "        if distance_1 <= distance_0:\n",
    "            pred[j] = 1\n",
    "        else:\n",
    "            pred[j] = 0\n",
    "    accu = np.mean(Y_test == pred)\n",
    "    return accu"
   ]
  },
  {
   "cell_type": "code",
   "execution_count": 27,
   "metadata": {},
   "outputs": [
    {
     "data": {
      "text/plain": [
       "0.50920245398773001"
      ]
     },
     "execution_count": 27,
     "metadata": {},
     "output_type": "execute_result"
    }
   ],
   "source": [
    "# test_accuracy\n",
    "Rocchio(train_term_document_matrix_tfidf, DJIA_train, test_term_document_matrix_tfidf, DJIA_test)"
   ]
  },
  {
   "cell_type": "code",
   "execution_count": 28,
   "metadata": {},
   "outputs": [
    {
     "data": {
      "text/plain": [
       "0.81866666666666665"
      ]
     },
     "execution_count": 28,
     "metadata": {},
     "output_type": "execute_result"
    }
   ],
   "source": [
    "# train_accuracy\n",
    "Rocchio(train_term_document_matrix_tfidf, DJIA_train, train_term_document_matrix_tfidf, DJIA_train)"
   ]
  },
  {
   "cell_type": "markdown",
   "metadata": {},
   "source": [
    "### Naive Bayes"
   ]
  },
  {
   "cell_type": "code",
   "execution_count": 29,
   "metadata": {
    "collapsed": true
   },
   "outputs": [],
   "source": [
    "from sklearn.naive_bayes import BernoulliNB"
   ]
  },
  {
   "cell_type": "code",
   "execution_count": 30,
   "metadata": {},
   "outputs": [
    {
     "data": {
      "text/plain": [
       "BernoulliNB(alpha=1, binarize=0.0, class_prior=None, fit_prior=True)"
      ]
     },
     "execution_count": 30,
     "metadata": {},
     "output_type": "execute_result"
    }
   ],
   "source": [
    "BNBclassifier = BernoulliNB(alpha=1)\n",
    "BNBclassifier.fit(train_term_document_matrix_tfidf, DJIA_train)"
   ]
  },
  {
   "cell_type": "code",
   "execution_count": 31,
   "metadata": {},
   "outputs": [
    {
     "data": {
      "text/plain": [
       "0.48057259713701433"
      ]
     },
     "execution_count": 31,
     "metadata": {},
     "output_type": "execute_result"
    }
   ],
   "source": [
    "BNBpred = BNBclassifier.predict(test_term_document_matrix_tfidf)\n",
    "np.mean(BNBpred==DJIA_test)"
   ]
  },
  {
   "cell_type": "markdown",
   "metadata": {},
   "source": [
    "### Evaluation"
   ]
  },
  {
   "cell_type": "code",
   "execution_count": 32,
   "metadata": {},
   "outputs": [
    {
     "data": {
      "text/plain": [
       "array([0, 1], dtype=int64)"
      ]
     },
     "execution_count": 32,
     "metadata": {},
     "output_type": "execute_result"
    }
   ],
   "source": [
    "BNBclassifier.classes_"
   ]
  },
  {
   "cell_type": "code",
   "execution_count": 33,
   "metadata": {
    "collapsed": true
   },
   "outputs": [],
   "source": [
    "from sklearn.metrics import classification_report, confusion_matrix"
   ]
  },
  {
   "cell_type": "code",
   "execution_count": 34,
   "metadata": {},
   "outputs": [
    {
     "name": "stdout",
     "output_type": "stream",
     "text": [
      "[[ 79 157]\n",
      " [ 97 156]]\n"
     ]
    }
   ],
   "source": [
    "print(confusion_matrix(DJIA_test, BNBpred))"
   ]
  },
  {
   "cell_type": "code",
   "execution_count": 35,
   "metadata": {
    "scrolled": true
   },
   "outputs": [
    {
     "name": "stdout",
     "output_type": "stream",
     "text": [
      "             precision    recall  f1-score   support\n",
      "\n",
      "          0       0.45      0.33      0.38       236\n",
      "          1       0.50      0.62      0.55       253\n",
      "\n",
      "avg / total       0.47      0.48      0.47       489\n",
      "\n"
     ]
    }
   ],
   "source": [
    "print(classification_report(DJIA_test, BNBpred))"
   ]
  },
  {
   "cell_type": "code",
   "execution_count": 36,
   "metadata": {
    "collapsed": true
   },
   "outputs": [],
   "source": [
    "down_probs=BNBclassifier.feature_log_prob_[0,:]\n",
    "\n",
    "up_probs=BNBclassifier.feature_log_prob_[1,:]"
   ]
  },
  {
   "cell_type": "code",
   "execution_count": 37,
   "metadata": {
    "collapsed": true
   },
   "outputs": [],
   "source": [
    "logodds=down_probs-up_probs"
   ]
  },
  {
   "cell_type": "code",
   "execution_count": 38,
   "metadata": {},
   "outputs": [
    {
     "ename": "NameError",
     "evalue": "name 'tfidfvectorizer' is not defined",
     "output_type": "error",
     "traceback": [
      "\u001b[1;31m\u001b[0m",
      "\u001b[1;31mNameError\u001b[0mTraceback (most recent call last)",
      "\u001b[1;32m<ipython-input-38-836895f45054>\u001b[0m in \u001b[0;36m<module>\u001b[1;34m()\u001b[0m\n\u001b[1;32m----> 1\u001b[1;33m \u001b[0mterms\u001b[0m \u001b[1;33m=\u001b[0m \u001b[0mtfidfvectorizer\u001b[0m\u001b[1;33m.\u001b[0m\u001b[0mget_feature_names\u001b[0m\u001b[1;33m(\u001b[0m\u001b[1;33m)\u001b[0m\u001b[1;33m\u001b[0m\u001b[0m\n\u001b[0m",
      "\u001b[1;31mNameError\u001b[0m: name 'tfidfvectorizer' is not defined"
     ]
    }
   ],
   "source": [
    "terms = tfidfvectorizer.get_feature_names()"
   ]
  },
  {
   "cell_type": "code",
   "execution_count": 39,
   "metadata": {},
   "outputs": [
    {
     "name": "stdout",
     "output_type": "stream",
     "text": [
      "\n",
      "Features that are most indicative of DJIA_UP:\n",
      "\n"
     ]
    },
    {
     "ename": "NameError",
     "evalue": "name 'terms' is not defined",
     "output_type": "error",
     "traceback": [
      "\u001b[1;31m\u001b[0m",
      "\u001b[1;31mNameError\u001b[0mTraceback (most recent call last)",
      "\u001b[1;32m<ipython-input-39-2a0eb35abe21>\u001b[0m in \u001b[0;36m<module>\u001b[1;34m()\u001b[0m\n\u001b[0;32m      1\u001b[0m \u001b[1;32mprint\u001b[0m\u001b[1;33m(\u001b[0m\u001b[1;34m\"\\nFeatures that are most indicative of DJIA_UP:\\n\"\u001b[0m\u001b[1;33m)\u001b[0m\u001b[1;33m\u001b[0m\u001b[0m\n\u001b[0;32m      2\u001b[0m \u001b[1;32mfor\u001b[0m \u001b[0mi\u001b[0m \u001b[1;32min\u001b[0m \u001b[0mnp\u001b[0m\u001b[1;33m.\u001b[0m\u001b[0margsort\u001b[0m\u001b[1;33m(\u001b[0m\u001b[0mlogodds\u001b[0m\u001b[1;33m)\u001b[0m\u001b[1;33m[\u001b[0m\u001b[1;33m:\u001b[0m\u001b[1;36m10\u001b[0m\u001b[1;33m]\u001b[0m\u001b[1;33m:\u001b[0m\u001b[1;33m\u001b[0m\u001b[0m\n\u001b[1;32m----> 3\u001b[1;33m     \u001b[1;32mprint\u001b[0m\u001b[1;33m(\u001b[0m\u001b[0mterms\u001b[0m\u001b[1;33m[\u001b[0m\u001b[0mi\u001b[0m\u001b[1;33m]\u001b[0m\u001b[1;33m)\u001b[0m\u001b[1;33m\u001b[0m\u001b[0m\n\u001b[0m\u001b[0;32m      4\u001b[0m \u001b[1;33m\u001b[0m\u001b[0m\n\u001b[0;32m      5\u001b[0m \u001b[1;32mprint\u001b[0m\u001b[1;33m(\u001b[0m\u001b[1;34m\"\\n\\nFeatures that are most indicative of DJIA_DOWN\\n\"\u001b[0m\u001b[1;33m)\u001b[0m\u001b[1;33m\u001b[0m\u001b[0m\n",
      "\u001b[1;31mNameError\u001b[0m: name 'terms' is not defined"
     ]
    }
   ],
   "source": [
    "print(\"\\nFeatures that are most indicative of DJIA_UP:\\n\")\n",
    "for i in np.argsort(logodds)[:10]:\n",
    "    print(terms[i])\n",
    "    \n",
    "print(\"\\n\\nFeatures that are most indicative of DJIA_DOWN\\n\")\n",
    "for i in np.argsort(-logodds)[:10]:\n",
    "    print(terms[i])"
   ]
  },
  {
   "cell_type": "markdown",
   "metadata": {},
   "source": [
    "### Empath Tool Text Analysis"
   ]
  },
  {
   "cell_type": "code",
   "execution_count": 40,
   "metadata": {
    "collapsed": true
   },
   "outputs": [],
   "source": [
    "lexicon = Empath()"
   ]
  },
  {
   "cell_type": "code",
   "execution_count": 41,
   "metadata": {},
   "outputs": [
    {
     "data": {
      "text/plain": [
       "\"b'Why wont America and Nato help us? If they wont help us now, why did we help them in Iraq?'\""
      ]
     },
     "execution_count": 41,
     "metadata": {},
     "output_type": "execute_result"
    }
   ],
   "source": [
    "df.iloc[1,1]"
   ]
  },
  {
   "cell_type": "code",
   "execution_count": 42,
   "metadata": {},
   "outputs": [
    {
     "data": {
      "text/plain": [
       "{'achievement': 0.0,\n",
       " 'affection': 0.0,\n",
       " 'aggression': 0.0,\n",
       " 'air_travel': 0.0,\n",
       " 'alcohol': 0.0,\n",
       " 'ancient': 0.0,\n",
       " 'anger': 0.0,\n",
       " 'animal': 0.0,\n",
       " 'anonymity': 0.0,\n",
       " 'anticipation': 0.0,\n",
       " 'appearance': 0.0,\n",
       " 'art': 0.0,\n",
       " 'attractive': 0.0,\n",
       " 'banking': 0.0,\n",
       " 'beach': 0.0,\n",
       " 'beauty': 0.0,\n",
       " 'blue_collar_job': 0.0,\n",
       " 'body': 0.0,\n",
       " 'breaking': 0.0,\n",
       " 'business': 0.0,\n",
       " 'car': 0.0,\n",
       " 'celebration': 0.0,\n",
       " 'cheerfulness': 0.0,\n",
       " 'childish': 0.0,\n",
       " 'children': 0.0,\n",
       " 'cleaning': 0.0,\n",
       " 'clothing': 0.0,\n",
       " 'cold': 0.0,\n",
       " 'college': 0.0,\n",
       " 'communication': 0.0,\n",
       " 'competing': 0.0,\n",
       " 'computer': 0.0,\n",
       " 'confusion': 0.05,\n",
       " 'contentment': 0.0,\n",
       " 'cooking': 0.0,\n",
       " 'crime': 0.0,\n",
       " 'dance': 0.0,\n",
       " 'death': 0.0,\n",
       " 'deception': 0.0,\n",
       " 'disappointment': 0.0,\n",
       " 'disgust': 0.0,\n",
       " 'dispute': 0.0,\n",
       " 'divine': 0.0,\n",
       " 'domestic_work': 0.0,\n",
       " 'dominant_heirarchical': 0.0,\n",
       " 'dominant_personality': 0.0,\n",
       " 'driving': 0.0,\n",
       " 'eating': 0.0,\n",
       " 'economics': 0.0,\n",
       " 'emotional': 0.0,\n",
       " 'envy': 0.0,\n",
       " 'exasperation': 0.0,\n",
       " 'exercise': 0.0,\n",
       " 'exotic': 0.0,\n",
       " 'fabric': 0.0,\n",
       " 'family': 0.0,\n",
       " 'farming': 0.0,\n",
       " 'fashion': 0.0,\n",
       " 'fear': 0.0,\n",
       " 'feminine': 0.0,\n",
       " 'fight': 0.0,\n",
       " 'fire': 0.0,\n",
       " 'friends': 0.0,\n",
       " 'fun': 0.0,\n",
       " 'furniture': 0.0,\n",
       " 'gain': 0.0,\n",
       " 'giving': 0.0,\n",
       " 'government': 0.0,\n",
       " 'hate': 0.0,\n",
       " 'healing': 0.0,\n",
       " 'health': 0.0,\n",
       " 'hearing': 0.0,\n",
       " 'help': 0.15,\n",
       " 'heroic': 0.0,\n",
       " 'hiking': 0.0,\n",
       " 'hipster': 0.0,\n",
       " 'home': 0.0,\n",
       " 'horror': 0.0,\n",
       " 'hygiene': 0.0,\n",
       " 'independence': 0.0,\n",
       " 'injury': 0.0,\n",
       " 'internet': 0.0,\n",
       " 'irritability': 0.0,\n",
       " 'journalism': 0.0,\n",
       " 'joy': 0.0,\n",
       " 'kill': 0.0,\n",
       " 'law': 0.0,\n",
       " 'leader': 0.0,\n",
       " 'legend': 0.0,\n",
       " 'leisure': 0.0,\n",
       " 'liquid': 0.0,\n",
       " 'listen': 0.0,\n",
       " 'love': 0.0,\n",
       " 'lust': 0.0,\n",
       " 'magic': 0.0,\n",
       " 'masculine': 0.0,\n",
       " 'medical_emergency': 0.0,\n",
       " 'medieval': 0.0,\n",
       " 'meeting': 0.0,\n",
       " 'messaging': 0.0,\n",
       " 'military': 0.0,\n",
       " 'money': 0.0,\n",
       " 'monster': 0.0,\n",
       " 'morning': 0.0,\n",
       " 'movement': 0.0,\n",
       " 'music': 0.0,\n",
       " 'musical': 0.0,\n",
       " 'negative_emotion': 0.0,\n",
       " 'neglect': 0.0,\n",
       " 'negotiate': 0.0,\n",
       " 'nervousness': 0.0,\n",
       " 'night': 0.0,\n",
       " 'noise': 0.0,\n",
       " 'occupation': 0.0,\n",
       " 'ocean': 0.0,\n",
       " 'office': 0.0,\n",
       " 'optimism': 0.0,\n",
       " 'order': 0.0,\n",
       " 'pain': 0.0,\n",
       " 'party': 0.0,\n",
       " 'payment': 0.0,\n",
       " 'pet': 0.0,\n",
       " 'philosophy': 0.0,\n",
       " 'phone': 0.0,\n",
       " 'plant': 0.0,\n",
       " 'play': 0.0,\n",
       " 'politeness': 0.0,\n",
       " 'politics': 0.0,\n",
       " 'poor': 0.0,\n",
       " 'positive_emotion': 0.0,\n",
       " 'power': 0.0,\n",
       " 'pride': 0.0,\n",
       " 'prison': 0.0,\n",
       " 'programming': 0.0,\n",
       " 'rage': 0.0,\n",
       " 'reading': 0.0,\n",
       " 'real_estate': 0.0,\n",
       " 'religion': 0.0,\n",
       " 'restaurant': 0.0,\n",
       " 'ridicule': 0.0,\n",
       " 'royalty': 0.0,\n",
       " 'rural': 0.0,\n",
       " 'sadness': 0.0,\n",
       " 'sailing': 0.0,\n",
       " 'school': 0.0,\n",
       " 'science': 0.0,\n",
       " 'sexual': 0.0,\n",
       " 'shame': 0.0,\n",
       " 'shape_and_size': 0.0,\n",
       " 'ship': 0.0,\n",
       " 'shopping': 0.0,\n",
       " 'sleep': 0.0,\n",
       " 'smell': 0.0,\n",
       " 'social_media': 0.0,\n",
       " 'sound': 0.0,\n",
       " 'speaking': 0.0,\n",
       " 'sports': 0.0,\n",
       " 'stealing': 0.0,\n",
       " 'strength': 0.0,\n",
       " 'suffering': 0.0,\n",
       " 'superhero': 0.0,\n",
       " 'surprise': 0.0,\n",
       " 'swearing_terms': 0.0,\n",
       " 'swimming': 0.0,\n",
       " 'sympathy': 0.0,\n",
       " 'technology': 0.0,\n",
       " 'terrorism': 0.0,\n",
       " 'timidity': 0.0,\n",
       " 'tool': 0.0,\n",
       " 'torment': 0.0,\n",
       " 'tourism': 0.0,\n",
       " 'toy': 0.0,\n",
       " 'traveling': 0.0,\n",
       " 'trust': 0.0,\n",
       " 'ugliness': 0.0,\n",
       " 'urban': 0.0,\n",
       " 'vacation': 0.0,\n",
       " 'valuable': 0.0,\n",
       " 'vehicle': 0.0,\n",
       " 'violence': 0.0,\n",
       " 'war': 0.0,\n",
       " 'warmth': 0.0,\n",
       " 'water': 0.0,\n",
       " 'weakness': 0.0,\n",
       " 'wealthy': 0.0,\n",
       " 'weapon': 0.0,\n",
       " 'weather': 0.0,\n",
       " 'wedding': 0.0,\n",
       " 'white_collar_job': 0.0,\n",
       " 'work': 0.0,\n",
       " 'worship': 0.0,\n",
       " 'writing': 0.0,\n",
       " 'youth': 0.0,\n",
       " 'zest': 0.0}"
      ]
     },
     "execution_count": 42,
     "metadata": {},
     "output_type": "execute_result"
    }
   ],
   "source": [
    "lexicon.analyze(df.iloc[1,1], normalize=True)"
   ]
  },
  {
   "cell_type": "code",
   "execution_count": 43,
   "metadata": {},
   "outputs": [
    {
     "data": {
      "text/plain": [
       "'b\"Russia \\'ends Georgia operation\\'\"'"
      ]
     },
     "execution_count": 43,
     "metadata": {},
     "output_type": "execute_result"
    }
   ],
   "source": [
    "df.iloc[2,2]"
   ]
  },
  {
   "cell_type": "code",
   "execution_count": 44,
   "metadata": {},
   "outputs": [
    {
     "data": {
      "text/plain": [
       "{'achievement': 0.0,\n",
       " 'affection': 0.0,\n",
       " 'aggression': 0.0,\n",
       " 'air_travel': 0.0,\n",
       " 'alcohol': 0.0,\n",
       " 'ancient': 0.0,\n",
       " 'anger': 0.0,\n",
       " 'animal': 0.0,\n",
       " 'anonymity': 0.0,\n",
       " 'anticipation': 0.0,\n",
       " 'appearance': 0.0,\n",
       " 'art': 0.0,\n",
       " 'attractive': 0.0,\n",
       " 'banking': 0.0,\n",
       " 'beach': 0.0,\n",
       " 'beauty': 0.0,\n",
       " 'blue_collar_job': 0.0,\n",
       " 'body': 0.0,\n",
       " 'breaking': 0.0,\n",
       " 'business': 0.0,\n",
       " 'car': 0.0,\n",
       " 'celebration': 0.0,\n",
       " 'cheerfulness': 0.0,\n",
       " 'childish': 0.0,\n",
       " 'children': 0.0,\n",
       " 'cleaning': 0.0,\n",
       " 'clothing': 0.0,\n",
       " 'cold': 0.0,\n",
       " 'college': 0.0,\n",
       " 'communication': 0.0,\n",
       " 'competing': 0.0,\n",
       " 'computer': 0.0,\n",
       " 'confusion': 0.0,\n",
       " 'contentment': 0.0,\n",
       " 'cooking': 0.0,\n",
       " 'crime': 0.0,\n",
       " 'dance': 0.0,\n",
       " 'death': 0.0,\n",
       " 'deception': 0.0,\n",
       " 'disappointment': 0.0,\n",
       " 'disgust': 0.0,\n",
       " 'dispute': 0.0,\n",
       " 'divine': 0.0,\n",
       " 'domestic_work': 0.0,\n",
       " 'dominant_heirarchical': 0.0,\n",
       " 'dominant_personality': 0.0,\n",
       " 'driving': 0.0,\n",
       " 'eating': 0.0,\n",
       " 'economics': 0.0,\n",
       " 'emotional': 0.0,\n",
       " 'envy': 0.0,\n",
       " 'exasperation': 0.0,\n",
       " 'exercise': 0.0,\n",
       " 'exotic': 0.0,\n",
       " 'fabric': 0.0,\n",
       " 'family': 0.0,\n",
       " 'farming': 0.0,\n",
       " 'fashion': 0.0,\n",
       " 'fear': 0.0,\n",
       " 'feminine': 0.0,\n",
       " 'fight': 0.0,\n",
       " 'fire': 0.0,\n",
       " 'friends': 0.0,\n",
       " 'fun': 0.0,\n",
       " 'furniture': 0.0,\n",
       " 'gain': 0.0,\n",
       " 'giving': 0.0,\n",
       " 'government': 0.0,\n",
       " 'hate': 0.0,\n",
       " 'healing': 0.0,\n",
       " 'health': 0.0,\n",
       " 'hearing': 0.0,\n",
       " 'help': 0.0,\n",
       " 'heroic': 0.0,\n",
       " 'hiking': 0.0,\n",
       " 'hipster': 0.0,\n",
       " 'home': 0.0,\n",
       " 'horror': 0.0,\n",
       " 'hygiene': 0.0,\n",
       " 'independence': 0.0,\n",
       " 'injury': 0.0,\n",
       " 'internet': 0.0,\n",
       " 'irritability': 0.0,\n",
       " 'journalism': 0.0,\n",
       " 'joy': 0.0,\n",
       " 'kill': 0.0,\n",
       " 'law': 0.0,\n",
       " 'leader': 0.0,\n",
       " 'legend': 0.0,\n",
       " 'leisure': 0.0,\n",
       " 'liquid': 0.0,\n",
       " 'listen': 0.0,\n",
       " 'love': 0.0,\n",
       " 'lust': 0.0,\n",
       " 'magic': 0.0,\n",
       " 'masculine': 0.0,\n",
       " 'medical_emergency': 0.0,\n",
       " 'medieval': 0.0,\n",
       " 'meeting': 0.0,\n",
       " 'messaging': 0.0,\n",
       " 'military': 0.0,\n",
       " 'money': 0.0,\n",
       " 'monster': 0.0,\n",
       " 'morning': 0.0,\n",
       " 'movement': 0.0,\n",
       " 'music': 0.0,\n",
       " 'musical': 0.0,\n",
       " 'negative_emotion': 0.0,\n",
       " 'neglect': 0.0,\n",
       " 'negotiate': 0.0,\n",
       " 'nervousness': 0.0,\n",
       " 'night': 0.0,\n",
       " 'noise': 0.0,\n",
       " 'occupation': 0.0,\n",
       " 'ocean': 0.0,\n",
       " 'office': 0.0,\n",
       " 'optimism': 0.0,\n",
       " 'order': 0.0,\n",
       " 'pain': 0.0,\n",
       " 'party': 0.0,\n",
       " 'payment': 0.0,\n",
       " 'pet': 0.0,\n",
       " 'philosophy': 0.0,\n",
       " 'phone': 0.0,\n",
       " 'plant': 0.0,\n",
       " 'play': 0.0,\n",
       " 'politeness': 0.0,\n",
       " 'politics': 0.0,\n",
       " 'poor': 0.0,\n",
       " 'positive_emotion': 0.0,\n",
       " 'power': 0.0,\n",
       " 'pride': 0.0,\n",
       " 'prison': 0.0,\n",
       " 'programming': 0.0,\n",
       " 'rage': 0.0,\n",
       " 'reading': 0.0,\n",
       " 'real_estate': 0.0,\n",
       " 'religion': 0.0,\n",
       " 'restaurant': 0.0,\n",
       " 'ridicule': 0.0,\n",
       " 'royalty': 0.0,\n",
       " 'rural': 0.0,\n",
       " 'sadness': 0.0,\n",
       " 'sailing': 0.0,\n",
       " 'school': 0.0,\n",
       " 'science': 0.0,\n",
       " 'sexual': 0.0,\n",
       " 'shame': 0.0,\n",
       " 'shape_and_size': 0.0,\n",
       " 'ship': 0.0,\n",
       " 'shopping': 0.0,\n",
       " 'sleep': 0.0,\n",
       " 'smell': 0.0,\n",
       " 'social_media': 0.0,\n",
       " 'sound': 0.0,\n",
       " 'speaking': 0.0,\n",
       " 'sports': 0.0,\n",
       " 'stealing': 0.0,\n",
       " 'strength': 0.0,\n",
       " 'suffering': 0.0,\n",
       " 'superhero': 0.0,\n",
       " 'surprise': 0.0,\n",
       " 'swearing_terms': 0.0,\n",
       " 'swimming': 0.0,\n",
       " 'sympathy': 0.0,\n",
       " 'technology': 0.0,\n",
       " 'terrorism': 0.0,\n",
       " 'timidity': 0.0,\n",
       " 'tool': 0.0,\n",
       " 'torment': 0.0,\n",
       " 'tourism': 0.0,\n",
       " 'toy': 0.0,\n",
       " 'traveling': 0.0,\n",
       " 'trust': 0.0,\n",
       " 'ugliness': 0.0,\n",
       " 'urban': 0.0,\n",
       " 'vacation': 0.0,\n",
       " 'valuable': 0.0,\n",
       " 'vehicle': 0.0,\n",
       " 'violence': 0.0,\n",
       " 'war': 0.0,\n",
       " 'warmth': 0.0,\n",
       " 'water': 0.0,\n",
       " 'weakness': 0.0,\n",
       " 'wealthy': 0.0,\n",
       " 'weapon': 0.0,\n",
       " 'weather': 0.0,\n",
       " 'wedding': 0.0,\n",
       " 'white_collar_job': 0.0,\n",
       " 'work': 0.0,\n",
       " 'worship': 0.0,\n",
       " 'writing': 0.0,\n",
       " 'youth': 0.0,\n",
       " 'zest': 0.0}"
      ]
     },
     "execution_count": 44,
     "metadata": {},
     "output_type": "execute_result"
    }
   ],
   "source": [
    "lexicon.analyze(df.iloc[2,2], normalize=True)"
   ]
  },
  {
   "cell_type": "code",
   "execution_count": 45,
   "metadata": {
    "collapsed": true
   },
   "outputs": [],
   "source": [
    "def empath_analyze(doc):\n",
    "    print (doc)\n",
    "    result = lexicon.analyze(doc, normalize=True)\n",
    "    for term, score in result.items():\n",
    "        if score != 0.:\n",
    "            print ((term, score))"
   ]
  },
  {
   "cell_type": "code",
   "execution_count": 46,
   "metadata": {},
   "outputs": [
    {
     "data": {
      "text/plain": [
       "['help',\n",
       " 'office',\n",
       " 'violence',\n",
       " 'dance',\n",
       " 'money',\n",
       " 'wedding',\n",
       " 'valuable',\n",
       " 'domestic_work',\n",
       " 'sleep',\n",
       " 'medical_emergency',\n",
       " 'cold',\n",
       " 'hate',\n",
       " 'cheerfulness',\n",
       " 'aggression',\n",
       " 'occupation',\n",
       " 'envy',\n",
       " 'anticipation',\n",
       " 'family',\n",
       " 'crime',\n",
       " 'attractive',\n",
       " 'masculine',\n",
       " 'prison',\n",
       " 'health',\n",
       " 'pride',\n",
       " 'dispute',\n",
       " 'nervousness',\n",
       " 'government',\n",
       " 'weakness',\n",
       " 'horror',\n",
       " 'swearing_terms',\n",
       " 'leisure',\n",
       " 'suffering',\n",
       " 'royalty',\n",
       " 'wealthy',\n",
       " 'white_collar_job',\n",
       " 'tourism',\n",
       " 'furniture',\n",
       " 'school',\n",
       " 'magic',\n",
       " 'beach',\n",
       " 'journalism',\n",
       " 'morning',\n",
       " 'banking',\n",
       " 'social_media',\n",
       " 'exercise',\n",
       " 'night',\n",
       " 'kill',\n",
       " 'art',\n",
       " 'play',\n",
       " 'computer',\n",
       " 'college',\n",
       " 'traveling',\n",
       " 'stealing',\n",
       " 'real_estate',\n",
       " 'home',\n",
       " 'divine',\n",
       " 'sexual',\n",
       " 'fear',\n",
       " 'monster',\n",
       " 'irritability',\n",
       " 'superhero',\n",
       " 'business',\n",
       " 'driving',\n",
       " 'pet',\n",
       " 'childish',\n",
       " 'cooking',\n",
       " 'exasperation',\n",
       " 'religion',\n",
       " 'hipster',\n",
       " 'internet',\n",
       " 'surprise',\n",
       " 'reading',\n",
       " 'worship',\n",
       " 'leader',\n",
       " 'independence',\n",
       " 'movement',\n",
       " 'body',\n",
       " 'noise',\n",
       " 'eating',\n",
       " 'medieval',\n",
       " 'zest',\n",
       " 'confusion',\n",
       " 'water',\n",
       " 'sports',\n",
       " 'death',\n",
       " 'healing',\n",
       " 'legend',\n",
       " 'heroic',\n",
       " 'celebration',\n",
       " 'restaurant',\n",
       " 'ridicule',\n",
       " 'programming',\n",
       " 'dominant_heirarchical',\n",
       " 'military',\n",
       " 'neglect',\n",
       " 'swimming',\n",
       " 'exotic',\n",
       " 'love',\n",
       " 'hiking',\n",
       " 'communication',\n",
       " 'hearing',\n",
       " 'order',\n",
       " 'sympathy',\n",
       " 'hygiene',\n",
       " 'weather',\n",
       " 'anonymity',\n",
       " 'trust',\n",
       " 'ancient',\n",
       " 'deception',\n",
       " 'fabric',\n",
       " 'air_travel',\n",
       " 'fight',\n",
       " 'dominant_personality',\n",
       " 'music',\n",
       " 'vehicle',\n",
       " 'politeness',\n",
       " 'toy',\n",
       " 'farming',\n",
       " 'meeting',\n",
       " 'war',\n",
       " 'speaking',\n",
       " 'listen',\n",
       " 'urban',\n",
       " 'shopping',\n",
       " 'disgust',\n",
       " 'fire',\n",
       " 'tool',\n",
       " 'phone',\n",
       " 'gain',\n",
       " 'sound',\n",
       " 'injury',\n",
       " 'sailing',\n",
       " 'rage',\n",
       " 'science',\n",
       " 'work',\n",
       " 'appearance',\n",
       " 'optimism',\n",
       " 'warmth',\n",
       " 'youth',\n",
       " 'sadness',\n",
       " 'fun',\n",
       " 'emotional',\n",
       " 'joy',\n",
       " 'affection',\n",
       " 'fashion',\n",
       " 'lust',\n",
       " 'shame',\n",
       " 'torment',\n",
       " 'economics',\n",
       " 'anger',\n",
       " 'politics',\n",
       " 'ship',\n",
       " 'clothing',\n",
       " 'car',\n",
       " 'strength',\n",
       " 'technology',\n",
       " 'breaking',\n",
       " 'shape_and_size',\n",
       " 'power',\n",
       " 'vacation',\n",
       " 'animal',\n",
       " 'ugliness',\n",
       " 'party',\n",
       " 'terrorism',\n",
       " 'smell',\n",
       " 'blue_collar_job',\n",
       " 'poor',\n",
       " 'plant',\n",
       " 'pain',\n",
       " 'beauty',\n",
       " 'timidity',\n",
       " 'philosophy',\n",
       " 'negotiate',\n",
       " 'negative_emotion',\n",
       " 'cleaning',\n",
       " 'messaging',\n",
       " 'competing',\n",
       " 'law',\n",
       " 'friends',\n",
       " 'payment',\n",
       " 'achievement',\n",
       " 'alcohol',\n",
       " 'disappointment',\n",
       " 'liquid',\n",
       " 'feminine',\n",
       " 'weapon',\n",
       " 'children',\n",
       " 'ocean',\n",
       " 'giving',\n",
       " 'contentment',\n",
       " 'writing',\n",
       " 'rural',\n",
       " 'positive_emotion',\n",
       " 'musical']"
      ]
     },
     "execution_count": 46,
     "metadata": {},
     "output_type": "execute_result"
    }
   ],
   "source": [
    "lexicon.analyze('hit', normalize=True).keys()"
   ]
  },
  {
   "cell_type": "code",
   "execution_count": 47,
   "metadata": {
    "collapsed": true
   },
   "outputs": [],
   "source": [
    "categories = list(lexicon.analyze('no', normalize=True).keys())"
   ]
  },
  {
   "cell_type": "code",
   "execution_count": 48,
   "metadata": {
    "collapsed": true
   },
   "outputs": [],
   "source": [
    "empath_df = pd.DataFrame()"
   ]
  },
  {
   "cell_type": "code",
   "execution_count": 49,
   "metadata": {},
   "outputs": [
    {
     "data": {
      "text/plain": [
       "Top1     b'Dutch to ban burkas when picking children up...\n",
       "Top2     b\"For 21 years a British man has refused to bu...\n",
       "Top3       b'War Nerd - Ossetia: all over but the whining'\n",
       "Top4     b'North Korean Leader Kim Jong-il is Confirmed...\n",
       "Top5            b'Polish PM Wants Child Abusers Castrated'\n",
       "Top6                  b'Russian bombers land in Venezuela'\n",
       "Top7            b'Devastating Landslide Kills 56 in China'\n",
       "Top8     b'Iran demands UN investigate Israeli \"threats...\n",
       "Top9     b'2 Israeli Human Right Groups: Israel is forc...\n",
       "Top10    b'125,000 Gorillas Find Haven in Mud Swamp But...\n",
       "Top11    b'Moroccan blogger insults King, King jails in...\n",
       "Top12    b'Ralph Peters, the retired US army colonel wh...\n",
       "Top13                   b\"US 'not winning' in Afghanistan\"\n",
       "Top14    b'Earth Policy Institute: Increasing Equality ...\n",
       "Top15                 b\"Israel 'dividing up Palestinians'\"\n",
       "Top16    b'Iran Being Supported by Shell Oil, OMV and M...\n",
       "Top17    b'Russia sends warplanes on Venezuela training...\n",
       "Top18    b'Satellite Images Reveal Exact Nature of Dest...\n",
       "Top19                               b'Obama win preferred'\n",
       "Top20              b'Across Haiti, a Scene of Devastation'\n",
       "Top21    b'Google Satellites Aim to Bring High-Speed In...\n",
       "Top22    b'Hindus highlight plight of Roma people in Eu...\n",
       "Top23    b'Australia Criticized for Setting \"Weak\" Carb...\n",
       "Top24    b'This is why the Taliban are pissed, and so w...\n",
       "Top25                     b'Islam in Europe: Balkan youth'\n",
       "Name: 2008-09-10, dtype: object"
      ]
     },
     "execution_count": 49,
     "metadata": {},
     "output_type": "execute_result"
    }
   ],
   "source": [
    "df.iloc[22, 1:]"
   ]
  },
  {
   "cell_type": "code",
   "execution_count": 50,
   "metadata": {
    "collapsed": true
   },
   "outputs": [],
   "source": [
    "def create_empath_df(headlines, lexicon, length, categories):\n",
    "    \"\"\"\n",
    "    df: pd.DataFrame, original headline dataframe\n",
    "    lexicon: empath object, empath tool\n",
    "    length: integer, length of the dataframe\n",
    "    categories: list, list of categories in lexicon\n",
    "    \"\"\"\n",
    "    \n",
    "    #df_empath = pd.DataFrame(0, index=df.index[:length], columns=categories)\n",
    "    row_list = []\n",
    "    for i in range(length):\n",
    "        row_list.append(lexicon.analyze(headlines[i], normalize=True))\n",
    "    df_empath = pd.DataFrame(row_list, index=df.index[:length])\n",
    "    return df_empath"
   ]
  },
  {
   "cell_type": "code",
   "execution_count": 51,
   "metadata": {
    "collapsed": true
   },
   "outputs": [],
   "source": [
    "df_empath = create_empath_df(headlines, lexicon, len(headlines), categories)"
   ]
  },
  {
   "cell_type": "code",
   "execution_count": 52,
   "metadata": {},
   "outputs": [
    {
     "data": {
      "text/html": [
       "<div>\n",
       "<style>\n",
       "    .dataframe thead tr:only-child th {\n",
       "        text-align: right;\n",
       "    }\n",
       "\n",
       "    .dataframe thead th {\n",
       "        text-align: left;\n",
       "    }\n",
       "\n",
       "    .dataframe tbody tr th {\n",
       "        vertical-align: top;\n",
       "    }\n",
       "</style>\n",
       "<table border=\"1\" class=\"dataframe\">\n",
       "  <thead>\n",
       "    <tr style=\"text-align: right;\">\n",
       "      <th></th>\n",
       "      <th>achievement</th>\n",
       "      <th>affection</th>\n",
       "      <th>aggression</th>\n",
       "      <th>air_travel</th>\n",
       "      <th>alcohol</th>\n",
       "      <th>ancient</th>\n",
       "      <th>anger</th>\n",
       "      <th>animal</th>\n",
       "      <th>anonymity</th>\n",
       "      <th>anticipation</th>\n",
       "      <th>...</th>\n",
       "      <th>wealthy</th>\n",
       "      <th>weapon</th>\n",
       "      <th>weather</th>\n",
       "      <th>wedding</th>\n",
       "      <th>white_collar_job</th>\n",
       "      <th>work</th>\n",
       "      <th>worship</th>\n",
       "      <th>writing</th>\n",
       "      <th>youth</th>\n",
       "      <th>zest</th>\n",
       "    </tr>\n",
       "    <tr>\n",
       "      <th>Date</th>\n",
       "      <th></th>\n",
       "      <th></th>\n",
       "      <th></th>\n",
       "      <th></th>\n",
       "      <th></th>\n",
       "      <th></th>\n",
       "      <th></th>\n",
       "      <th></th>\n",
       "      <th></th>\n",
       "      <th></th>\n",
       "      <th></th>\n",
       "      <th></th>\n",
       "      <th></th>\n",
       "      <th></th>\n",
       "      <th></th>\n",
       "      <th></th>\n",
       "      <th></th>\n",
       "      <th></th>\n",
       "      <th></th>\n",
       "      <th></th>\n",
       "      <th></th>\n",
       "    </tr>\n",
       "  </thead>\n",
       "  <tbody>\n",
       "    <tr>\n",
       "      <th>2008-08-08</th>\n",
       "      <td>0.002674</td>\n",
       "      <td>0.0</td>\n",
       "      <td>0.002674</td>\n",
       "      <td>0.00000</td>\n",
       "      <td>0.00000</td>\n",
       "      <td>0.002674</td>\n",
       "      <td>0.00000</td>\n",
       "      <td>0.00000</td>\n",
       "      <td>0.0</td>\n",
       "      <td>0.000000</td>\n",
       "      <td>...</td>\n",
       "      <td>0.000000</td>\n",
       "      <td>0.010695</td>\n",
       "      <td>0.000000</td>\n",
       "      <td>0.002674</td>\n",
       "      <td>0.00000</td>\n",
       "      <td>0.002674</td>\n",
       "      <td>0.000000</td>\n",
       "      <td>0.0</td>\n",
       "      <td>0.00000</td>\n",
       "      <td>0.002674</td>\n",
       "    </tr>\n",
       "    <tr>\n",
       "      <th>2008-08-11</th>\n",
       "      <td>0.000000</td>\n",
       "      <td>0.0</td>\n",
       "      <td>0.007380</td>\n",
       "      <td>0.00369</td>\n",
       "      <td>0.00369</td>\n",
       "      <td>0.000000</td>\n",
       "      <td>0.00369</td>\n",
       "      <td>0.00000</td>\n",
       "      <td>0.0</td>\n",
       "      <td>0.000000</td>\n",
       "      <td>...</td>\n",
       "      <td>0.000000</td>\n",
       "      <td>0.003690</td>\n",
       "      <td>0.000000</td>\n",
       "      <td>0.003690</td>\n",
       "      <td>0.00000</td>\n",
       "      <td>0.007380</td>\n",
       "      <td>0.000000</td>\n",
       "      <td>0.0</td>\n",
       "      <td>0.00369</td>\n",
       "      <td>0.000000</td>\n",
       "    </tr>\n",
       "    <tr>\n",
       "      <th>2008-08-12</th>\n",
       "      <td>0.000000</td>\n",
       "      <td>0.0</td>\n",
       "      <td>0.005698</td>\n",
       "      <td>0.00000</td>\n",
       "      <td>0.00000</td>\n",
       "      <td>0.005698</td>\n",
       "      <td>0.00000</td>\n",
       "      <td>0.00000</td>\n",
       "      <td>0.0</td>\n",
       "      <td>0.000000</td>\n",
       "      <td>...</td>\n",
       "      <td>0.002849</td>\n",
       "      <td>0.002849</td>\n",
       "      <td>0.000000</td>\n",
       "      <td>0.005698</td>\n",
       "      <td>0.00000</td>\n",
       "      <td>0.002849</td>\n",
       "      <td>0.002849</td>\n",
       "      <td>0.0</td>\n",
       "      <td>0.00000</td>\n",
       "      <td>0.000000</td>\n",
       "    </tr>\n",
       "    <tr>\n",
       "      <th>2008-08-13</th>\n",
       "      <td>0.000000</td>\n",
       "      <td>0.0</td>\n",
       "      <td>0.006431</td>\n",
       "      <td>0.00000</td>\n",
       "      <td>0.00000</td>\n",
       "      <td>0.003215</td>\n",
       "      <td>0.00000</td>\n",
       "      <td>0.00000</td>\n",
       "      <td>0.0</td>\n",
       "      <td>0.003215</td>\n",
       "      <td>...</td>\n",
       "      <td>0.000000</td>\n",
       "      <td>0.012862</td>\n",
       "      <td>0.006431</td>\n",
       "      <td>0.003215</td>\n",
       "      <td>0.00000</td>\n",
       "      <td>0.006431</td>\n",
       "      <td>0.000000</td>\n",
       "      <td>0.0</td>\n",
       "      <td>0.00000</td>\n",
       "      <td>0.000000</td>\n",
       "    </tr>\n",
       "    <tr>\n",
       "      <th>2008-08-14</th>\n",
       "      <td>0.007220</td>\n",
       "      <td>0.0</td>\n",
       "      <td>0.003610</td>\n",
       "      <td>0.00000</td>\n",
       "      <td>0.00361</td>\n",
       "      <td>0.000000</td>\n",
       "      <td>0.00000</td>\n",
       "      <td>0.00361</td>\n",
       "      <td>0.0</td>\n",
       "      <td>0.000000</td>\n",
       "      <td>...</td>\n",
       "      <td>0.000000</td>\n",
       "      <td>0.007220</td>\n",
       "      <td>0.000000</td>\n",
       "      <td>0.003610</td>\n",
       "      <td>0.00361</td>\n",
       "      <td>0.000000</td>\n",
       "      <td>0.000000</td>\n",
       "      <td>0.0</td>\n",
       "      <td>0.00361</td>\n",
       "      <td>0.000000</td>\n",
       "    </tr>\n",
       "  </tbody>\n",
       "</table>\n",
       "<p>5 rows × 194 columns</p>\n",
       "</div>"
      ],
      "text/plain": [
       "            achievement  affection  aggression  air_travel  alcohol   ancient  \\\n",
       "Date                                                                            \n",
       "2008-08-08     0.002674        0.0    0.002674     0.00000  0.00000  0.002674   \n",
       "2008-08-11     0.000000        0.0    0.007380     0.00369  0.00369  0.000000   \n",
       "2008-08-12     0.000000        0.0    0.005698     0.00000  0.00000  0.005698   \n",
       "2008-08-13     0.000000        0.0    0.006431     0.00000  0.00000  0.003215   \n",
       "2008-08-14     0.007220        0.0    0.003610     0.00000  0.00361  0.000000   \n",
       "\n",
       "              anger   animal  anonymity  anticipation    ...      wealthy  \\\n",
       "Date                                                     ...                \n",
       "2008-08-08  0.00000  0.00000        0.0      0.000000    ...     0.000000   \n",
       "2008-08-11  0.00369  0.00000        0.0      0.000000    ...     0.000000   \n",
       "2008-08-12  0.00000  0.00000        0.0      0.000000    ...     0.002849   \n",
       "2008-08-13  0.00000  0.00000        0.0      0.003215    ...     0.000000   \n",
       "2008-08-14  0.00000  0.00361        0.0      0.000000    ...     0.000000   \n",
       "\n",
       "              weapon   weather   wedding  white_collar_job      work  \\\n",
       "Date                                                                   \n",
       "2008-08-08  0.010695  0.000000  0.002674           0.00000  0.002674   \n",
       "2008-08-11  0.003690  0.000000  0.003690           0.00000  0.007380   \n",
       "2008-08-12  0.002849  0.000000  0.005698           0.00000  0.002849   \n",
       "2008-08-13  0.012862  0.006431  0.003215           0.00000  0.006431   \n",
       "2008-08-14  0.007220  0.000000  0.003610           0.00361  0.000000   \n",
       "\n",
       "             worship  writing    youth      zest  \n",
       "Date                                              \n",
       "2008-08-08  0.000000      0.0  0.00000  0.002674  \n",
       "2008-08-11  0.000000      0.0  0.00369  0.000000  \n",
       "2008-08-12  0.002849      0.0  0.00000  0.000000  \n",
       "2008-08-13  0.000000      0.0  0.00000  0.000000  \n",
       "2008-08-14  0.000000      0.0  0.00361  0.000000  \n",
       "\n",
       "[5 rows x 194 columns]"
      ]
     },
     "execution_count": 52,
     "metadata": {},
     "output_type": "execute_result"
    }
   ],
   "source": [
    "df_empath.head()"
   ]
  },
  {
   "cell_type": "code",
   "execution_count": 53,
   "metadata": {},
   "outputs": [
    {
     "data": {
      "text/plain": [
       "(1989, 194)"
      ]
     },
     "execution_count": 53,
     "metadata": {},
     "output_type": "execute_result"
    }
   ],
   "source": [
    "df_empath.shape"
   ]
  },
  {
   "cell_type": "code",
   "execution_count": 54,
   "metadata": {},
   "outputs": [
    {
     "data": {
      "text/plain": [
       "government               18.339678\n",
       "war                      18.299993\n",
       "crime                    17.808730\n",
       "negative_emotion         15.597581\n",
       "law                      14.585024\n",
       "leader                   13.674744\n",
       "fight                    12.857394\n",
       "business                 11.585098\n",
       "kill                     11.561819\n",
       "stealing                 11.329816\n",
       "money                    10.442449\n",
       "weapon                   10.129558\n",
       "military                 10.044834\n",
       "violence                  9.921086\n",
       "death                     9.826416\n",
       "dispute                   9.788707\n",
       "economics                 9.592128\n",
       "terrorism                 9.016257\n",
       "technology                8.623589\n",
       "prison                    8.509124\n",
       "aggression                8.280892\n",
       "banking                   8.278685\n",
       "power                     8.197165\n",
       "dominant_heirarchical     8.166643\n",
       "work                      8.033855\n",
       "payment                   7.891100\n",
       "politics                  7.885117\n",
       "traveling                 6.993661\n",
       "valuable                  6.934469\n",
       "children                  6.887970\n",
       "                           ...    \n",
       "morning                   0.912269\n",
       "fabric                    0.851985\n",
       "night                     0.847633\n",
       "medieval                  0.839695\n",
       "pride                     0.824622\n",
       "hygiene                   0.803012\n",
       "beauty                    0.722219\n",
       "pet                       0.720545\n",
       "furniture                 0.693298\n",
       "hipster                   0.609419\n",
       "blue_collar_job           0.600218\n",
       "envy                      0.593617\n",
       "timidity                  0.582354\n",
       "ridicule                  0.580841\n",
       "dominant_personality      0.534858\n",
       "lust                      0.505806\n",
       "affection                 0.486209\n",
       "anticipation              0.483851\n",
       "ugliness                  0.445408\n",
       "superhero                 0.427773\n",
       "swearing_terms            0.419711\n",
       "irritability              0.416410\n",
       "exasperation              0.396756\n",
       "anonymity                 0.380465\n",
       "sympathy                  0.373761\n",
       "zest                      0.359093\n",
       "contentment               0.352000\n",
       "cheerfulness              0.340090\n",
       "joy                       0.256644\n",
       "politeness                0.177863\n",
       "Length: 194, dtype: float64"
      ]
     },
     "execution_count": 54,
     "metadata": {},
     "output_type": "execute_result"
    }
   ],
   "source": [
    "df_empath.sum(axis=0).sort_values(ascending = False)"
   ]
  },
  {
   "cell_type": "code",
   "execution_count": 55,
   "metadata": {},
   "outputs": [
    {
     "data": {
      "text/plain": [
       "<matplotlib.collections.PathCollection at 0xe9e89b0>"
      ]
     },
     "execution_count": 55,
     "metadata": {},
     "output_type": "execute_result"
    },
    {
     "data": {
      "image/png": "[encoded data removed]",
      "text/plain": [
       "<matplotlib.figure.Figure at 0xe9e8c50>"
      ]
     },
     "metadata": {},
     "output_type": "display_data"
    }
   ],
   "source": [
    "cat_total_scores = df_empath.sum(axis=0).sort_values(ascending = False)\n",
    "plt.plot(cat_total_scores.values)\n",
    "plt.scatter(25, cat_total_scores.values[25], color = 'r')"
   ]
  },
  {
   "cell_type": "code",
   "execution_count": 56,
   "metadata": {
    "collapsed": true
   },
   "outputs": [],
   "source": [
    "daily_category = df_empath.idxmax(axis=1)"
   ]
  },
  {
   "cell_type": "code",
   "execution_count": 57,
   "metadata": {},
   "outputs": [
    {
     "data": {
      "text/plain": [
       "crime               343\n",
       "government          283\n",
       "war                 199\n",
       "negative_emotion    152\n",
       "business            114\n",
       "leader               71\n",
       "law                  67\n",
       "fight                61\n",
       "economics            46\n",
       "money                45\n",
       "dtype: int64"
      ]
     },
     "execution_count": 57,
     "metadata": {},
     "output_type": "execute_result"
    }
   ],
   "source": [
    "daily_category.value_counts()[:10]"
   ]
  },
  {
   "cell_type": "code",
   "execution_count": 58,
   "metadata": {},
   "outputs": [
    {
     "data": {
      "text/plain": [
       "[<matplotlib.lines.Line2D at 0x139a7080>]"
      ]
     },
     "execution_count": 58,
     "metadata": {},
     "output_type": "execute_result"
    },
    {
     "data": {
      "image/png": "[encoded data removed]",
      "text/plain": [
       "<matplotlib.figure.Figure at 0x2932e6a0>"
      ]
     },
     "metadata": {},
     "output_type": "display_data"
    }
   ],
   "source": [
    "plt.plot(daily_category.value_counts().values)"
   ]
  },
  {
   "cell_type": "code",
   "execution_count": 59,
   "metadata": {
    "collapsed": true
   },
   "outputs": [],
   "source": [
    "from collections import defaultdict\n",
    "cat_to_color = defaultdict(lambda: 'k')"
   ]
  },
  {
   "cell_type": "code",
   "execution_count": 60,
   "metadata": {
    "collapsed": true
   },
   "outputs": [],
   "source": [
    "cat_to_color.update({daily_category.value_counts().index[10+i] : 'C'+str(i+1) for i in range(3)})"
   ]
  },
  {
   "cell_type": "code",
   "execution_count": 61,
   "metadata": {},
   "outputs": [
    {
     "data": {
      "text/plain": [
       "defaultdict(<function __main__.<lambda>>,\n",
       "            {'banking': 'C2', 'dispute': 'C1', 'military': 'C3'})"
      ]
     },
     "execution_count": 61,
     "metadata": {},
     "output_type": "execute_result"
    }
   ],
   "source": [
    "cat_to_color"
   ]
  },
  {
   "cell_type": "code",
   "execution_count": 62,
   "metadata": {},
   "outputs": [
    {
     "ename": "NameError",
     "evalue": "name 'projected_docs' is not defined",
     "output_type": "error",
     "traceback": [
      "\u001b[1;31m\u001b[0m",
      "\u001b[1;31mNameError\u001b[0mTraceback (most recent call last)",
      "\u001b[1;32m<ipython-input-62-d50fc0570b62>\u001b[0m in \u001b[0;36m<module>\u001b[1;34m()\u001b[0m\n\u001b[1;32m----> 1\u001b[1;33m \u001b[0mprojected_docs\u001b[0m\u001b[1;33m.\u001b[0m\u001b[0mshape\u001b[0m\u001b[1;33m[\u001b[0m\u001b[1;36m0\u001b[0m\u001b[1;33m]\u001b[0m\u001b[1;33m\u001b[0m\u001b[0m\n\u001b[0m",
      "\u001b[1;31mNameError\u001b[0m: name 'projected_docs' is not defined"
     ]
    }
   ],
   "source": [
    "projected_docs.shape[0]"
   ]
  },
  {
   "cell_type": "code",
   "execution_count": null,
   "metadata": {
    "collapsed": true
   },
   "outputs": [],
   "source": [
    "daily_category.shape"
   ]
  },
  {
   "cell_type": "code",
   "execution_count": null,
   "metadata": {
    "collapsed": true
   },
   "outputs": [],
   "source": [
    "color_to_project = defaultdict(list)\n",
    "for i in range(projected_docs.shape[0]):\n",
    "    color_to_project[cat_to_color[daily_category[i]]].append(i)"
   ]
  },
  {
   "cell_type": "code",
   "execution_count": null,
   "metadata": {
    "collapsed": true
   },
   "outputs": [],
   "source": [
    "plt.figure(figsize=(15,15))\n",
    "for color, indices in color_to_project.items():\n",
    "    indices = np.array(indices)\n",
    "    plt.scatter(projected_docs[indices,0], projected_docs[indices,1],\n",
    "                color = color)\n",
    "plt.show()"
   ]
  },
  {
   "cell_type": "markdown",
   "metadata": {},
   "source": [
    "### ML using empath matrix"
   ]
  },
  {
   "cell_type": "code",
   "execution_count": null,
   "metadata": {
    "collapsed": true
   },
   "outputs": [],
   "source": [
    "train_empath_matrix = df_empath[:1500].as_matrix(columns = df_empath.columns)\n",
    "test_empath_matrix = df_empath[1500:].as_matrix(columns = df_empath.columns)"
   ]
  },
  {
   "cell_type": "code",
   "execution_count": null,
   "metadata": {
    "collapsed": true
   },
   "outputs": [],
   "source": [
    "KNN(train_empath_matrix, DJIA_train, test_empath_matrix, DJIA_test, 15)"
   ]
  },
  {
   "cell_type": "code",
   "execution_count": null,
   "metadata": {
    "collapsed": true
   },
   "outputs": [],
   "source": [
    "Rocchio(train_empath_matrix, DJIA_train, test_empath_matrix, DJIA_test)"
   ]
  },
  {
   "cell_type": "code",
   "execution_count": null,
   "metadata": {
    "collapsed": true
   },
   "outputs": [],
   "source": [
    "logit = LogisticRegression(penalty='l2')\n",
    "logit_fit = logit.fit(train_empath_matrix, DJIA_train)\n",
    "logit_predict = logit.predict(test_empath_matrix)\n",
    "accu = sum(DJIA_test == logit_predict)/len(DJIA_test)\n",
    "accu"
   ]
  },
  {
   "cell_type": "code",
   "execution_count": null,
   "metadata": {
    "collapsed": true
   },
   "outputs": [],
   "source": [
    "BNBclassifier.fit(train_empath_matrix, DJIA_train)\n",
    "BNBpred = BNBclassifier.predict(test_empath_matrix)\n",
    "np.mean(BNBpred==DJIA_test)"
   ]
  },
  {
   "cell_type": "markdown",
   "metadata": {
    "collapsed": true
   },
   "source": [
    "### LDA topic classification"
   ]
  },
  {
   "cell_type": "code",
   "execution_count": null,
   "metadata": {
    "collapsed": true
   },
   "outputs": [],
   "source": [
    "from sklearn.decomposition import LatentDirichletAllocation as LDA\n",
    "cv = CountVectorizer(stop_words = 'english', vocabulary = final_vocabulary,\n",
    "                     max_features=6000)\n",
    "counts = cv.fit_transform(headlines)\n",
    "\n",
    "def print_top_words(model, feature_names, n_top_words):\n",
    "    for topic_idx, topic in enumerate(model.components_):\n",
    "        print(\"Topic #%d:\" % topic_idx)\n",
    "        print(\" \".join([feature_names[i]\n",
    "                        for i in topic.argsort()[:-n_top_words - 1:-1]]))\n",
    "    print()"
   ]
  },
  {
   "cell_type": "code",
   "execution_count": null,
   "metadata": {
    "collapsed": true
   },
   "outputs": [],
   "source": [
    "n_topic = 15\n",
    "print(counts.shape)\n",
    "model = LDA(n_topics=n_topic, max_iter=10, n_jobs=4, verbose=1)\n",
    "res = model.fit_transform(counts)"
   ]
  },
  {
   "cell_type": "code",
   "execution_count": null,
   "metadata": {
    "collapsed": true
   },
   "outputs": [],
   "source": [
    "feature_names = cv.get_feature_names()\n",
    "print_top_words(model, feature_names, 20)"
   ]
  },
  {
   "cell_type": "code",
   "execution_count": null,
   "metadata": {
    "collapsed": true
   },
   "outputs": [],
   "source": [
    "res.shape"
   ]
  },
  {
   "cell_type": "code",
   "execution_count": null,
   "metadata": {
    "collapsed": true
   },
   "outputs": [],
   "source": [
    "KNN(X_train=res[:1500, :], Y_train=DJIA_train, X_test=res[1500:, :], Y_test=DJIA_test, K=4)"
   ]
  },
  {
   "cell_type": "code",
   "execution_count": null,
   "metadata": {
    "collapsed": true
   },
   "outputs": [],
   "source": [
    "Rocchio(X_train=res[:1500, :], Y_train=DJIA_train, X_test=res[1500:, :], Y_test=DJIA_test)"
   ]
  },
  {
   "cell_type": "code",
   "execution_count": null,
   "metadata": {
    "collapsed": true
   },
   "outputs": [],
   "source": [
    "BNBclassifier.fit(res[:1500, :], DJIA_train)\n",
    "BNBpred = BNBclassifier.predict(res[1500:, :])\n",
    "np.mean(BNBpred==DJIA_test)"
   ]
  },
  {
   "cell_type": "code",
   "execution_count": null,
   "metadata": {
    "collapsed": true
   },
   "outputs": [],
   "source": [
    "logit = LogisticRegression(penalty='l2')\n",
    "logit_fit = logit.fit(res[:1500, :], DJIA_train)\n",
    "logit_predict = logit.predict(res[1500: , :])\n",
    "accu = np.mean(DJIA_test == logit_predict)\n",
    "accu"
   ]
  },
  {
   "cell_type": "code",
   "execution_count": null,
   "metadata": {
    "collapsed": true
   },
   "outputs": [],
   "source": []
  },
  {
   "cell_type": "code",
   "execution_count": null,
   "metadata": {
    "collapsed": true
   },
   "outputs": [],
   "source": []
  }
 ],
 "metadata": {
  "kernelspec": {
   "display_name": "Python 2",
   "language": "python",
   "name": "python2"
  },
  "language_info": {
   "codemirror_mode": {
    "name": "ipython",
    "version": 2
   },
   "file_extension": ".py",
   "mimetype": "text/x-python",
   "name": "python",
   "nbconvert_exporter": "python",
   "pygments_lexer": "ipython2",
   "version": "2.7.13"
  }
 },
 "nbformat": 4,
 "nbformat_minor": 2
}
