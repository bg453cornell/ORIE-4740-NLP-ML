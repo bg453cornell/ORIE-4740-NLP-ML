{
 "cells": [
  {
   "cell_type": "code",
   "execution_count": 211,
   "metadata": {
    "scrolled": true
   },
   "outputs": [],
   "source": [
    "import warnings\n",
    "warnings.filterwarnings(\"ignore\")\n",
    "\n",
    "import pandas as pd\n",
    "import numpy as np\n",
    "import matplotlib.pyplot as plt\n",
    "%matplotlib inline\n",
    "\n",
    "import re\n",
    "import os\n",
    "import struct\n",
    "import nltk\n",
    "#nltk.download() \n",
    "from nltk.tag import pos_tag # pos_tag shows the characteristic of a word \n",
    "                             # using information in the database\n",
    "\n",
    "from sklearn.feature_extraction.text import CountVectorizer\n",
    "from sklearn.feature_extraction.text import TfidfVectorizer\n",
    "from sklearn.cross_validation import ShuffleSplit\n",
    "from sklearn.metrics.pairwise import cosine_similarity"
   ]
  },
  {
   "cell_type": "code",
   "execution_count": 212,
   "metadata": {},
   "outputs": [
    {
     "name": "stdout",
     "output_type": "stream",
     "text": [
      "showing info https://raw.githubusercontent.com/nltk/nltk_data/gh-pages/index.xml\n"
     ]
    },
    {
     "data": {
      "text/plain": [
       "True"
      ]
     },
     "execution_count": 212,
     "metadata": {},
     "output_type": "execute_result"
    }
   ],
   "source": [
    "nltk.download()"
   ]
  },
  {
   "cell_type": "code",
   "execution_count": 213,
   "metadata": {},
   "outputs": [
    {
     "name": "stdout",
     "output_type": "stream",
     "text": [
      "Requirement already satisfied: empath in /usr/local/lib/python2.7/dist-packages (0.89)\n",
      "Requirement already satisfied: requests in /home/bowen/.local/lib/python2.7/site-packages (from empath) (2.13.0)\n"
     ]
    }
   ],
   "source": [
    "# Install Empath tool for analyzing text across lexical categories\n",
    "import sys\n",
    "!{sys.executable} -m pip install empath"
   ]
  },
  {
   "cell_type": "code",
   "execution_count": 214,
   "metadata": {},
   "outputs": [],
   "source": [
    "from empath import Empath"
   ]
  },
  {
   "cell_type": "code",
   "execution_count": 215,
   "metadata": {},
   "outputs": [
    {
     "name": "stdout",
     "output_type": "stream",
     "text": [
      "[nltk_data] Downloading package vader_lexicon to\n",
      "[nltk_data]     /home/bowen/nltk_data...\n",
      "[nltk_data]   Package vader_lexicon is already up-to-date!\n"
     ]
    },
    {
     "data": {
      "text/plain": [
       "True"
      ]
     },
     "execution_count": 215,
     "metadata": {},
     "output_type": "execute_result"
    }
   ],
   "source": [
    "import nltk\n",
    "nltk.download('vader_lexicon')"
   ]
  },
  {
   "cell_type": "markdown",
   "metadata": {
    "collapsed": true
   },
   "source": [
    "## Part 1 Data Preparation\n",
    "### 1.1 Data Import"
   ]
  },
  {
   "cell_type": "code",
   "execution_count": 216,
   "metadata": {},
   "outputs": [],
   "source": [
    "df = pd.read_csv(\"./data/Combined_News_DJIA.csv\", header = 0, index_col = 0)"
   ]
  },
  {
   "cell_type": "code",
   "execution_count": 217,
   "metadata": {},
   "outputs": [
    {
     "data": {
      "text/html": [
       "<div>\n",
       "<style scoped>\n",
       "    .dataframe tbody tr th:only-of-type {\n",
       "        vertical-align: middle;\n",
       "    }\n",
       "\n",
       "    .dataframe tbody tr th {\n",
       "        vertical-align: top;\n",
       "    }\n",
       "\n",
       "    .dataframe thead th {\n",
       "        text-align: right;\n",
       "    }\n",
       "</style>\n",
       "<table border=\"1\" class=\"dataframe\">\n",
       "  <thead>\n",
       "    <tr style=\"text-align: right;\">\n",
       "      <th></th>\n",
       "      <th>Label</th>\n",
       "      <th>Top1</th>\n",
       "      <th>Top2</th>\n",
       "      <th>Top3</th>\n",
       "      <th>Top4</th>\n",
       "      <th>Top5</th>\n",
       "      <th>Top6</th>\n",
       "      <th>Top7</th>\n",
       "      <th>Top8</th>\n",
       "      <th>Top9</th>\n",
       "      <th>...</th>\n",
       "      <th>Top16</th>\n",
       "      <th>Top17</th>\n",
       "      <th>Top18</th>\n",
       "      <th>Top19</th>\n",
       "      <th>Top20</th>\n",
       "      <th>Top21</th>\n",
       "      <th>Top22</th>\n",
       "      <th>Top23</th>\n",
       "      <th>Top24</th>\n",
       "      <th>Top25</th>\n",
       "    </tr>\n",
       "    <tr>\n",
       "      <th>Date</th>\n",
       "      <th></th>\n",
       "      <th></th>\n",
       "      <th></th>\n",
       "      <th></th>\n",
       "      <th></th>\n",
       "      <th></th>\n",
       "      <th></th>\n",
       "      <th></th>\n",
       "      <th></th>\n",
       "      <th></th>\n",
       "      <th></th>\n",
       "      <th></th>\n",
       "      <th></th>\n",
       "      <th></th>\n",
       "      <th></th>\n",
       "      <th></th>\n",
       "      <th></th>\n",
       "      <th></th>\n",
       "      <th></th>\n",
       "      <th></th>\n",
       "      <th></th>\n",
       "    </tr>\n",
       "  </thead>\n",
       "  <tbody>\n",
       "    <tr>\n",
       "      <th>2016-06-27</th>\n",
       "      <td>0</td>\n",
       "      <td>Barclays and RBS shares suspended from trading...</td>\n",
       "      <td>Pope says Church should ask forgiveness from g...</td>\n",
       "      <td>Poland 'shocked' by xenophobic abuse of Poles ...</td>\n",
       "      <td>There will be no second referendum, cabinet ag...</td>\n",
       "      <td>Scotland welcome to join EU, Merkel ally says</td>\n",
       "      <td>Sterling dips below Friday's 31-year low amid ...</td>\n",
       "      <td>No negative news about South African President...</td>\n",
       "      <td>Surge in Hate Crimes in the U.K. Following U.K...</td>\n",
       "      <td>Weapons shipped into Jordan by the CIA and Sau...</td>\n",
       "      <td>...</td>\n",
       "      <td>German lawyers to probe Erdogan over alleged w...</td>\n",
       "      <td>Boris Johnson says the UK will continue to \"in...</td>\n",
       "      <td>Richard Branson is calling on the UK governmen...</td>\n",
       "      <td>Turkey 'sorry for downing Russian jet'</td>\n",
       "      <td>Edward Snowden lawyer vows new push for pardon...</td>\n",
       "      <td>Brexit opinion poll reveals majority don't wan...</td>\n",
       "      <td>Conservative MP Leave Campaigner: \"The leave c...</td>\n",
       "      <td>Economists predict UK recession, further weake...</td>\n",
       "      <td>New EU 'superstate plan by France, Germany: Cr...</td>\n",
       "      <td>Pakistani clerics declare transgender marriage...</td>\n",
       "    </tr>\n",
       "    <tr>\n",
       "      <th>2016-06-28</th>\n",
       "      <td>1</td>\n",
       "      <td>2,500 Scientists To Australia: If You Want To ...</td>\n",
       "      <td>The personal details of 112,000 French police ...</td>\n",
       "      <td>S&amp;amp;P cuts United Kingdom sovereign credit r...</td>\n",
       "      <td>Huge helium deposit found in Africa</td>\n",
       "      <td>CEO of the South African state broadcaster qui...</td>\n",
       "      <td>Brexit cost investors $2 trillion, the worst o...</td>\n",
       "      <td>Hong Kong democracy activists call for return ...</td>\n",
       "      <td>Brexit: Iceland president says UK can join 'tr...</td>\n",
       "      <td>UK's Osborne: 'Absolutely' going to have to cu...</td>\n",
       "      <td>...</td>\n",
       "      <td>US, Canada and Mexico pledge 50% of power from...</td>\n",
       "      <td>There is increasing evidence that Australia is...</td>\n",
       "      <td>Richard Branson, the founder of Virgin Group, ...</td>\n",
       "      <td>37,000-yr-old skull from Borneo reveals surpri...</td>\n",
       "      <td>Palestinians stone Western Wall worshipers; po...</td>\n",
       "      <td>Jean-Claude Juncker asks Farage: Why are you h...</td>\n",
       "      <td>\"Romanians for Remainians\" offering a new home...</td>\n",
       "      <td>Brexit: Gibraltar in talks with Scotland to st...</td>\n",
       "      <td>8 Suicide Bombers Strike Lebanon</td>\n",
       "      <td>Mexico's security forces routinely use 'sexual...</td>\n",
       "    </tr>\n",
       "    <tr>\n",
       "      <th>2016-06-29</th>\n",
       "      <td>1</td>\n",
       "      <td>Explosion At Airport In Istanbul</td>\n",
       "      <td>Yemeni former president: Terrorism is the offs...</td>\n",
       "      <td>UK must accept freedom of movement to access E...</td>\n",
       "      <td>Devastated: scientists too late to captive bre...</td>\n",
       "      <td>British Labor Party leader Jeremy Corbyn loses...</td>\n",
       "      <td>A Muslim Shop in the UK Was Just Firebombed Wh...</td>\n",
       "      <td>Mexican Authorities Sexually Torture Women in ...</td>\n",
       "      <td>UK shares and pound continue to recover</td>\n",
       "      <td>Iceland historian Johannesson wins presidentia...</td>\n",
       "      <td>...</td>\n",
       "      <td>Escape Tunnel, Dug by Hand, Is Found at Holoca...</td>\n",
       "      <td>The land under Beijing is sinking by as much a...</td>\n",
       "      <td>Car bomb and Anti-Islamic attack on Mosque in ...</td>\n",
       "      <td>Emaciated lions in Taiz Zoo are trapped in blo...</td>\n",
       "      <td>Rupert Murdoch describes Brexit as 'wonderful'...</td>\n",
       "      <td>More than 40 killed in Yemen suicide attacks</td>\n",
       "      <td>Google Found Disastrous Symantec and Norton Vu...</td>\n",
       "      <td>Extremist violence on the rise in Germany: Dom...</td>\n",
       "      <td>BBC News: Labour MPs pass Corbyn no-confidence...</td>\n",
       "      <td>Tiny New Zealand town with 'too many jobs' lau...</td>\n",
       "    </tr>\n",
       "    <tr>\n",
       "      <th>2016-06-30</th>\n",
       "      <td>1</td>\n",
       "      <td>Jamaica proposes marijuana dispensers for tour...</td>\n",
       "      <td>Stephen Hawking says pollution and 'stupidity'...</td>\n",
       "      <td>Boris Johnson says he will not run for Tory pa...</td>\n",
       "      <td>Six gay men in Ivory Coast were abused and for...</td>\n",
       "      <td>Switzerland denies citizenship to Muslim immig...</td>\n",
       "      <td>Palestinian terrorist stabs israeli teen girl ...</td>\n",
       "      <td>Puerto Rico will default on $1 billion of debt...</td>\n",
       "      <td>Republic of Ireland fans to be awarded medal f...</td>\n",
       "      <td>Afghan suicide bomber 'kills up to 40' - BBC News</td>\n",
       "      <td>...</td>\n",
       "      <td>Googles free wifi at Indian railway stations i...</td>\n",
       "      <td>Mounting evidence suggests 'hobbits' were wipe...</td>\n",
       "      <td>The men who carried out Tuesday's terror attac...</td>\n",
       "      <td>Calls to suspend Saudi Arabia from UN Human Ri...</td>\n",
       "      <td>More Than 100 Nobel Laureates Call Out Greenpe...</td>\n",
       "      <td>British pedophile sentenced to 85 years in US ...</td>\n",
       "      <td>US permitted 1,200 offshore fracks in Gulf of ...</td>\n",
       "      <td>We will be swimming in ridicule - French beach...</td>\n",
       "      <td>UEFA says no minutes of silence for Istanbul v...</td>\n",
       "      <td>Law Enforcement Sources: Gun Used in Paris Ter...</td>\n",
       "    </tr>\n",
       "    <tr>\n",
       "      <th>2016-07-01</th>\n",
       "      <td>1</td>\n",
       "      <td>A 117-year-old woman in Mexico City finally re...</td>\n",
       "      <td>IMF chief backs Athens as permanent Olympic host</td>\n",
       "      <td>The president of France says if Brexit won, so...</td>\n",
       "      <td>British Man Who Must Give Police 24 Hours' Not...</td>\n",
       "      <td>100+ Nobel laureates urge Greenpeace to stop o...</td>\n",
       "      <td>Brazil: Huge spike in number of police killing...</td>\n",
       "      <td>Austria's highest court annuls presidential el...</td>\n",
       "      <td>Facebook wins privacy case, can track any Belg...</td>\n",
       "      <td>Switzerland denies Muslim girls citizenship af...</td>\n",
       "      <td>...</td>\n",
       "      <td>The United States has placed Myanmar, Uzbekist...</td>\n",
       "      <td>S&amp;amp;P revises European Union credit rating t...</td>\n",
       "      <td>India gets $1 billion loan from World Bank for...</td>\n",
       "      <td>U.S. sailors detained by Iran spoke too much u...</td>\n",
       "      <td>Mass fish kill in Vietnam solved as Taiwan ste...</td>\n",
       "      <td>Philippines president Rodrigo Duterte urges pe...</td>\n",
       "      <td>Spain arrests three Pakistanis accused of prom...</td>\n",
       "      <td>Venezuela, where anger over food shortages is ...</td>\n",
       "      <td>A Hindu temple worker has been killed by three...</td>\n",
       "      <td>Ozone layer hole seems to be healing - US &amp;amp...</td>\n",
       "    </tr>\n",
       "  </tbody>\n",
       "</table>\n",
       "<p>5 rows × 26 columns</p>\n",
       "</div>"
      ],
      "text/plain": [
       "            Label                                               Top1  \\\n",
       "Date                                                                   \n",
       "2016-06-27      0  Barclays and RBS shares suspended from trading...   \n",
       "2016-06-28      1  2,500 Scientists To Australia: If You Want To ...   \n",
       "2016-06-29      1                   Explosion At Airport In Istanbul   \n",
       "2016-06-30      1  Jamaica proposes marijuana dispensers for tour...   \n",
       "2016-07-01      1  A 117-year-old woman in Mexico City finally re...   \n",
       "\n",
       "                                                         Top2  \\\n",
       "Date                                                            \n",
       "2016-06-27  Pope says Church should ask forgiveness from g...   \n",
       "2016-06-28  The personal details of 112,000 French police ...   \n",
       "2016-06-29  Yemeni former president: Terrorism is the offs...   \n",
       "2016-06-30  Stephen Hawking says pollution and 'stupidity'...   \n",
       "2016-07-01   IMF chief backs Athens as permanent Olympic host   \n",
       "\n",
       "                                                         Top3  \\\n",
       "Date                                                            \n",
       "2016-06-27  Poland 'shocked' by xenophobic abuse of Poles ...   \n",
       "2016-06-28  S&amp;P cuts United Kingdom sovereign credit r...   \n",
       "2016-06-29  UK must accept freedom of movement to access E...   \n",
       "2016-06-30  Boris Johnson says he will not run for Tory pa...   \n",
       "2016-07-01  The president of France says if Brexit won, so...   \n",
       "\n",
       "                                                         Top4  \\\n",
       "Date                                                            \n",
       "2016-06-27  There will be no second referendum, cabinet ag...   \n",
       "2016-06-28                Huge helium deposit found in Africa   \n",
       "2016-06-29  Devastated: scientists too late to captive bre...   \n",
       "2016-06-30  Six gay men in Ivory Coast were abused and for...   \n",
       "2016-07-01  British Man Who Must Give Police 24 Hours' Not...   \n",
       "\n",
       "                                                         Top5  \\\n",
       "Date                                                            \n",
       "2016-06-27      Scotland welcome to join EU, Merkel ally says   \n",
       "2016-06-28  CEO of the South African state broadcaster qui...   \n",
       "2016-06-29  British Labor Party leader Jeremy Corbyn loses...   \n",
       "2016-06-30  Switzerland denies citizenship to Muslim immig...   \n",
       "2016-07-01  100+ Nobel laureates urge Greenpeace to stop o...   \n",
       "\n",
       "                                                         Top6  \\\n",
       "Date                                                            \n",
       "2016-06-27  Sterling dips below Friday's 31-year low amid ...   \n",
       "2016-06-28  Brexit cost investors $2 trillion, the worst o...   \n",
       "2016-06-29  A Muslim Shop in the UK Was Just Firebombed Wh...   \n",
       "2016-06-30  Palestinian terrorist stabs israeli teen girl ...   \n",
       "2016-07-01  Brazil: Huge spike in number of police killing...   \n",
       "\n",
       "                                                         Top7  \\\n",
       "Date                                                            \n",
       "2016-06-27  No negative news about South African President...   \n",
       "2016-06-28  Hong Kong democracy activists call for return ...   \n",
       "2016-06-29  Mexican Authorities Sexually Torture Women in ...   \n",
       "2016-06-30  Puerto Rico will default on $1 billion of debt...   \n",
       "2016-07-01  Austria's highest court annuls presidential el...   \n",
       "\n",
       "                                                         Top8  \\\n",
       "Date                                                            \n",
       "2016-06-27  Surge in Hate Crimes in the U.K. Following U.K...   \n",
       "2016-06-28  Brexit: Iceland president says UK can join 'tr...   \n",
       "2016-06-29            UK shares and pound continue to recover   \n",
       "2016-06-30  Republic of Ireland fans to be awarded medal f...   \n",
       "2016-07-01  Facebook wins privacy case, can track any Belg...   \n",
       "\n",
       "                                                         Top9  \\\n",
       "Date                                                            \n",
       "2016-06-27  Weapons shipped into Jordan by the CIA and Sau...   \n",
       "2016-06-28  UK's Osborne: 'Absolutely' going to have to cu...   \n",
       "2016-06-29  Iceland historian Johannesson wins presidentia...   \n",
       "2016-06-30  Afghan suicide bomber 'kills up to 40' - BBC News   \n",
       "2016-07-01  Switzerland denies Muslim girls citizenship af...   \n",
       "\n",
       "                                  ...                          \\\n",
       "Date                              ...                           \n",
       "2016-06-27                        ...                           \n",
       "2016-06-28                        ...                           \n",
       "2016-06-29                        ...                           \n",
       "2016-06-30                        ...                           \n",
       "2016-07-01                        ...                           \n",
       "\n",
       "                                                        Top16  \\\n",
       "Date                                                            \n",
       "2016-06-27  German lawyers to probe Erdogan over alleged w...   \n",
       "2016-06-28  US, Canada and Mexico pledge 50% of power from...   \n",
       "2016-06-29  Escape Tunnel, Dug by Hand, Is Found at Holoca...   \n",
       "2016-06-30  Googles free wifi at Indian railway stations i...   \n",
       "2016-07-01  The United States has placed Myanmar, Uzbekist...   \n",
       "\n",
       "                                                        Top17  \\\n",
       "Date                                                            \n",
       "2016-06-27  Boris Johnson says the UK will continue to \"in...   \n",
       "2016-06-28  There is increasing evidence that Australia is...   \n",
       "2016-06-29  The land under Beijing is sinking by as much a...   \n",
       "2016-06-30  Mounting evidence suggests 'hobbits' were wipe...   \n",
       "2016-07-01  S&amp;P revises European Union credit rating t...   \n",
       "\n",
       "                                                        Top18  \\\n",
       "Date                                                            \n",
       "2016-06-27  Richard Branson is calling on the UK governmen...   \n",
       "2016-06-28  Richard Branson, the founder of Virgin Group, ...   \n",
       "2016-06-29  Car bomb and Anti-Islamic attack on Mosque in ...   \n",
       "2016-06-30  The men who carried out Tuesday's terror attac...   \n",
       "2016-07-01  India gets $1 billion loan from World Bank for...   \n",
       "\n",
       "                                                        Top19  \\\n",
       "Date                                                            \n",
       "2016-06-27             Turkey 'sorry for downing Russian jet'   \n",
       "2016-06-28  37,000-yr-old skull from Borneo reveals surpri...   \n",
       "2016-06-29  Emaciated lions in Taiz Zoo are trapped in blo...   \n",
       "2016-06-30  Calls to suspend Saudi Arabia from UN Human Ri...   \n",
       "2016-07-01  U.S. sailors detained by Iran spoke too much u...   \n",
       "\n",
       "                                                        Top20  \\\n",
       "Date                                                            \n",
       "2016-06-27  Edward Snowden lawyer vows new push for pardon...   \n",
       "2016-06-28  Palestinians stone Western Wall worshipers; po...   \n",
       "2016-06-29  Rupert Murdoch describes Brexit as 'wonderful'...   \n",
       "2016-06-30  More Than 100 Nobel Laureates Call Out Greenpe...   \n",
       "2016-07-01  Mass fish kill in Vietnam solved as Taiwan ste...   \n",
       "\n",
       "                                                        Top21  \\\n",
       "Date                                                            \n",
       "2016-06-27  Brexit opinion poll reveals majority don't wan...   \n",
       "2016-06-28  Jean-Claude Juncker asks Farage: Why are you h...   \n",
       "2016-06-29       More than 40 killed in Yemen suicide attacks   \n",
       "2016-06-30  British pedophile sentenced to 85 years in US ...   \n",
       "2016-07-01  Philippines president Rodrigo Duterte urges pe...   \n",
       "\n",
       "                                                        Top22  \\\n",
       "Date                                                            \n",
       "2016-06-27  Conservative MP Leave Campaigner: \"The leave c...   \n",
       "2016-06-28  \"Romanians for Remainians\" offering a new home...   \n",
       "2016-06-29  Google Found Disastrous Symantec and Norton Vu...   \n",
       "2016-06-30  US permitted 1,200 offshore fracks in Gulf of ...   \n",
       "2016-07-01  Spain arrests three Pakistanis accused of prom...   \n",
       "\n",
       "                                                        Top23  \\\n",
       "Date                                                            \n",
       "2016-06-27  Economists predict UK recession, further weake...   \n",
       "2016-06-28  Brexit: Gibraltar in talks with Scotland to st...   \n",
       "2016-06-29  Extremist violence on the rise in Germany: Dom...   \n",
       "2016-06-30  We will be swimming in ridicule - French beach...   \n",
       "2016-07-01  Venezuela, where anger over food shortages is ...   \n",
       "\n",
       "                                                        Top24  \\\n",
       "Date                                                            \n",
       "2016-06-27  New EU 'superstate plan by France, Germany: Cr...   \n",
       "2016-06-28                   8 Suicide Bombers Strike Lebanon   \n",
       "2016-06-29  BBC News: Labour MPs pass Corbyn no-confidence...   \n",
       "2016-06-30  UEFA says no minutes of silence for Istanbul v...   \n",
       "2016-07-01  A Hindu temple worker has been killed by three...   \n",
       "\n",
       "                                                        Top25  \n",
       "Date                                                           \n",
       "2016-06-27  Pakistani clerics declare transgender marriage...  \n",
       "2016-06-28  Mexico's security forces routinely use 'sexual...  \n",
       "2016-06-29  Tiny New Zealand town with 'too many jobs' lau...  \n",
       "2016-06-30  Law Enforcement Sources: Gun Used in Paris Ter...  \n",
       "2016-07-01  Ozone layer hole seems to be healing - US &amp...  \n",
       "\n",
       "[5 rows x 26 columns]"
      ]
     },
     "execution_count": 217,
     "metadata": {},
     "output_type": "execute_result"
    }
   ],
   "source": [
    "df.tail()"
   ]
  },
  {
   "cell_type": "code",
   "execution_count": 218,
   "metadata": {},
   "outputs": [
    {
     "data": {
      "text/plain": [
       "(1989, 26)"
      ]
     },
     "execution_count": 218,
     "metadata": {},
     "output_type": "execute_result"
    }
   ],
   "source": [
    "df.shape"
   ]
  },
  {
   "cell_type": "code",
   "execution_count": 219,
   "metadata": {},
   "outputs": [
    {
     "data": {
      "text/plain": [
       "'b\"Georgia \\'downs two Russian warplanes\\' as countries move to brink of war\"'"
      ]
     },
     "execution_count": 219,
     "metadata": {},
     "output_type": "execute_result"
    }
   ],
   "source": [
    "df.iloc[0,1]"
   ]
  },
  {
   "cell_type": "markdown",
   "metadata": {},
   "source": [
    "### 1.2 Data Preparation - Tokenization"
   ]
  },
  {
   "cell_type": "code",
   "execution_count": 220,
   "metadata": {},
   "outputs": [],
   "source": [
    "stop_words = []\n",
    "f = open('./data/stopwords.txt', 'r')\n",
    "for l in f.readlines():\n",
    "    stop_words.append(l.replace('\\n', ''))\n",
    "    \n",
    "additional_stop_words = ['t', 'will']\n",
    "stop_words += additional_stop_words\n",
    "# The list \"stop_words\" has 668 words in it"
   ]
  },
  {
   "cell_type": "code",
   "execution_count": 221,
   "metadata": {},
   "outputs": [],
   "source": [
    "def _removeNonAscii(s): \n",
    "    return \"\".join(i for i in s if ord(i)<128)\n",
    "\n",
    "def clean_text(text):\n",
    "    import re\n",
    "    text = str(text)\n",
    "    text = text.lower()\n",
    "    text = re.sub(r\"what's\", \"what is \", text)\n",
    "    text = text.replace('(ap)', '')\n",
    "    text = re.sub(r\"\\'s\", \" is \", text)\n",
    "    text = re.sub(r\"\\'ve\", \" have \", text)\n",
    "    text = re.sub(r\"can't\", \"cannot \", text)\n",
    "    text = re.sub(r\"n't\", \" not \", text)\n",
    "    text = re.sub(r\"i'm\", \"i am \", text)\n",
    "    text = re.sub(r\"\\'re\", \" are \", text)\n",
    "    text = re.sub(r\"\\'d\", \" would \", text)\n",
    "    text = re.sub(r\"\\'ll\", \" will \", text)\n",
    "    text = re.sub(r'\\W+', ' ', text)\n",
    "    text = re.sub(r'\\s+', ' ', text)\n",
    "    text = re.sub(r\"\\\\\", \"\", text)\n",
    "    text = re.sub(r\"\\'\", \"\", text)    \n",
    "    text = re.sub(r\"\\\"\", \"\", text)\n",
    "    text = re.sub('[^a-zA-Z ?!]+', '', text)\n",
    "    text = _removeNonAscii(text)\n",
    "    text = text.strip()\n",
    "    return text"
   ]
  },
  {
   "cell_type": "code",
   "execution_count": 222,
   "metadata": {},
   "outputs": [
    {
     "name": "stdout",
     "output_type": "stream",
     "text": [
      "[nltk_data] Downloading package stopwords to /home/bowen/nltk_data...\n",
      "[nltk_data]   Package stopwords is already up-to-date!\n",
      "[nltk_data] Downloading package punkt to /home/bowen/nltk_data...\n",
      "[nltk_data]   Package punkt is already up-to-date!\n"
     ]
    }
   ],
   "source": [
    "import nltk\n",
    "nltk.download('stopwords')\n",
    "nltk.download('punkt')\n",
    "from nltk.tokenize import word_tokenize, sent_tokenize\n",
    "from nltk.corpus import stopwords\n",
    "stop = set(stopwords.words('english'))\n",
    "from string import punctuation"
   ]
  },
  {
   "cell_type": "code",
   "execution_count": 223,
   "metadata": {},
   "outputs": [],
   "source": [
    "def tokenizer(text):\n",
    "    from functools import reduce\n",
    "    text = clean_text(text)    \n",
    "    tokens = [word_tokenize(sent) for sent in sent_tokenize(text)]\n",
    "    tokens = list(reduce(lambda x,y: x+y, tokens))\n",
    "    tokens = list(filter(lambda token: token not in (stop_words + list(punctuation)) , tokens))\n",
    "    return tokens"
   ]
  },
  {
   "cell_type": "code",
   "execution_count": 224,
   "metadata": {},
   "outputs": [],
   "source": [
    "# tokenize each headline in df\n",
    "for top in df.columns[1:]:\n",
    "    df[top] = df[top].map(lambda d: tokenizer(d))"
   ]
  },
  {
   "cell_type": "code",
   "execution_count": 225,
   "metadata": {},
   "outputs": [],
   "source": [
    "import pickle\n",
    "with open('tokenized_df','wb') as f:\n",
    "    pickle.dump(df,f)"
   ]
  },
  {
   "cell_type": "code",
   "execution_count": 226,
   "metadata": {},
   "outputs": [
    {
     "data": {
      "text/html": [
       "<div>\n",
       "<style scoped>\n",
       "    .dataframe tbody tr th:only-of-type {\n",
       "        vertical-align: middle;\n",
       "    }\n",
       "\n",
       "    .dataframe tbody tr th {\n",
       "        vertical-align: top;\n",
       "    }\n",
       "\n",
       "    .dataframe thead th {\n",
       "        text-align: right;\n",
       "    }\n",
       "</style>\n",
       "<table border=\"1\" class=\"dataframe\">\n",
       "  <thead>\n",
       "    <tr style=\"text-align: right;\">\n",
       "      <th></th>\n",
       "      <th>Label</th>\n",
       "      <th>Top1</th>\n",
       "      <th>Top2</th>\n",
       "      <th>Top3</th>\n",
       "      <th>Top4</th>\n",
       "      <th>Top5</th>\n",
       "      <th>Top6</th>\n",
       "      <th>Top7</th>\n",
       "      <th>Top8</th>\n",
       "      <th>Top9</th>\n",
       "      <th>...</th>\n",
       "      <th>Top16</th>\n",
       "      <th>Top17</th>\n",
       "      <th>Top18</th>\n",
       "      <th>Top19</th>\n",
       "      <th>Top20</th>\n",
       "      <th>Top21</th>\n",
       "      <th>Top22</th>\n",
       "      <th>Top23</th>\n",
       "      <th>Top24</th>\n",
       "      <th>Top25</th>\n",
       "    </tr>\n",
       "    <tr>\n",
       "      <th>Date</th>\n",
       "      <th></th>\n",
       "      <th></th>\n",
       "      <th></th>\n",
       "      <th></th>\n",
       "      <th></th>\n",
       "      <th></th>\n",
       "      <th></th>\n",
       "      <th></th>\n",
       "      <th></th>\n",
       "      <th></th>\n",
       "      <th></th>\n",
       "      <th></th>\n",
       "      <th></th>\n",
       "      <th></th>\n",
       "      <th></th>\n",
       "      <th></th>\n",
       "      <th></th>\n",
       "      <th></th>\n",
       "      <th></th>\n",
       "      <th></th>\n",
       "      <th></th>\n",
       "    </tr>\n",
       "  </thead>\n",
       "  <tbody>\n",
       "    <tr>\n",
       "      <th>2008-08-08</th>\n",
       "      <td>0</td>\n",
       "      <td>[georgia, owns, russian, warplanes, countries,...</td>\n",
       "      <td>[breaking, musharraf, impeached]</td>\n",
       "      <td>[russia, today, columns, troops, roll, south, ...</td>\n",
       "      <td>[russian, tanks, moving, capital, south, osset...</td>\n",
       "      <td>[afghan, children, raped, impunity, official, ...</td>\n",
       "      <td>[russian, tanks, entered, south, ossetia, whil...</td>\n",
       "      <td>[breaking, georgia, invades, south, ossetia, r...</td>\n",
       "      <td>[enemy, combatent, trials, sham, salim, haman,...</td>\n",
       "      <td>[georgian, troops, retreat, osettain, capital,...</td>\n",
       "      <td>...</td>\n",
       "      <td>[georgia, invades, south, ossetia, russia, inv...</td>\n",
       "      <td>[al, qaeda, faces, islamist, backlash]</td>\n",
       "      <td>[condoleezza, rice, prevent, israeli, strike, ...</td>\n",
       "      <td>[busy, day, european, union, approved, sanctio...</td>\n",
       "      <td>[georgia, withdraw, soldiers, iraq, help, figh...</td>\n",
       "      <td>[pentagon, thinks, attacking, iran, bad, idea,...</td>\n",
       "      <td>[caucasus, crisis, georgia, invades, south, os...</td>\n",
       "      <td>[indian, shoe, manufactory, series, work]</td>\n",
       "      <td>[visitors, suffering, mental, illnesses, banne...</td>\n",
       "      <td>[help, mexico, kidnapping, surge]</td>\n",
       "    </tr>\n",
       "    <tr>\n",
       "      <th>2008-08-11</th>\n",
       "      <td>1</td>\n",
       "      <td>[america, nato, help, help, help, iraq]</td>\n",
       "      <td>[bush, puts, foot, georgian, conflict]</td>\n",
       "      <td>[jewish, georgian, minister, israeli, training...</td>\n",
       "      <td>[georgian, army, flees, disarray, russians, ad...</td>\n",
       "      <td>[olympic, opening, ceremony, fireworks, faked]</td>\n",
       "      <td>[mossad, fraudulent, zealand, passports, iraq]</td>\n",
       "      <td>[russia, angered, israeli, military, sale, geo...</td>\n",
       "      <td>[american, citizen, living, ossetia, blames, g...</td>\n",
       "      <td>[war, iv, high, definition]</td>\n",
       "      <td>...</td>\n",
       "      <td>[israel, georgian, aggression]</td>\n",
       "      <td>[tv, russian, georgian, victims]</td>\n",
       "      <td>[riots, going, montreal, canada, police, murde...</td>\n",
       "      <td>[china, overtake, largest, manufacturer]</td>\n",
       "      <td>[war, south, ossetia, pics]</td>\n",
       "      <td>[israeli, physicians, group, condemns, state, ...</td>\n",
       "      <td>[russia, beaten, united, states, head, peak, oil]</td>\n",
       "      <td>[question, georgia, russia, conflict]</td>\n",
       "      <td>[russia, better, war]</td>\n",
       "      <td>[trading, sex, food]</td>\n",
       "    </tr>\n",
       "    <tr>\n",
       "      <th>2008-08-12</th>\n",
       "      <td>0</td>\n",
       "      <td>[member, adorable, year, sang, opening, ceremo...</td>\n",
       "      <td>[russia, ends, georgia, operation]</td>\n",
       "      <td>[sexual, harassment, children]</td>\n",
       "      <td>[al, qa, eda, losing, support, iraq, brutal, c...</td>\n",
       "      <td>[ceasefire, georgia, putin, outmaneuvers, west]</td>\n",
       "      <td>[microsoft, intel, kill, xo, laptop]</td>\n",
       "      <td>[tratfor, russo, georgian, war, balance, power]</td>\n",
       "      <td>[sense, georgia, russia, war, vote, georgia, s...</td>\n",
       "      <td>[military, surprised, timing, swiftness, russi...</td>\n",
       "      <td>...</td>\n",
       "      <td>[troops, georgia, georgia, place]</td>\n",
       "      <td>[russias, response, georgia]</td>\n",
       "      <td>[gorbachev, accuses, making, serious, blunder,...</td>\n",
       "      <td>[russia, georgia, nato, cold, war]</td>\n",
       "      <td>[member, adorable, year, led, country, war, ba...</td>\n",
       "      <td>[war, georgia, israeli, connection]</td>\n",
       "      <td>[signs, point, encouraging, georgia, invade, s...</td>\n",
       "      <td>[christopher, king, argues, nato, georgian, in...</td>\n",
       "      <td>[america, mexico]</td>\n",
       "      <td>[bbc, news, asia, pacific, extinction, man, cl...</td>\n",
       "    </tr>\n",
       "    <tr>\n",
       "      <th>2008-08-13</th>\n",
       "      <td>0</td>\n",
       "      <td>[refuses, israel, weapons, attack, iran, report]</td>\n",
       "      <td>[president, ordered, attack, tskhinvali, capit...</td>\n",
       "      <td>[israel, clears, troops, killed, reuters, came...</td>\n",
       "      <td>[britain, policy, tough, drugs, pointless, civ...</td>\n",
       "      <td>[body, year, trunk, latest, ransom, paid, kidn...</td>\n",
       "      <td>[china, moved, quake, survivors, prefab, homes]</td>\n",
       "      <td>[bush, announces, operation, russia, grill, ye...</td>\n",
       "      <td>[russian, forces, sink, georgian, ships]</td>\n",
       "      <td>[commander, navy, air, reconnaissance, squadro...</td>\n",
       "      <td>...</td>\n",
       "      <td>[elephants, extinct]</td>\n",
       "      <td>[humanitarian, missions, georgia, russia, hits...</td>\n",
       "      <td>[georgia, ddos, sources]</td>\n",
       "      <td>[russian, convoy, heads, georgia, violating, t...</td>\n",
       "      <td>[israeli, defence, minister, strike, iran]</td>\n",
       "      <td>[gorbachev, choice]</td>\n",
       "      <td>[witness, russian, forces, head, tbilisi, brea...</td>\n",
       "      <td>[quarter, russians, blame, conflict, poll]</td>\n",
       "      <td>[georgian, president, military, control, seapo...</td>\n",
       "      <td>[nobel, laureate, aleksander, solzhenitsyn, ac...</td>\n",
       "    </tr>\n",
       "    <tr>\n",
       "      <th>2008-08-14</th>\n",
       "      <td>1</td>\n",
       "      <td>[experts, admit, legalise, drugs]</td>\n",
       "      <td>[war, south, osetia, pictures, russian, soldier]</td>\n",
       "      <td>[wedish, wrestler, ara, abrahamian, throws, me...</td>\n",
       "      <td>[russia, exaggerated, death, toll, south, osse...</td>\n",
       "      <td>[missile, killed, inside, pakistan, launched, ...</td>\n",
       "      <td>[rushdie, condemns, random, house, refusal, pu...</td>\n",
       "      <td>[poland, agree, missle, defense, deal, interes...</td>\n",
       "      <td>[russians, conquer, tblisi, bet, seriously, bet]</td>\n",
       "      <td>[russia, exaggerating, south, ossetian, death,...</td>\n",
       "      <td>...</td>\n",
       "      <td>[bank, analyst, forecast, georgian, crisis, da...</td>\n",
       "      <td>[georgia, confict, set, russia, relations, yea...</td>\n",
       "      <td>[war, caucasus, product, american, imperial, d...</td>\n",
       "      <td>[media, photos, south, ossetia, georgia, confl...</td>\n",
       "      <td>[georgian, tv, reporter, shot, russian, sniper...</td>\n",
       "      <td>[audi, arabia, mother, moves, block, child, ma...</td>\n",
       "      <td>[taliban, wages, war, humanitarian, aid, workers]</td>\n",
       "      <td>[russia, forget, georgia, territorial, integrity]</td>\n",
       "      <td>[arfur, rebels, accuse, sudan, mounting, major...</td>\n",
       "      <td>[philippines, peace, advocate, muslims, assura...</td>\n",
       "    </tr>\n",
       "  </tbody>\n",
       "</table>\n",
       "<p>5 rows × 26 columns</p>\n",
       "</div>"
      ],
      "text/plain": [
       "            Label                                               Top1  \\\n",
       "Date                                                                   \n",
       "2008-08-08      0  [georgia, owns, russian, warplanes, countries,...   \n",
       "2008-08-11      1            [america, nato, help, help, help, iraq]   \n",
       "2008-08-12      0  [member, adorable, year, sang, opening, ceremo...   \n",
       "2008-08-13      0   [refuses, israel, weapons, attack, iran, report]   \n",
       "2008-08-14      1                  [experts, admit, legalise, drugs]   \n",
       "\n",
       "                                                         Top2  \\\n",
       "Date                                                            \n",
       "2008-08-08                   [breaking, musharraf, impeached]   \n",
       "2008-08-11             [bush, puts, foot, georgian, conflict]   \n",
       "2008-08-12                 [russia, ends, georgia, operation]   \n",
       "2008-08-13  [president, ordered, attack, tskhinvali, capit...   \n",
       "2008-08-14   [war, south, osetia, pictures, russian, soldier]   \n",
       "\n",
       "                                                         Top3  \\\n",
       "Date                                                            \n",
       "2008-08-08  [russia, today, columns, troops, roll, south, ...   \n",
       "2008-08-11  [jewish, georgian, minister, israeli, training...   \n",
       "2008-08-12                     [sexual, harassment, children]   \n",
       "2008-08-13  [israel, clears, troops, killed, reuters, came...   \n",
       "2008-08-14  [wedish, wrestler, ara, abrahamian, throws, me...   \n",
       "\n",
       "                                                         Top4  \\\n",
       "Date                                                            \n",
       "2008-08-08  [russian, tanks, moving, capital, south, osset...   \n",
       "2008-08-11  [georgian, army, flees, disarray, russians, ad...   \n",
       "2008-08-12  [al, qa, eda, losing, support, iraq, brutal, c...   \n",
       "2008-08-13  [britain, policy, tough, drugs, pointless, civ...   \n",
       "2008-08-14  [russia, exaggerated, death, toll, south, osse...   \n",
       "\n",
       "                                                         Top5  \\\n",
       "Date                                                            \n",
       "2008-08-08  [afghan, children, raped, impunity, official, ...   \n",
       "2008-08-11     [olympic, opening, ceremony, fireworks, faked]   \n",
       "2008-08-12    [ceasefire, georgia, putin, outmaneuvers, west]   \n",
       "2008-08-13  [body, year, trunk, latest, ransom, paid, kidn...   \n",
       "2008-08-14  [missile, killed, inside, pakistan, launched, ...   \n",
       "\n",
       "                                                         Top6  \\\n",
       "Date                                                            \n",
       "2008-08-08  [russian, tanks, entered, south, ossetia, whil...   \n",
       "2008-08-11     [mossad, fraudulent, zealand, passports, iraq]   \n",
       "2008-08-12               [microsoft, intel, kill, xo, laptop]   \n",
       "2008-08-13    [china, moved, quake, survivors, prefab, homes]   \n",
       "2008-08-14  [rushdie, condemns, random, house, refusal, pu...   \n",
       "\n",
       "                                                         Top7  \\\n",
       "Date                                                            \n",
       "2008-08-08  [breaking, georgia, invades, south, ossetia, r...   \n",
       "2008-08-11  [russia, angered, israeli, military, sale, geo...   \n",
       "2008-08-12    [tratfor, russo, georgian, war, balance, power]   \n",
       "2008-08-13  [bush, announces, operation, russia, grill, ye...   \n",
       "2008-08-14  [poland, agree, missle, defense, deal, interes...   \n",
       "\n",
       "                                                         Top8  \\\n",
       "Date                                                            \n",
       "2008-08-08  [enemy, combatent, trials, sham, salim, haman,...   \n",
       "2008-08-11  [american, citizen, living, ossetia, blames, g...   \n",
       "2008-08-12  [sense, georgia, russia, war, vote, georgia, s...   \n",
       "2008-08-13           [russian, forces, sink, georgian, ships]   \n",
       "2008-08-14   [russians, conquer, tblisi, bet, seriously, bet]   \n",
       "\n",
       "                                                         Top9  \\\n",
       "Date                                                            \n",
       "2008-08-08  [georgian, troops, retreat, osettain, capital,...   \n",
       "2008-08-11                        [war, iv, high, definition]   \n",
       "2008-08-12  [military, surprised, timing, swiftness, russi...   \n",
       "2008-08-13  [commander, navy, air, reconnaissance, squadro...   \n",
       "2008-08-14  [russia, exaggerating, south, ossetian, death,...   \n",
       "\n",
       "                                  ...                          \\\n",
       "Date                              ...                           \n",
       "2008-08-08                        ...                           \n",
       "2008-08-11                        ...                           \n",
       "2008-08-12                        ...                           \n",
       "2008-08-13                        ...                           \n",
       "2008-08-14                        ...                           \n",
       "\n",
       "                                                        Top16  \\\n",
       "Date                                                            \n",
       "2008-08-08  [georgia, invades, south, ossetia, russia, inv...   \n",
       "2008-08-11                     [israel, georgian, aggression]   \n",
       "2008-08-12                  [troops, georgia, georgia, place]   \n",
       "2008-08-13                               [elephants, extinct]   \n",
       "2008-08-14  [bank, analyst, forecast, georgian, crisis, da...   \n",
       "\n",
       "                                                        Top17  \\\n",
       "Date                                                            \n",
       "2008-08-08             [al, qaeda, faces, islamist, backlash]   \n",
       "2008-08-11                   [tv, russian, georgian, victims]   \n",
       "2008-08-12                       [russias, response, georgia]   \n",
       "2008-08-13  [humanitarian, missions, georgia, russia, hits...   \n",
       "2008-08-14  [georgia, confict, set, russia, relations, yea...   \n",
       "\n",
       "                                                        Top18  \\\n",
       "Date                                                            \n",
       "2008-08-08  [condoleezza, rice, prevent, israeli, strike, ...   \n",
       "2008-08-11  [riots, going, montreal, canada, police, murde...   \n",
       "2008-08-12  [gorbachev, accuses, making, serious, blunder,...   \n",
       "2008-08-13                           [georgia, ddos, sources]   \n",
       "2008-08-14  [war, caucasus, product, american, imperial, d...   \n",
       "\n",
       "                                                        Top19  \\\n",
       "Date                                                            \n",
       "2008-08-08  [busy, day, european, union, approved, sanctio...   \n",
       "2008-08-11           [china, overtake, largest, manufacturer]   \n",
       "2008-08-12                 [russia, georgia, nato, cold, war]   \n",
       "2008-08-13  [russian, convoy, heads, georgia, violating, t...   \n",
       "2008-08-14  [media, photos, south, ossetia, georgia, confl...   \n",
       "\n",
       "                                                        Top20  \\\n",
       "Date                                                            \n",
       "2008-08-08  [georgia, withdraw, soldiers, iraq, help, figh...   \n",
       "2008-08-11                        [war, south, ossetia, pics]   \n",
       "2008-08-12  [member, adorable, year, led, country, war, ba...   \n",
       "2008-08-13         [israeli, defence, minister, strike, iran]   \n",
       "2008-08-14  [georgian, tv, reporter, shot, russian, sniper...   \n",
       "\n",
       "                                                        Top21  \\\n",
       "Date                                                            \n",
       "2008-08-08  [pentagon, thinks, attacking, iran, bad, idea,...   \n",
       "2008-08-11  [israeli, physicians, group, condemns, state, ...   \n",
       "2008-08-12                [war, georgia, israeli, connection]   \n",
       "2008-08-13                                [gorbachev, choice]   \n",
       "2008-08-14  [audi, arabia, mother, moves, block, child, ma...   \n",
       "\n",
       "                                                        Top22  \\\n",
       "Date                                                            \n",
       "2008-08-08  [caucasus, crisis, georgia, invades, south, os...   \n",
       "2008-08-11  [russia, beaten, united, states, head, peak, oil]   \n",
       "2008-08-12  [signs, point, encouraging, georgia, invade, s...   \n",
       "2008-08-13  [witness, russian, forces, head, tbilisi, brea...   \n",
       "2008-08-14  [taliban, wages, war, humanitarian, aid, workers]   \n",
       "\n",
       "                                                        Top23  \\\n",
       "Date                                                            \n",
       "2008-08-08          [indian, shoe, manufactory, series, work]   \n",
       "2008-08-11              [question, georgia, russia, conflict]   \n",
       "2008-08-12  [christopher, king, argues, nato, georgian, in...   \n",
       "2008-08-13         [quarter, russians, blame, conflict, poll]   \n",
       "2008-08-14  [russia, forget, georgia, territorial, integrity]   \n",
       "\n",
       "                                                        Top24  \\\n",
       "Date                                                            \n",
       "2008-08-08  [visitors, suffering, mental, illnesses, banne...   \n",
       "2008-08-11                              [russia, better, war]   \n",
       "2008-08-12                                  [america, mexico]   \n",
       "2008-08-13  [georgian, president, military, control, seapo...   \n",
       "2008-08-14  [arfur, rebels, accuse, sudan, mounting, major...   \n",
       "\n",
       "                                                        Top25  \n",
       "Date                                                           \n",
       "2008-08-08                  [help, mexico, kidnapping, surge]  \n",
       "2008-08-11                               [trading, sex, food]  \n",
       "2008-08-12  [bbc, news, asia, pacific, extinction, man, cl...  \n",
       "2008-08-13  [nobel, laureate, aleksander, solzhenitsyn, ac...  \n",
       "2008-08-14  [philippines, peace, advocate, muslims, assura...  \n",
       "\n",
       "[5 rows x 26 columns]"
      ]
     },
     "execution_count": 226,
     "metadata": {},
     "output_type": "execute_result"
    }
   ],
   "source": [
    "import pickle\n",
    "with open('tokenized_df','rb') as f:\n",
    "    tokenized_df = pickle.load(f)\n",
    "tokenized_df.head()"
   ]
  },
  {
   "cell_type": "markdown",
   "metadata": {},
   "source": [
    "## Part 2 Filter headlines by topic"
   ]
  },
  {
   "cell_type": "markdown",
   "metadata": {},
   "source": [
    "### 2.1 Use Empath to filter headlines "
   ]
  },
  {
   "cell_type": "code",
   "execution_count": 227,
   "metadata": {},
   "outputs": [],
   "source": [
    "from empath import Empath\n",
    "lexicon = Empath()"
   ]
  },
  {
   "cell_type": "code",
   "execution_count": 228,
   "metadata": {},
   "outputs": [],
   "source": [
    "for i in range(tokenized_df.shape[0]):\n",
    "    for j in range(1, tokenized_df.shape[1]):\n",
    "        if tokenized_df.iloc[i, j]:\n",
    "            topic_scores = lexicon.analyze(' '.join(tokenized_df.iloc[i, j]),\\\n",
    "                   categories=['economics', 'technology', 'politics', 'war',\\\n",
    "                               'money', 'government', 'banking', 'business', \\\n",
    "                               'internet', 'military','weapon', 'terrorism'], normalize=True)\n",
    "            if sum(topic_scores.values()) == 0.:\n",
    "                tokenized_df.iloc[i, j] = np.NaN\n",
    "        else:\n",
    "            tokenized_df.iloc[i, j] = np.NaN"
   ]
  },
  {
   "cell_type": "code",
   "execution_count": 229,
   "metadata": {},
   "outputs": [
    {
     "data": {
      "text/html": [
       "<div>\n",
       "<style scoped>\n",
       "    .dataframe tbody tr th:only-of-type {\n",
       "        vertical-align: middle;\n",
       "    }\n",
       "\n",
       "    .dataframe tbody tr th {\n",
       "        vertical-align: top;\n",
       "    }\n",
       "\n",
       "    .dataframe thead th {\n",
       "        text-align: right;\n",
       "    }\n",
       "</style>\n",
       "<table border=\"1\" class=\"dataframe\">\n",
       "  <thead>\n",
       "    <tr style=\"text-align: right;\">\n",
       "      <th></th>\n",
       "      <th>Label</th>\n",
       "      <th>Top1</th>\n",
       "      <th>Top2</th>\n",
       "      <th>Top3</th>\n",
       "      <th>Top4</th>\n",
       "      <th>Top5</th>\n",
       "      <th>Top6</th>\n",
       "      <th>Top7</th>\n",
       "      <th>Top8</th>\n",
       "      <th>Top9</th>\n",
       "      <th>...</th>\n",
       "      <th>Top16</th>\n",
       "      <th>Top17</th>\n",
       "      <th>Top18</th>\n",
       "      <th>Top19</th>\n",
       "      <th>Top20</th>\n",
       "      <th>Top21</th>\n",
       "      <th>Top22</th>\n",
       "      <th>Top23</th>\n",
       "      <th>Top24</th>\n",
       "      <th>Top25</th>\n",
       "    </tr>\n",
       "    <tr>\n",
       "      <th>Date</th>\n",
       "      <th></th>\n",
       "      <th></th>\n",
       "      <th></th>\n",
       "      <th></th>\n",
       "      <th></th>\n",
       "      <th></th>\n",
       "      <th></th>\n",
       "      <th></th>\n",
       "      <th></th>\n",
       "      <th></th>\n",
       "      <th></th>\n",
       "      <th></th>\n",
       "      <th></th>\n",
       "      <th></th>\n",
       "      <th></th>\n",
       "      <th></th>\n",
       "      <th></th>\n",
       "      <th></th>\n",
       "      <th></th>\n",
       "      <th></th>\n",
       "      <th></th>\n",
       "    </tr>\n",
       "  </thead>\n",
       "  <tbody>\n",
       "    <tr>\n",
       "      <th>2008-08-08</th>\n",
       "      <td>0</td>\n",
       "      <td>[georgia, owns, russian, warplanes, countries,...</td>\n",
       "      <td>NaN</td>\n",
       "      <td>[russia, today, columns, troops, roll, south, ...</td>\n",
       "      <td>[russian, tanks, moving, capital, south, osset...</td>\n",
       "      <td>NaN</td>\n",
       "      <td>NaN</td>\n",
       "      <td>NaN</td>\n",
       "      <td>[enemy, combatent, trials, sham, salim, haman,...</td>\n",
       "      <td>NaN</td>\n",
       "      <td>...</td>\n",
       "      <td>[georgia, invades, south, ossetia, russia, inv...</td>\n",
       "      <td>NaN</td>\n",
       "      <td>[condoleezza, rice, prevent, israeli, strike, ...</td>\n",
       "      <td>[busy, day, european, union, approved, sanctio...</td>\n",
       "      <td>[georgia, withdraw, soldiers, iraq, help, figh...</td>\n",
       "      <td>NaN</td>\n",
       "      <td>NaN</td>\n",
       "      <td>[indian, shoe, manufactory, series, work]</td>\n",
       "      <td>NaN</td>\n",
       "      <td>[help, mexico, kidnapping, surge]</td>\n",
       "    </tr>\n",
       "    <tr>\n",
       "      <th>2008-08-11</th>\n",
       "      <td>1</td>\n",
       "      <td>NaN</td>\n",
       "      <td>NaN</td>\n",
       "      <td>[jewish, georgian, minister, israeli, training...</td>\n",
       "      <td>[georgian, army, flees, disarray, russians, ad...</td>\n",
       "      <td>NaN</td>\n",
       "      <td>NaN</td>\n",
       "      <td>[russia, angered, israeli, military, sale, geo...</td>\n",
       "      <td>[american, citizen, living, ossetia, blames, g...</td>\n",
       "      <td>[war, iv, high, definition]</td>\n",
       "      <td>...</td>\n",
       "      <td>NaN</td>\n",
       "      <td>NaN</td>\n",
       "      <td>NaN</td>\n",
       "      <td>NaN</td>\n",
       "      <td>[war, south, ossetia, pics]</td>\n",
       "      <td>NaN</td>\n",
       "      <td>[russia, beaten, united, states, head, peak, oil]</td>\n",
       "      <td>NaN</td>\n",
       "      <td>[russia, better, war]</td>\n",
       "      <td>[trading, sex, food]</td>\n",
       "    </tr>\n",
       "    <tr>\n",
       "      <th>2008-08-12</th>\n",
       "      <td>0</td>\n",
       "      <td>NaN</td>\n",
       "      <td>[russia, ends, georgia, operation]</td>\n",
       "      <td>NaN</td>\n",
       "      <td>[al, qa, eda, losing, support, iraq, brutal, c...</td>\n",
       "      <td>NaN</td>\n",
       "      <td>[microsoft, intel, kill, xo, laptop]</td>\n",
       "      <td>[tratfor, russo, georgian, war, balance, power]</td>\n",
       "      <td>[sense, georgia, russia, war, vote, georgia, s...</td>\n",
       "      <td>[military, surprised, timing, swiftness, russi...</td>\n",
       "      <td>...</td>\n",
       "      <td>NaN</td>\n",
       "      <td>NaN</td>\n",
       "      <td>NaN</td>\n",
       "      <td>[russia, georgia, nato, cold, war]</td>\n",
       "      <td>[member, adorable, year, led, country, war, ba...</td>\n",
       "      <td>[war, georgia, israeli, connection]</td>\n",
       "      <td>NaN</td>\n",
       "      <td>[christopher, king, argues, nato, georgian, in...</td>\n",
       "      <td>NaN</td>\n",
       "      <td>[bbc, news, asia, pacific, extinction, man, cl...</td>\n",
       "    </tr>\n",
       "    <tr>\n",
       "      <th>2008-08-13</th>\n",
       "      <td>0</td>\n",
       "      <td>[refuses, israel, weapons, attack, iran, report]</td>\n",
       "      <td>[president, ordered, attack, tskhinvali, capit...</td>\n",
       "      <td>NaN</td>\n",
       "      <td>[britain, policy, tough, drugs, pointless, civ...</td>\n",
       "      <td>[body, year, trunk, latest, ransom, paid, kidn...</td>\n",
       "      <td>NaN</td>\n",
       "      <td>[bush, announces, operation, russia, grill, ye...</td>\n",
       "      <td>NaN</td>\n",
       "      <td>[commander, navy, air, reconnaissance, squadro...</td>\n",
       "      <td>...</td>\n",
       "      <td>NaN</td>\n",
       "      <td>NaN</td>\n",
       "      <td>NaN</td>\n",
       "      <td>[russian, convoy, heads, georgia, violating, t...</td>\n",
       "      <td>[israeli, defence, minister, strike, iran]</td>\n",
       "      <td>NaN</td>\n",
       "      <td>NaN</td>\n",
       "      <td>NaN</td>\n",
       "      <td>[georgian, president, military, control, seapo...</td>\n",
       "      <td>NaN</td>\n",
       "    </tr>\n",
       "    <tr>\n",
       "      <th>2008-08-14</th>\n",
       "      <td>1</td>\n",
       "      <td>NaN</td>\n",
       "      <td>[war, south, osetia, pictures, russian, soldier]</td>\n",
       "      <td>NaN</td>\n",
       "      <td>NaN</td>\n",
       "      <td>[missile, killed, inside, pakistan, launched, ...</td>\n",
       "      <td>[rushdie, condemns, random, house, refusal, pu...</td>\n",
       "      <td>[poland, agree, missle, defense, deal, interes...</td>\n",
       "      <td>[russians, conquer, tblisi, bet, seriously, bet]</td>\n",
       "      <td>NaN</td>\n",
       "      <td>...</td>\n",
       "      <td>[bank, analyst, forecast, georgian, crisis, da...</td>\n",
       "      <td>NaN</td>\n",
       "      <td>[war, caucasus, product, american, imperial, d...</td>\n",
       "      <td>NaN</td>\n",
       "      <td>[georgian, tv, reporter, shot, russian, sniper...</td>\n",
       "      <td>NaN</td>\n",
       "      <td>[taliban, wages, war, humanitarian, aid, workers]</td>\n",
       "      <td>NaN</td>\n",
       "      <td>[arfur, rebels, accuse, sudan, mounting, major...</td>\n",
       "      <td>[philippines, peace, advocate, muslims, assura...</td>\n",
       "    </tr>\n",
       "  </tbody>\n",
       "</table>\n",
       "<p>5 rows × 26 columns</p>\n",
       "</div>"
      ],
      "text/plain": [
       "            Label                                               Top1  \\\n",
       "Date                                                                   \n",
       "2008-08-08      0  [georgia, owns, russian, warplanes, countries,...   \n",
       "2008-08-11      1                                                NaN   \n",
       "2008-08-12      0                                                NaN   \n",
       "2008-08-13      0   [refuses, israel, weapons, attack, iran, report]   \n",
       "2008-08-14      1                                                NaN   \n",
       "\n",
       "                                                         Top2  \\\n",
       "Date                                                            \n",
       "2008-08-08                                                NaN   \n",
       "2008-08-11                                                NaN   \n",
       "2008-08-12                 [russia, ends, georgia, operation]   \n",
       "2008-08-13  [president, ordered, attack, tskhinvali, capit...   \n",
       "2008-08-14   [war, south, osetia, pictures, russian, soldier]   \n",
       "\n",
       "                                                         Top3  \\\n",
       "Date                                                            \n",
       "2008-08-08  [russia, today, columns, troops, roll, south, ...   \n",
       "2008-08-11  [jewish, georgian, minister, israeli, training...   \n",
       "2008-08-12                                                NaN   \n",
       "2008-08-13                                                NaN   \n",
       "2008-08-14                                                NaN   \n",
       "\n",
       "                                                         Top4  \\\n",
       "Date                                                            \n",
       "2008-08-08  [russian, tanks, moving, capital, south, osset...   \n",
       "2008-08-11  [georgian, army, flees, disarray, russians, ad...   \n",
       "2008-08-12  [al, qa, eda, losing, support, iraq, brutal, c...   \n",
       "2008-08-13  [britain, policy, tough, drugs, pointless, civ...   \n",
       "2008-08-14                                                NaN   \n",
       "\n",
       "                                                         Top5  \\\n",
       "Date                                                            \n",
       "2008-08-08                                                NaN   \n",
       "2008-08-11                                                NaN   \n",
       "2008-08-12                                                NaN   \n",
       "2008-08-13  [body, year, trunk, latest, ransom, paid, kidn...   \n",
       "2008-08-14  [missile, killed, inside, pakistan, launched, ...   \n",
       "\n",
       "                                                         Top6  \\\n",
       "Date                                                            \n",
       "2008-08-08                                                NaN   \n",
       "2008-08-11                                                NaN   \n",
       "2008-08-12               [microsoft, intel, kill, xo, laptop]   \n",
       "2008-08-13                                                NaN   \n",
       "2008-08-14  [rushdie, condemns, random, house, refusal, pu...   \n",
       "\n",
       "                                                         Top7  \\\n",
       "Date                                                            \n",
       "2008-08-08                                                NaN   \n",
       "2008-08-11  [russia, angered, israeli, military, sale, geo...   \n",
       "2008-08-12    [tratfor, russo, georgian, war, balance, power]   \n",
       "2008-08-13  [bush, announces, operation, russia, grill, ye...   \n",
       "2008-08-14  [poland, agree, missle, defense, deal, interes...   \n",
       "\n",
       "                                                         Top8  \\\n",
       "Date                                                            \n",
       "2008-08-08  [enemy, combatent, trials, sham, salim, haman,...   \n",
       "2008-08-11  [american, citizen, living, ossetia, blames, g...   \n",
       "2008-08-12  [sense, georgia, russia, war, vote, georgia, s...   \n",
       "2008-08-13                                                NaN   \n",
       "2008-08-14   [russians, conquer, tblisi, bet, seriously, bet]   \n",
       "\n",
       "                                                         Top9  \\\n",
       "Date                                                            \n",
       "2008-08-08                                                NaN   \n",
       "2008-08-11                        [war, iv, high, definition]   \n",
       "2008-08-12  [military, surprised, timing, swiftness, russi...   \n",
       "2008-08-13  [commander, navy, air, reconnaissance, squadro...   \n",
       "2008-08-14                                                NaN   \n",
       "\n",
       "                                  ...                          \\\n",
       "Date                              ...                           \n",
       "2008-08-08                        ...                           \n",
       "2008-08-11                        ...                           \n",
       "2008-08-12                        ...                           \n",
       "2008-08-13                        ...                           \n",
       "2008-08-14                        ...                           \n",
       "\n",
       "                                                        Top16 Top17  \\\n",
       "Date                                                                  \n",
       "2008-08-08  [georgia, invades, south, ossetia, russia, inv...   NaN   \n",
       "2008-08-11                                                NaN   NaN   \n",
       "2008-08-12                                                NaN   NaN   \n",
       "2008-08-13                                                NaN   NaN   \n",
       "2008-08-14  [bank, analyst, forecast, georgian, crisis, da...   NaN   \n",
       "\n",
       "                                                        Top18  \\\n",
       "Date                                                            \n",
       "2008-08-08  [condoleezza, rice, prevent, israeli, strike, ...   \n",
       "2008-08-11                                                NaN   \n",
       "2008-08-12                                                NaN   \n",
       "2008-08-13                                                NaN   \n",
       "2008-08-14  [war, caucasus, product, american, imperial, d...   \n",
       "\n",
       "                                                        Top19  \\\n",
       "Date                                                            \n",
       "2008-08-08  [busy, day, european, union, approved, sanctio...   \n",
       "2008-08-11                                                NaN   \n",
       "2008-08-12                 [russia, georgia, nato, cold, war]   \n",
       "2008-08-13  [russian, convoy, heads, georgia, violating, t...   \n",
       "2008-08-14                                                NaN   \n",
       "\n",
       "                                                        Top20  \\\n",
       "Date                                                            \n",
       "2008-08-08  [georgia, withdraw, soldiers, iraq, help, figh...   \n",
       "2008-08-11                        [war, south, ossetia, pics]   \n",
       "2008-08-12  [member, adorable, year, led, country, war, ba...   \n",
       "2008-08-13         [israeli, defence, minister, strike, iran]   \n",
       "2008-08-14  [georgian, tv, reporter, shot, russian, sniper...   \n",
       "\n",
       "                                          Top21  \\\n",
       "Date                                              \n",
       "2008-08-08                                  NaN   \n",
       "2008-08-11                                  NaN   \n",
       "2008-08-12  [war, georgia, israeli, connection]   \n",
       "2008-08-13                                  NaN   \n",
       "2008-08-14                                  NaN   \n",
       "\n",
       "                                                        Top22  \\\n",
       "Date                                                            \n",
       "2008-08-08                                                NaN   \n",
       "2008-08-11  [russia, beaten, united, states, head, peak, oil]   \n",
       "2008-08-12                                                NaN   \n",
       "2008-08-13                                                NaN   \n",
       "2008-08-14  [taliban, wages, war, humanitarian, aid, workers]   \n",
       "\n",
       "                                                        Top23  \\\n",
       "Date                                                            \n",
       "2008-08-08          [indian, shoe, manufactory, series, work]   \n",
       "2008-08-11                                                NaN   \n",
       "2008-08-12  [christopher, king, argues, nato, georgian, in...   \n",
       "2008-08-13                                                NaN   \n",
       "2008-08-14                                                NaN   \n",
       "\n",
       "                                                        Top24  \\\n",
       "Date                                                            \n",
       "2008-08-08                                                NaN   \n",
       "2008-08-11                              [russia, better, war]   \n",
       "2008-08-12                                                NaN   \n",
       "2008-08-13  [georgian, president, military, control, seapo...   \n",
       "2008-08-14  [arfur, rebels, accuse, sudan, mounting, major...   \n",
       "\n",
       "                                                        Top25  \n",
       "Date                                                           \n",
       "2008-08-08                  [help, mexico, kidnapping, surge]  \n",
       "2008-08-11                               [trading, sex, food]  \n",
       "2008-08-12  [bbc, news, asia, pacific, extinction, man, cl...  \n",
       "2008-08-13                                                NaN  \n",
       "2008-08-14  [philippines, peace, advocate, muslims, assura...  \n",
       "\n",
       "[5 rows x 26 columns]"
      ]
     },
     "execution_count": 229,
     "metadata": {},
     "output_type": "execute_result"
    }
   ],
   "source": [
    "tokenized_df.head()"
   ]
  },
  {
   "cell_type": "code",
   "execution_count": 230,
   "metadata": {},
   "outputs": [
    {
     "data": {
      "text/plain": [
       "0"
      ]
     },
     "execution_count": 230,
     "metadata": {},
     "output_type": "execute_result"
    }
   ],
   "source": [
    "# check if all top25 headlines are filtered out in each day\n",
    "sum(tokenized_df.isnull().all(axis = 1))"
   ]
  },
  {
   "cell_type": "code",
   "execution_count": 231,
   "metadata": {},
   "outputs": [],
   "source": [
    "# save filtered dataframe\n",
    "with open('filtered_tokenized_df', 'wb') as f:\n",
    "    pickle.dump(tokenized_df, f)"
   ]
  },
  {
   "cell_type": "markdown",
   "metadata": {},
   "source": [
    "### 2.2 Sentiment Analysis on Headlines Left"
   ]
  },
  {
   "cell_type": "code",
   "execution_count": 232,
   "metadata": {},
   "outputs": [],
   "source": [
    "with open('filtered_tokenized_df', 'rb') as f:\n",
    "    filtered_tokenized_df = pickle.load(f)"
   ]
  },
  {
   "cell_type": "code",
   "execution_count": 233,
   "metadata": {},
   "outputs": [],
   "source": [
    "from nltk.sentiment.vader import SentimentIntensityAnalyzer as SIA\n",
    "\n",
    "sia = SIA()\n",
    "result = []\n",
    "\n",
    "for i in range(filtered_tokenized_df.shape[0]):\n",
    "    compound = []\n",
    "    neutral =[]\n",
    "    positive = []\n",
    "    negative = []\n",
    "    list_of_headlines = filtered_tokenized_df.iloc[i, :][filtered_tokenized_df.iloc[i, :].notnull()][1:].tolist()\n",
    "    for headline in list_of_headlines:\n",
    "        pol_score = sia.polarity_scores(' '.join(headline))\n",
    "        compound.append(pol_score['compound'])\n",
    "        neutral.append(pol_score['neu'])\n",
    "        positive.append(pol_score['pos'])\n",
    "        negative.append(pol_score['neg'])\n",
    "    result.append({'compound': np.mean(compound), 'neu': np.mean(neutral), 'pos': np.mean(positive), 'neg': np.mean(negative)})"
   ]
  },
  {
   "cell_type": "code",
   "execution_count": 234,
   "metadata": {},
   "outputs": [],
   "source": [
    "sentiment_score_df = pd.DataFrame.from_records(result)\n",
    "sentiment_score_df.set_index(filtered_tokenized_df.index, inplace=True)"
   ]
  },
  {
   "cell_type": "code",
   "execution_count": 235,
   "metadata": {},
   "outputs": [],
   "source": [
    "sentiment_score_df['Label'] = filtered_tokenized_df['Label']"
   ]
  },
  {
   "cell_type": "code",
   "execution_count": 236,
   "metadata": {},
   "outputs": [
    {
     "data": {
      "text/html": [
       "<div>\n",
       "<style scoped>\n",
       "    .dataframe tbody tr th:only-of-type {\n",
       "        vertical-align: middle;\n",
       "    }\n",
       "\n",
       "    .dataframe tbody tr th {\n",
       "        vertical-align: top;\n",
       "    }\n",
       "\n",
       "    .dataframe thead th {\n",
       "        text-align: right;\n",
       "    }\n",
       "</style>\n",
       "<table border=\"1\" class=\"dataframe\">\n",
       "  <thead>\n",
       "    <tr style=\"text-align: right;\">\n",
       "      <th></th>\n",
       "      <th>compound</th>\n",
       "      <th>neg</th>\n",
       "      <th>neu</th>\n",
       "      <th>pos</th>\n",
       "      <th>Label</th>\n",
       "    </tr>\n",
       "    <tr>\n",
       "      <th>Date</th>\n",
       "      <th></th>\n",
       "      <th></th>\n",
       "      <th></th>\n",
       "      <th></th>\n",
       "      <th></th>\n",
       "    </tr>\n",
       "  </thead>\n",
       "  <tbody>\n",
       "    <tr>\n",
       "      <th>2008-08-08</th>\n",
       "      <td>-0.350679</td>\n",
       "      <td>0.273714</td>\n",
       "      <td>0.644071</td>\n",
       "      <td>0.082286</td>\n",
       "      <td>0</td>\n",
       "    </tr>\n",
       "    <tr>\n",
       "      <th>2008-08-11</th>\n",
       "      <td>-0.293255</td>\n",
       "      <td>0.295636</td>\n",
       "      <td>0.629909</td>\n",
       "      <td>0.074455</td>\n",
       "      <td>1</td>\n",
       "    </tr>\n",
       "    <tr>\n",
       "      <th>2008-08-12</th>\n",
       "      <td>-0.454800</td>\n",
       "      <td>0.342929</td>\n",
       "      <td>0.604571</td>\n",
       "      <td>0.052429</td>\n",
       "      <td>0</td>\n",
       "    </tr>\n",
       "    <tr>\n",
       "      <th>2008-08-13</th>\n",
       "      <td>-0.226623</td>\n",
       "      <td>0.271923</td>\n",
       "      <td>0.629923</td>\n",
       "      <td>0.098000</td>\n",
       "      <td>0</td>\n",
       "    </tr>\n",
       "    <tr>\n",
       "      <th>2008-08-14</th>\n",
       "      <td>-0.183136</td>\n",
       "      <td>0.265571</td>\n",
       "      <td>0.578857</td>\n",
       "      <td>0.155571</td>\n",
       "      <td>1</td>\n",
       "    </tr>\n",
       "  </tbody>\n",
       "</table>\n",
       "</div>"
      ],
      "text/plain": [
       "            compound       neg       neu       pos  Label\n",
       "Date                                                     \n",
       "2008-08-08 -0.350679  0.273714  0.644071  0.082286      0\n",
       "2008-08-11 -0.293255  0.295636  0.629909  0.074455      1\n",
       "2008-08-12 -0.454800  0.342929  0.604571  0.052429      0\n",
       "2008-08-13 -0.226623  0.271923  0.629923  0.098000      0\n",
       "2008-08-14 -0.183136  0.265571  0.578857  0.155571      1"
      ]
     },
     "execution_count": 236,
     "metadata": {},
     "output_type": "execute_result"
    }
   ],
   "source": [
    "sentiment_score_df.head()"
   ]
  },
  {
   "cell_type": "code",
   "execution_count": 237,
   "metadata": {},
   "outputs": [],
   "source": [
    "with open('sentiment_score_df', 'wb') as f:\n",
    "    pickle.dump(sentiment_score_df, f)"
   ]
  },
  {
   "cell_type": "code",
   "execution_count": 238,
   "metadata": {},
   "outputs": [],
   "source": [
    "idx = sentiment_score_df['compound'][sentiment_score_df['compound'].isna()].index"
   ]
  },
  {
   "cell_type": "code",
   "execution_count": 239,
   "metadata": {},
   "outputs": [
    {
     "data": {
      "text/html": [
       "<div>\n",
       "<style scoped>\n",
       "    .dataframe tbody tr th:only-of-type {\n",
       "        vertical-align: middle;\n",
       "    }\n",
       "\n",
       "    .dataframe tbody tr th {\n",
       "        vertical-align: top;\n",
       "    }\n",
       "\n",
       "    .dataframe thead th {\n",
       "        text-align: right;\n",
       "    }\n",
       "</style>\n",
       "<table border=\"1\" class=\"dataframe\">\n",
       "  <thead>\n",
       "    <tr style=\"text-align: right;\">\n",
       "      <th></th>\n",
       "      <th>compound</th>\n",
       "      <th>neg</th>\n",
       "      <th>neu</th>\n",
       "      <th>pos</th>\n",
       "      <th>Label</th>\n",
       "    </tr>\n",
       "    <tr>\n",
       "      <th>Date</th>\n",
       "      <th></th>\n",
       "      <th></th>\n",
       "      <th></th>\n",
       "      <th></th>\n",
       "      <th></th>\n",
       "    </tr>\n",
       "  </thead>\n",
       "  <tbody>\n",
       "  </tbody>\n",
       "</table>\n",
       "</div>"
      ],
      "text/plain": [
       "Empty DataFrame\n",
       "Columns: [compound, neg, neu, pos, Label]\n",
       "Index: []"
      ]
     },
     "execution_count": 239,
     "metadata": {},
     "output_type": "execute_result"
    }
   ],
   "source": [
    "sentiment_score_df.loc[idx]"
   ]
  },
  {
   "cell_type": "code",
   "execution_count": 240,
   "metadata": {},
   "outputs": [],
   "source": [
    "from sklearn.preprocessing import normalize\n",
    "sentiment_score_mat = sentiment_score_df.dropna(axis=0, how=\"any\").as_matrix()"
   ]
  },
  {
   "cell_type": "code",
   "execution_count": 347,
   "metadata": {},
   "outputs": [],
   "source": [
    "'''FORMALset for sentiment score data'''\n",
    "Sentiment_score_set = [sentiment_score_mat[:1700, :4],\n",
    "                       sentiment_score_mat[:1700, 4],\n",
    "                       sentiment_score_mat[1700:, :4],\n",
    "                       sentiment_score_mat[1700:, 4]]"
   ]
  },
  {
   "cell_type": "code",
   "execution_count": 348,
   "metadata": {},
   "outputs": [],
   "source": [
    "'''Sentiment score cv data'''\n",
    "Sentiment_score_CV = [0]*10\n",
    "for i in range(10):\n",
    "    Sentiment_score_CV[i] = []\n",
    "    Sentiment_score_CV[i].append(Sentiment_score_set[0][i*100:(7+i)*100])\n",
    "    Sentiment_score_CV[i].append(Sentiment_score_set[1][i*100:(7+i)*100])\n",
    "    Sentiment_score_CV[i].append(Sentiment_score_set[0][(7+i)*100:(8+i)*100])\n",
    "    Sentiment_score_CV[i].append(Sentiment_score_set[1][(7+i)*100:(8+i)*100])"
   ]
  },
  {
   "cell_type": "markdown",
   "metadata": {},
   "source": [
    "## Part 3 Vocabulary Construction\n",
    "This part contains only functions, which will later be called when training and validating the models."
   ]
  },
  {
   "cell_type": "code",
   "execution_count": 241,
   "metadata": {},
   "outputs": [],
   "source": [
    "'''\n",
    "The following two functions are used to help extract terminology and meaningful words\n",
    "REFERENCE: http://bdewilde.github.io/blog/2014/09/23/intro-to-automatic-keyphrase-extraction/\n",
    "'''\n",
    "def extract_candidate_chunks(text, grammar=r'KT: {(<JJ>* <NN.*>+ <IN>)? <JJ>* <NN.*>+}'):\n",
    "    import itertools, nltk, string\n",
    "\n",
    "    # exclude candidates that are stop words or entirely punctuation\n",
    "    punct = set(string.punctuation)\n",
    "    stop_words = set(nltk.corpus.stopwords.words('english'))\n",
    "    # tokenize, POS-tag, and chunk using regular expressions\n",
    "    chunker = nltk.chunk.regexp.RegexpParser(grammar)\n",
    "    tagged_sents = nltk.pos_tag_sents(nltk.word_tokenize(sent) for sent in nltk.sent_tokenize(text))\n",
    "    all_chunks = list(itertools.chain.from_iterable(nltk.chunk.tree2conlltags(chunker.parse(tagged_sent))\n",
    "                                                    for tagged_sent in tagged_sents))\n",
    "\n",
    "    # join constituent chunk words into a single chunked phrase\n",
    "    candidates = [' '.join(word for word, pos, chunk in group).lower()\n",
    "                  for key, group in itertools.groupby(all_chunks, lambda (word,pos,chunk): chunk != 'O') if key]\n",
    "\n",
    "    return [cand for cand in candidates\n",
    "            if cand not in stop_words and not all(char in punct for char in cand)]"
   ]
  },
  {
   "cell_type": "code",
   "execution_count": 242,
   "metadata": {},
   "outputs": [],
   "source": [
    "'''\n",
    "Input a ordered word list, output its vocabulary set\n",
    "'''\n",
    "def buildVocabulary(OrderedWord):\n",
    "    # Single words that we think may be meaningful.\n",
    "    good_pos_tag_set = set(['JJ','JJR','JJS', # adjective\n",
    "                        'NN','NNP','NNS','NNPS', # noun\n",
    "                        'RB','RBR','RBS','RP', # adverb and particle\n",
    "                        'VB','VBD','VBG','VBN','VBP','VBZ']) # verb\n",
    "    String = ' '.join(OrderedWord)\n",
    "    word_candidate = OrderedWord\n",
    "    word_final = []\n",
    "    for i in range(len(word_candidate)):\n",
    "        posTag = pos_tag([str(word_candidate[i])])[0][1]\n",
    "        isGood = (good_pos_tag_set.union([posTag])==good_pos_tag_set)\n",
    "        if isGood:\n",
    "            word_final.append(str(word_candidate[i]))\n",
    "    phase_final = extract_candidate_chunks(String, grammar=r'KT: {(<JJ>* <NN.*>+ <IN>)? <JJ>* <NN.*>+}')\n",
    "    for p in phase_final:\n",
    "        if (len(tokenizer(p))>4):\n",
    "            phase_final.remove(p)\n",
    "    term_final = set(word_final)|set(phase_final)\n",
    "    return term_final"
   ]
  },
  {
   "cell_type": "code",
   "execution_count": 243,
   "metadata": {},
   "outputs": [],
   "source": [
    "'''\n",
    "Input a headline list of list where the element refers to\n",
    "a headline in the form of list of its ordered good words.\n",
    "Return a set of vocabulary generated from the input.\n",
    "It takes around 2 minutes to generate a vocabulary for a \n",
    "input contains 1500 days' headlines.\n",
    "'''\n",
    "def getVocabulary(headlines_input):\n",
    "    vocabulary = set([])\n",
    "    for i in range(len(headlines_input)):\n",
    "        for s in headlines_input[i]:\n",
    "            if(type(s)!=list):\n",
    "                continue\n",
    "            else:\n",
    "                vocabulary = vocabulary|buildVocabulary(s)\n",
    "        #if (i%15==0):\n",
    "            #print i/15\n",
    "    final_vocabulary = []\n",
    "    c = 0\n",
    "    for term in vocabulary:\n",
    "        if (len(term.split())<=4):\n",
    "            final_vocabulary.append(term)\n",
    "    final_vocabulary = set(final_vocabulary)\n",
    "    #print len(final_vocabulary)\n",
    "    return final_vocabulary"
   ]
  },
  {
   "cell_type": "markdown",
   "metadata": {},
   "source": [
    "## Part 4 Input for Models"
   ]
  },
  {
   "cell_type": "code",
   "execution_count": 244,
   "metadata": {},
   "outputs": [],
   "source": [
    "'''\n",
    "Input a headline list of list where the element refers to\n",
    "a headline in the form of list of its ordered good words.\n",
    "Return a list where the element refers to a day's all good\n",
    "headlines as a whole headline string.\n",
    "'''\n",
    "def toHeadlines(headlines_input):\n",
    "    headlines_output = [0]*len(headlines_input)\n",
    "    for i in range(len(headlines_input)):\n",
    "        headlines_output[i] = []\n",
    "        for s in headlines_input[i]:\n",
    "            if(type(s)==list):\n",
    "                headlines_output[i].append(' '.join(s))\n",
    "        temp = ' '.join(headlines_output[i])\n",
    "        headlines_output[i] = temp\n",
    "    return headlines_output"
   ]
  },
  {
   "cell_type": "code",
   "execution_count": 245,
   "metadata": {},
   "outputs": [],
   "source": [
    "'''\n",
    "Input a headlines input and a vocabulary.\n",
    "Headlines_input is a headline list of list where the element refers to\n",
    "a headline in the form of list of its ordered good words.\n",
    "Return a tfidf matrix with respect to the vocabulary, but some terms\n",
    "with too low or too high frequency are excluded.\n",
    "'''\n",
    "def getTfidfMat(headlines_input, vocabulary):\n",
    "    headlines_str = toHeadlines(headlines_input)\n",
    "    TFIDF = TfidfVectorizer(min_df=0.03, max_df=0.97, ngram_range=(1, 4))\n",
    "    FitResult = TFIDF.fit(headlines_str)\n",
    "    freq_vocabulary = set(FitResult.get_feature_names())\n",
    "    VOCA = []\n",
    "    for t in freq_vocabulary:\n",
    "        if t in vocabulary:\n",
    "            VOCA.append(t)\n",
    "    TFIDF2 = TfidfVectorizer(vocabulary = VOCA)\n",
    "    tfidf_mat = TFIDF2.fit_transform(headlines_str)\n",
    "    return tfidf_mat,VOCA\n",
    "\n",
    "def getTfidfMat2(headlines_input, vocabulary):\n",
    "    headlines_str = toHeadlines(headlines_input)\n",
    "    TFIDF2 = TfidfVectorizer(vocabulary=vocabulary)\n",
    "    tfidf_mat = TFIDF2.fit_transform(headlines_str)\n",
    "    return tfidf_mat"
   ]
  },
  {
   "cell_type": "code",
   "execution_count": 246,
   "metadata": {},
   "outputs": [],
   "source": [
    "def getInput(headlines_t,DJIA_t,headlines_v,DJIA_v):\n",
    "    VOC = getVocabulary(headlines_t)\n",
    "    HEAD_t = getTfidfMat(headlines_t,VOC)[0]\n",
    "    VOCA = getTfidfMat(headlines_t,VOC)[1]\n",
    "    HEAD_v = getTfidfMat2(headlines_v,VOCA)    \n",
    "    return HEAD_t,DJIA_t,HEAD_v,DJIA_v"
   ]
  },
  {
   "cell_type": "code",
   "execution_count": 247,
   "metadata": {},
   "outputs": [],
   "source": [
    "'''\n",
    "Seperate the data into training set and test set.\n",
    "And in the training set, seperate ten validation groups.\n",
    "Each group contains a subtraining set of 700 points and a validation set\n",
    "of 100 points.\n",
    "'''\n",
    "headlines = tokenized_df.as_matrix(columns = tokenized_df.columns[1:])\n",
    "DJIA = tokenized_df.Label[:].values\n",
    "headlines_train = headlines[:1700]\n",
    "headlines_test = headlines[1700:]\n",
    "DJIA_train = tokenized_df.Label[:1700].values\n",
    "DJIA_test = tokenized_df.Label[1700:].values"
   ]
  },
  {
   "cell_type": "code",
   "execution_count": 248,
   "metadata": {},
   "outputs": [],
   "source": [
    "FORMALset = getInput(headlines_train,DJIA_train,headlines_test,DJIA_test)"
   ]
  },
  {
   "cell_type": "code",
   "execution_count": 249,
   "metadata": {},
   "outputs": [],
   "source": [
    "CVset = [0]*10\n",
    "CVset[0] = getInput(headlines[:700],DJIA[:700],headlines[700:800],DJIA[700:800])\n",
    "CVset[1] = getInput(headlines[100:800],DJIA[100:800],headlines[800:900],DJIA[800:900])\n",
    "CVset[2] = getInput(headlines[200:900],DJIA[200:900],headlines[900:1000],DJIA[900:1000])\n",
    "CVset[3] = getInput(headlines[300:1000],DJIA[300:1000],headlines[1000:1100],DJIA[1000:1100])\n",
    "CVset[4] = getInput(headlines[400:1100],DJIA[400:1100],headlines[1100:1200],DJIA[1100:1200])\n",
    "CVset[5] = getInput(headlines[500:1200],DJIA[500:1200],headlines[1200:1300],DJIA[1200:1300])\n",
    "CVset[6] = getInput(headlines[600:1300],DJIA[600:1300],headlines[1300:1400],DJIA[1300:1400])\n",
    "CVset[7] = getInput(headlines[700:1400],DJIA[700:1400],headlines[1400:1500],DJIA[1400:1500])\n",
    "CVset[8] = getInput(headlines[800:1500],DJIA[800:1500],headlines[1500:1600],DJIA[1500:1600])\n",
    "CVset[9] = getInput(headlines[900:1600],DJIA[900:1600],headlines[1600:1700],DJIA[1600:1700])"
   ]
  },
  {
   "cell_type": "code",
   "execution_count": 250,
   "metadata": {},
   "outputs": [],
   "source": [
    "with open('FORMALset','wb') as fm:\n",
    "    pickle.dump(FORMALset,fm)\n",
    "with open('CVset','wb') as cv:\n",
    "    pickle.dump(CVset,cv)"
   ]
  },
  {
   "cell_type": "code",
   "execution_count": 251,
   "metadata": {},
   "outputs": [],
   "source": [
    "with open('FORMALset','rb') as fm:\n",
    "    FORMALset = pickle.load(fm)\n",
    "with open('CVset','rb') as cv:\n",
    "    CVset = pickle.load(cv)"
   ]
  },
  {
   "cell_type": "code",
   "execution_count": 41,
   "metadata": {},
   "outputs": [],
   "source": [
    "# Skip when RUNNING\n",
    "'''\n",
    "Simulated data: FOR MODEL TEST ONLY!\n",
    "'''\n",
    "# Model test data\n",
    "x1 = np.random.normal(0,1,2000)\n",
    "x2 = np.random.normal(2,5,2000)\n",
    "x3 = np.random.normal(0,4,2000)\n",
    "y = (2*x1+(0.5*x2+3)*x3>5)\n",
    "X = [0]*2000\n",
    "for i in range(2000):\n",
    "    X[i] = [x1[i],x2[i],x3[i]]\n",
    "train_term_document_matrix_tfidf = np.array(X[:1500])\n",
    "test_term_document_matrix_tfidf = np.array(X[1500:])\n",
    "DJIA_train = y[:1500]\n",
    "DJIA_test = y[1500:]"
   ]
  },
  {
   "cell_type": "markdown",
   "metadata": {},
   "source": [
    "## Part 5 Data Visualization"
   ]
  },
  {
   "cell_type": "code",
   "execution_count": 254,
   "metadata": {},
   "outputs": [
    {
     "name": "stdout",
     "output_type": "stream",
     "text": [
      "(1700, 1129)\n",
      "(1700,)\n",
      "(289, 1129)\n",
      "(289,)\n"
     ]
    }
   ],
   "source": [
    "for i in range(len(FORMALset)):\n",
    "    print FORMALset[i].shape"
   ]
  },
  {
   "cell_type": "markdown",
   "metadata": {},
   "source": [
    "### 5.1 Singular Value Decomposition (SVD)"
   ]
  },
  {
   "cell_type": "code",
   "execution_count": 263,
   "metadata": {},
   "outputs": [
    {
     "data": {
      "text/plain": [
       "(1129, 1700)"
      ]
     },
     "execution_count": 263,
     "metadata": {},
     "output_type": "execute_result"
    }
   ],
   "source": [
    "my_matrix = FORMALset[0].T\n",
    "my_matrix.shape"
   ]
  },
  {
   "cell_type": "code",
   "execution_count": 264,
   "metadata": {},
   "outputs": [],
   "source": [
    "from scipy.sparse.linalg import svds\n",
    "u, s, v_trans = svds(my_matrix, k=100)"
   ]
  },
  {
   "cell_type": "code",
   "execution_count": 265,
   "metadata": {},
   "outputs": [
    {
     "name": "stdout",
     "output_type": "stream",
     "text": [
      "(1129, 100)\n",
      "(100,)\n",
      "(100, 1700)\n"
     ]
    }
   ],
   "source": [
    "print(u.shape)\n",
    "print(s.shape)\n",
    "print(v_trans.shape)"
   ]
  },
  {
   "cell_type": "code",
   "execution_count": 275,
   "metadata": {},
   "outputs": [
    {
     "data": {
      "image/png": "[encoded data removed]",
      "text/plain": [
       "<matplotlib.figure.Figure at 0x7f6cdc7924d0>"
      ]
     },
     "metadata": {},
     "output_type": "display_data"
    }
   ],
   "source": [
    "plt.figure(figsize=(10,5))\n",
    "plt.plot(s[::-1])\n",
    "plt.plot(20, s[-20], 'ro')\n",
    "plt.xlabel(\"Singular value number\")\n",
    "plt.ylabel(\"Singular value\")\n",
    "#plt.scatter(20, s[20], color =\"red\")\n",
    "plt.show()"
   ]
  },
  {
   "cell_type": "code",
   "execution_count": 276,
   "metadata": {},
   "outputs": [],
   "source": [
    "'''Keep only the largest 20 dimensions'''\n",
    "words_compressed, _, docs_compressed = svds(my_matrix, k=20)\n",
    "docs_compressed = docs_compressed.transpose()"
   ]
  },
  {
   "cell_type": "code",
   "execution_count": 277,
   "metadata": {},
   "outputs": [
    {
     "name": "stdout",
     "output_type": "stream",
     "text": [
      "(1129, 20)\n",
      "(1700, 20)\n"
     ]
    }
   ],
   "source": [
    "print(words_compressed.shape)\n",
    "print(docs_compressed.shape)"
   ]
  },
  {
   "cell_type": "markdown",
   "metadata": {},
   "source": [
    "### 5.2 Principle Component Analysis"
   ]
  },
  {
   "cell_type": "code",
   "execution_count": 310,
   "metadata": {},
   "outputs": [],
   "source": [
    "from sklearn.decomposition import PCA"
   ]
  },
  {
   "cell_type": "code",
   "execution_count": 315,
   "metadata": {},
   "outputs": [],
   "source": [
    "pca = PCA(n_components=500)"
   ]
  },
  {
   "cell_type": "code",
   "execution_count": 316,
   "metadata": {},
   "outputs": [
    {
     "data": {
      "text/plain": [
       "PCA(copy=True, iterated_power='auto', n_components=500, random_state=None,\n",
       "  svd_solver='auto', tol=0.0, whiten=False)"
      ]
     },
     "execution_count": 316,
     "metadata": {},
     "output_type": "execute_result"
    }
   ],
   "source": [
    "pca.fit(my_matrix.T.toarray())"
   ]
  },
  {
   "cell_type": "code",
   "execution_count": 319,
   "metadata": {},
   "outputs": [
    {
     "name": "stdout",
     "output_type": "stream",
     "text": [
      "0.8231585143201442\n"
     ]
    },
    {
     "data": {
      "image/png": "[encoded data removed]",
      "text/plain": [
       "<matplotlib.figure.Figure at 0x7f6cd08860d0>"
      ]
     },
     "metadata": {},
     "output_type": "display_data"
    }
   ],
   "source": [
    "'''PCA a bad idea of dimensionality reduction when dealing with too many features!'''\n",
    "plt.plot(np.cumsum(pca.explained_variance_ratio_))\n",
    "plt.title(\"Cumsum of explained variance ratio from PCA\")\n",
    "print(sum(pca.explained_variance_ratio_))"
   ]
  },
  {
   "cell_type": "markdown",
   "metadata": {},
   "source": [
    "### 5.3 TSNE"
   ]
  },
  {
   "cell_type": "code",
   "execution_count": 278,
   "metadata": {},
   "outputs": [],
   "source": [
    "from sklearn.manifold import TSNE\n",
    "tsne = TSNE(verbose=1)"
   ]
  },
  {
   "cell_type": "code",
   "execution_count": 279,
   "metadata": {},
   "outputs": [
    {
     "name": "stdout",
     "output_type": "stream",
     "text": [
      "(1700, 20)\n",
      "[t-SNE] Computing pairwise distances...\n",
      "[t-SNE] Computing 91 nearest neighbors...\n",
      "[t-SNE] Computed conditional probabilities for sample 1000 / 1700\n",
      "[t-SNE] Computed conditional probabilities for sample 1700 / 1700\n",
      "[t-SNE] Mean sigma: 0.032730\n",
      "[t-SNE] KL divergence after 100 iterations with early exaggeration: 1.590752\n",
      "[t-SNE] Error after 200 iterations: 1.590752\n",
      "(1700, 2)\n"
     ]
    }
   ],
   "source": [
    "print(docs_compressed.shape)\n",
    "np.random.seed(47)\n",
    "projected_docs = tsne.fit_transform(docs_compressed)\n",
    "print(projected_docs.shape)"
   ]
  },
  {
   "cell_type": "code",
   "execution_count": 296,
   "metadata": {},
   "outputs": [],
   "source": [
    "def projection_plt(FORMALset, lag = 0):\n",
    "    up = FORMALset[1][lag:].astype(bool)\n",
    "    down = up == False\n",
    "    plt.figure(figsize=(15,15))\n",
    "    plt.title(\"2D Projection of training data (lag = \" + str(lag) + \")\")\n",
    "    if lag == 0:\n",
    "        plt.scatter(projected_docs[up,0],\\\n",
    "                    projected_docs[up,1], color = 'green')\n",
    "        plt.scatter(projected_docs[down,0],\\\n",
    "                    projected_docs[down,1], color = 'red')\n",
    "        plt.show()\n",
    "    else:\n",
    "        plt.scatter(projected_docs[:-lag][up,0],\\\n",
    "                    projected_docs[:-lag][up,1], color = 'green')\n",
    "        plt.scatter(projected_docs[:-lag][down,0],\\\n",
    "                    projected_docs[:-lag][down,1], color = 'red')\n",
    "        plt.show()"
   ]
  },
  {
   "cell_type": "code",
   "execution_count": 297,
   "metadata": {},
   "outputs": [
    {
     "data": {
      "image/png": "[encoded data removed]",
      "text/plain": [
       "<matplotlib.figure.Figure at 0x7f6cd07151d0>"
      ]
     },
     "metadata": {},
     "output_type": "display_data"
    }
   ],
   "source": [
    "projection_plt(FORMALset, lag=0)"
   ]
  },
  {
   "cell_type": "code",
   "execution_count": 298,
   "metadata": {},
   "outputs": [
    {
     "data": {
      "image/png": "[encoded data removed]",
      "text/plain": [
       "<matplotlib.figure.Figure at 0x7f6cd03ee2d0>"
      ]
     },
     "metadata": {},
     "output_type": "display_data"
    }
   ],
   "source": [
    "projection_plt(FORMALset, lag = 1)"
   ]
  },
  {
   "cell_type": "markdown",
   "metadata": {},
   "source": [
    "## Part 6 Prediction Models"
   ]
  },
  {
   "cell_type": "markdown",
   "metadata": {},
   "source": [
    "### 6.0 Benchmarks"
   ]
  },
  {
   "cell_type": "code",
   "execution_count": 299,
   "metadata": {},
   "outputs": [],
   "source": [
    "def Bullish(X_train, Y_train, X_test, Y_test):\n",
    "    train_predict = np.ones(len(Y_train))\n",
    "    test_predict = np.ones(len(Y_test))   \n",
    "    accu_train = sum(Y_train == train_predict)/float(len(Y_train))\n",
    "    accu_test = sum(Y_test == test_predict)/float(len(Y_test))\n",
    "    error_train = 1.0-accu_train\n",
    "    error_test = 1.0-accu_test\n",
    "    TP = sum(Y_test*test_predict==1)\n",
    "    TN = sum(Y_test+test_predict==0)\n",
    "    FP = sum(Y_test<test_predict)\n",
    "    FN = sum(Y_test>test_predict)\n",
    "    tpr = TP/float(TP+FN)\n",
    "    fpr = FP/float(FP+TN)\n",
    "    return error_train,error_test,tpr,fpr"
   ]
  },
  {
   "cell_type": "code",
   "execution_count": 300,
   "metadata": {},
   "outputs": [
    {
     "name": "stdout",
     "output_type": "stream",
     "text": [
      "Bullish: Market All Up\n",
      "Training Error:\t0.45999999999999996\n",
      "CV Error:\t0.46499999999999997\n",
      "Test Error:\t0.4913494809688581\n",
      "Test True Positive Rate:\t1.0\n",
      "Test False Positive Rate:\t1.0\n"
     ]
    }
   ],
   "source": [
    "Bull_CVerror = 0.\n",
    "for i in range(10):\n",
    "    Bull_CVerror = Bull_CVerror+0.1*Bullish(CVset[i][0],CVset[i][1],CVset[i][2],CVset[i][3])[1]\n",
    "Bull = Bullish(FORMALset[0],FORMALset[1],FORMALset[2],FORMALset[3])\n",
    "print \"Bullish: Market All Up\"\n",
    "print \"Training Error:\\t\",Bull[0]\n",
    "print \"CV Error:\\t\",Bull_CVerror\n",
    "print \"Test Error:\\t\",Bull[1]\n",
    "print \"Test True Positive Rate:\\t\",Bull[2]\n",
    "print \"Test False Positive Rate:\\t\",Bull[3]"
   ]
  },
  {
   "cell_type": "code",
   "execution_count": 301,
   "metadata": {},
   "outputs": [],
   "source": [
    "'''\n",
    "First day has not historical data, give the value 0 as \n",
    "a conservative view on the market.\n",
    "'''\n",
    "def Reversal(X_train, Y_train, X_test, Y_test):\n",
    "    train_predict = 1-np.insert(Y_train[:-1],0,1)\n",
    "    test_predict = 1-np.insert(Y_test[:-1],0,1)\n",
    "    accu_train = sum(Y_train == train_predict)/float(len(Y_train))\n",
    "    accu_test = sum(Y_test == test_predict)/float(len(Y_test))\n",
    "    error_train = 1.0-accu_train\n",
    "    error_test = 1.0-accu_test\n",
    "    TP = sum(Y_test*test_predict==1)\n",
    "    TN = sum(Y_test+test_predict==0)\n",
    "    FP = sum(Y_test<test_predict)\n",
    "    FN = sum(Y_test>test_predict)\n",
    "    tpr = TP/float(TP+FN)\n",
    "    fpr = FP/float(FP+TN)\n",
    "    return error_train,error_test,tpr,fpr"
   ]
  },
  {
   "cell_type": "code",
   "execution_count": 302,
   "metadata": {},
   "outputs": [
    {
     "name": "stdout",
     "output_type": "stream",
     "text": [
      "Reversal: Today down, tomorrow up, vice versa\n",
      "Training Error:\t0.4782352941176471\n",
      "CV Error:\t0.4749999999999999\n",
      "Test Error:\t0.46712802768166095\n",
      "Test True Positive Rate:\t0.5238095238095238\n",
      "Test False Positive Rate:\t0.45774647887323944\n"
     ]
    }
   ],
   "source": [
    "Rev_CVerror = 0.\n",
    "for i in range(10):\n",
    "    Rev_CVerror = Rev_CVerror+0.1*Reversal(CVset[i][0],CVset[i][1],CVset[i][2],CVset[i][3])[1]\n",
    "Rev = Reversal(FORMALset[0],FORMALset[1],FORMALset[2],FORMALset[3])\n",
    "print \"Reversal: Today down, tomorrow up, vice versa\"\n",
    "print \"Training Error:\\t\",Rev[0]\n",
    "print \"CV Error:\\t\",Rev_CVerror\n",
    "print \"Test Error:\\t\",Rev[1]\n",
    "print \"Test True Positive Rate:\\t\",Rev[2]\n",
    "print \"Test False Positive Rate:\\t\",Rev[3]"
   ]
  },
  {
   "cell_type": "markdown",
   "metadata": {},
   "source": [
    "### 6.1 KNN"
   ]
  },
  {
   "cell_type": "code",
   "execution_count": 303,
   "metadata": {},
   "outputs": [],
   "source": [
    "def KNN(X_train, Y_train, X_test, Y_test, K):\n",
    "    \"\"\"\n",
    "    X_train: term_doc_matrix\n",
    "    Y_train: list\n",
    "    X_test: term_doc_matrix\n",
    "    Y_test: list\n",
    "    K: integer\n",
    "    \"\"\"\n",
    "    pred_train = np.zeros(len(Y_train), dtype = 'int64')\n",
    "    pred_test = np.zeros(len(Y_test), dtype = 'int64')\n",
    "    inverted_index_test = { i[0]:i[1] for i in list(zip(range(len(Y_test)),Y_test))}\n",
    "    inverted_index_train= { i[0]:i[1] for i in list(zip(range(len(Y_train)),Y_train))}\n",
    "    sim_score_matrix_K_train = cosine_similarity(X_train, X_train)\n",
    "    for j in range(sim_score_matrix_K_train.shape[0]):\n",
    "        highest_K_score_index_train = np.argsort(sim_score_matrix_K_train[j])[-K:]\n",
    "        DJIA_K_train = [inverted_index_train[idx] for idx in highest_K_score_index_train]\n",
    "        Prob = (sum(DJIA_K_train)+0.)/len(DJIA_K_train) #smoothing\n",
    "        if Prob >= 0.5:\n",
    "            pred_train[j] = 1\n",
    "        else:\n",
    "            pred_train[j] = 0\n",
    "    sim_score_matrix_K =  cosine_similarity(X_test, X_train)\n",
    "    for j in range(sim_score_matrix_K.shape[0]):\n",
    "        highest_K_score_index = np.argsort(sim_score_matrix_K[j])[-K:]\n",
    "        DJIA_K = [inverted_index_train[idx] for idx in highest_K_score_index]\n",
    "        Prob = (sum(DJIA_K)+0.)/len(DJIA_K) #smoothing\n",
    "        if Prob >= 0.5:\n",
    "            pred_test[j] = 1\n",
    "        else:\n",
    "            pred_test[j] = 0\n",
    "    accu_train = np.mean(Y_train == pred_train)        \n",
    "    accu_test = np.mean(Y_test == pred_test)\n",
    "    error_train = 1.0-accu_train\n",
    "    error_test = 1.0-accu_test\n",
    "    TP = sum(Y_test*pred_test==1)\n",
    "    TN = sum(Y_test+pred_test==0)\n",
    "    FP = sum(Y_test<pred_test)\n",
    "    FN = sum(Y_test>pred_test)\n",
    "    tpr = TP/float(TP+FN)\n",
    "    fpr = FP/float(FP+TN)\n",
    "    return error_train,error_test,tpr,fpr"
   ]
  },
  {
   "cell_type": "code",
   "execution_count": 350,
   "metadata": {},
   "outputs": [],
   "source": [
    "def knn_cv(dataset = FORMALset, cvset = CVset):    \n",
    "    Knn = [0]*20\n",
    "    Knn_CVerror = [0]*20\n",
    "    for k in range(20):\n",
    "        Knn_CVerror[k] = 0.\n",
    "        for i in range(10):\n",
    "            Knn_CVerror[k] = Knn_CVerror[k]+0.1*KNN(cvset[i][0],\\\n",
    "                                cvset[i][1],cvset[i][2],cvset[i][3],k+1)[1]\n",
    "        Knn[k] = KNN(dataset[0],dataset[1],dataset[2],dataset[3],k+1)\n",
    "    Ktrain_error =[Knn[k][0] for k in range(20)]\n",
    "    one_over_k = [1.0/K for K in range(1, 21)]\n",
    "    plt.plot(one_over_k, Ktrain_error, '-yo', label = 'train error')\n",
    "    plt.plot(one_over_k, Knn_CVerror, '-go', label = 'CV error')\n",
    "    plt.ylabel('error')\n",
    "    plt.xlabel('1/K')\n",
    "    plt.legend(loc = 'lower left')\n",
    "    K_chosen = np.argmin(Knn_CVerror)+1\n",
    "    print \"Minimum CV Error:\",Knn_CVerror[K_chosen-1],\"\\tK =\",K_chosen\n",
    "    print \"KNN Model with K =\",K_chosen\n",
    "    print \"Training Error:\\t\",Knn[K_chosen-1][0]\n",
    "    print \"CV Error:\\t\",Knn_CVerror[K_chosen-1]\n",
    "    print \"Test Error:\\t\",Knn[K_chosen-1][1]\n",
    "    print \"Test True Positive Rate:\\t\",Knn[K_chosen-1][2]\n",
    "    print \"Test False Positive Rate:\\t\",Knn[K_chosen-1][3]"
   ]
  },
  {
   "cell_type": "code",
   "execution_count": 351,
   "metadata": {},
   "outputs": [
    {
     "name": "stdout",
     "output_type": "stream",
     "text": [
      "Minimum CV Error: 0.4580000000000001 \tK = 5\n",
      "KNN Model with K = 5\n",
      "Training Error:\t0.31000000000000005\n",
      "CV Error:\t0.4580000000000001\n",
      "Test Error:\t0.4982698961937716\n",
      "Test True Positive Rate:\t0.5374149659863946\n",
      "Test False Positive Rate:\t0.5352112676056338\n"
     ]
    },
    {
     "data": {
      "image/png": "[encoded data removed]",
      "text/plain": [
       "<matplotlib.figure.Figure at 0x7f6ccba80f10>"
      ]
     },
     "metadata": {},
     "output_type": "display_data"
    }
   ],
   "source": [
    "knn_cv()"
   ]
  },
  {
   "cell_type": "markdown",
   "metadata": {},
   "source": [
    "### 6.1.1 Train and test KNN on sentiment score data"
   ]
  },
  {
   "cell_type": "code",
   "execution_count": 352,
   "metadata": {},
   "outputs": [
    {
     "name": "stdout",
     "output_type": "stream",
     "text": [
      "Minimum CV Error: 0.4659999999999999 \tK = 5\n",
      "KNN Model with K = 5\n",
      "Training Error:\t0.3076470588235294\n",
      "CV Error:\t0.4659999999999999\n",
      "Test Error:\t0.47404844290657444\n",
      "Test True Positive Rate:\t0.6122448979591837\n",
      "Test False Positive Rate:\t0.5633802816901409\n"
     ]
    },
    {
     "data": {
      "image/png": "[encoded data removed]",
      "text/plain": [
       "<matplotlib.figure.Figure at 0x7f6cd22fe510>"
      ]
     },
     "metadata": {},
     "output_type": "display_data"
    }
   ],
   "source": [
    "knn_cv(dataset=Sentiment_score_set, cvset=Sentiment_score_CV)"
   ]
  },
  {
   "cell_type": "markdown",
   "metadata": {},
   "source": [
    "### 6.2 Logistic"
   ]
  },
  {
   "cell_type": "code",
   "execution_count": 173,
   "metadata": {},
   "outputs": [],
   "source": [
    "from sklearn.linear_model import LogisticRegression\n",
    "def Logit(X_train, Y_train, X_test, Y_test):\n",
    "    logit = LogisticRegression()\n",
    "    logit_fit = logit.fit(X_train, Y_train)\n",
    "    logit_train_predict = logit.predict(X_train)\n",
    "    logit_predict = logit.predict(X_test)\n",
    "    accu_train = sum(Y_train == logit_train_predict)/float(len(Y_train))\n",
    "    accu_test = sum(Y_test == logit_predict)/float(len(Y_test))\n",
    "    error_train = 1.0-accu_train\n",
    "    error_test = 1.0-accu_test\n",
    "    TP = sum(Y_test*logit_predict==1)\n",
    "    TN = sum(Y_test+logit_predict==0)\n",
    "    FP = sum(Y_test<logit_predict)\n",
    "    FN = sum(Y_test>logit_predict)\n",
    "    tpr = TP/float(TP+FN)\n",
    "    fpr = FP/float(FP+TN)\n",
    "    return error_train,error_test,tpr,fpr"
   ]
  },
  {
   "cell_type": "code",
   "execution_count": 355,
   "metadata": {},
   "outputs": [],
   "source": [
    "def Logit_cv(dataset = FORMALset, cvset = CVset):\n",
    "    Logit0_CVerror = 0.\n",
    "    for i in range(10):\n",
    "        Logit0_CVerror = Logit0_CVerror+0.1*Logit(cvset[i][0],cvset[i][1],cvset[i][2],cvset[i][3])[1]\n",
    "    Logit0 = Logit(dataset[0],dataset[1],dataset[2],dataset[3])\n",
    "    print \"Logistic Model\"\n",
    "    print \"Training Error:\\t\",Logit0[0]\n",
    "    print \"CV Error:\\t\",Logit0_CVerror\n",
    "    print \"Test Error:\\t\",Logit0[1]\n",
    "    print \"Test True Positive Rate:\\t\",Logit0[2]\n",
    "    print \"Test False Positive Rate:\\t\",Logit0[3]"
   ]
  },
  {
   "cell_type": "code",
   "execution_count": 356,
   "metadata": {},
   "outputs": [
    {
     "name": "stdout",
     "output_type": "stream",
     "text": [
      "Logistic Model\n",
      "Training Error:\t0.21705882352941175\n",
      "CV Error:\t0.48700000000000004\n",
      "Test Error:\t0.5397923875432526\n",
      "Test True Positive Rate:\t0.6326530612244898\n",
      "Test False Positive Rate:\t0.7183098591549296\n"
     ]
    }
   ],
   "source": [
    "Logit_cv()"
   ]
  },
  {
   "cell_type": "markdown",
   "metadata": {},
   "source": [
    "### 6.2.1 Test Logit on Sentiment Score data"
   ]
  },
  {
   "cell_type": "code",
   "execution_count": 357,
   "metadata": {},
   "outputs": [
    {
     "name": "stdout",
     "output_type": "stream",
     "text": [
      "Logistic Model\n",
      "Training Error:\t0.46058823529411763\n",
      "CV Error:\t0.47\n",
      "Test Error:\t0.4982698961937716\n",
      "Test True Positive Rate:\t0.9795918367346939\n",
      "Test False Positive Rate:\t0.9929577464788732\n"
     ]
    }
   ],
   "source": [
    "Logit_cv(dataset=Sentiment_score_set, cvset=Sentiment_score_CV)"
   ]
  },
  {
   "cell_type": "code",
   "execution_count": 174,
   "metadata": {},
   "outputs": [],
   "source": [
    "def LogitLasso(X_train, Y_train, X_test, Y_test):\n",
    "    logit = LogisticRegression(penalty='l1')\n",
    "    logit_fit = logit.fit(X_train, Y_train)\n",
    "    logit_train_predict = logit.predict(X_train)\n",
    "    logit_predict = logit.predict(X_test)\n",
    "    accu_train = sum(Y_train == logit_train_predict)/float(len(Y_train))\n",
    "    accu_test = sum(Y_test == logit_predict)/float(len(Y_test))\n",
    "    error_train = 1.0-accu_train\n",
    "    error_test = 1.0-accu_test\n",
    "    TP = sum(Y_test*logit_predict==1)\n",
    "    TN = sum(Y_test+logit_predict==0)\n",
    "    FP = sum(Y_test<logit_predict)\n",
    "    FN = sum(Y_test>logit_predict)\n",
    "    tpr = TP/float(TP+FN)\n",
    "    fpr = FP/float(FP+TN)\n",
    "    return error_train,error_test,tpr,fpr"
   ]
  },
  {
   "cell_type": "code",
   "execution_count": 358,
   "metadata": {},
   "outputs": [],
   "source": [
    "def LogitL_cv(dataset=FORMALset, cvset=CVset):\n",
    "    LogitL_CVerror = 0.\n",
    "    for i in range(10):\n",
    "        LogitL_CVerror = LogitL_CVerror+0.1*LogitLasso(cvset[i][0],cvset[i][1],cvset[i][2],cvset[i][3])[1]\n",
    "    LogitL = LogitLasso(dataset[0],dataset[1],dataset[2],dataset[3])\n",
    "    print \"Logistic Lasso Model\"\n",
    "    print \"Training Error:\\t\",LogitL[0]\n",
    "    print \"CV Error:\\t\",LogitL_CVerror\n",
    "    print \"Test Error:\\t\",LogitL[1]\n",
    "    print \"Test True Positive Rate:\\t\",LogitL[2]\n",
    "    print \"Test False Positive Rate:\\t\",LogitL[3]"
   ]
  },
  {
   "cell_type": "code",
   "execution_count": 364,
   "metadata": {},
   "outputs": [
    {
     "name": "stdout",
     "output_type": "stream",
     "text": [
      "Logistic Lasso Model\n",
      "Training Error:\t0.361764705882353\n",
      "CV Error:\t0.45599999999999996\n",
      "Test Error:\t0.4429065743944637\n",
      "Test True Positive Rate:\t0.8435374149659864\n",
      "Test False Positive Rate:\t0.7394366197183099\n"
     ]
    }
   ],
   "source": [
    "LogitL_cv()"
   ]
  },
  {
   "cell_type": "code",
   "execution_count": 369,
   "metadata": {},
   "outputs": [
    {
     "name": "stdout",
     "output_type": "stream",
     "text": [
      "Logistic Lasso Model\n",
      "Training Error:\t0.46235294117647063\n",
      "CV Error:\t0.46599999999999997\n",
      "Test Error:\t0.4948096885813149\n",
      "Test True Positive Rate:\t0.9863945578231292\n",
      "Test False Positive Rate:\t0.9929577464788732\n"
     ]
    }
   ],
   "source": [
    "LogitL_cv(dataset=Sentiment_score_set, cvset=Sentiment_score_CV)"
   ]
  },
  {
   "cell_type": "code",
   "execution_count": 365,
   "metadata": {},
   "outputs": [],
   "source": [
    "def LogitRidge(X_train, Y_train, X_test, Y_test):\n",
    "    logit = LogisticRegression(penalty='l2')\n",
    "    logit_fit = logit.fit(X_train, Y_train)\n",
    "    logit_train_predict = logit.predict(X_train)\n",
    "    logit_predict = logit.predict(X_test)\n",
    "    accu_train = sum(Y_train == logit_train_predict)/float(len(Y_train))\n",
    "    accu_test = sum(Y_test == logit_predict)/float(len(Y_test))\n",
    "    error_train = 1.0-accu_train\n",
    "    error_test = 1.0-accu_test\n",
    "    TP = sum(Y_test*logit_predict==1)\n",
    "    TN = sum(Y_test+logit_predict==0)\n",
    "    FP = sum(Y_test<logit_predict)\n",
    "    FN = sum(Y_test>logit_predict)\n",
    "    tpr = TP/float(TP+FN)\n",
    "    fpr = FP/float(FP+TN)\n",
    "    return error_train,error_test,tpr,fpr"
   ]
  },
  {
   "cell_type": "code",
   "execution_count": 366,
   "metadata": {},
   "outputs": [],
   "source": [
    "def LogitR_cv(dataset=FORMALset, cvset=CVset):\n",
    "    LogitR_CVerror = 0.\n",
    "    for i in range(10):\n",
    "        LogitR_CVerror = LogitR_CVerror+0.1*LogitRidge(cvset[i][0],cvset[i][1],cvset[i][2],cvset[i][3])[1]\n",
    "    LogitR = LogitRidge(dataset[0],dataset[1],dataset[2],dataset[3])\n",
    "    print \"Logistic Ridge Model\"\n",
    "    print \"Training Error:\\t\",LogitR[0]\n",
    "    print \"CV Error:\\t\",LogitR_CVerror\n",
    "    print \"Test Error:\\t\",LogitR[1]\n",
    "    print \"Test True Positive Rate:\\t\",LogitR[2]\n",
    "    print \"Test False Positive Rate:\\t\",LogitR[3]"
   ]
  },
  {
   "cell_type": "code",
   "execution_count": 367,
   "metadata": {},
   "outputs": [
    {
     "name": "stdout",
     "output_type": "stream",
     "text": [
      "Logistic Ridge Model\n",
      "Training Error:\t0.21705882352941175\n",
      "CV Error:\t0.48700000000000004\n",
      "Test Error:\t0.5397923875432526\n",
      "Test True Positive Rate:\t0.6326530612244898\n",
      "Test False Positive Rate:\t0.7183098591549296\n"
     ]
    }
   ],
   "source": [
    "LogitR_cv()"
   ]
  },
  {
   "cell_type": "code",
   "execution_count": 368,
   "metadata": {},
   "outputs": [
    {
     "name": "stdout",
     "output_type": "stream",
     "text": [
      "Logistic Ridge Model\n",
      "Training Error:\t0.46058823529411763\n",
      "CV Error:\t0.47\n",
      "Test Error:\t0.4982698961937716\n",
      "Test True Positive Rate:\t0.9795918367346939\n",
      "Test False Positive Rate:\t0.9929577464788732\n"
     ]
    }
   ],
   "source": [
    "LogitR_cv(dataset=Sentiment_score_set, cvset=Sentiment_score_CV)"
   ]
  },
  {
   "cell_type": "markdown",
   "metadata": {},
   "source": [
    "### 6.3 Rocchio Classification"
   ]
  },
  {
   "cell_type": "code",
   "execution_count": 389,
   "metadata": {},
   "outputs": [],
   "source": [
    "def Rocchio(X_train, Y_train, X_test, Y_test):\n",
    "    import scipy.sparse\n",
    "    if scipy.sparse.issparse(X_train):\n",
    "        X_train = X_train.todense()\n",
    "        X_test = X_test.todense()\n",
    "    pred_train = np.zeros(len(Y_train), dtype = 'int64')\n",
    "    pred_test = np.zeros(len(Y_test), dtype = 'int64')\n",
    "    X_train_1 = X_train[np.array(Y_train) == 1, :]\n",
    "    X_train_0 = X_train[np.array(Y_train) == 0, :]\n",
    "    Centriod_1 = (np.sum(X_train_1, axis = 0)+0.)/X_train_1.shape[0]\n",
    "    Centriod_0 = (np.sum(X_train_0, axis = 0)+0.)/X_train_0.shape[0]\n",
    "    for j in range(len(Y_train)):\n",
    "        distance_1 = np.sqrt(np.sum(np.square(X_train[j]-Centriod_1)))\n",
    "        distance_0 = np.sqrt(np.sum(np.square(X_train[j]-Centriod_0)))\n",
    "        if distance_1 <= distance_0:\n",
    "            pred_train[j] = 1\n",
    "        else:\n",
    "            pred_train[j] = 0\n",
    "    accu_train = np.mean(Y_train == pred_train)\n",
    "    for j in range(len(Y_test)):\n",
    "        distance_1 = np.sqrt(np.sum(np.square(X_test[j]-Centriod_1)))\n",
    "        distance_0 = np.sqrt(np.sum(np.square(X_test[j]-Centriod_0)))\n",
    "        if distance_1 <= distance_0:\n",
    "            pred_test[j] = 1\n",
    "        else:\n",
    "            pred_test[j] = 0\n",
    "    accu_test = np.mean(Y_test == pred_test)\n",
    "    error_train = 1.0-accu_train\n",
    "    error_test = 1.0-accu_test   \n",
    "    TP = sum(Y_test*pred_test==1)\n",
    "    TN = sum(Y_test+pred_test==0)\n",
    "    FP = sum(Y_test<pred_test)\n",
    "    FN = sum(Y_test>pred_test)\n",
    "    tpr = TP/float(TP+FN)\n",
    "    fpr = FP/float(FP+TN)\n",
    "    return error_train,error_test,tpr,fpr"
   ]
  },
  {
   "cell_type": "code",
   "execution_count": 390,
   "metadata": {},
   "outputs": [],
   "source": [
    "def Rocchio_cv(dataset=FORMALset, cvset=CVset):\n",
    "    RC_CVerror = 0.\n",
    "    for i in range(10):\n",
    "        RC_CVerror = RC_CVerror+0.1*Rocchio(cvset[i][0],cvset[i][1],cvset[i][2],cvset[i][3])[1]\n",
    "    RC = Rocchio(dataset[0],dataset[1],dataset[2],dataset[3])\n",
    "    print \"Rocchio Classification Model\"\n",
    "    print \"Training Error:\\t\",RC[0]\n",
    "    print \"CV Error:\\t\",RC_CVerror\n",
    "    print \"Test Error:\\t\",RC[1]\n",
    "    print \"Test True Positive Rate:\\t\",RC[2]\n",
    "    print \"Test False Positive Rate:\\t\",RC[3]"
   ]
  },
  {
   "cell_type": "code",
   "execution_count": 391,
   "metadata": {},
   "outputs": [
    {
     "name": "stdout",
     "output_type": "stream",
     "text": [
      "Rocchio Classification Model\n",
      "Training Error:\t0.24529411764705877\n",
      "CV Error:\t0.49299999999999994\n",
      "Test Error:\t0.4982698961937716\n",
      "Test True Positive Rate:\t0.5102040816326531\n",
      "Test False Positive Rate:\t0.5070422535211268\n"
     ]
    }
   ],
   "source": [
    "Rocchio_cv()"
   ]
  },
  {
   "cell_type": "code",
   "execution_count": 392,
   "metadata": {},
   "outputs": [
    {
     "name": "stdout",
     "output_type": "stream",
     "text": [
      "Rocchio Classification Model\n",
      "Training Error:\t0.47882352941176476\n",
      "CV Error:\t0.498\n",
      "Test Error:\t0.546712802768166\n",
      "Test True Positive Rate:\t0.6394557823129252\n",
      "Test False Positive Rate:\t0.7394366197183099\n"
     ]
    }
   ],
   "source": [
    "Rocchio_cv(dataset=Sentiment_score_set, cvset=Sentiment_score_CV)"
   ]
  },
  {
   "cell_type": "markdown",
   "metadata": {},
   "source": [
    "### 6.4 Naive Bayes"
   ]
  },
  {
   "cell_type": "code",
   "execution_count": 393,
   "metadata": {},
   "outputs": [],
   "source": [
    "from sklearn.naive_bayes import BernoulliNB\n",
    "def NaiveBayes(X_train, Y_train, X_test, Y_test):\n",
    "    BNBclassifier = BernoulliNB(alpha=1)\n",
    "    BNBclassifier.fit(X_train, Y_train)\n",
    "    BNBpred_train = BNBclassifier.predict(X_train)\n",
    "    BNBpred = BNBclassifier.predict(X_test)\n",
    "    accu_train = np.mean(BNBpred_train==Y_train)\n",
    "    accu_test = np.mean(BNBpred==Y_test)\n",
    "    error_train = 1.0-accu_train\n",
    "    error_test = 1.0-accu_test\n",
    "    TP = sum(Y_test*BNBpred==1)\n",
    "    TN = sum(Y_test+BNBpred==0)\n",
    "    FP = sum(Y_test<BNBpred)\n",
    "    FN = sum(Y_test>BNBpred)\n",
    "    tpr = TP/float(TP+FN)\n",
    "    fpr = FP/float(FP+TN)\n",
    "    return error_train,error_test,tpr,fpr"
   ]
  },
  {
   "cell_type": "code",
   "execution_count": 394,
   "metadata": {},
   "outputs": [],
   "source": [
    "def NB_cv(dataset=FORMALset, cvset=CVset):\n",
    "    NB_CVerror = 0.\n",
    "    for i in range(10):\n",
    "        NB_CVerror = NB_CVerror+0.1*NaiveBayes(cvset[i][0],cvset[i][1],cvset[i][2],cvset[i][3])[1]\n",
    "    NB = NaiveBayes(dataset[0],dataset[1],dataset[2],dataset[3])\n",
    "    print \"Naive Bayes Model\"\n",
    "    print \"Training Error:\\t\",NB[0]\n",
    "    print \"CV Error:\\t\",NB_CVerror\n",
    "    print \"Test Error:\\t\",NB[1]\n",
    "    print \"Test True Positive Rate:\\t\",NB[2]\n",
    "    print \"Test False Positive Rate:\\t\",NB[3]"
   ]
  },
  {
   "cell_type": "code",
   "execution_count": 395,
   "metadata": {},
   "outputs": [
    {
     "name": "stdout",
     "output_type": "stream",
     "text": [
      "Naive Bayes Model\n",
      "Training Error:\t0.23235294117647054\n",
      "CV Error:\t0.49499999999999994\n",
      "Test Error:\t0.5259515570934257\n",
      "Test True Positive Rate:\t0.5306122448979592\n",
      "Test False Positive Rate:\t0.5845070422535211\n"
     ]
    }
   ],
   "source": [
    "NB_cv()"
   ]
  },
  {
   "cell_type": "code",
   "execution_count": 396,
   "metadata": {},
   "outputs": [
    {
     "name": "stdout",
     "output_type": "stream",
     "text": [
      "Naive Bayes Model\n",
      "Training Error:\t0.45999999999999996\n",
      "CV Error:\t0.46499999999999997\n",
      "Test Error:\t0.4913494809688581\n",
      "Test True Positive Rate:\t1.0\n",
      "Test False Positive Rate:\t1.0\n"
     ]
    }
   ],
   "source": [
    "NB_cv(dataset=Sentiment_score_set, cvset=Sentiment_score_CV)"
   ]
  },
  {
   "cell_type": "markdown",
   "metadata": {},
   "source": [
    "### 6.5 Decision Tree"
   ]
  },
  {
   "cell_type": "code",
   "execution_count": 192,
   "metadata": {},
   "outputs": [],
   "source": [
    "# REFERENCE: http://scikit-learn.org/stable/modules/tree.html\n",
    "from sklearn import tree\n",
    "def DecisionTree(X_train, Y_train, X_test, Y_test):\n",
    "    clf = tree.DecisionTreeClassifier()\n",
    "    clf = clf.fit(X_train, Y_train)\n",
    "    clf_train = clf.predict(X_train)\n",
    "    clf_test = clf.predict(X_test)\n",
    "    accu_train = sum(Y_train == clf_train)/float(len(Y_train))\n",
    "    accu_test = sum(Y_test == clf_test)/float(len(Y_test))\n",
    "    error_train = 1.0-accu_train\n",
    "    error_test = 1.0-accu_test\n",
    "    TP = sum(Y_test*clf_test==1)\n",
    "    TN = sum(Y_test+clf_test==0)\n",
    "    FP = sum(Y_test<clf_test)\n",
    "    FN = sum(Y_test>clf_test)\n",
    "    tpr = TP/float(TP+FN)\n",
    "    fpr = FP/float(FP+TN)\n",
    "    return error_train,error_test,tpr,fpr"
   ]
  },
  {
   "cell_type": "code",
   "execution_count": 397,
   "metadata": {},
   "outputs": [],
   "source": [
    "def DT_cv(dataset=FORMALset, cvset=CVset):\n",
    "    DT_CVerror = 0.\n",
    "    for i in range(10):\n",
    "        DT_CVerror = DT_CVerror+0.1*DecisionTree(cvset[i][0],cvset[i][1],cvset[i][2],cvset[i][3])[1]\n",
    "    DT = DecisionTree(dataset[0],dataset[1],dataset[2],dataset[3])\n",
    "    print \"Naive Bayes Model\"\n",
    "    print \"Training Error:\\t\",DT[0]\n",
    "    print \"CV Error:\\t\",DT_CVerror\n",
    "    print \"Test Error:\\t\",DT[1]\n",
    "    print \"Test True Positive Rate:\\t\",DT[2]\n",
    "    print \"Test False Positive Rate:\\t\",DT[3]"
   ]
  },
  {
   "cell_type": "code",
   "execution_count": 398,
   "metadata": {},
   "outputs": [
    {
     "name": "stdout",
     "output_type": "stream",
     "text": [
      "Naive Bayes Model\n",
      "Training Error:\t0.0\n",
      "CV Error:\t0.49699999999999994\n",
      "Test Error:\t0.45674740484429066\n",
      "Test True Positive Rate:\t0.564625850340136\n",
      "Test False Positive Rate:\t0.4788732394366197\n"
     ]
    }
   ],
   "source": [
    "DT_cv()"
   ]
  },
  {
   "cell_type": "code",
   "execution_count": 399,
   "metadata": {},
   "outputs": [
    {
     "name": "stdout",
     "output_type": "stream",
     "text": [
      "Naive Bayes Model\n",
      "Training Error:\t0.0\n",
      "CV Error:\t0.507\n",
      "Test Error:\t0.48096885813148793\n",
      "Test True Positive Rate:\t0.5986394557823129\n",
      "Test False Positive Rate:\t0.5633802816901409\n"
     ]
    }
   ],
   "source": [
    "DT_cv(dataset=Sentiment_score_set, cvset=Sentiment_score_CV)"
   ]
  },
  {
   "cell_type": "markdown",
   "metadata": {},
   "source": [
    "### 6.6 Random Forests"
   ]
  },
  {
   "cell_type": "code",
   "execution_count": 400,
   "metadata": {},
   "outputs": [],
   "source": [
    "# REFERENCE: http://scikit-learn.org/stable/modules/generated/sklearn.ensemble.RandomForestClassifier.html\n",
    "from sklearn.ensemble import RandomForestClassifier\n",
    "def RandomForest(X_train, Y_train, X_test, Y_test, md):\n",
    "    clfr = RandomForestClassifier(max_depth=md, random_state=0)\n",
    "    clfr = clfr.fit(X_train, Y_train)\n",
    "    clfr_train = clfr.predict(X_train)\n",
    "    clfr_test = clfr.predict(X_test)\n",
    "    accu_train = sum(Y_train == clfr_train)/float(len(Y_train))\n",
    "    accu_test = sum(Y_test == clfr_test)/float(len(Y_test))\n",
    "    error_train = 1.0-accu_train\n",
    "    error_test = 1.0-accu_test\n",
    "    TP = sum(Y_test*clfr_test==1)\n",
    "    TN = sum(Y_test+clfr_test==0)\n",
    "    FP = sum(Y_test<clfr_test)\n",
    "    FN = sum(Y_test>clfr_test)\n",
    "    tpr = TP/float(TP+FN)\n",
    "    fpr = FP/float(FP+TN)\n",
    "    return error_train,error_test,tpr,fpr"
   ]
  },
  {
   "cell_type": "code",
   "execution_count": 401,
   "metadata": {},
   "outputs": [],
   "source": [
    "def RF_cv(dataset=FORMALset, cvset=CVset):\n",
    "    RF = [0]*50\n",
    "    RF_CVerror = [0]*50\n",
    "    for md in range(50):\n",
    "        RF_CVerror[md] = 0.\n",
    "        for i in range(10):\n",
    "            RF_CVerror[md] = RF_CVerror[md]+0.1*RandomForest(cvset[i][0],cvset[i][1],cvset[i][2],cvset[i][3],md+1)[1]\n",
    "        RF[md] = RandomForest(dataset[0],dataset[1],dataset[2],dataset[3],md+1)\n",
    "    RFtrain_error =[RF[md][0] for md in range(50)]\n",
    "    plt.plot(range(1, 51), RFtrain_error, '-yo', label = 'train error')\n",
    "    plt.plot(range(1, 51), RF_CVerror, '-go', label = 'CV error')\n",
    "    plt.ylabel('error')\n",
    "    plt.xlabel('max depth')\n",
    "    plt.legend(loc = 'lower left')\n",
    "    MD_chosen = np.argmin(RF_CVerror)+1\n",
    "    print \"Minimum CV Error:\",RF_CVerror[MD_chosen-1],\"\\t max_depth =\",MD_chosen\n",
    "    print \"Random Forests Model with K =\",MD_chosen\n",
    "    print \"Training Error:\\t\",RF[MD_chosen-1][0]\n",
    "    print \"CV Error:\\t\",RF_CVerror[MD_chosen-1]\n",
    "    print \"Test Error:\\t\",RF[MD_chosen-1][1]\n",
    "    print \"Test True Positive Rate:\\t\",RF[MD_chosen-1][2]\n",
    "    print \"Test False Positive Rate:\\t\",RF[MD_chosen-1][3]"
   ]
  },
  {
   "cell_type": "code",
   "execution_count": 402,
   "metadata": {},
   "outputs": [
    {
     "name": "stdout",
     "output_type": "stream",
     "text": [
      "Minimum CV Error: 0.46599999999999997 \t max_depth = 25\n",
      "Random Forests Model with K = 25\n",
      "Training Error:\t0.045882352941176485\n",
      "CV Error:\t0.46599999999999997\n",
      "Test Error:\t0.5086505190311419\n",
      "Test True Positive Rate:\t0.5986394557823129\n",
      "Test False Positive Rate:\t0.6197183098591549\n"
     ]
    },
    {
     "data": {
      "image/png": "[encoded data removed]",
      "text/plain": [
       "<matplotlib.figure.Figure at 0x7f6d20d77090>"
      ]
     },
     "metadata": {},
     "output_type": "display_data"
    }
   ],
   "source": [
    "RF_cv()"
   ]
  },
  {
   "cell_type": "code",
   "execution_count": 403,
   "metadata": {},
   "outputs": [
    {
     "name": "stdout",
     "output_type": "stream",
     "text": [
      "Minimum CV Error: 0.4689999999999999 \t max_depth = 24\n",
      "Random Forests Model with K = 24\n",
      "Training Error:\t0.020588235294117685\n",
      "CV Error:\t0.4689999999999999\n",
      "Test Error:\t0.46712802768166095\n",
      "Test True Positive Rate:\t0.5510204081632653\n",
      "Test False Positive Rate:\t0.4859154929577465\n"
     ]
    },
    {
     "data": {
      "image/png": "[encoded data removed]",
      "text/plain": [
       "<matplotlib.figure.Figure at 0x7f6ce545acd0>"
      ]
     },
     "metadata": {},
     "output_type": "display_data"
    }
   ],
   "source": [
    "RF_cv(dataset = Sentiment_score_set, cvset=Sentiment_score_CV)"
   ]
  },
  {
   "cell_type": "markdown",
   "metadata": {},
   "source": [
    "## 6.7 Support Vector Classifier"
   ]
  },
  {
   "cell_type": "code",
   "execution_count": 406,
   "metadata": {},
   "outputs": [],
   "source": [
    "from sklearn.svm import SVC\n",
    "def SVClassifier(X_train, Y_train, X_test, Y_test, kernel='rbf', gamma='auto', C=1.0):\n",
    "    svc = SVC(kernel=kernel, gamma=gamma, C=C)\n",
    "    svc.fit(X_train, Y_train)\n",
    "    svc_train = svc.predict(X_train)\n",
    "    svc_test = svc.predict(X_test)\n",
    "    accu_train = sum(Y_train == svc_train)/float(len(Y_train))\n",
    "    accu_test = sum(Y_test == svc_test)/float(len(Y_test))\n",
    "    error_train = 1.0-accu_train\n",
    "    error_test = 1.0-accu_test\n",
    "    TP = sum(Y_test*svc_test==1)\n",
    "    TN = sum(Y_test+svc_test==0)\n",
    "    FP = sum(Y_test<svc_test)\n",
    "    FN = sum(Y_test>svc_test)\n",
    "    tpr = TP/float(TP+FN)\n",
    "    fpr = FP/float(FP+TN)\n",
    "    return error_train,error_test,tpr,fpr"
   ]
  },
  {
   "cell_type": "code",
   "execution_count": 425,
   "metadata": {},
   "outputs": [],
   "source": [
    "def SVC_cv(dataset=FORMALset, cvset=CVset):\n",
    "    SVC_CVerror = []\n",
    "    for gamma in np.arange(0.1, 4, 0.5):\n",
    "        for C in np.arange(1, 15, 5):\n",
    "            sum_ = 0.\n",
    "            for i in range(10):\n",
    "                sum_ += 0.1*SVClassifier(cvset[i][0],cvset[i][1],\\\n",
    "                                        cvset[i][2],cvset[i][3],\\\n",
    "                                        gamma=gamma, C=C)[1]\n",
    "            SVC_CVerror.append((sum_, gamma, C,))\n",
    "    \n",
    "    cve, gma, c = min(SVC_CVerror, key=lambda t: t[0])\n",
    "    err_train, err_test, tpr, fpr = SVClassifier(dataset[0], dataset[1], \\\n",
    "                                                 dataset[2], dataset[3], gamma=gma, C=c)\n",
    "    print \"Minimum CV Error:\\t\",cve\n",
    "    print \"gamma:\\t\", gma, \"C:\\t\", c\n",
    "    print \"Training Error:\\t\",err_train\n",
    "    print \"Test Error:\\t\",err_test\n",
    "    print \"Test True Positive Rate:\\t\",tpr\n",
    "    print \"Test False Positive Rate:\\t\",fpr"
   ]
  },
  {
   "cell_type": "code",
   "execution_count": 426,
   "metadata": {},
   "outputs": [
    {
     "name": "stdout",
     "output_type": "stream",
     "text": [
      "Minimum CV Error:\t0.46399999999999997\n",
      "gamma:\t3.1 C:\t6\n",
      "Training Error:\t0.0\n",
      "Test Error:\t0.4913494809688581\n",
      "Test True Positive Rate:\t1.0\n",
      "Test False Positive Rate:\t1.0\n"
     ]
    }
   ],
   "source": [
    "SVC_cv()"
   ]
  },
  {
   "cell_type": "code",
   "execution_count": 427,
   "metadata": {},
   "outputs": [
    {
     "name": "stdout",
     "output_type": "stream",
     "text": [
      "Minimum CV Error:\t0.46499999999999997\n",
      "gamma:\t0.1 C:\t1\n",
      "Training Error:\t0.45999999999999996\n",
      "Test Error:\t0.4913494809688581\n",
      "Test True Positive Rate:\t1.0\n",
      "Test False Positive Rate:\t1.0\n"
     ]
    }
   ],
   "source": [
    "SVC_cv(dataset=Sentiment_score_set, cvset=Sentiment_score_CV)"
   ]
  },
  {
   "cell_type": "code",
   "execution_count": null,
   "metadata": {},
   "outputs": [],
   "source": []
  }
 ],
 "metadata": {
  "kernelspec": {
   "display_name": "Python 2",
   "language": "python",
   "name": "python2"
  },
  "language_info": {
   "codemirror_mode": {
    "name": "ipython",
    "version": 2
   },
   "file_extension": ".py",
   "mimetype": "text/x-python",
   "name": "python",
   "nbconvert_exporter": "python",
   "pygments_lexer": "ipython2",
   "version": "2.7.12"
  }
 },
 "nbformat": 4,
 "nbformat_minor": 2
}
