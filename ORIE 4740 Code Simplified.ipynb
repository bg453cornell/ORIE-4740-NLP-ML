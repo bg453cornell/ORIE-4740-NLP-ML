{
 "cells": [
  {
   "cell_type": "code",
   "execution_count": 2,
   "metadata": {},
   "outputs": [
    {
     "name": "stderr",
     "output_type": "stream",
     "text": [
      "C:\\ProgramData\\Anaconda2\\lib\\site-packages\\sklearn\\cross_validation.py:44: DeprecationWarning: This module was deprecated in version 0.18 in favor of the model_selection module into which all the refactored classes and functions are moved. Also note that the interface of the new CV iterators are different from that of this module. This module will be removed in 0.20.\n",
      "  \"This module will be removed in 0.20.\", DeprecationWarning)\n"
     ]
    }
   ],
   "source": [
    "import pandas as pd\n",
    "import numpy as np\n",
    "import matplotlib.pyplot as plt\n",
    "%matplotlib inline\n",
    "\n",
    "import re\n",
    "import os\n",
    "import struct\n",
    "import nltk\n",
    "#nltk.download() \n",
    "from nltk.tag import pos_tag # pos_tag shows the characteristic of a word \n",
    "                             # using information in the database\n",
    "\n",
    "from sklearn.feature_extraction.text import CountVectorizer\n",
    "from sklearn.feature_extraction.text import TfidfVectorizer\n",
    "from sklearn.cross_validation import ShuffleSplit\n",
    "from sklearn.metrics.pairwise import cosine_similarity"
   ]
  },
  {
   "cell_type": "code",
   "execution_count": 3,
   "metadata": {},
   "outputs": [
    {
     "name": "stdout",
     "output_type": "stream",
     "text": [
      "Requirement already satisfied: empath in c:\\programdata\\anaconda2\\lib\\site-packages\n",
      "Requirement already satisfied: requests in c:\\programdata\\anaconda2\\lib\\site-packages (from empath)\n"
     ]
    },
    {
     "name": "stderr",
     "output_type": "stream",
     "text": [
      "You are using pip version 9.0.1, however version 10.0.1 is available.\n",
      "You should consider upgrading via the 'python -m pip install --upgrade pip' command.\n"
     ]
    }
   ],
   "source": [
    "# Install Empath tool for analyzing text across lexical categories\n",
    "import sys\n",
    "!{sys.executable} -m pip install empath"
   ]
  },
  {
   "cell_type": "code",
   "execution_count": 4,
   "metadata": {
    "collapsed": true
   },
   "outputs": [],
   "source": [
    "from empath import Empath"
   ]
  },
  {
   "cell_type": "code",
   "execution_count": 5,
   "metadata": {},
   "outputs": [
    {
     "name": "stdout",
     "output_type": "stream",
     "text": [
      "[nltk_data] Downloading package vader_lexicon to D:\\nltk_data...\n",
      "[nltk_data]   Package vader_lexicon is already up-to-date!\n"
     ]
    },
    {
     "data": {
      "text/plain": [
       "True"
      ]
     },
     "execution_count": 5,
     "metadata": {},
     "output_type": "execute_result"
    }
   ],
   "source": [
    "import nltk\n",
    "# nltk.download('vader_lexicon')"
   ]
  },
  {
   "cell_type": "markdown",
   "metadata": {
    "collapsed": true
   },
   "source": [
    "## Data Loading"
   ]
  },
  {
   "cell_type": "code",
   "execution_count": 6,
   "metadata": {
    "collapsed": true
   },
   "outputs": [],
   "source": [
    "df = pd.read_csv(\"./data/Combined_News_DJIA.csv\", header = 0, index_col = 0)"
   ]
  },
  {
   "cell_type": "code",
   "execution_count": 7,
   "metadata": {},
   "outputs": [
    {
     "data": {
      "text/html": [
       "<div>\n",
       "<style>\n",
       "    .dataframe thead tr:only-child th {\n",
       "        text-align: right;\n",
       "    }\n",
       "\n",
       "    .dataframe thead th {\n",
       "        text-align: left;\n",
       "    }\n",
       "\n",
       "    .dataframe tbody tr th {\n",
       "        vertical-align: top;\n",
       "    }\n",
       "</style>\n",
       "<table border=\"1\" class=\"dataframe\">\n",
       "  <thead>\n",
       "    <tr style=\"text-align: right;\">\n",
       "      <th></th>\n",
       "      <th>Label</th>\n",
       "      <th>Top1</th>\n",
       "      <th>Top2</th>\n",
       "      <th>Top3</th>\n",
       "      <th>Top4</th>\n",
       "      <th>Top5</th>\n",
       "      <th>Top6</th>\n",
       "      <th>Top7</th>\n",
       "      <th>Top8</th>\n",
       "      <th>Top9</th>\n",
       "      <th>...</th>\n",
       "      <th>Top16</th>\n",
       "      <th>Top17</th>\n",
       "      <th>Top18</th>\n",
       "      <th>Top19</th>\n",
       "      <th>Top20</th>\n",
       "      <th>Top21</th>\n",
       "      <th>Top22</th>\n",
       "      <th>Top23</th>\n",
       "      <th>Top24</th>\n",
       "      <th>Top25</th>\n",
       "    </tr>\n",
       "    <tr>\n",
       "      <th>Date</th>\n",
       "      <th></th>\n",
       "      <th></th>\n",
       "      <th></th>\n",
       "      <th></th>\n",
       "      <th></th>\n",
       "      <th></th>\n",
       "      <th></th>\n",
       "      <th></th>\n",
       "      <th></th>\n",
       "      <th></th>\n",
       "      <th></th>\n",
       "      <th></th>\n",
       "      <th></th>\n",
       "      <th></th>\n",
       "      <th></th>\n",
       "      <th></th>\n",
       "      <th></th>\n",
       "      <th></th>\n",
       "      <th></th>\n",
       "      <th></th>\n",
       "      <th></th>\n",
       "    </tr>\n",
       "  </thead>\n",
       "  <tbody>\n",
       "    <tr>\n",
       "      <th>2016-06-27</th>\n",
       "      <td>0</td>\n",
       "      <td>Barclays and RBS shares suspended from trading...</td>\n",
       "      <td>Pope says Church should ask forgiveness from g...</td>\n",
       "      <td>Poland 'shocked' by xenophobic abuse of Poles ...</td>\n",
       "      <td>There will be no second referendum, cabinet ag...</td>\n",
       "      <td>Scotland welcome to join EU, Merkel ally says</td>\n",
       "      <td>Sterling dips below Friday's 31-year low amid ...</td>\n",
       "      <td>No negative news about South African President...</td>\n",
       "      <td>Surge in Hate Crimes in the U.K. Following U.K...</td>\n",
       "      <td>Weapons shipped into Jordan by the CIA and Sau...</td>\n",
       "      <td>...</td>\n",
       "      <td>German lawyers to probe Erdogan over alleged w...</td>\n",
       "      <td>Boris Johnson says the UK will continue to \"in...</td>\n",
       "      <td>Richard Branson is calling on the UK governmen...</td>\n",
       "      <td>Turkey 'sorry for downing Russian jet'</td>\n",
       "      <td>Edward Snowden lawyer vows new push for pardon...</td>\n",
       "      <td>Brexit opinion poll reveals majority don't wan...</td>\n",
       "      <td>Conservative MP Leave Campaigner: \"The leave c...</td>\n",
       "      <td>Economists predict UK recession, further weake...</td>\n",
       "      <td>New EU 'superstate plan by France, Germany: Cr...</td>\n",
       "      <td>Pakistani clerics declare transgender marriage...</td>\n",
       "    </tr>\n",
       "    <tr>\n",
       "      <th>2016-06-28</th>\n",
       "      <td>1</td>\n",
       "      <td>2,500 Scientists To Australia: If You Want To ...</td>\n",
       "      <td>The personal details of 112,000 French police ...</td>\n",
       "      <td>S&amp;amp;P cuts United Kingdom sovereign credit r...</td>\n",
       "      <td>Huge helium deposit found in Africa</td>\n",
       "      <td>CEO of the South African state broadcaster qui...</td>\n",
       "      <td>Brexit cost investors $2 trillion, the worst o...</td>\n",
       "      <td>Hong Kong democracy activists call for return ...</td>\n",
       "      <td>Brexit: Iceland president says UK can join 'tr...</td>\n",
       "      <td>UK's Osborne: 'Absolutely' going to have to cu...</td>\n",
       "      <td>...</td>\n",
       "      <td>US, Canada and Mexico pledge 50% of power from...</td>\n",
       "      <td>There is increasing evidence that Australia is...</td>\n",
       "      <td>Richard Branson, the founder of Virgin Group, ...</td>\n",
       "      <td>37,000-yr-old skull from Borneo reveals surpri...</td>\n",
       "      <td>Palestinians stone Western Wall worshipers; po...</td>\n",
       "      <td>Jean-Claude Juncker asks Farage: Why are you h...</td>\n",
       "      <td>\"Romanians for Remainians\" offering a new home...</td>\n",
       "      <td>Brexit: Gibraltar in talks with Scotland to st...</td>\n",
       "      <td>8 Suicide Bombers Strike Lebanon</td>\n",
       "      <td>Mexico's security forces routinely use 'sexual...</td>\n",
       "    </tr>\n",
       "    <tr>\n",
       "      <th>2016-06-29</th>\n",
       "      <td>1</td>\n",
       "      <td>Explosion At Airport In Istanbul</td>\n",
       "      <td>Yemeni former president: Terrorism is the offs...</td>\n",
       "      <td>UK must accept freedom of movement to access E...</td>\n",
       "      <td>Devastated: scientists too late to captive bre...</td>\n",
       "      <td>British Labor Party leader Jeremy Corbyn loses...</td>\n",
       "      <td>A Muslim Shop in the UK Was Just Firebombed Wh...</td>\n",
       "      <td>Mexican Authorities Sexually Torture Women in ...</td>\n",
       "      <td>UK shares and pound continue to recover</td>\n",
       "      <td>Iceland historian Johannesson wins presidentia...</td>\n",
       "      <td>...</td>\n",
       "      <td>Escape Tunnel, Dug by Hand, Is Found at Holoca...</td>\n",
       "      <td>The land under Beijing is sinking by as much a...</td>\n",
       "      <td>Car bomb and Anti-Islamic attack on Mosque in ...</td>\n",
       "      <td>Emaciated lions in Taiz Zoo are trapped in blo...</td>\n",
       "      <td>Rupert Murdoch describes Brexit as 'wonderful'...</td>\n",
       "      <td>More than 40 killed in Yemen suicide attacks</td>\n",
       "      <td>Google Found Disastrous Symantec and Norton Vu...</td>\n",
       "      <td>Extremist violence on the rise in Germany: Dom...</td>\n",
       "      <td>BBC News: Labour MPs pass Corbyn no-confidence...</td>\n",
       "      <td>Tiny New Zealand town with 'too many jobs' lau...</td>\n",
       "    </tr>\n",
       "    <tr>\n",
       "      <th>2016-06-30</th>\n",
       "      <td>1</td>\n",
       "      <td>Jamaica proposes marijuana dispensers for tour...</td>\n",
       "      <td>Stephen Hawking says pollution and 'stupidity'...</td>\n",
       "      <td>Boris Johnson says he will not run for Tory pa...</td>\n",
       "      <td>Six gay men in Ivory Coast were abused and for...</td>\n",
       "      <td>Switzerland denies citizenship to Muslim immig...</td>\n",
       "      <td>Palestinian terrorist stabs israeli teen girl ...</td>\n",
       "      <td>Puerto Rico will default on $1 billion of debt...</td>\n",
       "      <td>Republic of Ireland fans to be awarded medal f...</td>\n",
       "      <td>Afghan suicide bomber 'kills up to 40' - BBC News</td>\n",
       "      <td>...</td>\n",
       "      <td>Googles free wifi at Indian railway stations i...</td>\n",
       "      <td>Mounting evidence suggests 'hobbits' were wipe...</td>\n",
       "      <td>The men who carried out Tuesday's terror attac...</td>\n",
       "      <td>Calls to suspend Saudi Arabia from UN Human Ri...</td>\n",
       "      <td>More Than 100 Nobel Laureates Call Out Greenpe...</td>\n",
       "      <td>British pedophile sentenced to 85 years in US ...</td>\n",
       "      <td>US permitted 1,200 offshore fracks in Gulf of ...</td>\n",
       "      <td>We will be swimming in ridicule - French beach...</td>\n",
       "      <td>UEFA says no minutes of silence for Istanbul v...</td>\n",
       "      <td>Law Enforcement Sources: Gun Used in Paris Ter...</td>\n",
       "    </tr>\n",
       "    <tr>\n",
       "      <th>2016-07-01</th>\n",
       "      <td>1</td>\n",
       "      <td>A 117-year-old woman in Mexico City finally re...</td>\n",
       "      <td>IMF chief backs Athens as permanent Olympic host</td>\n",
       "      <td>The president of France says if Brexit won, so...</td>\n",
       "      <td>British Man Who Must Give Police 24 Hours' Not...</td>\n",
       "      <td>100+ Nobel laureates urge Greenpeace to stop o...</td>\n",
       "      <td>Brazil: Huge spike in number of police killing...</td>\n",
       "      <td>Austria's highest court annuls presidential el...</td>\n",
       "      <td>Facebook wins privacy case, can track any Belg...</td>\n",
       "      <td>Switzerland denies Muslim girls citizenship af...</td>\n",
       "      <td>...</td>\n",
       "      <td>The United States has placed Myanmar, Uzbekist...</td>\n",
       "      <td>S&amp;amp;P revises European Union credit rating t...</td>\n",
       "      <td>India gets $1 billion loan from World Bank for...</td>\n",
       "      <td>U.S. sailors detained by Iran spoke too much u...</td>\n",
       "      <td>Mass fish kill in Vietnam solved as Taiwan ste...</td>\n",
       "      <td>Philippines president Rodrigo Duterte urges pe...</td>\n",
       "      <td>Spain arrests three Pakistanis accused of prom...</td>\n",
       "      <td>Venezuela, where anger over food shortages is ...</td>\n",
       "      <td>A Hindu temple worker has been killed by three...</td>\n",
       "      <td>Ozone layer hole seems to be healing - US &amp;amp...</td>\n",
       "    </tr>\n",
       "  </tbody>\n",
       "</table>\n",
       "<p>5 rows × 26 columns</p>\n",
       "</div>"
      ],
      "text/plain": [
       "            Label                                               Top1  \\\n",
       "Date                                                                   \n",
       "2016-06-27      0  Barclays and RBS shares suspended from trading...   \n",
       "2016-06-28      1  2,500 Scientists To Australia: If You Want To ...   \n",
       "2016-06-29      1                   Explosion At Airport In Istanbul   \n",
       "2016-06-30      1  Jamaica proposes marijuana dispensers for tour...   \n",
       "2016-07-01      1  A 117-year-old woman in Mexico City finally re...   \n",
       "\n",
       "                                                         Top2  \\\n",
       "Date                                                            \n",
       "2016-06-27  Pope says Church should ask forgiveness from g...   \n",
       "2016-06-28  The personal details of 112,000 French police ...   \n",
       "2016-06-29  Yemeni former president: Terrorism is the offs...   \n",
       "2016-06-30  Stephen Hawking says pollution and 'stupidity'...   \n",
       "2016-07-01   IMF chief backs Athens as permanent Olympic host   \n",
       "\n",
       "                                                         Top3  \\\n",
       "Date                                                            \n",
       "2016-06-27  Poland 'shocked' by xenophobic abuse of Poles ...   \n",
       "2016-06-28  S&amp;P cuts United Kingdom sovereign credit r...   \n",
       "2016-06-29  UK must accept freedom of movement to access E...   \n",
       "2016-06-30  Boris Johnson says he will not run for Tory pa...   \n",
       "2016-07-01  The president of France says if Brexit won, so...   \n",
       "\n",
       "                                                         Top4  \\\n",
       "Date                                                            \n",
       "2016-06-27  There will be no second referendum, cabinet ag...   \n",
       "2016-06-28                Huge helium deposit found in Africa   \n",
       "2016-06-29  Devastated: scientists too late to captive bre...   \n",
       "2016-06-30  Six gay men in Ivory Coast were abused and for...   \n",
       "2016-07-01  British Man Who Must Give Police 24 Hours' Not...   \n",
       "\n",
       "                                                         Top5  \\\n",
       "Date                                                            \n",
       "2016-06-27      Scotland welcome to join EU, Merkel ally says   \n",
       "2016-06-28  CEO of the South African state broadcaster qui...   \n",
       "2016-06-29  British Labor Party leader Jeremy Corbyn loses...   \n",
       "2016-06-30  Switzerland denies citizenship to Muslim immig...   \n",
       "2016-07-01  100+ Nobel laureates urge Greenpeace to stop o...   \n",
       "\n",
       "                                                         Top6  \\\n",
       "Date                                                            \n",
       "2016-06-27  Sterling dips below Friday's 31-year low amid ...   \n",
       "2016-06-28  Brexit cost investors $2 trillion, the worst o...   \n",
       "2016-06-29  A Muslim Shop in the UK Was Just Firebombed Wh...   \n",
       "2016-06-30  Palestinian terrorist stabs israeli teen girl ...   \n",
       "2016-07-01  Brazil: Huge spike in number of police killing...   \n",
       "\n",
       "                                                         Top7  \\\n",
       "Date                                                            \n",
       "2016-06-27  No negative news about South African President...   \n",
       "2016-06-28  Hong Kong democracy activists call for return ...   \n",
       "2016-06-29  Mexican Authorities Sexually Torture Women in ...   \n",
       "2016-06-30  Puerto Rico will default on $1 billion of debt...   \n",
       "2016-07-01  Austria's highest court annuls presidential el...   \n",
       "\n",
       "                                                         Top8  \\\n",
       "Date                                                            \n",
       "2016-06-27  Surge in Hate Crimes in the U.K. Following U.K...   \n",
       "2016-06-28  Brexit: Iceland president says UK can join 'tr...   \n",
       "2016-06-29            UK shares and pound continue to recover   \n",
       "2016-06-30  Republic of Ireland fans to be awarded medal f...   \n",
       "2016-07-01  Facebook wins privacy case, can track any Belg...   \n",
       "\n",
       "                                                         Top9  \\\n",
       "Date                                                            \n",
       "2016-06-27  Weapons shipped into Jordan by the CIA and Sau...   \n",
       "2016-06-28  UK's Osborne: 'Absolutely' going to have to cu...   \n",
       "2016-06-29  Iceland historian Johannesson wins presidentia...   \n",
       "2016-06-30  Afghan suicide bomber 'kills up to 40' - BBC News   \n",
       "2016-07-01  Switzerland denies Muslim girls citizenship af...   \n",
       "\n",
       "                                  ...                          \\\n",
       "Date                              ...                           \n",
       "2016-06-27                        ...                           \n",
       "2016-06-28                        ...                           \n",
       "2016-06-29                        ...                           \n",
       "2016-06-30                        ...                           \n",
       "2016-07-01                        ...                           \n",
       "\n",
       "                                                        Top16  \\\n",
       "Date                                                            \n",
       "2016-06-27  German lawyers to probe Erdogan over alleged w...   \n",
       "2016-06-28  US, Canada and Mexico pledge 50% of power from...   \n",
       "2016-06-29  Escape Tunnel, Dug by Hand, Is Found at Holoca...   \n",
       "2016-06-30  Googles free wifi at Indian railway stations i...   \n",
       "2016-07-01  The United States has placed Myanmar, Uzbekist...   \n",
       "\n",
       "                                                        Top17  \\\n",
       "Date                                                            \n",
       "2016-06-27  Boris Johnson says the UK will continue to \"in...   \n",
       "2016-06-28  There is increasing evidence that Australia is...   \n",
       "2016-06-29  The land under Beijing is sinking by as much a...   \n",
       "2016-06-30  Mounting evidence suggests 'hobbits' were wipe...   \n",
       "2016-07-01  S&amp;P revises European Union credit rating t...   \n",
       "\n",
       "                                                        Top18  \\\n",
       "Date                                                            \n",
       "2016-06-27  Richard Branson is calling on the UK governmen...   \n",
       "2016-06-28  Richard Branson, the founder of Virgin Group, ...   \n",
       "2016-06-29  Car bomb and Anti-Islamic attack on Mosque in ...   \n",
       "2016-06-30  The men who carried out Tuesday's terror attac...   \n",
       "2016-07-01  India gets $1 billion loan from World Bank for...   \n",
       "\n",
       "                                                        Top19  \\\n",
       "Date                                                            \n",
       "2016-06-27             Turkey 'sorry for downing Russian jet'   \n",
       "2016-06-28  37,000-yr-old skull from Borneo reveals surpri...   \n",
       "2016-06-29  Emaciated lions in Taiz Zoo are trapped in blo...   \n",
       "2016-06-30  Calls to suspend Saudi Arabia from UN Human Ri...   \n",
       "2016-07-01  U.S. sailors detained by Iran spoke too much u...   \n",
       "\n",
       "                                                        Top20  \\\n",
       "Date                                                            \n",
       "2016-06-27  Edward Snowden lawyer vows new push for pardon...   \n",
       "2016-06-28  Palestinians stone Western Wall worshipers; po...   \n",
       "2016-06-29  Rupert Murdoch describes Brexit as 'wonderful'...   \n",
       "2016-06-30  More Than 100 Nobel Laureates Call Out Greenpe...   \n",
       "2016-07-01  Mass fish kill in Vietnam solved as Taiwan ste...   \n",
       "\n",
       "                                                        Top21  \\\n",
       "Date                                                            \n",
       "2016-06-27  Brexit opinion poll reveals majority don't wan...   \n",
       "2016-06-28  Jean-Claude Juncker asks Farage: Why are you h...   \n",
       "2016-06-29       More than 40 killed in Yemen suicide attacks   \n",
       "2016-06-30  British pedophile sentenced to 85 years in US ...   \n",
       "2016-07-01  Philippines president Rodrigo Duterte urges pe...   \n",
       "\n",
       "                                                        Top22  \\\n",
       "Date                                                            \n",
       "2016-06-27  Conservative MP Leave Campaigner: \"The leave c...   \n",
       "2016-06-28  \"Romanians for Remainians\" offering a new home...   \n",
       "2016-06-29  Google Found Disastrous Symantec and Norton Vu...   \n",
       "2016-06-30  US permitted 1,200 offshore fracks in Gulf of ...   \n",
       "2016-07-01  Spain arrests three Pakistanis accused of prom...   \n",
       "\n",
       "                                                        Top23  \\\n",
       "Date                                                            \n",
       "2016-06-27  Economists predict UK recession, further weake...   \n",
       "2016-06-28  Brexit: Gibraltar in talks with Scotland to st...   \n",
       "2016-06-29  Extremist violence on the rise in Germany: Dom...   \n",
       "2016-06-30  We will be swimming in ridicule - French beach...   \n",
       "2016-07-01  Venezuela, where anger over food shortages is ...   \n",
       "\n",
       "                                                        Top24  \\\n",
       "Date                                                            \n",
       "2016-06-27  New EU 'superstate plan by France, Germany: Cr...   \n",
       "2016-06-28                   8 Suicide Bombers Strike Lebanon   \n",
       "2016-06-29  BBC News: Labour MPs pass Corbyn no-confidence...   \n",
       "2016-06-30  UEFA says no minutes of silence for Istanbul v...   \n",
       "2016-07-01  A Hindu temple worker has been killed by three...   \n",
       "\n",
       "                                                        Top25  \n",
       "Date                                                           \n",
       "2016-06-27  Pakistani clerics declare transgender marriage...  \n",
       "2016-06-28  Mexico's security forces routinely use 'sexual...  \n",
       "2016-06-29  Tiny New Zealand town with 'too many jobs' lau...  \n",
       "2016-06-30  Law Enforcement Sources: Gun Used in Paris Ter...  \n",
       "2016-07-01  Ozone layer hole seems to be healing - US &amp...  \n",
       "\n",
       "[5 rows x 26 columns]"
      ]
     },
     "execution_count": 7,
     "metadata": {},
     "output_type": "execute_result"
    }
   ],
   "source": [
    "df.tail()"
   ]
  },
  {
   "cell_type": "code",
   "execution_count": 8,
   "metadata": {},
   "outputs": [
    {
     "data": {
      "text/plain": [
       "(1989, 26)"
      ]
     },
     "execution_count": 8,
     "metadata": {},
     "output_type": "execute_result"
    }
   ],
   "source": [
    "df.shape"
   ]
  },
  {
   "cell_type": "code",
   "execution_count": 9,
   "metadata": {
    "collapsed": true
   },
   "outputs": [],
   "source": [
    "headlines = df.as_matrix(columns = df.columns[1:])"
   ]
  },
  {
   "cell_type": "code",
   "execution_count": 10,
   "metadata": {},
   "outputs": [
    {
     "data": {
      "text/plain": [
       "(1989L, 25L)"
      ]
     },
     "execution_count": 10,
     "metadata": {},
     "output_type": "execute_result"
    }
   ],
   "source": [
    "headlines.shape"
   ]
  },
  {
   "cell_type": "code",
   "execution_count": 11,
   "metadata": {},
   "outputs": [
    {
     "data": {
      "text/plain": [
       "'b\"Georgia \\'downs two Russian warplanes\\' as countries move to brink of war\"'"
      ]
     },
     "execution_count": 11,
     "metadata": {},
     "output_type": "execute_result"
    }
   ],
   "source": [
    "headlines[0][0]"
   ]
  },
  {
   "cell_type": "markdown",
   "metadata": {},
   "source": [
    "### Data Loading - Sentiment Tag"
   ]
  },
  {
   "cell_type": "code",
   "execution_count": 12,
   "metadata": {},
   "outputs": [
    {
     "name": "stderr",
     "output_type": "stream",
     "text": [
      "C:\\ProgramData\\Anaconda2\\lib\\site-packages\\nltk\\twitter\\__init__.py:20: UserWarning: The twython library has not been installed. Some functionality from the twitter package will not be available.\n",
      "  warnings.warn(\"The twython library has not been installed. \"\n"
     ]
    }
   ],
   "source": [
    "from nltk.sentiment.vader import SentimentIntensityAnalyzer as SIA\n",
    "\n",
    "sia = SIA()\n",
    "results = []\n",
    "\n",
    "for daily in headlines:\n",
    "    for line in daily:\n",
    "        pol_score = sia.polarity_scores(str(line))\n",
    "        pol_score['headline'] = str(line)\n",
    "        results.append(pol_score)"
   ]
  },
  {
   "cell_type": "code",
   "execution_count": 13,
   "metadata": {
    "collapsed": true
   },
   "outputs": [],
   "source": [
    "sentiment_score_df = pd.DataFrame.from_records(results)"
   ]
  },
  {
   "cell_type": "code",
   "execution_count": 14,
   "metadata": {},
   "outputs": [
    {
     "data": {
      "text/html": [
       "<div>\n",
       "<style>\n",
       "    .dataframe thead tr:only-child th {\n",
       "        text-align: right;\n",
       "    }\n",
       "\n",
       "    .dataframe thead th {\n",
       "        text-align: left;\n",
       "    }\n",
       "\n",
       "    .dataframe tbody tr th {\n",
       "        vertical-align: top;\n",
       "    }\n",
       "</style>\n",
       "<table border=\"1\" class=\"dataframe\">\n",
       "  <thead>\n",
       "    <tr style=\"text-align: right;\">\n",
       "      <th></th>\n",
       "      <th>compound</th>\n",
       "      <th>headline</th>\n",
       "      <th>neg</th>\n",
       "      <th>neu</th>\n",
       "      <th>pos</th>\n",
       "    </tr>\n",
       "  </thead>\n",
       "  <tbody>\n",
       "    <tr>\n",
       "      <th>0</th>\n",
       "      <td>-0.5994</td>\n",
       "      <td>b\"Georgia 'downs two Russian warplanes' as cou...</td>\n",
       "      <td>0.262</td>\n",
       "      <td>0.738</td>\n",
       "      <td>0.0</td>\n",
       "    </tr>\n",
       "    <tr>\n",
       "      <th>1</th>\n",
       "      <td>0.0000</td>\n",
       "      <td>b'BREAKING: Musharraf to be impeached.'</td>\n",
       "      <td>0.000</td>\n",
       "      <td>1.000</td>\n",
       "      <td>0.0</td>\n",
       "    </tr>\n",
       "    <tr>\n",
       "      <th>2</th>\n",
       "      <td>-0.3612</td>\n",
       "      <td>b'Russia Today: Columns of troops roll into So...</td>\n",
       "      <td>0.172</td>\n",
       "      <td>0.828</td>\n",
       "      <td>0.0</td>\n",
       "    </tr>\n",
       "    <tr>\n",
       "      <th>3</th>\n",
       "      <td>-0.7089</td>\n",
       "      <td>b'Russian tanks are moving towards the capital...</td>\n",
       "      <td>0.247</td>\n",
       "      <td>0.753</td>\n",
       "      <td>0.0</td>\n",
       "    </tr>\n",
       "    <tr>\n",
       "      <th>4</th>\n",
       "      <td>-0.9260</td>\n",
       "      <td>b\"Afghan children raped with 'impunity,' U.N. ...</td>\n",
       "      <td>0.424</td>\n",
       "      <td>0.576</td>\n",
       "      <td>0.0</td>\n",
       "    </tr>\n",
       "  </tbody>\n",
       "</table>\n",
       "</div>"
      ],
      "text/plain": [
       "   compound                                           headline    neg    neu  \\\n",
       "0   -0.5994  b\"Georgia 'downs two Russian warplanes' as cou...  0.262  0.738   \n",
       "1    0.0000            b'BREAKING: Musharraf to be impeached.'  0.000  1.000   \n",
       "2   -0.3612  b'Russia Today: Columns of troops roll into So...  0.172  0.828   \n",
       "3   -0.7089  b'Russian tanks are moving towards the capital...  0.247  0.753   \n",
       "4   -0.9260  b\"Afghan children raped with 'impunity,' U.N. ...  0.424  0.576   \n",
       "\n",
       "   pos  \n",
       "0  0.0  \n",
       "1  0.0  \n",
       "2  0.0  \n",
       "3  0.0  \n",
       "4  0.0  "
      ]
     },
     "execution_count": 14,
     "metadata": {},
     "output_type": "execute_result"
    }
   ],
   "source": [
    "sentiment_score_df.head()"
   ]
  },
  {
   "cell_type": "code",
   "execution_count": 15,
   "metadata": {},
   "outputs": [
    {
     "data": {
      "text/plain": [
       "<matplotlib.axes._subplots.AxesSubplot at 0xf11d8d0>"
      ]
     },
     "execution_count": 15,
     "metadata": {},
     "output_type": "execute_result"
    },
    {
     "data": {
      "image/png": "[encoded data removed]",
      "text/plain": [
       "<matplotlib.figure.Figure at 0xf0f8278>"
      ]
     },
     "metadata": {},
     "output_type": "display_data"
    }
   ],
   "source": [
    "sentiment_score_df['compound'].hist()"
   ]
  },
  {
   "cell_type": "code",
   "execution_count": 16,
   "metadata": {
    "collapsed": true
   },
   "outputs": [],
   "source": [
    "daily_avg_sentiment_score = np.mean(sentiment_score_df['compound'].values.reshape(-1, 25), axis = 1)"
   ]
  },
  {
   "cell_type": "code",
   "execution_count": 17,
   "metadata": {},
   "outputs": [
    {
     "data": {
      "text/plain": [
       "1989"
      ]
     },
     "execution_count": 17,
     "metadata": {},
     "output_type": "execute_result"
    }
   ],
   "source": [
    "len(daily_avg_sentiment_score)"
   ]
  },
  {
   "cell_type": "code",
   "execution_count": 18,
   "metadata": {},
   "outputs": [
    {
     "data": {
      "text/plain": [
       "(array([  11.,   39.,  187.,  353.,  553.,  482.,  263.,   82.,   15.,    4.]),\n",
       " array([-0.520204 , -0.4549512, -0.3896984, -0.3244456, -0.2591928,\n",
       "        -0.19394  , -0.1286872, -0.0634344,  0.0018184,  0.0670712,\n",
       "         0.132324 ]),\n",
       " <a list of 10 Patch objects>)"
      ]
     },
     "execution_count": 18,
     "metadata": {},
     "output_type": "execute_result"
    },
    {
     "data": {
      "image/png": "[encoded data removed]",
      "text/plain": [
       "<matplotlib.figure.Figure at 0x119cca90>"
      ]
     },
     "metadata": {},
     "output_type": "display_data"
    }
   ],
   "source": [
    "plt.hist(daily_avg_sentiment_score)"
   ]
  },
  {
   "cell_type": "code",
   "execution_count": 19,
   "metadata": {},
   "outputs": [
    {
     "data": {
      "text/plain": [
       "1    1065\n",
       "0     924\n",
       "Name: Label, dtype: int64"
      ]
     },
     "execution_count": 19,
     "metadata": {},
     "output_type": "execute_result"
    }
   ],
   "source": [
    "df.Label.value_counts()"
   ]
  },
  {
   "cell_type": "code",
   "execution_count": 20,
   "metadata": {
    "collapsed": true
   },
   "outputs": [],
   "source": [
    "daily_avg_sentiment_score = pd.DataFrame(daily_avg_sentiment_score, index=df.index, columns=[\"daily sentiment score\"])"
   ]
  },
  {
   "cell_type": "code",
   "execution_count": 21,
   "metadata": {},
   "outputs": [
    {
     "data": {
      "text/html": [
       "<div>\n",
       "<style>\n",
       "    .dataframe thead tr:only-child th {\n",
       "        text-align: right;\n",
       "    }\n",
       "\n",
       "    .dataframe thead th {\n",
       "        text-align: left;\n",
       "    }\n",
       "\n",
       "    .dataframe tbody tr th {\n",
       "        vertical-align: top;\n",
       "    }\n",
       "</style>\n",
       "<table border=\"1\" class=\"dataframe\">\n",
       "  <thead>\n",
       "    <tr style=\"text-align: right;\">\n",
       "      <th></th>\n",
       "      <th>daily sentiment score</th>\n",
       "    </tr>\n",
       "    <tr>\n",
       "      <th>Date</th>\n",
       "      <th></th>\n",
       "    </tr>\n",
       "  </thead>\n",
       "  <tbody>\n",
       "    <tr>\n",
       "      <th>2008-08-08</th>\n",
       "      <td>-0.309440</td>\n",
       "    </tr>\n",
       "    <tr>\n",
       "      <th>2008-08-11</th>\n",
       "      <td>-0.120740</td>\n",
       "    </tr>\n",
       "    <tr>\n",
       "      <th>2008-08-12</th>\n",
       "      <td>-0.217556</td>\n",
       "    </tr>\n",
       "    <tr>\n",
       "      <th>2008-08-13</th>\n",
       "      <td>-0.168724</td>\n",
       "    </tr>\n",
       "    <tr>\n",
       "      <th>2008-08-14</th>\n",
       "      <td>-0.130748</td>\n",
       "    </tr>\n",
       "  </tbody>\n",
       "</table>\n",
       "</div>"
      ],
      "text/plain": [
       "            daily sentiment score\n",
       "Date                             \n",
       "2008-08-08              -0.309440\n",
       "2008-08-11              -0.120740\n",
       "2008-08-12              -0.217556\n",
       "2008-08-13              -0.168724\n",
       "2008-08-14              -0.130748"
      ]
     },
     "execution_count": 21,
     "metadata": {},
     "output_type": "execute_result"
    }
   ],
   "source": [
    "daily_avg_sentiment_score.head()"
   ]
  },
  {
   "cell_type": "code",
   "execution_count": 22,
   "metadata": {},
   "outputs": [
    {
     "data": {
      "text/html": [
       "<div>\n",
       "<style>\n",
       "    .dataframe thead tr:only-child th {\n",
       "        text-align: right;\n",
       "    }\n",
       "\n",
       "    .dataframe thead th {\n",
       "        text-align: left;\n",
       "    }\n",
       "\n",
       "    .dataframe tbody tr th {\n",
       "        vertical-align: top;\n",
       "    }\n",
       "</style>\n",
       "<table border=\"1\" class=\"dataframe\">\n",
       "  <thead>\n",
       "    <tr style=\"text-align: right;\">\n",
       "      <th></th>\n",
       "      <th>daily sentiment score</th>\n",
       "      <th>label</th>\n",
       "    </tr>\n",
       "    <tr>\n",
       "      <th>Date</th>\n",
       "      <th></th>\n",
       "      <th></th>\n",
       "    </tr>\n",
       "  </thead>\n",
       "  <tbody>\n",
       "    <tr>\n",
       "      <th>2008-08-08</th>\n",
       "      <td>-0.309440</td>\n",
       "      <td>-1</td>\n",
       "    </tr>\n",
       "    <tr>\n",
       "      <th>2008-08-11</th>\n",
       "      <td>-0.120740</td>\n",
       "      <td>0</td>\n",
       "    </tr>\n",
       "    <tr>\n",
       "      <th>2008-08-12</th>\n",
       "      <td>-0.217556</td>\n",
       "      <td>-1</td>\n",
       "    </tr>\n",
       "    <tr>\n",
       "      <th>2008-08-13</th>\n",
       "      <td>-0.168724</td>\n",
       "      <td>0</td>\n",
       "    </tr>\n",
       "    <tr>\n",
       "      <th>2008-08-14</th>\n",
       "      <td>-0.130748</td>\n",
       "      <td>0</td>\n",
       "    </tr>\n",
       "  </tbody>\n",
       "</table>\n",
       "</div>"
      ],
      "text/plain": [
       "            daily sentiment score  label\n",
       "Date                                    \n",
       "2008-08-08              -0.309440     -1\n",
       "2008-08-11              -0.120740      0\n",
       "2008-08-12              -0.217556     -1\n",
       "2008-08-13              -0.168724      0\n",
       "2008-08-14              -0.130748      0"
      ]
     },
     "execution_count": 22,
     "metadata": {},
     "output_type": "execute_result"
    }
   ],
   "source": [
    "daily_avg_sentiment_score['label'] = 0\n",
    "daily_avg_sentiment_score.loc[daily_avg_sentiment_score[\"daily sentiment score\"] > 0.2, 'label'] = 1\n",
    "daily_avg_sentiment_score.loc[daily_avg_sentiment_score[\"daily sentiment score\"] < -0.2, 'label'] = -1\n",
    "daily_avg_sentiment_score.head()"
   ]
  },
  {
   "cell_type": "code",
   "execution_count": 23,
   "metadata": {},
   "outputs": [
    {
     "data": {
      "text/plain": [
       "-1    1086\n",
       " 0     903\n",
       "Name: label, dtype: int64"
      ]
     },
     "execution_count": 23,
     "metadata": {},
     "output_type": "execute_result"
    }
   ],
   "source": [
    "daily_avg_sentiment_score.label.value_counts()"
   ]
  },
  {
   "cell_type": "code",
   "execution_count": 24,
   "metadata": {},
   "outputs": [
    {
     "data": {
      "text/plain": [
       "1009"
      ]
     },
     "execution_count": 24,
     "metadata": {},
     "output_type": "execute_result"
    }
   ],
   "source": [
    "np.sum(df.Label.values == (daily_avg_sentiment_score.label.values + 1))"
   ]
  },
  {
   "cell_type": "code",
   "execution_count": 25,
   "metadata": {},
   "outputs": [
    {
     "data": {
      "text/plain": [
       "980"
      ]
     },
     "execution_count": 25,
     "metadata": {},
     "output_type": "execute_result"
    }
   ],
   "source": [
    "np.sum(df.Label != (daily_avg_sentiment_score.label.values + 1))"
   ]
  },
  {
   "cell_type": "markdown",
   "metadata": {
    "collapsed": true
   },
   "source": [
    "### Data Loading - Topic Filter"
   ]
  },
  {
   "cell_type": "code",
   "execution_count": 27,
   "metadata": {
    "collapsed": true
   },
   "outputs": [],
   "source": [
    "from empath import Empath\n",
    "lexicon = Empath()\n",
    "categories = lexicon.analyze(\"he hit the other person\", normalize=True)\n",
    "lexicon.analyze(\"he hit the other person\", categories=['economics', 'technology', 'politics'], normalize=True)\n",
    "topic_results = []\n",
    "\n",
    "for daily in headlines:\n",
    "    for line in daily:\n",
    "        topic_score = lexicon.analyze(str(line), categories=['economics', 'technology', 'politics'], normalize=True)\n",
    "        topic_score['headline'] = str(line)\n",
    "        topic_results.append(topic_score)"
   ]
  },
  {
   "cell_type": "code",
   "execution_count": 37,
   "metadata": {
    "collapsed": true
   },
   "outputs": [],
   "source": [
    "topic_score_df = pd.DataFrame.from_records(topic_results)"
   ]
  },
  {
   "cell_type": "code",
   "execution_count": 38,
   "metadata": {},
   "outputs": [
    {
     "data": {
      "text/plain": [
       "3512"
      ]
     },
     "execution_count": 38,
     "metadata": {},
     "output_type": "execute_result"
    }
   ],
   "source": [
    "np.sum(topic_score_df.economics != 0.)"
   ]
  },
  {
   "cell_type": "code",
   "execution_count": 39,
   "metadata": {},
   "outputs": [
    {
     "data": {
      "text/plain": [
       "\"b'This is a busy day:  The European Union has approved new sanctions against Iran in protest at its nuclear programme.'\""
      ]
     },
     "execution_count": 39,
     "metadata": {},
     "output_type": "execute_result"
    }
   ],
   "source": [
    "df.iloc[0][19]"
   ]
  },
  {
   "cell_type": "code",
   "execution_count": 40,
   "metadata": {},
   "outputs": [
    {
     "data": {
      "text/plain": [
       "1989"
      ]
     },
     "execution_count": 40,
     "metadata": {},
     "output_type": "execute_result"
    }
   ],
   "source": [
    "len(headlines)"
   ]
  },
  {
   "cell_type": "code",
   "execution_count": 41,
   "metadata": {},
   "outputs": [
    {
     "data": {
      "text/plain": [
       "\"b'This is a busy day:  The European Union has approved new sanctions against Iran in protest at its nuclear programme.'\""
      ]
     },
     "execution_count": 41,
     "metadata": {},
     "output_type": "execute_result"
    }
   ],
   "source": [
    "filtered_topic_score_df = topic_score_df.loc[topic_score_df[['economics', 'technology', 'politics']].any( axis = 1)]\n",
    "fdf = filtered_topic_score_df\n",
    "fdf.iloc[0][1]"
   ]
  },
  {
   "cell_type": "code",
   "execution_count": 42,
   "metadata": {},
   "outputs": [
    {
     "data": {
      "text/plain": [
       "[\"b'This is a busy day:  The European Union has approved new sanctions against Iran in protest at its nuclear programme.'\"]"
      ]
     },
     "execution_count": 42,
     "metadata": {},
     "output_type": "execute_result"
    }
   ],
   "source": [
    "headlinesf = [0]*len(headlines)\n",
    "for i in range(len(headlines)):\n",
    "    headlinesf[i] = []\n",
    "    for j in range(25):\n",
    "        if (df.iloc[i][j+1] in fdf.values):\n",
    "            headlinesf[i].append(df.iloc[i][j+1])\n",
    "headlinesf[0]"
   ]
  },
  {
   "cell_type": "code",
   "execution_count": 43,
   "metadata": {
    "collapsed": true
   },
   "outputs": [],
   "source": [
    "headlines2 = headlinesf"
   ]
  },
  {
   "cell_type": "code",
   "execution_count": 60,
   "metadata": {
    "collapsed": true
   },
   "outputs": [],
   "source": [
    "headlines =[''.join(map(str, headline)) for headline in headlines]"
   ]
  },
  {
   "cell_type": "code",
   "execution_count": 61,
   "metadata": {
    "collapsed": true
   },
   "outputs": [],
   "source": [
    "# By the end of this step, we have two list, \"headlines\" and \"headlines2\".\n",
    "# \"headlines\" contains all the headlines joined everyday.\n",
    "# \"headlines2\" contains only the topic filtered headlines joined everyday."
   ]
  },
  {
   "cell_type": "markdown",
   "metadata": {},
   "source": [
    "## Tokenization\n",
    "### Tokenization - Basic Settings"
   ]
  },
  {
   "cell_type": "code",
   "execution_count": 62,
   "metadata": {
    "collapsed": true
   },
   "outputs": [],
   "source": [
    "# Remove some minor problems in form.\n",
    "def small_clean(text):\n",
    "    text = text.replace('b\\'', '')\n",
    "    text = text.replace('b\"', '')\n",
    "    text = text.replace('*', '')\n",
    "    text = text.replace('\\\\','')\n",
    "    text = text.replace('\\'','')\n",
    "    return text"
   ]
  },
  {
   "cell_type": "code",
   "execution_count": 63,
   "metadata": {
    "collapsed": true
   },
   "outputs": [],
   "source": [
    "# Single words that we think may be meaningful.\n",
    "good_pos_tag_set = set(['JJ','JJR','JJS', # adjective\n",
    "                        'NN','NNP','NNS','NNPS', # noun\n",
    "                        'RB','RBR','RBS','RP', # adverb and particle\n",
    "                        'VB','VBD','VBG','VBN','VBP','VBZ']) # verb"
   ]
  },
  {
   "cell_type": "code",
   "execution_count": 64,
   "metadata": {
    "collapsed": true
   },
   "outputs": [],
   "source": [
    "# The following two functions are used to help extract terminology and meaningful words\n",
    "# REFERENCE: http://bdewilde.github.io/blog/2014/09/23/intro-to-automatic-keyphrase-extraction/\n",
    "def extract_candidate_chunks(text, grammar=r'KT: {(<JJ>* <NN.*>+ <IN>)? <JJ>* <NN.*>+}'):\n",
    "    import itertools, nltk, string\n",
    "\n",
    "    # exclude candidates that are stop words or entirely punctuation\n",
    "    punct = set(string.punctuation)\n",
    "    stop_words = set(nltk.corpus.stopwords.words('english'))\n",
    "    # tokenize, POS-tag, and chunk using regular expressions\n",
    "    chunker = nltk.chunk.regexp.RegexpParser(grammar)\n",
    "    tagged_sents = nltk.pos_tag_sents(nltk.word_tokenize(sent) for sent in nltk.sent_tokenize(text))\n",
    "    all_chunks = list(itertools.chain.from_iterable(nltk.chunk.tree2conlltags(chunker.parse(tagged_sent))\n",
    "                                                    for tagged_sent in tagged_sents))\n",
    "    # join constituent chunk words into a single chunked phrase\n",
    "    candidates = [' '.join(word for word, pos, chunk in group).lower()\n",
    "                  for key, group in itertools.groupby(all_chunks, lambda (word,pos,chunk): chunk != 'O') if key]\n",
    "\n",
    "    return [cand for cand in candidates\n",
    "            if cand not in stop_words and not all(char in punct for char in cand)]\n",
    "\n",
    "def extract_candidate_words(text, good_tags=good_pos_tag_set):\n",
    "    import itertools, nltk, string\n",
    "\n",
    "    # exclude candidates that are stop words or entirely punctuation\n",
    "    punct = set(string.punctuation)\n",
    "    stop_words = set(nltk.corpus.stopwords.words('english'))\n",
    "    # tokenize and POS-tag words\n",
    "    tagged_words = itertools.chain.from_iterable(nltk.pos_tag_sents(nltk.word_tokenize(sent)\n",
    "                                                                    for sent in nltk.sent_tokenize(text)))\n",
    "    # filter on certain POS tags and lowercase all words\n",
    "    candidates = [word.lower() for word, tag in tagged_words\n",
    "                  if tag in good_tags and word.lower() not in stop_words\n",
    "                  and not all(char in punct for char in word)]\n",
    "\n",
    "    return candidates\n",
    "\n",
    "# Pack the word extraction process. Return the list of terms and good words\n",
    "def tokenize_pack(text):\n",
    "    text = small_clean(text)\n",
    "    wordlist = extract_candidate_words(text, good_tags=good_pos_tag_set)\n",
    "    termlist = extract_candidate_chunks(text, grammar=r'KT: {(<JJ>* <NN.*>+ <IN>)? <JJ>* <NN.*>+}')\n",
    "    finallist = wordlist + termlist\n",
    "    return finallist"
   ]
  },
  {
   "cell_type": "markdown",
   "metadata": {},
   "source": [
    "### Tokenization - Vocabulary Construction"
   ]
  },
  {
   "cell_type": "code",
   "execution_count": 65,
   "metadata": {
    "collapsed": true
   },
   "outputs": [],
   "source": [
    "# In this part we construct a vocabulary which contains two types of\n",
    "# terms: (1) Single words among verbs, nouns, adjectives, adverbs and\n",
    "# particles, which we believe contain meaningful information. \n",
    "# (2) Phases that contains more than one words and refers to a specific\n",
    "# meaning, for example: \"Australian government\"\n",
    "headlines2 =[''.join(map(str, headline)) for headline in headlines2]\n",
    "for i in range(len(headlines2)):\n",
    "    headlines2[i] = small_clean(headlines2[i])"
   ]
  },
  {
   "cell_type": "code",
   "execution_count": 66,
   "metadata": {},
   "outputs": [
    {
     "data": {
      "text/plain": [
       "'The US and Poland have agreed a preliminary deal on plans for the controversial US defence shieldRussia apparently is sabotaging infrastructure to cripple the already battered Georgian military.War in the Caucasus is as much the product of an American imperial drive as local conflicts.'"
      ]
     },
     "execution_count": 66,
     "metadata": {},
     "output_type": "execute_result"
    }
   ],
   "source": [
    "headlines2[4]"
   ]
  },
  {
   "cell_type": "code",
   "execution_count": 67,
   "metadata": {
    "collapsed": true
   },
   "outputs": [],
   "source": [
    "headlines2_train = headlines2[:1500]\n",
    "headlines2_test = headlines2[1500:]\n",
    "DJIA_train = df.Label[:1500].values\n",
    "DJIA_test = df.Label[1500:].values"
   ]
  },
  {
   "cell_type": "code",
   "execution_count": 68,
   "metadata": {},
   "outputs": [
    {
     "name": "stdout",
     "output_type": "stream",
     "text": [
      "(1500, 441)\n",
      "(489, 441)\n",
      "(1500, 66)\n",
      "(489, 66)\n"
     ]
    }
   ],
   "source": [
    "# TfidfVectorizer\n",
    "# Exclude the extremely high frequency words/phases and extremely low frequency words/phases.\n",
    "tfidfvectorizer_word_candidate = TfidfVectorizer(min_df=0.03, max_df=0.97, max_features = 200000, ngram_range = (1, 1))\n",
    "tfidfvectorizer_phase_candidate = TfidfVectorizer(min_df=0.03, max_df=0.97, max_features = 200000, ngram_range = (2, 5))\n",
    "train_word_document_matrix_tfidf = tfidfvectorizer_word_candidate.fit_transform(headlines2_train)\n",
    "test_word_document_matrix_tfidf = tfidfvectorizer_word_candidate.transform(headlines2_test)\n",
    "train_phase_document_matrix_tfidf = tfidfvectorizer_phase_candidate.fit_transform(headlines2_train)\n",
    "test_phase_document_matrix_tfidf = tfidfvectorizer_phase_candidate.transform(headlines2_test)\n",
    "print train_word_document_matrix_tfidf.shape\n",
    "print test_word_document_matrix_tfidf.shape\n",
    "print train_phase_document_matrix_tfidf.shape\n",
    "print test_phase_document_matrix_tfidf.shape"
   ]
  },
  {
   "cell_type": "code",
   "execution_count": 69,
   "metadata": {},
   "outputs": [
    {
     "name": "stdout",
     "output_type": "stream",
     "text": [
      "441\n",
      "351\n"
     ]
    }
   ],
   "source": [
    "word_candidate_list = tfidfvectorizer_word_candidate.get_feature_names()\n",
    "word_final_list = []\n",
    "for i in range(len(word_candidate_list)):\n",
    "    posTag = pos_tag([str(word_candidate_list[i])])[0][1]\n",
    "    isGood = (good_pos_tag_set.union([posTag])==good_pos_tag_set)\n",
    "    if isGood:\n",
    "        word_final_list.append(str(word_candidate_list[i]))\n",
    "print len(word_candidate_list)\n",
    "print len(word_final_list)"
   ]
  },
  {
   "cell_type": "code",
   "execution_count": 70,
   "metadata": {},
   "outputs": [
    {
     "name": "stdout",
     "output_type": "stream",
     "text": [
      "66\n",
      "19\n"
     ]
    }
   ],
   "source": [
    "phase_candidate_list = tfidfvectorizer_phase_candidate.get_feature_names()\n",
    "phase_final_list = []\n",
    "phase_all_text = \"\"\n",
    "for i in range(len(phase_candidate_list)):\n",
    "    phase_all_text = phase_all_text + \", \" + str(phase_candidate_list[i])\n",
    "    \n",
    "phase_final_list = extract_candidate_chunks(phase_all_text, grammar=r'KT: {(<JJ>* <NN.*>+ <IN>)? <JJ>* <NN.*>+}')\n",
    "print len(phase_candidate_list)\n",
    "print len(phase_final_list)"
   ]
  },
  {
   "cell_type": "code",
   "execution_count": 71,
   "metadata": {},
   "outputs": [
    {
     "name": "stdout",
     "output_type": "stream",
     "text": [
      "66\n",
      "set([u'by the', u'human rights', u'the internet', u'that it', u'it was', u'at the', u'one of', u'the most', u'for the', u'on the', u'the worlds', u'as the', u'north korea', u'according to', u'to make', u'is the', u'nuclear power', u'have been', u'over the', u'it is', u'the countrys', u'will be', u'plans to', u'of the', u'to pay', u'the world', u'and the', u'after the', u'access to', u'from the', u'united states', u'up to', u'the united', u'with the', u'out of', u'thousands of', u'to the', u'of an', u'the government', u'of its', u'the united states', u'the us', u'prime minister', u'that the', u'the uk', u'in the', u'to help', u'one of the', u'the first', u'in an', u'of their', u'part of', u'nuclear weapons', u'to be', u'more than', u'they are', u'has been', u'year old', u'into the', u'in china', u'the european', u'to have', u'about the', u'against the', u'the country', u'to sell'])\n"
     ]
    },
    {
     "data": {
      "text/plain": [
       "'human rights'"
      ]
     },
     "execution_count": 71,
     "metadata": {},
     "output_type": "execute_result"
    }
   ],
   "source": [
    "# final_vocabulary = set(word_final_list + phase_final_list)\n",
    "final_vocabulary = set(phase_candidate_list)\n",
    "print len(final_vocabulary)\n",
    "print final_vocabulary\n",
    "phase_final_list[1]"
   ]
  },
  {
   "cell_type": "code",
   "execution_count": 73,
   "metadata": {},
   "outputs": [
    {
     "name": "stdout",
     "output_type": "stream",
     "text": [
      "(1500, 66)\n",
      "(489, 66)\n"
     ]
    }
   ],
   "source": [
    "tfidfvectorizer_final = TfidfVectorizer(vocabulary = final_vocabulary, ngram_range = (1, 5))\n",
    "train_term_document_matrix_tfidf = tfidfvectorizer_final.fit_transform(headlines2_train)\n",
    "test_term_document_matrix_tfidf = tfidfvectorizer_final.transform(headlines2_test)\n",
    "print train_term_document_matrix_tfidf.shape\n",
    "print test_term_document_matrix_tfidf.shape"
   ]
  },
  {
   "cell_type": "markdown",
   "metadata": {},
   "source": [
    "### Tokenization - Custom Settings"
   ]
  },
  {
   "cell_type": "code",
   "execution_count": 50,
   "metadata": {
    "collapsed": true
   },
   "outputs": [],
   "source": [
    "stop_words = []\n",
    "f = open('./data/stopwords.txt', 'r')\n",
    "for l in f.readlines():\n",
    "    stop_words.append(l.replace('\\n', ''))\n",
    "    \n",
    "additional_stop_words = ['t', 'will']\n",
    "stop_words += additional_stop_words\n",
    "# The list \"stop_words\" has 668 words in it"
   ]
  },
  {
   "cell_type": "code",
   "execution_count": 51,
   "metadata": {
    "collapsed": true
   },
   "outputs": [],
   "source": [
    "def _removeNonAscii(s): \n",
    "    return \"\".join(i for i in s if ord(i)<128)\n",
    "\n",
    "def clean_text(text):\n",
    "    import re\n",
    "    text = str(text)\n",
    "    text = text.lower()\n",
    "    text = re.sub(r\"what's\", \"what is \", text)\n",
    "    text = text.replace('(ap)', '')\n",
    "    text = re.sub(r\"\\'s\", \" is \", text)\n",
    "    text = re.sub(r\"\\'ve\", \" have \", text)\n",
    "    text = re.sub(r\"can't\", \"cannot \", text)\n",
    "    text = re.sub(r\"n't\", \" not \", text)\n",
    "    text = re.sub(r\"i'm\", \"i am \", text)\n",
    "    text = re.sub(r\"\\'re\", \" are \", text)\n",
    "    text = re.sub(r\"\\'d\", \" would \", text)\n",
    "    text = re.sub(r\"\\'ll\", \" will \", text)\n",
    "    text = re.sub(r'\\W+', ' ', text)\n",
    "    text = re.sub(r'\\s+', ' ', text)\n",
    "    text = re.sub(r\"\\\\\", \"\", text)\n",
    "    text = re.sub(r\"\\'\", \"\", text)    \n",
    "    text = re.sub(r\"\\\"\", \"\", text)\n",
    "    text = re.sub('[^a-zA-Z ?!]+', '', text)\n",
    "    text = _removeNonAscii(text)\n",
    "    text = text.strip()\n",
    "    return text"
   ]
  },
  {
   "cell_type": "code",
   "execution_count": 52,
   "metadata": {},
   "outputs": [
    {
     "name": "stdout",
     "output_type": "stream",
     "text": [
      "[nltk_data] Downloading package stopwords to D:\\nltk_data...\n",
      "[nltk_data]   Package stopwords is already up-to-date!\n",
      "[nltk_data] Downloading package punkt to D:\\nltk_data...\n",
      "[nltk_data]   Package punkt is already up-to-date!\n"
     ]
    },
    {
     "data": {
      "text/plain": [
       "True"
      ]
     },
     "execution_count": 52,
     "metadata": {},
     "output_type": "execute_result"
    }
   ],
   "source": [
    "import nltk\n",
    "nltk.download('stopwords')\n",
    "nltk.download('punkt')"
   ]
  },
  {
   "cell_type": "code",
   "execution_count": 53,
   "metadata": {
    "collapsed": true
   },
   "outputs": [],
   "source": [
    "import nltk\n",
    "from nltk.tokenize import word_tokenize, sent_tokenize\n",
    "from nltk.corpus import stopwords\n",
    "stop = set(stopwords.words('english'))\n",
    "from string import punctuation"
   ]
  },
  {
   "cell_type": "code",
   "execution_count": 96,
   "metadata": {
    "collapsed": true
   },
   "outputs": [],
   "source": [
    "def tokenizer(text):\n",
    "    from functools import reduce\n",
    "    text = clean_text(text)    \n",
    "    tokens = [word_tokenize(sent) for sent in sent_tokenize(text)]\n",
    "    tokens = list(reduce(lambda x,y: x+y, tokens))\n",
    "    tokens = list(filter(lambda token: token not in (stop_words + list(punctuation)) , tokens))\n",
    "    return tokens\n",
    "def wordToString(ordered_word_list):\n",
    "    result = \"\"\n",
    "    for i in range(len(ordered_word_list)):\n",
    "        result = result+ordered_word_list[i]+\" \"\n",
    "    return result"
   ]
  },
  {
   "cell_type": "code",
   "execution_count": 215,
   "metadata": {},
   "outputs": [
    {
     "ename": "TypeError",
     "evalue": "reduce() of empty sequence with no initial value",
     "output_type": "error",
     "traceback": [
      "\u001b[1;31m\u001b[0m",
      "\u001b[1;31mTypeError\u001b[0mTraceback (most recent call last)",
      "\u001b[1;32m<ipython-input-215-813879dbcec2>\u001b[0m in \u001b[0;36m<module>\u001b[1;34m()\u001b[0m\n\u001b[0;32m      6\u001b[0m \u001b[0mheadlines4\u001b[0m \u001b[1;33m=\u001b[0m \u001b[1;33m[\u001b[0m\u001b[1;33m]\u001b[0m\u001b[1;33m\u001b[0m\u001b[0m\n\u001b[0;32m      7\u001b[0m \u001b[1;32mfor\u001b[0m \u001b[0mi\u001b[0m \u001b[1;32min\u001b[0m \u001b[0mrange\u001b[0m\u001b[1;33m(\u001b[0m\u001b[0mlen\u001b[0m\u001b[1;33m(\u001b[0m\u001b[0mheadlines2\u001b[0m\u001b[1;33m)\u001b[0m\u001b[1;33m)\u001b[0m\u001b[1;33m:\u001b[0m\u001b[1;33m\u001b[0m\u001b[0m\n\u001b[1;32m----> 8\u001b[1;33m     \u001b[0mheadlines3\u001b[0m\u001b[1;33m.\u001b[0m\u001b[0mappend\u001b[0m\u001b[1;33m(\u001b[0m\u001b[0mwordToString\u001b[0m\u001b[1;33m(\u001b[0m\u001b[0mtokenizer\u001b[0m\u001b[1;33m(\u001b[0m\u001b[0mheadlines2\u001b[0m\u001b[1;33m[\u001b[0m\u001b[0mi\u001b[0m\u001b[1;33m]\u001b[0m\u001b[1;33m)\u001b[0m\u001b[1;33m)\u001b[0m\u001b[1;33m)\u001b[0m\u001b[1;33m\u001b[0m\u001b[0m\n\u001b[0m",
      "\u001b[1;32m<ipython-input-96-c5d5661e4ded>\u001b[0m in \u001b[0;36mtokenizer\u001b[1;34m(text)\u001b[0m\n\u001b[0;32m      3\u001b[0m     \u001b[0mtext\u001b[0m \u001b[1;33m=\u001b[0m \u001b[0mclean_text\u001b[0m\u001b[1;33m(\u001b[0m\u001b[0mtext\u001b[0m\u001b[1;33m)\u001b[0m\u001b[1;33m\u001b[0m\u001b[0m\n\u001b[0;32m      4\u001b[0m     \u001b[0mtokens\u001b[0m \u001b[1;33m=\u001b[0m \u001b[1;33m[\u001b[0m\u001b[0mword_tokenize\u001b[0m\u001b[1;33m(\u001b[0m\u001b[0msent\u001b[0m\u001b[1;33m)\u001b[0m \u001b[1;32mfor\u001b[0m \u001b[0msent\u001b[0m \u001b[1;32min\u001b[0m \u001b[0msent_tokenize\u001b[0m\u001b[1;33m(\u001b[0m\u001b[0mtext\u001b[0m\u001b[1;33m)\u001b[0m\u001b[1;33m]\u001b[0m\u001b[1;33m\u001b[0m\u001b[0m\n\u001b[1;32m----> 5\u001b[1;33m     \u001b[0mtokens\u001b[0m \u001b[1;33m=\u001b[0m \u001b[0mlist\u001b[0m\u001b[1;33m(\u001b[0m\u001b[0mreduce\u001b[0m\u001b[1;33m(\u001b[0m\u001b[1;32mlambda\u001b[0m \u001b[0mx\u001b[0m\u001b[1;33m,\u001b[0m\u001b[0my\u001b[0m\u001b[1;33m:\u001b[0m \u001b[0mx\u001b[0m\u001b[1;33m+\u001b[0m\u001b[0my\u001b[0m\u001b[1;33m,\u001b[0m \u001b[0mtokens\u001b[0m\u001b[1;33m)\u001b[0m\u001b[1;33m)\u001b[0m\u001b[1;33m\u001b[0m\u001b[0m\n\u001b[0m\u001b[0;32m      6\u001b[0m     \u001b[0mtokens\u001b[0m \u001b[1;33m=\u001b[0m \u001b[0mlist\u001b[0m\u001b[1;33m(\u001b[0m\u001b[0mfilter\u001b[0m\u001b[1;33m(\u001b[0m\u001b[1;32mlambda\u001b[0m \u001b[0mtoken\u001b[0m\u001b[1;33m:\u001b[0m \u001b[0mtoken\u001b[0m \u001b[1;32mnot\u001b[0m \u001b[1;32min\u001b[0m \u001b[1;33m(\u001b[0m\u001b[0mstop_words\u001b[0m \u001b[1;33m+\u001b[0m \u001b[0mlist\u001b[0m\u001b[1;33m(\u001b[0m\u001b[0mpunctuation\u001b[0m\u001b[1;33m)\u001b[0m\u001b[1;33m)\u001b[0m \u001b[1;33m,\u001b[0m \u001b[0mtokens\u001b[0m\u001b[1;33m)\u001b[0m\u001b[1;33m)\u001b[0m\u001b[1;33m\u001b[0m\u001b[0m\n\u001b[0;32m      7\u001b[0m     \u001b[1;32mreturn\u001b[0m \u001b[0mtokens\u001b[0m\u001b[1;33m\u001b[0m\u001b[0m\n",
      "\u001b[1;31mTypeError\u001b[0m: reduce() of empty sequence with no initial value"
     ]
    }
   ],
   "source": [
    "# \"headlines3\" is different from \"headlines1\" in that the sentences\n",
    "# are cleaned and the useless words are removed\n",
    "headlines3 = []\n",
    "for i in range(len(headlines)):\n",
    "    headlines3.append(wordToString(tokenizer(headlines[i])))\n",
    "headlines4 = []\n",
    "for i in range(len(headlines2)):\n",
    "    headlines3.append(wordToString(tokenizer(headlines2[i])))"
   ]
  },
  {
   "cell_type": "code",
   "execution_count": 126,
   "metadata": {},
   "outputs": [
    {
     "data": {
      "text/plain": [
       "'georgia owns russian warplanes countries move brink war breaking musharraf impeached russia today columns troops roll south ossetia footage fighting youtube russian tanks moving capital south ossetia reportedly completely destroyed georgian artillery fire afghan children raped impunity official sick three year raped russian tanks entered south ossetia whilst georgia shoots russian jets breaking georgia invades south ossetia russia warned intervene side enemy combatent trials sham salim haman sentenced years longer feel georgian troops retreat osettain capital presumably leaving people killed video prep georgia war russia rice green light israel attack iran veto israeli military ops announcing class action lawsuit behalf american public fbi russia georgia war nyt top story opening ceremonies olympics fucking disgrace proof decline journalism china tells bush stay countries affairs war iii start today georgia invades south ossetia russia involved nato absorb georgia unleash full scale war al qaeda faces islamist backlash condoleezza rice prevent israeli strike iran israeli defense minister ehud barak israel prepared uncompromising victory case military hostilities busy day european union approved sanctions iran protest nuclear programme georgia withdraw soldiers iraq help fight russian forces georgia breakaway region south ossetia pentagon thinks attacking iran bad idea news amp report caucasus crisis georgia invades south ossetia indian shoe manufactory series work visitors suffering mental illnesses banned olympics help mexico kidnapping surge '"
      ]
     },
     "execution_count": 126,
     "metadata": {},
     "output_type": "execute_result"
    }
   ],
   "source": [
    "headlines3[0]"
   ]
  },
  {
   "cell_type": "markdown",
   "metadata": {},
   "source": [
    "## Model Input Settings"
   ]
  },
  {
   "cell_type": "code",
   "execution_count": 150,
   "metadata": {
    "collapsed": true
   },
   "outputs": [],
   "source": [
    "# \"headlines\" here can be replaced by \"headlines2\" or \"headlines3\"\n",
    "headlines_train = headlines[:1500]\n",
    "headlines_test = headlines[1500:]\n",
    "DJIA_train = df.Label[:1500].values\n",
    "DJIA_test = df.Label[1500:].values"
   ]
  },
  {
   "cell_type": "code",
   "execution_count": 151,
   "metadata": {
    "collapsed": true
   },
   "outputs": [],
   "source": [
    "# CountVectorizer\n",
    "basicvectorizer = CountVectorizer(ngram_range=(3,3))\n",
    "train_term_document_matrix_basic = basicvectorizer.fit_transform(headlines_train)\n",
    "test_term_document_matrix_basic = basicvectorizer.transform(headlines_test)"
   ]
  },
  {
   "cell_type": "code",
   "execution_count": 152,
   "metadata": {
    "collapsed": true
   },
   "outputs": [],
   "source": [
    "# TfidfVectorizer: min_df, max_df and ngram_range are the parameters\n",
    "# which influence the results a lot\n",
    "tfidfvectorizer = TfidfVectorizer(min_df=0.03, max_df=0.97, max_features = 200000, ngram_range = (2, 3))\n",
    "train_term_document_matrix_tfidf = tfidfvectorizer.fit_transform(headlines_train)\n",
    "test_term_document_matrix_tfidf = tfidfvectorizer.transform(headlines_test)"
   ]
  },
  {
   "cell_type": "code",
   "execution_count": 153,
   "metadata": {},
   "outputs": [
    {
     "data": {
      "text/plain": [
       "(1500, 673)"
      ]
     },
     "execution_count": 153,
     "metadata": {},
     "output_type": "execute_result"
    }
   ],
   "source": [
    "train_term_document_matrix_tfidf.shape"
   ]
  },
  {
   "cell_type": "code",
   "execution_count": 154,
   "metadata": {},
   "outputs": [
    {
     "data": {
      "text/plain": [
       "(489, 673)"
      ]
     },
     "execution_count": 154,
     "metadata": {},
     "output_type": "execute_result"
    }
   ],
   "source": [
    "tfidfvectorizer.transform(headlines_test).shape"
   ]
  },
  {
   "cell_type": "markdown",
   "metadata": {},
   "source": [
    "## Prediction Models\n",
    "### Prediction Models - KNN"
   ]
  },
  {
   "cell_type": "code",
   "execution_count": 214,
   "metadata": {},
   "outputs": [
    {
     "name": "stdout",
     "output_type": "stream",
     "text": [
      "KNN Model, K = 10\n",
      "Training Error:\t0.36\n",
      "Test Error:\t0.451942740286\n"
     ]
    }
   ],
   "source": [
    "def KNN(X_train, Y_train, X_test, Y_test, K):\n",
    "    \"\"\"\n",
    "    X_train: term_doc_matrix\n",
    "    Y_train: list\n",
    "    X_test: term_doc_matrix\n",
    "    Y_test: list\n",
    "    K: integer\n",
    "    \"\"\"\n",
    "    pred_train = np.zeros(len(Y_train), dtype = 'int64')\n",
    "    pred_test = np.zeros(len(Y_test), dtype = 'int64')\n",
    "    inverted_index_test = { i[0]:i[1] for i in list(zip(range(len(Y_test)),Y_test))}\n",
    "    inverted_index_train= { i[0]:i[1] for i in list(zip(range(len(Y_train)),Y_train))}\n",
    "    sim_score_matrix_K_train = cosine_similarity(X_train, X_train)\n",
    "    for j in range(sim_score_matrix_K_train.shape[0]):\n",
    "        highest_K_score_index_train = np.argsort(sim_score_matrix_K_train[j])[-K:]\n",
    "        DJIA_K_train = [inverted_index_train[idx] for idx in highest_K_score_index_train]\n",
    "        Prob = (sum(DJIA_K_train)+0.)/len(DJIA_K_train) #smoothing\n",
    "        if Prob >= 0.5:\n",
    "            pred_train[j] = 1\n",
    "        else:\n",
    "            pred_train[j] = 0\n",
    "    sim_score_matrix_K =  cosine_similarity(X_test, X_train)\n",
    "    for j in range(sim_score_matrix_K.shape[0]):\n",
    "        highest_K_score_index = np.argsort(sim_score_matrix_K[j])[-K:]\n",
    "        DJIA_K = [inverted_index_train[idx] for idx in highest_K_score_index]\n",
    "        Prob = (sum(DJIA_K)+0.)/len(DJIA_K) #smoothing\n",
    "        if Prob >= 0.5:\n",
    "            pred_test[j] = 1\n",
    "        else:\n",
    "            pred_test[j] = 0\n",
    "    accu_train = np.mean(Y_train == pred_train)        \n",
    "    accu_test = np.mean(Y_test == pred_test)\n",
    "    error_train = 1.0-accu_train\n",
    "    error_test = 1.0-accu_test\n",
    "    return error_train,error_test\n",
    "Knn = KNN(train_term_document_matrix_tfidf, DJIA_train, test_term_document_matrix_tfidf, DJIA_test,10)\n",
    "print \"KNN Model, K = 10\"\n",
    "print \"Training Error:\\t\",Knn[0]\n",
    "print \"Test Error:\\t\",Knn[1]"
   ]
  },
  {
   "cell_type": "code",
   "execution_count": 211,
   "metadata": {},
   "outputs": [
    {
     "data": {
      "text/plain": [
       "<matplotlib.legend.Legend at 0x32cee2b0>"
      ]
     },
     "execution_count": 211,
     "metadata": {},
     "output_type": "execute_result"
    },
    {
     "data": {
      "image/png": "[encoded data removed]",
      "text/plain": [
       "<matplotlib.figure.Figure at 0x363da080>"
      ]
     },
     "metadata": {},
     "output_type": "display_data"
    }
   ],
   "source": [
    "train_error =[KNN(train_term_document_matrix_basic, DJIA_train, test_term_document_matrix_basic, DJIA_test, K)[0] for K in range(1, 20)]\n",
    "test_error = [KNN(train_term_document_matrix_basic, DJIA_train, test_term_document_matrix_basic, DJIA_test, K)[1] for K in range(1, 20)]\n",
    "one_over_k = [1.0/K for K in range(1, 20)]\n",
    "plt.plot(one_over_k, train_error, '-yo', label = 'train error')\n",
    "plt.plot(one_over_k, test_error, '-go', label = 'test error')\n",
    "plt.ylabel('error')\n",
    "plt.xlabel('1/K')\n",
    "plt.legend(loc = 'lower left')"
   ]
  },
  {
   "cell_type": "code",
   "execution_count": 212,
   "metadata": {},
   "outputs": [
    {
     "data": {
      "text/plain": [
       "(0.35999999999999999, 0.45194274028629855)"
      ]
     },
     "execution_count": 212,
     "metadata": {},
     "output_type": "execute_result"
    }
   ],
   "source": [
    "KNN(train_term_document_matrix_tfidf, DJIA_train, test_term_document_matrix_tfidf, DJIA_test, 10)"
   ]
  },
  {
   "cell_type": "code",
   "execution_count": 213,
   "metadata": {},
   "outputs": [
    {
     "data": {
      "text/plain": [
       "7"
      ]
     },
     "execution_count": 213,
     "metadata": {},
     "output_type": "execute_result"
    }
   ],
   "source": [
    "np.argmin(test_error)"
   ]
  },
  {
   "cell_type": "markdown",
   "metadata": {},
   "source": [
    "### Prediction Models - Logistic"
   ]
  },
  {
   "cell_type": "code",
   "execution_count": 204,
   "metadata": {},
   "outputs": [
    {
     "name": "stdout",
     "output_type": "stream",
     "text": [
      "Logistic Model\n",
      "Training Error:\t0.236666666667\n",
      "Test Error:\t0.425357873211\n"
     ]
    }
   ],
   "source": [
    "from sklearn.linear_model import LogisticRegression\n",
    "def Logit(X_train, Y_train, X_test, Y_test):\n",
    "    logit = LogisticRegression()\n",
    "    logit_fit = logit.fit(X_train, Y_train)\n",
    "    logit_train_predict = logit.predict(X_train)\n",
    "    logit_predict = logit.predict(X_test)\n",
    "    accu_train = sum(Y_train == logit_train_predict)/float(len(Y_train))\n",
    "    accu_test = sum(Y_test == logit_predict)/float(len(Y_test))\n",
    "    error_train = 1.0-accu_train\n",
    "    error_test = 1.0-accu_test\n",
    "    return error_train,error_test\n",
    "Logit0 = Logit(train_term_document_matrix_tfidf, DJIA_train, test_term_document_matrix_tfidf, DJIA_test)\n",
    "print \"Logistic Model\"\n",
    "print \"Training Error:\\t\",Logit0[0]\n",
    "print \"Test Error:\\t\",Logit0[1]"
   ]
  },
  {
   "cell_type": "code",
   "execution_count": 180,
   "metadata": {},
   "outputs": [
    {
     "name": "stdout",
     "output_type": "stream",
     "text": [
      "Logistic Lasso Model\n",
      "Training Error:\t0.343333333333\n",
      "Test Error:\t0.486707566462\n"
     ]
    }
   ],
   "source": [
    "def LogitLasso(X_train, Y_train, X_test, Y_test):\n",
    "    logit = LogisticRegression(penalty='l1')\n",
    "    logit_fit = logit.fit(X_train, Y_train)\n",
    "    logit_train_predict = logit.predict(X_train)\n",
    "    logit_predict = logit.predict(X_test)\n",
    "    accu_train = sum(Y_train == logit_train_predict)/float(len(Y_train))\n",
    "    accu_test = sum(Y_test == logit_predict)/float(len(Y_test))\n",
    "    error_train = 1.0-accu_train\n",
    "    error_test = 1.0-accu_test\n",
    "    return error_train,error_test\n",
    "LogitL = LogitLasso(train_term_document_matrix_tfidf, DJIA_train, test_term_document_matrix_tfidf, DJIA_test)\n",
    "print \"Logistic Lasso Model\"\n",
    "print \"Training Error:\\t\",LogitL[0]\n",
    "print \"Test Error:\\t\",LogitL[1]"
   ]
  },
  {
   "cell_type": "code",
   "execution_count": 179,
   "metadata": {},
   "outputs": [
    {
     "name": "stdout",
     "output_type": "stream",
     "text": [
      "Logistic Ridge Model\n",
      "Training Error:\t0.236666666667\n",
      "Test Error:\t0.425357873211\n"
     ]
    }
   ],
   "source": [
    "def LogitRidge(X_train, Y_train, X_test, Y_test):\n",
    "    logit = LogisticRegression(penalty='l2')\n",
    "    logit_fit = logit.fit(X_train, Y_train)\n",
    "    logit_train_predict = logit.predict(X_train)\n",
    "    logit_predict = logit.predict(X_test)\n",
    "    accu_train = sum(Y_train == logit_train_predict)/float(len(Y_train))\n",
    "    accu_test = sum(Y_test == logit_predict)/float(len(Y_test))\n",
    "    error_train = 1.0-accu_train\n",
    "    error_test = 1.0-accu_test\n",
    "    return error_train,error_test\n",
    "LogitR = LogitRidge(train_term_document_matrix_tfidf, DJIA_train, test_term_document_matrix_tfidf, DJIA_test)\n",
    "print \"Logistic Ridge Model\"\n",
    "print \"Training Error:\\t\",LogitR[0]\n",
    "print \"Test Error:\\t\",LogitR[1]"
   ]
  },
  {
   "cell_type": "markdown",
   "metadata": {},
   "source": [
    "### Prediction Models - Rocchio Classification"
   ]
  },
  {
   "cell_type": "code",
   "execution_count": 187,
   "metadata": {},
   "outputs": [
    {
     "name": "stdout",
     "output_type": "stream",
     "text": [
      "Rocchio Classification Model\n",
      "Training Error:\t0.27\n",
      "Test Error:\t0.41717791411\n"
     ]
    }
   ],
   "source": [
    "def Rocchio(X_train, Y_train, X_test, Y_test):\n",
    "    pred_train = np.zeros(len(Y_train), dtype = 'int64')\n",
    "    pred_test = np.zeros(len(Y_test), dtype = 'int64')\n",
    "    X_train_1 = X_train[np.array(Y_train) == 1, :]\n",
    "    X_train_0 = X_train[np.array(Y_train) == 0, :]\n",
    "    Centriod_1 = (np.sum(X_train_1, axis = 0)+0.)/X_train_1.shape[0]\n",
    "    Centriod_0 = (np.sum(X_train_0, axis = 0)+0.)/X_train_0.shape[0]\n",
    "    for j in range(len(Y_train)):\n",
    "        distance_1 = np.sqrt(np.sum(np.square(X_train[j]-Centriod_1)))\n",
    "        distance_0 = np.sqrt(np.sum(np.square(X_train[j]-Centriod_0)))\n",
    "        if distance_1 <= distance_0:\n",
    "            pred_train[j] = 1\n",
    "        else:\n",
    "            pred_train[j] = 0\n",
    "    accu_train = np.mean(Y_train == pred_train)\n",
    "    for j in range(len(Y_test)):\n",
    "        distance_1 = np.sqrt(np.sum(np.square(X_test[j]-Centriod_1)))\n",
    "        distance_0 = np.sqrt(np.sum(np.square(X_test[j]-Centriod_0)))\n",
    "        if distance_1 <= distance_0:\n",
    "            pred_test[j] = 1\n",
    "        else:\n",
    "            pred_test[j] = 0\n",
    "    accu_test = np.mean(Y_test == pred_test)\n",
    "    error_train = 1.0-accu_train\n",
    "    error_test = 1.0-accu_test\n",
    "    return error_train,error_test\n",
    "Rocchio = Rocchio(train_term_document_matrix_tfidf, DJIA_train, test_term_document_matrix_tfidf, DJIA_test)\n",
    "print \"Rocchio Classification Model\"\n",
    "print \"Training Error:\\t\",Rocchio[0]\n",
    "print \"Test Error:\\t\",Rocchio[1]"
   ]
  },
  {
   "cell_type": "markdown",
   "metadata": {},
   "source": [
    "### Prediction Models - Naive Bayes"
   ]
  },
  {
   "cell_type": "code",
   "execution_count": 184,
   "metadata": {},
   "outputs": [
    {
     "name": "stdout",
     "output_type": "stream",
     "text": [
      "Naive Bayes Model\n",
      "Training Error:\t0.260666666667\n",
      "Test Error:\t0.431492842536\n"
     ]
    }
   ],
   "source": [
    "from sklearn.naive_bayes import BernoulliNB\n",
    "def NaiveBayes(X_train, Y_train, X_test, Y_test):\n",
    "    BNBclassifier = BernoulliNB(alpha=1)\n",
    "    BNBclassifier.fit(X_train, Y_train)\n",
    "    BNBpred_train = BNBclassifier.predict(X_train)\n",
    "    BNBpred = BNBclassifier.predict(X_test)\n",
    "    accu_train = np.mean(BNBpred_train==Y_train)\n",
    "    accu_test = np.mean(BNBpred==Y_test)\n",
    "    error_train = 1.0-accu_train\n",
    "    error_test = 1.0-accu_test\n",
    "    return error_train,error_test\n",
    "NBayes = NaiveBayes(train_term_document_matrix_tfidf, DJIA_train, test_term_document_matrix_tfidf, DJIA_test)\n",
    "print \"Naive Bayes Model\"\n",
    "print \"Training Error:\\t\",NBayes[0]\n",
    "print \"Test Error:\\t\",NBayes[1]"
   ]
  },
  {
   "cell_type": "markdown",
   "metadata": {},
   "source": [
    "### Prediction Models - Decision Tree"
   ]
  },
  {
   "cell_type": "code",
   "execution_count": 186,
   "metadata": {},
   "outputs": [
    {
     "name": "stdout",
     "output_type": "stream",
     "text": [
      "Decision Tree Model\n",
      "Training Error:\t0.0\n",
      "Test Error:\t0.482617586912\n"
     ]
    }
   ],
   "source": [
    "# REFERENCE: http://scikit-learn.org/stable/modules/tree.html\n",
    "from sklearn import tree\n",
    "def DecisionTree(X_train, Y_train, X_test, Y_test):\n",
    "    clf = tree.DecisionTreeClassifier()\n",
    "    clf = clf.fit(X_train, Y_train)\n",
    "    clf_train = clf.predict(X_train)\n",
    "    clf_test = clf.predict(X_test)\n",
    "    accu_train = sum(Y_train == clf_train)/float(len(Y_train))\n",
    "    accu_test = sum(Y_test == clf_test)/float(len(Y_test))\n",
    "    error_train = 1.0-accu_train\n",
    "    error_test = 1.0-accu_test\n",
    "    return error_train,error_test\n",
    "DTree = DecisionTree(train_term_document_matrix_tfidf, DJIA_train, test_term_document_matrix_tfidf, DJIA_test)\n",
    "print \"Decision Tree Model\"\n",
    "print \"Training Error:\\t\",DTree[0]\n",
    "print \"Test Error:\\t\",DTree[1]"
   ]
  },
  {
   "cell_type": "markdown",
   "metadata": {},
   "source": [
    "### Prediction Models - Random Forests"
   ]
  },
  {
   "cell_type": "code",
   "execution_count": 185,
   "metadata": {},
   "outputs": [
    {
     "name": "stdout",
     "output_type": "stream",
     "text": [
      "Random Forests Model, max_depth = 10\n",
      "Training Error:\t0.223333333333\n",
      "Test Error:\t0.441717791411\n"
     ]
    }
   ],
   "source": [
    "# REFERENCE: http://scikit-learn.org/stable/modules/generated/sklearn.ensemble.RandomForestClassifier.html\n",
    "from sklearn.ensemble import RandomForestClassifier\n",
    "def RandomForest(X_train, Y_train, X_test, Y_test, md):\n",
    "    clfr = RandomForestClassifier(max_depth=md, random_state=0)\n",
    "    clfr = clfr.fit(X_train, Y_train)\n",
    "    clfr_train = clfr.predict(X_train)\n",
    "    clfr_test = clfr.predict(X_test)\n",
    "    accu_train = sum(Y_train == clfr_train)/float(len(Y_train))\n",
    "    accu_test = sum(Y_test == clfr_test)/float(len(Y_test))\n",
    "    error_train = 1.0-accu_train\n",
    "    error_test = 1.0-accu_test\n",
    "    return error_train,error_test\n",
    "RF = RandomForest(train_term_document_matrix_tfidf, DJIA_train, test_term_document_matrix_tfidf, DJIA_test, 10)\n",
    "print \"Random Forests Model, max_depth = 10\"\n",
    "print \"Training Error:\\t\",RF[0]\n",
    "print \"Test Error:\\t\",RF[1]"
   ]
  },
  {
   "cell_type": "code",
   "execution_count": null,
   "metadata": {
    "collapsed": true
   },
   "outputs": [],
   "source": []
  },
  {
   "cell_type": "code",
   "execution_count": null,
   "metadata": {
    "collapsed": true
   },
   "outputs": [],
   "source": []
  }
 ],
 "metadata": {
  "kernelspec": {
   "display_name": "Python 2",
   "language": "python",
   "name": "python2"
  },
  "language_info": {
   "codemirror_mode": {
    "name": "ipython",
    "version": 2
   },
   "file_extension": ".py",
   "mimetype": "text/x-python",
   "name": "python",
   "nbconvert_exporter": "python",
   "pygments_lexer": "ipython2",
   "version": "2.7.13"
  }
 },
 "nbformat": 4,
 "nbformat_minor": 2
}
