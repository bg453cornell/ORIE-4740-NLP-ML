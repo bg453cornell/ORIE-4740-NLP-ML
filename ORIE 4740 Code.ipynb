{
 "cells": [
  {
   "cell_type": "code",
   "execution_count": 223,
   "metadata": {
    "collapsed": true
   },
   "outputs": [],
   "source": [
    "import pandas as pd\n",
    "import numpy as np\n",
    "import matplotlib.pyplot as plt\n",
    "%matplotlib inline\n",
    "\n",
    "import os\n",
    "\n",
    "from sklearn.feature_extraction.text import CountVectorizer\n",
    "from sklearn.feature_extraction.text import TfidfVectorizer\n",
    "from sklearn.cross_validation import ShuffleSplit\n",
    "from sklearn.metrics.pairwise import cosine_similarity"
   ]
  },
  {
   "cell_type": "code",
   "execution_count": 6,
   "metadata": {},
   "outputs": [],
   "source": [
    "df = pd.read_csv(\"./data/Combined_News_DJIA.csv\", header = 0, index_col = 0)"
   ]
  },
  {
   "cell_type": "code",
   "execution_count": 13,
   "metadata": {},
   "outputs": [
    {
     "data": {
      "text/html": [
       "<div>\n",
       "<style>\n",
       "    .dataframe thead tr:only-child th {\n",
       "        text-align: right;\n",
       "    }\n",
       "\n",
       "    .dataframe thead th {\n",
       "        text-align: left;\n",
       "    }\n",
       "\n",
       "    .dataframe tbody tr th {\n",
       "        vertical-align: top;\n",
       "    }\n",
       "</style>\n",
       "<table border=\"1\" class=\"dataframe\">\n",
       "  <thead>\n",
       "    <tr style=\"text-align: right;\">\n",
       "      <th></th>\n",
       "      <th>Label</th>\n",
       "      <th>Top1</th>\n",
       "      <th>Top2</th>\n",
       "      <th>Top3</th>\n",
       "      <th>Top4</th>\n",
       "      <th>Top5</th>\n",
       "      <th>Top6</th>\n",
       "      <th>Top7</th>\n",
       "      <th>Top8</th>\n",
       "      <th>Top9</th>\n",
       "      <th>...</th>\n",
       "      <th>Top16</th>\n",
       "      <th>Top17</th>\n",
       "      <th>Top18</th>\n",
       "      <th>Top19</th>\n",
       "      <th>Top20</th>\n",
       "      <th>Top21</th>\n",
       "      <th>Top22</th>\n",
       "      <th>Top23</th>\n",
       "      <th>Top24</th>\n",
       "      <th>Top25</th>\n",
       "    </tr>\n",
       "    <tr>\n",
       "      <th>Date</th>\n",
       "      <th></th>\n",
       "      <th></th>\n",
       "      <th></th>\n",
       "      <th></th>\n",
       "      <th></th>\n",
       "      <th></th>\n",
       "      <th></th>\n",
       "      <th></th>\n",
       "      <th></th>\n",
       "      <th></th>\n",
       "      <th></th>\n",
       "      <th></th>\n",
       "      <th></th>\n",
       "      <th></th>\n",
       "      <th></th>\n",
       "      <th></th>\n",
       "      <th></th>\n",
       "      <th></th>\n",
       "      <th></th>\n",
       "      <th></th>\n",
       "      <th></th>\n",
       "    </tr>\n",
       "  </thead>\n",
       "  <tbody>\n",
       "    <tr>\n",
       "      <th>2008-08-08</th>\n",
       "      <td>0</td>\n",
       "      <td>b\"Georgia 'downs two Russian warplanes' as cou...</td>\n",
       "      <td>b'BREAKING: Musharraf to be impeached.'</td>\n",
       "      <td>b'Russia Today: Columns of troops roll into So...</td>\n",
       "      <td>b'Russian tanks are moving towards the capital...</td>\n",
       "      <td>b\"Afghan children raped with 'impunity,' U.N. ...</td>\n",
       "      <td>b'150 Russian tanks have entered South Ossetia...</td>\n",
       "      <td>b\"Breaking: Georgia invades South Ossetia, Rus...</td>\n",
       "      <td>b\"The 'enemy combatent' trials are nothing but...</td>\n",
       "      <td>b'Georgian troops retreat from S. Osettain cap...</td>\n",
       "      <td>...</td>\n",
       "      <td>b'Georgia Invades South Ossetia - if Russia ge...</td>\n",
       "      <td>b'Al-Qaeda Faces Islamist Backlash'</td>\n",
       "      <td>b'Condoleezza Rice: \"The US would not act to p...</td>\n",
       "      <td>b'This is a busy day:  The European Union has ...</td>\n",
       "      <td>b\"Georgia will withdraw 1,000 soldiers from Ir...</td>\n",
       "      <td>b'Why the Pentagon Thinks Attacking Iran is a ...</td>\n",
       "      <td>b'Caucasus in crisis: Georgia invades South Os...</td>\n",
       "      <td>b'Indian shoe manufactory  - And again in a se...</td>\n",
       "      <td>b'Visitors Suffering from Mental Illnesses Ban...</td>\n",
       "      <td>b\"No Help for Mexico's Kidnapping Surge\"</td>\n",
       "    </tr>\n",
       "    <tr>\n",
       "      <th>2008-08-11</th>\n",
       "      <td>1</td>\n",
       "      <td>b'Why wont America and Nato help us? If they w...</td>\n",
       "      <td>b'Bush puts foot down on Georgian conflict'</td>\n",
       "      <td>b\"Jewish Georgian minister: Thanks to Israeli ...</td>\n",
       "      <td>b'Georgian army flees in disarray as Russians ...</td>\n",
       "      <td>b\"Olympic opening ceremony fireworks 'faked'\"</td>\n",
       "      <td>b'What were the Mossad with fraudulent New Zea...</td>\n",
       "      <td>b'Russia angered by Israeli military sale to G...</td>\n",
       "      <td>b'An American citizen living in S.Ossetia blam...</td>\n",
       "      <td>b'Welcome To World War IV! Now In High Definit...</td>\n",
       "      <td>...</td>\n",
       "      <td>b'Israel and the US behind the Georgian aggres...</td>\n",
       "      <td>b'\"Do not believe TV, neither Russian nor Geor...</td>\n",
       "      <td>b'Riots are still going on in Montreal (Canada...</td>\n",
       "      <td>b'China to overtake US as largest manufacturer'</td>\n",
       "      <td>b'War in South Ossetia [PICS]'</td>\n",
       "      <td>b'Israeli Physicians Group Condemns State Tort...</td>\n",
       "      <td>b' Russia has just beaten the United States ov...</td>\n",
       "      <td>b'Perhaps *the* question about the Georgia - R...</td>\n",
       "      <td>b'Russia is so much better at war'</td>\n",
       "      <td>b\"So this is what it's come to: trading sex fo...</td>\n",
       "    </tr>\n",
       "    <tr>\n",
       "      <th>2008-08-12</th>\n",
       "      <td>0</td>\n",
       "      <td>b'Remember that adorable 9-year-old who sang a...</td>\n",
       "      <td>b\"Russia 'ends Georgia operation'\"</td>\n",
       "      <td>b'\"If we had no sexual harassment we would hav...</td>\n",
       "      <td>b\"Al-Qa'eda is losing support in Iraq because ...</td>\n",
       "      <td>b'Ceasefire in Georgia: Putin Outmaneuvers the...</td>\n",
       "      <td>b'Why Microsoft and Intel tried to kill the XO...</td>\n",
       "      <td>b'Stratfor: The Russo-Georgian War and the Bal...</td>\n",
       "      <td>b\"I'm Trying to Get a Sense of This Whole Geor...</td>\n",
       "      <td>b\"The US military was surprised by the timing ...</td>\n",
       "      <td>...</td>\n",
       "      <td>b'U.S. troops still in Georgia (did you know t...</td>\n",
       "      <td>b'Why Russias response to Georgia was right'</td>\n",
       "      <td>b'Gorbachev accuses U.S. of making a \"serious ...</td>\n",
       "      <td>b'Russia, Georgia, and NATO: Cold War Two'</td>\n",
       "      <td>b'Remember that adorable 62-year-old who led y...</td>\n",
       "      <td>b'War in Georgia: The Israeli connection'</td>\n",
       "      <td>b'All signs point to the US encouraging Georgi...</td>\n",
       "      <td>b'Christopher King argues that the US and NATO...</td>\n",
       "      <td>b'America: The New Mexico?'</td>\n",
       "      <td>b\"BBC NEWS | Asia-Pacific | Extinction 'by man...</td>\n",
       "    </tr>\n",
       "    <tr>\n",
       "      <th>2008-08-13</th>\n",
       "      <td>0</td>\n",
       "      <td>b' U.S. refuses Israel weapons to attack Iran:...</td>\n",
       "      <td>b\"When the president ordered to attack Tskhinv...</td>\n",
       "      <td>b' Israel clears troops who killed Reuters cam...</td>\n",
       "      <td>b'Britain\\'s policy of being tough on drugs is...</td>\n",
       "      <td>b'Body of 14 year old found in trunk; Latest (...</td>\n",
       "      <td>b'China has moved 10 *million* quake survivors...</td>\n",
       "      <td>b\"Bush announces Operation Get All Up In Russi...</td>\n",
       "      <td>b'Russian forces sink Georgian ships '</td>\n",
       "      <td>b\"The commander of a Navy air reconnaissance s...</td>\n",
       "      <td>...</td>\n",
       "      <td>b'Elephants extinct by 2020?'</td>\n",
       "      <td>b'US humanitarian missions soon in Georgia - i...</td>\n",
       "      <td>b\"Georgia's DDOS came from US sources\"</td>\n",
       "      <td>b'Russian convoy heads into Georgia, violating...</td>\n",
       "      <td>b'Israeli defence minister: US against strike ...</td>\n",
       "      <td>b'Gorbachev: We Had No Choice'</td>\n",
       "      <td>b'Witness: Russian forces head towards Tbilisi...</td>\n",
       "      <td>b' Quarter of Russians blame U.S. for conflict...</td>\n",
       "      <td>b'Georgian president  says US military will ta...</td>\n",
       "      <td>b'2006: Nobel laureate Aleksander Solzhenitsyn...</td>\n",
       "    </tr>\n",
       "    <tr>\n",
       "      <th>2008-08-14</th>\n",
       "      <td>1</td>\n",
       "      <td>b'All the experts admit that we should legalis...</td>\n",
       "      <td>b'War in South Osetia - 89 pictures made by a ...</td>\n",
       "      <td>b'Swedish wrestler Ara Abrahamian throws away ...</td>\n",
       "      <td>b'Russia exaggerated the death toll in South O...</td>\n",
       "      <td>b'Missile That Killed 9 Inside Pakistan May Ha...</td>\n",
       "      <td>b\"Rushdie Condemns Random House's Refusal to P...</td>\n",
       "      <td>b'Poland and US agree to missle defense deal. ...</td>\n",
       "      <td>b'Will the Russians conquer Tblisi? Bet on it,...</td>\n",
       "      <td>b'Russia exaggerating South Ossetian death tol...</td>\n",
       "      <td>...</td>\n",
       "      <td>b'Bank analyst forecast Georgian crisis 2 days...</td>\n",
       "      <td>b\"Georgia confict could set back Russia's US r...</td>\n",
       "      <td>b'War in the Caucasus is as much the product o...</td>\n",
       "      <td>b'\"Non-media\" photos of South Ossetia/Georgia ...</td>\n",
       "      <td>b'Georgian TV reporter shot by Russian sniper ...</td>\n",
       "      <td>b'Saudi Arabia: Mother moves to block child ma...</td>\n",
       "      <td>b'Taliban wages war on humanitarian aid workers'</td>\n",
       "      <td>b'Russia: World  \"can forget about\" Georgia\\'s...</td>\n",
       "      <td>b'Darfur rebels accuse Sudan of mounting major...</td>\n",
       "      <td>b'Philippines : Peace Advocate say Muslims nee...</td>\n",
       "    </tr>\n",
       "  </tbody>\n",
       "</table>\n",
       "<p>5 rows × 26 columns</p>\n",
       "</div>"
      ],
      "text/plain": [
       "            Label                                               Top1  \\\n",
       "Date                                                                   \n",
       "2008-08-08      0  b\"Georgia 'downs two Russian warplanes' as cou...   \n",
       "2008-08-11      1  b'Why wont America and Nato help us? If they w...   \n",
       "2008-08-12      0  b'Remember that adorable 9-year-old who sang a...   \n",
       "2008-08-13      0  b' U.S. refuses Israel weapons to attack Iran:...   \n",
       "2008-08-14      1  b'All the experts admit that we should legalis...   \n",
       "\n",
       "                                                         Top2  \\\n",
       "Date                                                            \n",
       "2008-08-08            b'BREAKING: Musharraf to be impeached.'   \n",
       "2008-08-11        b'Bush puts foot down on Georgian conflict'   \n",
       "2008-08-12                 b\"Russia 'ends Georgia operation'\"   \n",
       "2008-08-13  b\"When the president ordered to attack Tskhinv...   \n",
       "2008-08-14  b'War in South Osetia - 89 pictures made by a ...   \n",
       "\n",
       "                                                         Top3  \\\n",
       "Date                                                            \n",
       "2008-08-08  b'Russia Today: Columns of troops roll into So...   \n",
       "2008-08-11  b\"Jewish Georgian minister: Thanks to Israeli ...   \n",
       "2008-08-12  b'\"If we had no sexual harassment we would hav...   \n",
       "2008-08-13  b' Israel clears troops who killed Reuters cam...   \n",
       "2008-08-14  b'Swedish wrestler Ara Abrahamian throws away ...   \n",
       "\n",
       "                                                         Top4  \\\n",
       "Date                                                            \n",
       "2008-08-08  b'Russian tanks are moving towards the capital...   \n",
       "2008-08-11  b'Georgian army flees in disarray as Russians ...   \n",
       "2008-08-12  b\"Al-Qa'eda is losing support in Iraq because ...   \n",
       "2008-08-13  b'Britain\\'s policy of being tough on drugs is...   \n",
       "2008-08-14  b'Russia exaggerated the death toll in South O...   \n",
       "\n",
       "                                                         Top5  \\\n",
       "Date                                                            \n",
       "2008-08-08  b\"Afghan children raped with 'impunity,' U.N. ...   \n",
       "2008-08-11      b\"Olympic opening ceremony fireworks 'faked'\"   \n",
       "2008-08-12  b'Ceasefire in Georgia: Putin Outmaneuvers the...   \n",
       "2008-08-13  b'Body of 14 year old found in trunk; Latest (...   \n",
       "2008-08-14  b'Missile That Killed 9 Inside Pakistan May Ha...   \n",
       "\n",
       "                                                         Top6  \\\n",
       "Date                                                            \n",
       "2008-08-08  b'150 Russian tanks have entered South Ossetia...   \n",
       "2008-08-11  b'What were the Mossad with fraudulent New Zea...   \n",
       "2008-08-12  b'Why Microsoft and Intel tried to kill the XO...   \n",
       "2008-08-13  b'China has moved 10 *million* quake survivors...   \n",
       "2008-08-14  b\"Rushdie Condemns Random House's Refusal to P...   \n",
       "\n",
       "                                                         Top7  \\\n",
       "Date                                                            \n",
       "2008-08-08  b\"Breaking: Georgia invades South Ossetia, Rus...   \n",
       "2008-08-11  b'Russia angered by Israeli military sale to G...   \n",
       "2008-08-12  b'Stratfor: The Russo-Georgian War and the Bal...   \n",
       "2008-08-13  b\"Bush announces Operation Get All Up In Russi...   \n",
       "2008-08-14  b'Poland and US agree to missle defense deal. ...   \n",
       "\n",
       "                                                         Top8  \\\n",
       "Date                                                            \n",
       "2008-08-08  b\"The 'enemy combatent' trials are nothing but...   \n",
       "2008-08-11  b'An American citizen living in S.Ossetia blam...   \n",
       "2008-08-12  b\"I'm Trying to Get a Sense of This Whole Geor...   \n",
       "2008-08-13             b'Russian forces sink Georgian ships '   \n",
       "2008-08-14  b'Will the Russians conquer Tblisi? Bet on it,...   \n",
       "\n",
       "                                                         Top9  \\\n",
       "Date                                                            \n",
       "2008-08-08  b'Georgian troops retreat from S. Osettain cap...   \n",
       "2008-08-11  b'Welcome To World War IV! Now In High Definit...   \n",
       "2008-08-12  b\"The US military was surprised by the timing ...   \n",
       "2008-08-13  b\"The commander of a Navy air reconnaissance s...   \n",
       "2008-08-14  b'Russia exaggerating South Ossetian death tol...   \n",
       "\n",
       "                                  ...                          \\\n",
       "Date                              ...                           \n",
       "2008-08-08                        ...                           \n",
       "2008-08-11                        ...                           \n",
       "2008-08-12                        ...                           \n",
       "2008-08-13                        ...                           \n",
       "2008-08-14                        ...                           \n",
       "\n",
       "                                                        Top16  \\\n",
       "Date                                                            \n",
       "2008-08-08  b'Georgia Invades South Ossetia - if Russia ge...   \n",
       "2008-08-11  b'Israel and the US behind the Georgian aggres...   \n",
       "2008-08-12  b'U.S. troops still in Georgia (did you know t...   \n",
       "2008-08-13                      b'Elephants extinct by 2020?'   \n",
       "2008-08-14  b'Bank analyst forecast Georgian crisis 2 days...   \n",
       "\n",
       "                                                        Top17  \\\n",
       "Date                                                            \n",
       "2008-08-08                b'Al-Qaeda Faces Islamist Backlash'   \n",
       "2008-08-11  b'\"Do not believe TV, neither Russian nor Geor...   \n",
       "2008-08-12       b'Why Russias response to Georgia was right'   \n",
       "2008-08-13  b'US humanitarian missions soon in Georgia - i...   \n",
       "2008-08-14  b\"Georgia confict could set back Russia's US r...   \n",
       "\n",
       "                                                        Top18  \\\n",
       "Date                                                            \n",
       "2008-08-08  b'Condoleezza Rice: \"The US would not act to p...   \n",
       "2008-08-11  b'Riots are still going on in Montreal (Canada...   \n",
       "2008-08-12  b'Gorbachev accuses U.S. of making a \"serious ...   \n",
       "2008-08-13             b\"Georgia's DDOS came from US sources\"   \n",
       "2008-08-14  b'War in the Caucasus is as much the product o...   \n",
       "\n",
       "                                                        Top19  \\\n",
       "Date                                                            \n",
       "2008-08-08  b'This is a busy day:  The European Union has ...   \n",
       "2008-08-11    b'China to overtake US as largest manufacturer'   \n",
       "2008-08-12         b'Russia, Georgia, and NATO: Cold War Two'   \n",
       "2008-08-13  b'Russian convoy heads into Georgia, violating...   \n",
       "2008-08-14  b'\"Non-media\" photos of South Ossetia/Georgia ...   \n",
       "\n",
       "                                                        Top20  \\\n",
       "Date                                                            \n",
       "2008-08-08  b\"Georgia will withdraw 1,000 soldiers from Ir...   \n",
       "2008-08-11                     b'War in South Ossetia [PICS]'   \n",
       "2008-08-12  b'Remember that adorable 62-year-old who led y...   \n",
       "2008-08-13  b'Israeli defence minister: US against strike ...   \n",
       "2008-08-14  b'Georgian TV reporter shot by Russian sniper ...   \n",
       "\n",
       "                                                        Top21  \\\n",
       "Date                                                            \n",
       "2008-08-08  b'Why the Pentagon Thinks Attacking Iran is a ...   \n",
       "2008-08-11  b'Israeli Physicians Group Condemns State Tort...   \n",
       "2008-08-12          b'War in Georgia: The Israeli connection'   \n",
       "2008-08-13                     b'Gorbachev: We Had No Choice'   \n",
       "2008-08-14  b'Saudi Arabia: Mother moves to block child ma...   \n",
       "\n",
       "                                                        Top22  \\\n",
       "Date                                                            \n",
       "2008-08-08  b'Caucasus in crisis: Georgia invades South Os...   \n",
       "2008-08-11  b' Russia has just beaten the United States ov...   \n",
       "2008-08-12  b'All signs point to the US encouraging Georgi...   \n",
       "2008-08-13  b'Witness: Russian forces head towards Tbilisi...   \n",
       "2008-08-14   b'Taliban wages war on humanitarian aid workers'   \n",
       "\n",
       "                                                        Top23  \\\n",
       "Date                                                            \n",
       "2008-08-08  b'Indian shoe manufactory  - And again in a se...   \n",
       "2008-08-11  b'Perhaps *the* question about the Georgia - R...   \n",
       "2008-08-12  b'Christopher King argues that the US and NATO...   \n",
       "2008-08-13  b' Quarter of Russians blame U.S. for conflict...   \n",
       "2008-08-14  b'Russia: World  \"can forget about\" Georgia\\'s...   \n",
       "\n",
       "                                                        Top24  \\\n",
       "Date                                                            \n",
       "2008-08-08  b'Visitors Suffering from Mental Illnesses Ban...   \n",
       "2008-08-11                 b'Russia is so much better at war'   \n",
       "2008-08-12                        b'America: The New Mexico?'   \n",
       "2008-08-13  b'Georgian president  says US military will ta...   \n",
       "2008-08-14  b'Darfur rebels accuse Sudan of mounting major...   \n",
       "\n",
       "                                                        Top25  \n",
       "Date                                                           \n",
       "2008-08-08           b\"No Help for Mexico's Kidnapping Surge\"  \n",
       "2008-08-11  b\"So this is what it's come to: trading sex fo...  \n",
       "2008-08-12  b\"BBC NEWS | Asia-Pacific | Extinction 'by man...  \n",
       "2008-08-13  b'2006: Nobel laureate Aleksander Solzhenitsyn...  \n",
       "2008-08-14  b'Philippines : Peace Advocate say Muslims nee...  \n",
       "\n",
       "[5 rows x 26 columns]"
      ]
     },
     "execution_count": 13,
     "metadata": {},
     "output_type": "execute_result"
    }
   ],
   "source": [
    "df.head()"
   ]
  },
  {
   "cell_type": "code",
   "execution_count": 14,
   "metadata": {},
   "outputs": [
    {
     "data": {
      "text/html": [
       "<div>\n",
       "<style>\n",
       "    .dataframe thead tr:only-child th {\n",
       "        text-align: right;\n",
       "    }\n",
       "\n",
       "    .dataframe thead th {\n",
       "        text-align: left;\n",
       "    }\n",
       "\n",
       "    .dataframe tbody tr th {\n",
       "        vertical-align: top;\n",
       "    }\n",
       "</style>\n",
       "<table border=\"1\" class=\"dataframe\">\n",
       "  <thead>\n",
       "    <tr style=\"text-align: right;\">\n",
       "      <th></th>\n",
       "      <th>Label</th>\n",
       "      <th>Top1</th>\n",
       "      <th>Top2</th>\n",
       "      <th>Top3</th>\n",
       "      <th>Top4</th>\n",
       "      <th>Top5</th>\n",
       "      <th>Top6</th>\n",
       "      <th>Top7</th>\n",
       "      <th>Top8</th>\n",
       "      <th>Top9</th>\n",
       "      <th>...</th>\n",
       "      <th>Top16</th>\n",
       "      <th>Top17</th>\n",
       "      <th>Top18</th>\n",
       "      <th>Top19</th>\n",
       "      <th>Top20</th>\n",
       "      <th>Top21</th>\n",
       "      <th>Top22</th>\n",
       "      <th>Top23</th>\n",
       "      <th>Top24</th>\n",
       "      <th>Top25</th>\n",
       "    </tr>\n",
       "    <tr>\n",
       "      <th>Date</th>\n",
       "      <th></th>\n",
       "      <th></th>\n",
       "      <th></th>\n",
       "      <th></th>\n",
       "      <th></th>\n",
       "      <th></th>\n",
       "      <th></th>\n",
       "      <th></th>\n",
       "      <th></th>\n",
       "      <th></th>\n",
       "      <th></th>\n",
       "      <th></th>\n",
       "      <th></th>\n",
       "      <th></th>\n",
       "      <th></th>\n",
       "      <th></th>\n",
       "      <th></th>\n",
       "      <th></th>\n",
       "      <th></th>\n",
       "      <th></th>\n",
       "      <th></th>\n",
       "    </tr>\n",
       "  </thead>\n",
       "  <tbody>\n",
       "    <tr>\n",
       "      <th>2016-06-27</th>\n",
       "      <td>0</td>\n",
       "      <td>Barclays and RBS shares suspended from trading...</td>\n",
       "      <td>Pope says Church should ask forgiveness from g...</td>\n",
       "      <td>Poland 'shocked' by xenophobic abuse of Poles ...</td>\n",
       "      <td>There will be no second referendum, cabinet ag...</td>\n",
       "      <td>Scotland welcome to join EU, Merkel ally says</td>\n",
       "      <td>Sterling dips below Friday's 31-year low amid ...</td>\n",
       "      <td>No negative news about South African President...</td>\n",
       "      <td>Surge in Hate Crimes in the U.K. Following U.K...</td>\n",
       "      <td>Weapons shipped into Jordan by the CIA and Sau...</td>\n",
       "      <td>...</td>\n",
       "      <td>German lawyers to probe Erdogan over alleged w...</td>\n",
       "      <td>Boris Johnson says the UK will continue to \"in...</td>\n",
       "      <td>Richard Branson is calling on the UK governmen...</td>\n",
       "      <td>Turkey 'sorry for downing Russian jet'</td>\n",
       "      <td>Edward Snowden lawyer vows new push for pardon...</td>\n",
       "      <td>Brexit opinion poll reveals majority don't wan...</td>\n",
       "      <td>Conservative MP Leave Campaigner: \"The leave c...</td>\n",
       "      <td>Economists predict UK recession, further weake...</td>\n",
       "      <td>New EU 'superstate plan by France, Germany: Cr...</td>\n",
       "      <td>Pakistani clerics declare transgender marriage...</td>\n",
       "    </tr>\n",
       "    <tr>\n",
       "      <th>2016-06-28</th>\n",
       "      <td>1</td>\n",
       "      <td>2,500 Scientists To Australia: If You Want To ...</td>\n",
       "      <td>The personal details of 112,000 French police ...</td>\n",
       "      <td>S&amp;amp;P cuts United Kingdom sovereign credit r...</td>\n",
       "      <td>Huge helium deposit found in Africa</td>\n",
       "      <td>CEO of the South African state broadcaster qui...</td>\n",
       "      <td>Brexit cost investors $2 trillion, the worst o...</td>\n",
       "      <td>Hong Kong democracy activists call for return ...</td>\n",
       "      <td>Brexit: Iceland president says UK can join 'tr...</td>\n",
       "      <td>UK's Osborne: 'Absolutely' going to have to cu...</td>\n",
       "      <td>...</td>\n",
       "      <td>US, Canada and Mexico pledge 50% of power from...</td>\n",
       "      <td>There is increasing evidence that Australia is...</td>\n",
       "      <td>Richard Branson, the founder of Virgin Group, ...</td>\n",
       "      <td>37,000-yr-old skull from Borneo reveals surpri...</td>\n",
       "      <td>Palestinians stone Western Wall worshipers; po...</td>\n",
       "      <td>Jean-Claude Juncker asks Farage: Why are you h...</td>\n",
       "      <td>\"Romanians for Remainians\" offering a new home...</td>\n",
       "      <td>Brexit: Gibraltar in talks with Scotland to st...</td>\n",
       "      <td>8 Suicide Bombers Strike Lebanon</td>\n",
       "      <td>Mexico's security forces routinely use 'sexual...</td>\n",
       "    </tr>\n",
       "    <tr>\n",
       "      <th>2016-06-29</th>\n",
       "      <td>1</td>\n",
       "      <td>Explosion At Airport In Istanbul</td>\n",
       "      <td>Yemeni former president: Terrorism is the offs...</td>\n",
       "      <td>UK must accept freedom of movement to access E...</td>\n",
       "      <td>Devastated: scientists too late to captive bre...</td>\n",
       "      <td>British Labor Party leader Jeremy Corbyn loses...</td>\n",
       "      <td>A Muslim Shop in the UK Was Just Firebombed Wh...</td>\n",
       "      <td>Mexican Authorities Sexually Torture Women in ...</td>\n",
       "      <td>UK shares and pound continue to recover</td>\n",
       "      <td>Iceland historian Johannesson wins presidentia...</td>\n",
       "      <td>...</td>\n",
       "      <td>Escape Tunnel, Dug by Hand, Is Found at Holoca...</td>\n",
       "      <td>The land under Beijing is sinking by as much a...</td>\n",
       "      <td>Car bomb and Anti-Islamic attack on Mosque in ...</td>\n",
       "      <td>Emaciated lions in Taiz Zoo are trapped in blo...</td>\n",
       "      <td>Rupert Murdoch describes Brexit as 'wonderful'...</td>\n",
       "      <td>More than 40 killed in Yemen suicide attacks</td>\n",
       "      <td>Google Found Disastrous Symantec and Norton Vu...</td>\n",
       "      <td>Extremist violence on the rise in Germany: Dom...</td>\n",
       "      <td>BBC News: Labour MPs pass Corbyn no-confidence...</td>\n",
       "      <td>Tiny New Zealand town with 'too many jobs' lau...</td>\n",
       "    </tr>\n",
       "    <tr>\n",
       "      <th>2016-06-30</th>\n",
       "      <td>1</td>\n",
       "      <td>Jamaica proposes marijuana dispensers for tour...</td>\n",
       "      <td>Stephen Hawking says pollution and 'stupidity'...</td>\n",
       "      <td>Boris Johnson says he will not run for Tory pa...</td>\n",
       "      <td>Six gay men in Ivory Coast were abused and for...</td>\n",
       "      <td>Switzerland denies citizenship to Muslim immig...</td>\n",
       "      <td>Palestinian terrorist stabs israeli teen girl ...</td>\n",
       "      <td>Puerto Rico will default on $1 billion of debt...</td>\n",
       "      <td>Republic of Ireland fans to be awarded medal f...</td>\n",
       "      <td>Afghan suicide bomber 'kills up to 40' - BBC News</td>\n",
       "      <td>...</td>\n",
       "      <td>Googles free wifi at Indian railway stations i...</td>\n",
       "      <td>Mounting evidence suggests 'hobbits' were wipe...</td>\n",
       "      <td>The men who carried out Tuesday's terror attac...</td>\n",
       "      <td>Calls to suspend Saudi Arabia from UN Human Ri...</td>\n",
       "      <td>More Than 100 Nobel Laureates Call Out Greenpe...</td>\n",
       "      <td>British pedophile sentenced to 85 years in US ...</td>\n",
       "      <td>US permitted 1,200 offshore fracks in Gulf of ...</td>\n",
       "      <td>We will be swimming in ridicule - French beach...</td>\n",
       "      <td>UEFA says no minutes of silence for Istanbul v...</td>\n",
       "      <td>Law Enforcement Sources: Gun Used in Paris Ter...</td>\n",
       "    </tr>\n",
       "    <tr>\n",
       "      <th>2016-07-01</th>\n",
       "      <td>1</td>\n",
       "      <td>A 117-year-old woman in Mexico City finally re...</td>\n",
       "      <td>IMF chief backs Athens as permanent Olympic host</td>\n",
       "      <td>The president of France says if Brexit won, so...</td>\n",
       "      <td>British Man Who Must Give Police 24 Hours' Not...</td>\n",
       "      <td>100+ Nobel laureates urge Greenpeace to stop o...</td>\n",
       "      <td>Brazil: Huge spike in number of police killing...</td>\n",
       "      <td>Austria's highest court annuls presidential el...</td>\n",
       "      <td>Facebook wins privacy case, can track any Belg...</td>\n",
       "      <td>Switzerland denies Muslim girls citizenship af...</td>\n",
       "      <td>...</td>\n",
       "      <td>The United States has placed Myanmar, Uzbekist...</td>\n",
       "      <td>S&amp;amp;P revises European Union credit rating t...</td>\n",
       "      <td>India gets $1 billion loan from World Bank for...</td>\n",
       "      <td>U.S. sailors detained by Iran spoke too much u...</td>\n",
       "      <td>Mass fish kill in Vietnam solved as Taiwan ste...</td>\n",
       "      <td>Philippines president Rodrigo Duterte urges pe...</td>\n",
       "      <td>Spain arrests three Pakistanis accused of prom...</td>\n",
       "      <td>Venezuela, where anger over food shortages is ...</td>\n",
       "      <td>A Hindu temple worker has been killed by three...</td>\n",
       "      <td>Ozone layer hole seems to be healing - US &amp;amp...</td>\n",
       "    </tr>\n",
       "  </tbody>\n",
       "</table>\n",
       "<p>5 rows × 26 columns</p>\n",
       "</div>"
      ],
      "text/plain": [
       "            Label                                               Top1  \\\n",
       "Date                                                                   \n",
       "2016-06-27      0  Barclays and RBS shares suspended from trading...   \n",
       "2016-06-28      1  2,500 Scientists To Australia: If You Want To ...   \n",
       "2016-06-29      1                   Explosion At Airport In Istanbul   \n",
       "2016-06-30      1  Jamaica proposes marijuana dispensers for tour...   \n",
       "2016-07-01      1  A 117-year-old woman in Mexico City finally re...   \n",
       "\n",
       "                                                         Top2  \\\n",
       "Date                                                            \n",
       "2016-06-27  Pope says Church should ask forgiveness from g...   \n",
       "2016-06-28  The personal details of 112,000 French police ...   \n",
       "2016-06-29  Yemeni former president: Terrorism is the offs...   \n",
       "2016-06-30  Stephen Hawking says pollution and 'stupidity'...   \n",
       "2016-07-01   IMF chief backs Athens as permanent Olympic host   \n",
       "\n",
       "                                                         Top3  \\\n",
       "Date                                                            \n",
       "2016-06-27  Poland 'shocked' by xenophobic abuse of Poles ...   \n",
       "2016-06-28  S&amp;P cuts United Kingdom sovereign credit r...   \n",
       "2016-06-29  UK must accept freedom of movement to access E...   \n",
       "2016-06-30  Boris Johnson says he will not run for Tory pa...   \n",
       "2016-07-01  The president of France says if Brexit won, so...   \n",
       "\n",
       "                                                         Top4  \\\n",
       "Date                                                            \n",
       "2016-06-27  There will be no second referendum, cabinet ag...   \n",
       "2016-06-28                Huge helium deposit found in Africa   \n",
       "2016-06-29  Devastated: scientists too late to captive bre...   \n",
       "2016-06-30  Six gay men in Ivory Coast were abused and for...   \n",
       "2016-07-01  British Man Who Must Give Police 24 Hours' Not...   \n",
       "\n",
       "                                                         Top5  \\\n",
       "Date                                                            \n",
       "2016-06-27      Scotland welcome to join EU, Merkel ally says   \n",
       "2016-06-28  CEO of the South African state broadcaster qui...   \n",
       "2016-06-29  British Labor Party leader Jeremy Corbyn loses...   \n",
       "2016-06-30  Switzerland denies citizenship to Muslim immig...   \n",
       "2016-07-01  100+ Nobel laureates urge Greenpeace to stop o...   \n",
       "\n",
       "                                                         Top6  \\\n",
       "Date                                                            \n",
       "2016-06-27  Sterling dips below Friday's 31-year low amid ...   \n",
       "2016-06-28  Brexit cost investors $2 trillion, the worst o...   \n",
       "2016-06-29  A Muslim Shop in the UK Was Just Firebombed Wh...   \n",
       "2016-06-30  Palestinian terrorist stabs israeli teen girl ...   \n",
       "2016-07-01  Brazil: Huge spike in number of police killing...   \n",
       "\n",
       "                                                         Top7  \\\n",
       "Date                                                            \n",
       "2016-06-27  No negative news about South African President...   \n",
       "2016-06-28  Hong Kong democracy activists call for return ...   \n",
       "2016-06-29  Mexican Authorities Sexually Torture Women in ...   \n",
       "2016-06-30  Puerto Rico will default on $1 billion of debt...   \n",
       "2016-07-01  Austria's highest court annuls presidential el...   \n",
       "\n",
       "                                                         Top8  \\\n",
       "Date                                                            \n",
       "2016-06-27  Surge in Hate Crimes in the U.K. Following U.K...   \n",
       "2016-06-28  Brexit: Iceland president says UK can join 'tr...   \n",
       "2016-06-29            UK shares and pound continue to recover   \n",
       "2016-06-30  Republic of Ireland fans to be awarded medal f...   \n",
       "2016-07-01  Facebook wins privacy case, can track any Belg...   \n",
       "\n",
       "                                                         Top9  \\\n",
       "Date                                                            \n",
       "2016-06-27  Weapons shipped into Jordan by the CIA and Sau...   \n",
       "2016-06-28  UK's Osborne: 'Absolutely' going to have to cu...   \n",
       "2016-06-29  Iceland historian Johannesson wins presidentia...   \n",
       "2016-06-30  Afghan suicide bomber 'kills up to 40' - BBC News   \n",
       "2016-07-01  Switzerland denies Muslim girls citizenship af...   \n",
       "\n",
       "                                  ...                          \\\n",
       "Date                              ...                           \n",
       "2016-06-27                        ...                           \n",
       "2016-06-28                        ...                           \n",
       "2016-06-29                        ...                           \n",
       "2016-06-30                        ...                           \n",
       "2016-07-01                        ...                           \n",
       "\n",
       "                                                        Top16  \\\n",
       "Date                                                            \n",
       "2016-06-27  German lawyers to probe Erdogan over alleged w...   \n",
       "2016-06-28  US, Canada and Mexico pledge 50% of power from...   \n",
       "2016-06-29  Escape Tunnel, Dug by Hand, Is Found at Holoca...   \n",
       "2016-06-30  Googles free wifi at Indian railway stations i...   \n",
       "2016-07-01  The United States has placed Myanmar, Uzbekist...   \n",
       "\n",
       "                                                        Top17  \\\n",
       "Date                                                            \n",
       "2016-06-27  Boris Johnson says the UK will continue to \"in...   \n",
       "2016-06-28  There is increasing evidence that Australia is...   \n",
       "2016-06-29  The land under Beijing is sinking by as much a...   \n",
       "2016-06-30  Mounting evidence suggests 'hobbits' were wipe...   \n",
       "2016-07-01  S&amp;P revises European Union credit rating t...   \n",
       "\n",
       "                                                        Top18  \\\n",
       "Date                                                            \n",
       "2016-06-27  Richard Branson is calling on the UK governmen...   \n",
       "2016-06-28  Richard Branson, the founder of Virgin Group, ...   \n",
       "2016-06-29  Car bomb and Anti-Islamic attack on Mosque in ...   \n",
       "2016-06-30  The men who carried out Tuesday's terror attac...   \n",
       "2016-07-01  India gets $1 billion loan from World Bank for...   \n",
       "\n",
       "                                                        Top19  \\\n",
       "Date                                                            \n",
       "2016-06-27             Turkey 'sorry for downing Russian jet'   \n",
       "2016-06-28  37,000-yr-old skull from Borneo reveals surpri...   \n",
       "2016-06-29  Emaciated lions in Taiz Zoo are trapped in blo...   \n",
       "2016-06-30  Calls to suspend Saudi Arabia from UN Human Ri...   \n",
       "2016-07-01  U.S. sailors detained by Iran spoke too much u...   \n",
       "\n",
       "                                                        Top20  \\\n",
       "Date                                                            \n",
       "2016-06-27  Edward Snowden lawyer vows new push for pardon...   \n",
       "2016-06-28  Palestinians stone Western Wall worshipers; po...   \n",
       "2016-06-29  Rupert Murdoch describes Brexit as 'wonderful'...   \n",
       "2016-06-30  More Than 100 Nobel Laureates Call Out Greenpe...   \n",
       "2016-07-01  Mass fish kill in Vietnam solved as Taiwan ste...   \n",
       "\n",
       "                                                        Top21  \\\n",
       "Date                                                            \n",
       "2016-06-27  Brexit opinion poll reveals majority don't wan...   \n",
       "2016-06-28  Jean-Claude Juncker asks Farage: Why are you h...   \n",
       "2016-06-29       More than 40 killed in Yemen suicide attacks   \n",
       "2016-06-30  British pedophile sentenced to 85 years in US ...   \n",
       "2016-07-01  Philippines president Rodrigo Duterte urges pe...   \n",
       "\n",
       "                                                        Top22  \\\n",
       "Date                                                            \n",
       "2016-06-27  Conservative MP Leave Campaigner: \"The leave c...   \n",
       "2016-06-28  \"Romanians for Remainians\" offering a new home...   \n",
       "2016-06-29  Google Found Disastrous Symantec and Norton Vu...   \n",
       "2016-06-30  US permitted 1,200 offshore fracks in Gulf of ...   \n",
       "2016-07-01  Spain arrests three Pakistanis accused of prom...   \n",
       "\n",
       "                                                        Top23  \\\n",
       "Date                                                            \n",
       "2016-06-27  Economists predict UK recession, further weake...   \n",
       "2016-06-28  Brexit: Gibraltar in talks with Scotland to st...   \n",
       "2016-06-29  Extremist violence on the rise in Germany: Dom...   \n",
       "2016-06-30  We will be swimming in ridicule - French beach...   \n",
       "2016-07-01  Venezuela, where anger over food shortages is ...   \n",
       "\n",
       "                                                        Top24  \\\n",
       "Date                                                            \n",
       "2016-06-27  New EU 'superstate plan by France, Germany: Cr...   \n",
       "2016-06-28                   8 Suicide Bombers Strike Lebanon   \n",
       "2016-06-29  BBC News: Labour MPs pass Corbyn no-confidence...   \n",
       "2016-06-30  UEFA says no minutes of silence for Istanbul v...   \n",
       "2016-07-01  A Hindu temple worker has been killed by three...   \n",
       "\n",
       "                                                        Top25  \n",
       "Date                                                           \n",
       "2016-06-27  Pakistani clerics declare transgender marriage...  \n",
       "2016-06-28  Mexico's security forces routinely use 'sexual...  \n",
       "2016-06-29  Tiny New Zealand town with 'too many jobs' lau...  \n",
       "2016-06-30  Law Enforcement Sources: Gun Used in Paris Ter...  \n",
       "2016-07-01  Ozone layer hole seems to be healing - US &amp...  \n",
       "\n",
       "[5 rows x 26 columns]"
      ]
     },
     "execution_count": 14,
     "metadata": {},
     "output_type": "execute_result"
    }
   ],
   "source": [
    "df.tail()"
   ]
  },
  {
   "cell_type": "code",
   "execution_count": 15,
   "metadata": {},
   "outputs": [
    {
     "data": {
      "text/plain": [
       "(1989, 26)"
      ]
     },
     "execution_count": 15,
     "metadata": {},
     "output_type": "execute_result"
    }
   ],
   "source": [
    "df.shape"
   ]
  },
  {
   "cell_type": "code",
   "execution_count": 18,
   "metadata": {},
   "outputs": [
    {
     "data": {
      "text/plain": [
       "\"b'Why wont America and Nato help us? If they wont help us now, why did we help them in Iraq?'\""
      ]
     },
     "execution_count": 18,
     "metadata": {},
     "output_type": "execute_result"
    }
   ],
   "source": [
    "df.iloc[1][1]"
   ]
  },
  {
   "cell_type": "code",
   "execution_count": 23,
   "metadata": {},
   "outputs": [
    {
     "data": {
      "text/plain": [
       "Index(['Top1', 'Top2', 'Top3', 'Top4', 'Top5', 'Top6', 'Top7', 'Top8', 'Top9',\n",
       "       'Top10', 'Top11', 'Top12', 'Top13', 'Top14', 'Top15', 'Top16', 'Top17',\n",
       "       'Top18', 'Top19', 'Top20', 'Top21', 'Top22', 'Top23', 'Top24', 'Top25'],\n",
       "      dtype='object')"
      ]
     },
     "execution_count": 23,
     "metadata": {},
     "output_type": "execute_result"
    }
   ],
   "source": [
    "df.columns[1:]"
   ]
  },
  {
   "cell_type": "code",
   "execution_count": 47,
   "metadata": {},
   "outputs": [],
   "source": [
    "headlines = df.as_matrix(columns = df.columns[1:])"
   ]
  },
  {
   "cell_type": "code",
   "execution_count": 48,
   "metadata": {},
   "outputs": [
    {
     "data": {
      "text/plain": [
       "(1989, 25)"
      ]
     },
     "execution_count": 48,
     "metadata": {},
     "output_type": "execute_result"
    }
   ],
   "source": [
    "headlines.shape"
   ]
  },
  {
   "cell_type": "code",
   "execution_count": 50,
   "metadata": {},
   "outputs": [],
   "source": [
    "headlines =[' '.join(map(str, headline)) for headline in headlines]"
   ]
  },
  {
   "cell_type": "code",
   "execution_count": 51,
   "metadata": {},
   "outputs": [
    {
     "data": {
      "text/plain": [
       "1989"
      ]
     },
     "execution_count": 51,
     "metadata": {},
     "output_type": "execute_result"
    }
   ],
   "source": [
    "len(headlines)"
   ]
  },
  {
   "cell_type": "code",
   "execution_count": 52,
   "metadata": {},
   "outputs": [
    {
     "data": {
      "text/plain": [
       "['b\"Georgia \\'downs two Russian warplanes\\' as countries move to brink of war\" b\\'BREAKING: Musharraf to be impeached.\\' b\\'Russia Today: Columns of troops roll into South Ossetia; footage from fighting (YouTube)\\' b\\'Russian tanks are moving towards the capital of South Ossetia, which has reportedly been completely destroyed by Georgian artillery fire\\' b\"Afghan children raped with \\'impunity,\\' U.N. official says - this is sick, a three year old was raped and they do nothing\" b\\'150 Russian tanks have entered South Ossetia whilst Georgia shoots down two Russian jets.\\' b\"Breaking: Georgia invades South Ossetia, Russia warned it would intervene on SO\\'s side\" b\"The \\'enemy combatent\\' trials are nothing but a sham: Salim Haman has been sentenced to 5 1/2 years, but will be kept longer anyway just because they feel like it.\" b\\'Georgian troops retreat from S. Osettain capital, presumably leaving several hundred people killed. [VIDEO]\\' b\\'Did the U.S. Prep Georgia for War with Russia?\\' b\\'Rice Gives Green Light for Israel to Attack Iran: Says U.S. has no veto over Israeli military ops\\' b\\'Announcing:Class Action Lawsuit on Behalf of American Public Against the FBI\\' b\"So---Russia and Georgia are at war and the NYT\\'s top story is opening ceremonies of the Olympics?  What a fucking disgrace and yet further proof of the decline of journalism.\" b\"China tells Bush to stay out of other countries\\' affairs\" b\\'Did World War III start today?\\' b\\'Georgia Invades South Ossetia - if Russia gets involved, will NATO absorb Georgia and unleash a full scale war?\\' b\\'Al-Qaeda Faces Islamist Backlash\\' b\\'Condoleezza Rice: \"The US would not act to prevent an Israeli strike on Iran.\" Israeli Defense Minister Ehud Barak: \"Israel is prepared for uncompromising victory in the case of military hostilities.\"\\' b\\'This is a busy day:  The European Union has approved new sanctions against Iran in protest at its nuclear programme.\\' b\"Georgia will withdraw 1,000 soldiers from Iraq to help fight off Russian forces in Georgia\\'s breakaway region of South Ossetia\" b\\'Why the Pentagon Thinks Attacking Iran is a Bad Idea - US News &amp; World Report\\' b\\'Caucasus in crisis: Georgia invades South Ossetia\\' b\\'Indian shoe manufactory  - And again in a series of \"you do not like your work?\"\\' b\\'Visitors Suffering from Mental Illnesses Banned from Olympics\\' b\"No Help for Mexico\\'s Kidnapping Surge\"',\n",
       " 'b\\'Why wont America and Nato help us? If they wont help us now, why did we help them in Iraq?\\' b\\'Bush puts foot down on Georgian conflict\\' b\"Jewish Georgian minister: Thanks to Israeli training, we\\'re fending off Russia \" b\\'Georgian army flees in disarray as Russians advance - Gori abandoned to Russia without a shot fired\\' b\"Olympic opening ceremony fireworks \\'faked\\'\" b\\'What were the Mossad with fraudulent New Zealand Passports doing in Iraq?\\' b\\'Russia angered by Israeli military sale to Georgia\\' b\\'An American citizen living in S.Ossetia blames U.S. and Georgian leaders for the genocide of innocent people\\' b\\'Welcome To World War IV! Now In High Definition!\\' b\"Georgia\\'s move, a mistake of monumental proportions \" b\\'Russia presses deeper into Georgia; U.S. says regime change is goal\\' b\\'Abhinav Bindra wins first ever Individual Olympic Gold Medal for India\\' b\\' U.S. ship heads for Arctic to define territory\\' b\\'Drivers in a Jerusalem taxi station threaten to quit rather than work for their new boss - an Arab\\' b\\'The French Team is Stunned by Phelps and the 4x100m Relay Team\\' b\\'Israel and the US behind the Georgian aggression?\\' b\\'\"Do not believe TV, neither Russian nor Georgian. There are much more victims\"\\' b\\'Riots are still going on in Montreal (Canada) because police murdered a boy on Saturday.\\' b\\'China to overtake US as largest manufacturer\\' b\\'War in South Ossetia [PICS]\\' b\\'Israeli Physicians Group Condemns State Torture\\' b\\' Russia has just beaten the United States over the head with Peak Oil\\' b\\'Perhaps *the* question about the Georgia - Russia conflict \\' b\\'Russia is so much better at war\\' b\"So this is what it\\'s come to: trading sex for food.\"',\n",
       " 'b\\'Remember that adorable 9-year-old who sang at the opening ceremonies? That was fake, too.\\' b\"Russia \\'ends Georgia operation\\'\" b\\'\"If we had no sexual harassment we would have no children...\"\\' b\"Al-Qa\\'eda is losing support in Iraq because of a brutal crackdown on activities it regards as un-Islamic - including women buying cucumbers\" b\\'Ceasefire in Georgia: Putin Outmaneuvers the West\\' b\\'Why Microsoft and Intel tried to kill the XO $100 laptop\\' b\\'Stratfor: The Russo-Georgian War and the Balance of Power   \\' b\"I\\'m Trying to Get a Sense of This Whole Georgia-Russia War: Vote Up If You Think Georgia Started It, Or Down If you Think Russia Did\" b\"The US military was surprised by the timing and swiftness of the Russian military\\'s move into South Ossetia and is still trying to sort out what happened, a US defense official said Monday\" b\\'U.S. Beats War Drum as Iran Dumps the Dollar\\' b\\'Gorbachev: \"Georgian military attacked the South Ossetian capital of Tskhinvali with multiple rocket launchers designed to devastate large areas\"\\' b\\'CNN use footage of Tskhinvali ruins to cover Georgian report [VIDEO]\\' b\\'Beginning a war as the Olympics were opening violates the ancient tradition of a truce to conflict during the Games.  The IOC could respond by taking the 2014 games away from Russia.\\' b\\'55 pyramids as large as the Luxor stacked into a mega-city pyramid in Tokyo Bay\\' b\\'The 11 Top Party Cities in the World\\' b\\'U.S. troops still in Georgia (did you know they were in Georgia in the first place?)\\' b\\'Why Russias response to Georgia was right\\' b\\'Gorbachev accuses U.S. of making a \"serious blunder\" in pursuing its interest in the Caucasus region\\' b\\'Russia, Georgia, and NATO: Cold War Two\\' b\\'Remember that adorable 62-year-old who led your country into war based on evidence? That was fake, too.\\' b\\'War in Georgia: The Israeli connection\\' b\\'All signs point to the US encouraging Georgia to invade South Ossetia. Goddamnit Bush.\\' b\\'Christopher King argues that the US and NATO are behind the Georgian invasion of South Ossetia but have misjudged Russian resolve. \\' b\\'America: The New Mexico?\\' b\"BBC NEWS | Asia-Pacific | Extinction \\'by man not climate\\'\"',\n",
       " 'b\\' U.S. refuses Israel weapons to attack Iran: report\\' b\"When the president ordered to attack Tskhinvali [the capital of South Ossetia], we knew then we were doomed. How come he didn\\'t realize that?\" b\\' Israel clears troops who killed Reuters cameraman\\' b\\'Britain\\\\\\'s policy of being tough on drugs is \"pointless\", says a former civil servant who once ran the Cabinet\\\\\\'s anti-drugs unit.\\' b\\'Body of 14 year old found in trunk; Latest (ransom paid) kidnapping victim in Mexico. Head cop quits, Prez dissolves suspect elite task force\\' b\\'China has moved 10 *million* quake survivors into prefab homes\\' b\"Bush announces Operation Get All Up In Russia\\'s Grill. Yeah, this will end well.\" b\\'Russian forces sink Georgian ships \\' b\"The commander of a Navy air reconnaissance squadron that provides the President and the defense secretary the airborne ability to command the nation\\'s nuclear weapons has been relieved of duty\" b\"92% of CNN readers: Russia\\'s actions in Georgia - justified!\" b\\'USA to send fleet into Black Sea to help Georgia, send troops in \"humanitarian aid exercise\"\\' b\"US warns against Israeli plan to strike against Iran\\'s nuclear facilities\" b\"In an intriguing cyberalliance, two Estonian computer experts are heading to Georgia to keep the country\\'s networks running amid an intense military confrontation with Russia\" b\\'The CNN Effect: Georgia Schools Russia in Information Warfare\\' b\\'Why Russias response to Georgia was right\\' b\\'Elephants extinct by 2020?\\' b\\'US humanitarian missions soon in Georgia - if Russia hits the US - WWIII?\\' b\"Georgia\\'s DDOS came from US sources\" b\\'Russian convoy heads into Georgia, violating truce\\' b\\'Israeli defence minister: US against strike on Iran\\' b\\'Gorbachev: We Had No Choice\\' b\\'Witness: Russian forces head towards Tbilisi in breach of ceasefire agreement\\' b\\' Quarter of Russians blame U.S. for conflict: poll\\' b\\'Georgian president  says US military will take control of seaports and airports - Pentagon denies\\' b\\'2006: Nobel laureate Aleksander Solzhenitsyn accuses U.S., NATO of encircling Russia\\'',\n",
       " 'b\\'All the experts admit that we should legalise drugs \\' b\\'War in South Osetia - 89 pictures made by a Russian soldier.\\' b\\'Swedish wrestler Ara Abrahamian throws away medal in Olympic hissy fit \\' b\\'Russia exaggerated the death toll in South Ossetia. Now only 44 were originally killed compared to 2,000.\\' b\\'Missile That Killed 9 Inside Pakistan May Have Been Launched by the CIA\\' b\"Rushdie Condemns Random House\\'s Refusal to Publish Novel for Fear of Muslim Retaliation\" b\\'Poland and US agree to missle defense deal. Interesting timing!\\' b\\'Will the Russians conquer Tblisi? Bet on it, no seriously you can BET on it\\' b\\'Russia exaggerating South Ossetian death toll, says human rights group\\' b\\' Musharraf expected to resign rather than face impeachment\\' b\\'Moscow Made Plans Months Ago to Invade Georgia\\' b\\'Why Russias response to Georgia was right\\' b\\'Nigeria has handed over the potentially oil-rich Bakassi peninsula to Cameroon.\\' b\\'The US and Poland have agreed a preliminary deal on plans for the controversial US defence shield\\' b\\'Russia apparently is sabotaging infrastructure to cripple the already battered Georgian military.\\' b\\'Bank analyst forecast Georgian crisis 2 days early\\' b\"Georgia confict could set back Russia\\'s US relations \\'for years\\' | World news | guardian.co.uk\" b\\'War in the Caucasus is as much the product of an American imperial drive as local conflicts.\\' b\\'\"Non-media\" photos of South Ossetia/Georgia conflict.\\' b\\'Georgian TV reporter shot by Russian sniper during live broadcast [video]\\' b\\'Saudi Arabia: Mother moves to block child marriage\\' b\\'Taliban wages war on humanitarian aid workers\\' b\\'Russia: World  \"can forget about\" Georgia\\\\\\'s territorial integrity\\' b\\'Darfur rebels accuse Sudan of mounting major attack\\' b\\'Philippines : Peace Advocate say Muslims need assurance Christians not out to convert them\\'',\n",
       " 'b\"Mom of missing gay man: Too bad he\\'s not a 21-year-old cheerleader, then they\\'d still be looking for him\" b\"Russia: U.S. Poland Missile Deal Won\\'t Go \\'Unpunished\\'\" b\"The government has been accused of creating laws that have a chilling effect on freedom of expression in the UK in a critical report from the UN\\'s committee on human rights\" b\\'The Italian government has lashed out at an influential Catholic magazine which suggested fascism might be resurfacing within the government.\\' b\\'Gorbachev: Georgia started conflict in S. Ossetia\\' b\"China fakes more than your girlfriend; \\'Ethnic minority\\' children at Olympics ceremony were fake too!\" b\"The UN\\'s criticism of freedom of expression in the UK are valid\" b\\'Russian general threatens nuclear strike on Poland as Bush demands Moscow withdraws from Georgia\\' b\\'Russia can inspect Polish missile defence site\\' b\\'Russia-Georgia Conflict Fueled by Rush to Control Caspian Energy Resources\\' b\"Business Week: Victory in Georgia gives Russia the edge in the struggle over access to the Caspian\\'s 35 billion barrels of oil and trillions of cubic feet of gas\" b\"Under Soviet rule we didn\\'t believe a word of our own propaganda... But we have learnt... that the West has its own propaganda and... is more powerful because people believe it.\" b\\'Ministers have been accused of building a national DNA database \"by stealth\" by retaining profiles of nearly 40,000 children never convicted of a crime.\\' b\"Russia: Georgia can \\'forget\\' regaining provinces\" b\"Russians \\'Seize US Weapons Depot\\' in Georgia\" b\\'Why are redditors generally supportive of Russias invasion of Georgia, but critical of Americas in Iraq?\\' b\\'Johann Hari: We need to stop being such cowards about Islam\\' b\\'US officials have said that their military presence in Georgia will now become permanent\\' b\\'Israel clears troops who killed Reuters cameraman\\' b\\'Unenforceable laws encourage cops to escalate their tactics -- until tragedy occurs\\' b\\'What Chinese pollution really looks like\\' b\\'Hacker Kidnaps and Tortures Informant, Posts Picture as a Warning to Others\\' b\\'Bush Tells Putin: This Aggression Will Not Stand\\' b\\'Georgia is all about the oil pipelines\\' b\\'Rivals say they plan to remove Georgian president\\'',\n",
       " 'b\\'In an Afghan prison, the majority of female prisoners are serving 20-year sentences for being victims of rape \\' b\"Little girl, you\\'re not ugly; they are\" b\"Pakistan\\'s Musharraf to Resign, Leave the Country\" b\\'Tornado throws a bus in Poland, captured by one of the passengers\\' b\"Britain\\'s terror laws have left me and my family shattered\" b\"Iran \\'fires satellite into space\\'\" b\\'Rights of Non-Muslims restricted by new Maldives constitution\\' b\\'Tour of Tskhinvali undercuts Russian version of fighting\\' b\\'The Great Resource War is already underway, mainly in the Middle East, but also in smaller skirmishes scattered areas around the world, disguised to many as the Global War on Terror. \\' b\\'Over 190,000 US contractors working in Iraq\\' b\\'Russia moves SS-21 missiles into Georgia: US defense official\\' b\\'a President says he is resigning \"to avoid an impeachment battle that would harm the nation\\\\\\'s interests\"\\' b\\'\"Democratic\" Georgia shuts down an opposition TV channel owned by Russians\\' b\\'New Cold War is an option -- Russian parliamentarian \\' b\\'Georgian Situation Continues the Quest for The Prize of Oil, Money and Power\\' b\\'MI5 seeks gay spies\\' b\\' New porn channel lets Canadians strut their stuff\\' b\\'The Dangerous Neighbor: Vladimir Putin Takes on a Powerless West\\' b\\'Israel opinion page: Russians are saner.\\' b\"NATO\\'s Hour\" b\\'Georgian President Saakashvili Eats His Tie on Live TV\\' b\\'No Chicken Left Behind: Animal RFID Surveillance Arrives in Force\\' b\\'Putin has given us an order that everyone must leave or be shot\\' b\\'National DNA database grows on the genes of the innocent\\' b\\'Mayor Asks Ugly Women To Visit His Town\\'',\n",
       " 'b\"Man arrested and locked up for five hours after taking photo of police van ignoring \\'no entry\\' sign\" b\\'The US missile defence system is the magic pudding that will never run out\\' b\\'Schrder lambasted for blaming Russian conflict on Georgia\\' b\\'Officials: 10 French soldiers killed near Kabul \\' b\\'These ten laws make China a totalitarian wasteland\\' b\\'Russia seizes US vehicles\\' b\"Muslims are only 4% of Denmark\\'s 5.4 million people but make up a majority of the country\\'s convicted rapists. Practically all the female victims are non-Muslim.\" b\\'Taliban Forces Kill 10 French Soldiers and Raid U.S. Base\\' b\\'Assaults, kidnappings and killings of humanitarian aid workers have more than doubled in the past five years\\' b\"South Ossetia Isn\\'t Kosovo\" b\\'Finally, an Olympic image to take your mind off Michael Phelps ... [pic]\\' b\\'New York laser graffiti artist detained indefinitely in Beijing for Tibet Protest art\\' b\\'US left isolated over Nato plans to maintain relations with Russia\\' b\"Driven: Shai Agassi\\'s Audacious Plan to Put Electric Cars on the Road\" b\\' NATO freezes Russian ties over Georgia\\' b\\'Brazil Will Play Military War Game to Defend Recently Discovered Offshore Oil\\' b\\'16,000 fine for British woman caught sharing game online\\' b\\'102-year-old grandma is oldest person on Facebook\\' b\\'Today 5 years ago - August 19th 2003. Bombing of the UN headquarters in Iraq\\' b\\'US national Ken Haywood, whose computer was found to send threat emails after serial bomb blasts in India, flees the country.\\' b\\' Taliban kill 10 French troops near Afghan capital\\' b\\'Not Everybody Loves Offshore Wind Power in Spain\\' b\\'Taliban Forces Kill 10 French Soldiers and Raid U.S. Base \\' b\\'Pakistan is more democratic than America. \\' b\\'Blaze engulfs Egyptian parliament\\'',\n",
       " 'b\\'Two elderly Chinese women have been sentenced to a year of re-education through labor after they sought a permit to demonstrate in an official Olympic protest area.\\' b\\'The Power of Islam: The Human Rights Council at the United Nations has now banned any criticism regarding Sharia Law and human rights in the Islamic World\\' b\"We had 55 times more military soldiers in the first Gulf War than contractors. In the current Iraq war, the ratio\\'s 1:1.\" b\\'\"I live here on less than a dollar a month\" -- Obama\\\\\\'s brother, Kenya shanty town \\' b\\'Russia sends aircraft carrier to Syria.\\' b\\'The American people should be eternally grateful to Old Europe for having spiked the Bush-McCain plan to bring Georgia into NATO.\\' b\\'Abkhazia officially appeals to Russia for independence\\' b\\'Russia warns of response \"beyond diplomacy\" against US missile shield\\' b\\'India Sets Aside 40% of Regional Wasteland for Jatropha Biodiesel Production\\' b\\'Elderly Chinese Women Sentenced to Labor Re-education After Applying for Permission to Protest at the Olympics\\' b\\'Plane skids off runway in Madrid\\' b\\'Taliban mount ferocious assaults on allied targets\\' b\\'150 Feared Dead In Spanair Plane Crash In Madrid \\' b\\'Was Western Intelligence involved in terrorist attacks in India? A westerners computer Internet connection was used to send terror e-mail minutes before Ahmedabad blasts. \\' b\\'Spanish Freedom of Speech Dies an Ignoble Death so that Spanish Parasites Will Not be Offended. \\' b\\'Grote Markt [PIC]\\' b\\'Russia has informed Norway that it plans to cut all military ties with NATO\\' b\"\\'What Are the Aims of this War?\\': French Opposition Demands Rethink of Afghanistan Mission\" b\\'Bush Covered up Musharraf Ties with Al Qaeda\\' b\\'Mikhail Gorbachev: Russia Never Wanted a War\\' b\\'Germans urge tougher laws after new privacy scandal \\' b\\'The Time of the Wimps: Dialogue with Russia Is the Only Choice\\' b\\'1998 Missile Strikes on Bin Laden May Have Backfired\\' b\"For a moment let\\'s forget everything else and pay homage to these unsung heroes\" b\\'The First Solar Radio Station in Argentina\\'',\n",
       " 'b\"British resident held in Guantanamo Bay wins legal battle to force Foreign Office to reveal \\'torture\\' evidence\" b\\'Chinese may have killed 140 Tibetans this week: Dalai Lama\\' b\\'U.S. Navy Ships Head to Georgia\\' b\\'Hacker uncovers Chinese olympic fraud\\' b\"If you\\'ve ever wondered what Kim Jong Il was like in grade school, here you go. Yes, he was quite ronery. Also, ordered his former teacher\\'s whole family killed.\" b\"Russia\\'s Nuclear Threat Is More Than Words\" b\\'Czech President: \"I must protest aloud against the incorrect interpretation of the situation in the Caucasus.\"\\' b\\'50% Of All Food Produced Is Wasted Before It Gets Used\\' b\"China sentences Alive in Baghdad blogger, GRL\\'s James Powderly &amp; 4 other citizen journalists to 10 days in jail for covering Tibet protests during the Olympics\" b\\'\"Go ahead and let Georgia declare war between NATO and Russia. Now, any half-wit small-country leader gets to audition for the role of Archduke Ferdinand\"\\' b\\'Cafferty: Georgia Started War with Russia [vid]\\' b\\'Kazakhstan is considering diverting its oil exports away from the BTC pipeline that runs through Georgia, and using Russia instead. The reason?\\' b\"Russia threatens sale of offensive weapons to Israel\\'s enemies\" b\\'Belfast Police Confiscate Boardgame In Terrorist Crackdown\\' b\"World\\'s Oldest Man Dies At The Age Of 138\" b\\'Russia condemns US missile deal\\' b\\'NATOs decision to freeze relations with Moscow and Washingtons inept handling of Pakistan are strategic foreign policy mistakes.\\' b\\'Sweet Sixteen or Fraudulent Fourteen,  Hackers unearth more underage gymnast allegations \\' b\\'If Russias feeling churlish, they can pretty much bring to a grinding halt any kind of coercive actions\\' b\\'Chinese Gymnasts 14, Official Document Shows\\' b\\'Suicide attack kills at least 50 at Pakistan arms factory\\' b\\'The Abkhazian Parliament has approved an official appeal to Russia to recognise its independence\\' b\\'Georgia, Bulgaria and the Second Balkan War | afoe | A Fistful of Euros | European Opinion\\' b\"Terrorist reveals Pak\\'s sinister designs on India\" b\"International Olympic Committee launches probe into He Kexin\\'s age\"']"
      ]
     },
     "execution_count": 52,
     "metadata": {},
     "output_type": "execute_result"
    }
   ],
   "source": [
    "headlines[:10]"
   ]
  },
  {
   "cell_type": "code",
   "execution_count": 225,
   "metadata": {
    "collapsed": true
   },
   "outputs": [],
   "source": [
    "headlines_train = headlines[:1500]\n",
    "headlines_test = headlines[1500:]\n",
    "DJIA_train = df.Label[:1500].values\n",
    "DJIA_test = df.Label[1500:].values"
   ]
  },
  {
   "cell_type": "code",
   "execution_count": 226,
   "metadata": {},
   "outputs": [],
   "source": [
    "# CountVectorizer\n",
    "basicvectorizer = CountVectorizer(ngram_range=(3,3))\n",
    "train_term_document_matrix_basic = basicvectorizer.fit_transform(headlines_train)\n",
    "test_term_document_matrix_basic = basicvectorizer.transform(headlines_test)"
   ]
  },
  {
   "cell_type": "code",
   "execution_count": 227,
   "metadata": {},
   "outputs": [],
   "source": [
    "# TfidfVectorizer\n",
    "tfidfvectorizer = TfidfVectorizer(min_df=0.03, max_df=0.97, max_features = 200000, ngram_range = (2, 2))\n",
    "train_term_document_matrix_tfidf = tfidfvectorizer.fit_transform(headlines_train)\n",
    "test_term_document_matrix_tfidf = tfidfvectorizer.transform(headlines_test)"
   ]
  },
  {
   "cell_type": "markdown",
   "metadata": {},
   "source": [
    "### KNN"
   ]
  },
  {
   "cell_type": "code",
   "execution_count": 228,
   "metadata": {},
   "outputs": [],
   "source": [
    "def KNN(X_train, Y_train, X_test, Y_test, K):\n",
    "    \"\"\"\n",
    "    X_train: term_doc_matrix\n",
    "    Y_train: list\n",
    "    X_test: term_doc_matrix\n",
    "    Y_test: list\n",
    "    K: integer\n",
    "    \"\"\"\n",
    "    pred = np.zeros(len(Y_test), dtype = 'int64')\n",
    "    inverted_index_test = { i[0]:i[1] for i in list(zip(range(len(Y_test)),Y_test))}\n",
    "    inverted_index_train= { i[0]:i[1] for i in list(zip(range(len(Y_train)),Y_train))}\n",
    "    sim_score_matrix_K =  cosine_similarity(X_test, X_train)\n",
    "    for j in range(sim_score_matrix_K.shape[0]):\n",
    "        highest_K_score_index = np.argsort(sim_score_matrix_K[j])[-K:]\n",
    "        DJIA_K = [inverted_index_train[idx] for idx in highest_K_score_index]\n",
    "        Prob = (sum(DJIA_K)+0.)/len(DJIA_K) #smoothing\n",
    "        if Prob >= 0.5:\n",
    "            pred[j] = 1\n",
    "        else:\n",
    "            pred[j] = 0\n",
    "    accu = sum(Y_test == pred)/len(pred)\n",
    "    return accu"
   ]
  },
  {
   "cell_type": "code",
   "execution_count": 229,
   "metadata": {},
   "outputs": [
    {
     "data": {
      "text/plain": [
       "<matplotlib.legend.Legend at 0x1cec8f9a4e0>"
      ]
     },
     "execution_count": 229,
     "metadata": {},
     "output_type": "execute_result"
    },
    {
     "data": {
      "image/png": "[encoded data removed]",
      "text/plain": [
       "<matplotlib.figure.Figure at 0x1cec2383630>"
      ]
     },
     "metadata": {},
     "output_type": "display_data"
    }
   ],
   "source": [
    "# CountVectorizer\n",
    "train_error =[1- KNN(train_term_document_matrix_basic, DJIA_train, train_term_document_matrix_basic, DJIA_train, K) for K in range(1, 20)]\n",
    "test_error = [1- KNN(train_term_document_matrix_basic, DJIA_train, test_term_document_matrix_basic, DJIA_test, K) for K in range(1, 20)]\n",
    "one_over_k = [1.0/K for K in range(1, 20)]\n",
    "plt.plot(one_over_k, train_error, '-yo', label = 'train error')\n",
    "plt.plot(one_over_k, test_error, '-go', label = 'test error')\n",
    "plt.ylabel('error')\n",
    "plt.xlabel('1/K')\n",
    "plt.legend(loc = 'lower left')"
   ]
  },
  {
   "cell_type": "code",
   "execution_count": 230,
   "metadata": {},
   "outputs": [
    {
     "data": {
      "text/plain": [
       "<matplotlib.legend.Legend at 0x1cec1bc05c0>"
      ]
     },
     "execution_count": 230,
     "metadata": {},
     "output_type": "execute_result"
    },
    {
     "data": {
      "image/png": "[encoded data removed]",
      "text/plain": [
       "<matplotlib.figure.Figure at 0x1cec8f9a400>"
      ]
     },
     "metadata": {},
     "output_type": "display_data"
    }
   ],
   "source": [
    "# TfidfVectorizer\n",
    "train_error =[1- KNN(train_term_document_matrix_tfidf, DJIA_train, train_term_document_matrix_tfidf, DJIA_train, K) for K in range(1, 20)]\n",
    "test_error = [1- KNN(train_term_document_matrix_tfidf, DJIA_train, test_term_document_matrix_tfidf, DJIA_test, K) for K in range(1, 20)]\n",
    "one_over_k = [1.0/K for K in range(1, 20)]\n",
    "plt.plot(one_over_k, train_error, '-yo', label = 'train error')\n",
    "plt.plot(one_over_k, test_error, '-go', label = 'test error')\n",
    "plt.ylabel('error')\n",
    "plt.xlabel('1/K')\n",
    "plt.legend(loc = 'lower left')"
   ]
  },
  {
   "cell_type": "code",
   "execution_count": 249,
   "metadata": {},
   "outputs": [
    {
     "data": {
      "text/plain": [
       "0.55010224948875253"
      ]
     },
     "execution_count": 249,
     "metadata": {},
     "output_type": "execute_result"
    }
   ],
   "source": [
    "KNN(train_term_document_matrix_tfidf, DJIA_train, test_term_document_matrix_tfidf, DJIA_test, 10)"
   ]
  },
  {
   "cell_type": "code",
   "execution_count": 250,
   "metadata": {},
   "outputs": [
    {
     "data": {
      "text/plain": [
       "10"
      ]
     },
     "execution_count": 250,
     "metadata": {},
     "output_type": "execute_result"
    }
   ],
   "source": [
    "np.argmin(test_error)"
   ]
  },
  {
   "cell_type": "code",
   "execution_count": 233,
   "metadata": {},
   "outputs": [
    {
     "data": {
      "text/plain": [
       "1.0"
      ]
     },
     "execution_count": 233,
     "metadata": {},
     "output_type": "execute_result"
    }
   ],
   "source": [
    "KNN(train_term_document_matrix_tfidf, DJIA_train, train_term_document_matrix_tfidf, DJIA_train, 1)"
   ]
  },
  {
   "cell_type": "code",
   "execution_count": 234,
   "metadata": {},
   "outputs": [
    {
     "data": {
      "text/plain": [
       "0.54133333333333333"
      ]
     },
     "execution_count": 234,
     "metadata": {},
     "output_type": "execute_result"
    }
   ],
   "source": [
    "sum(DJIA_train)/len(DJIA_train)"
   ]
  },
  {
   "cell_type": "markdown",
   "metadata": {},
   "source": [
    "### Logistic"
   ]
  },
  {
   "cell_type": "code",
   "execution_count": 235,
   "metadata": {
    "collapsed": true
   },
   "outputs": [],
   "source": [
    "from sklearn.linear_model import LogisticRegression"
   ]
  },
  {
   "cell_type": "code",
   "execution_count": 245,
   "metadata": {},
   "outputs": [
    {
     "data": {
      "text/plain": [
       "0.52351738241308798"
      ]
     },
     "execution_count": 245,
     "metadata": {},
     "output_type": "execute_result"
    }
   ],
   "source": [
    "logit = LogisticRegression()\n",
    "logit_fit = logit.fit(train_term_document_matrix_basic, DJIA_train)\n",
    "logit_predict = logit.predict(test_term_document_matrix_basic)\n",
    "accu = sum(DJIA_test == logit_predict)/len(DJIA_test)\n",
    "accu"
   ]
  },
  {
   "cell_type": "code",
   "execution_count": 259,
   "metadata": {},
   "outputs": [
    {
     "data": {
      "text/plain": [
       "0.52556237218813906"
      ]
     },
     "execution_count": 259,
     "metadata": {},
     "output_type": "execute_result"
    }
   ],
   "source": [
    "logit = LogisticRegression(penalty='l1')\n",
    "logit_fit = logit.fit(train_term_document_matrix_tfidf, DJIA_train)\n",
    "logit_predict = logit.predict(test_term_document_matrix_tfidf)\n",
    "accu = sum(DJIA_test == logit_predict)/len(DJIA_test)\n",
    "accu"
   ]
  },
  {
   "cell_type": "code",
   "execution_count": 258,
   "metadata": {},
   "outputs": [
    {
     "data": {
      "text/plain": [
       "0.57055214723926384"
      ]
     },
     "execution_count": 258,
     "metadata": {},
     "output_type": "execute_result"
    }
   ],
   "source": [
    "logit = LogisticRegression(penalty='l2')\n",
    "logit_fit = logit.fit(train_term_document_matrix_tfidf, DJIA_train)\n",
    "logit_predict = logit.predict(test_term_document_matrix_tfidf)\n",
    "accu = sum(DJIA_test == logit_predict)/len(DJIA_test)\n",
    "accu"
   ]
  },
  {
   "cell_type": "markdown",
   "metadata": {},
   "source": [
    "### Rocchio Classification"
   ]
  },
  {
   "cell_type": "code",
   "execution_count": null,
   "metadata": {
    "collapsed": true
   },
   "outputs": [],
   "source": [
    "def Rocchio(X_train, Y_train, X_test, Y_test):\n",
    "    \"\"\"\n",
    "    X_train: term_doc_matrix\n",
    "    Y_train: list\n",
    "    X_test: term_doc_matrix\n",
    "    Y_test: list\n",
    "    \"\"\"\n",
    "    pred = np.zeros(len(Y_test), dtype = 'int64')\n",
    "    inverted_index_test = { i[0]:i[1] for i in list(zip(range(len(Y_test)),Y_test))}\n",
    "    inverted_index_train= { i[0]:i[1] for i in list(zip(range(len(Y_train)),Y_train))}\n",
    "    sim_score_matrix_K =  cosine_similarity(X_test, X_train)\n",
    "    for j in range(sim_score_matrix_K.shape[0]):\n",
    "        highest_K_score_index = np.argsort(sim_score_matrix_K[j])[-K:]\n",
    "        DJIA_K = [inverted_index_train[idx] for idx in highest_K_score_index]\n",
    "        Prob = (sum(DJIA_K)+0.)/len(DJIA_K) #smoothing\n",
    "        if Prob >= 0.5:\n",
    "            pred[j] = 1\n",
    "        else:\n",
    "            pred[j] = 0\n",
    "    accu = sum(Y_test == pred)/len(pred)\n",
    "    return accu"
   ]
  }
 ],
 "metadata": {
  "kernelspec": {
   "display_name": "Python 3",
   "language": "python",
   "name": "python3"
  },
  "language_info": {
   "codemirror_mode": {
    "name": "ipython",
    "version": 3
   },
   "file_extension": ".py",
   "mimetype": "text/x-python",
   "name": "python",
   "nbconvert_exporter": "python",
   "pygments_lexer": "ipython3",
   "version": "3.6.3"
  }
 },
 "nbformat": 4,
 "nbformat_minor": 2
}
